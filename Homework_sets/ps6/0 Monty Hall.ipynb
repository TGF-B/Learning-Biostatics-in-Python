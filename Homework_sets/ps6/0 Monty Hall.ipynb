{
    "cells": [
        {
            "cell_type": "markdown",
            "metadata": {
                "deletable": false,
                "editable": false,
                "nbgrader": {
                    "cell_type": "markdown",
                    "checksum": "603bddcebb531beba0ce84a398d07537",
                    "grade": false,
                    "grade_id": "cell-76097b70552dfda6",
                    "locked": true,
                    "schema_version": 3,
                    "solution": false
                }
            },
            "source": [
                "# 0: Mega Monty Hall (10 points)\n",
                "\n",
                "Let's test our ability to write simulation code by extending the Monty Hall problem.\n",
                "\n",
                "Here is the code we wrote in class for the classic version of the problem (three doors, two goats):\n",
                "\n",
                "```python\n",
                "def setup_doors():\n",
                "    doors = ['car', 'goat', 'goat']\n",
                "    random.shuffle(doors)\n",
                "    return doors\n",
                "\n",
                "def simulate_monty(doors, my_choice):\n",
                "    possible_monty_choices = []\n",
                "    for i, prize in enumerate(doors):\n",
                "        if i != my_choice and prize != 'car':\n",
                "            possible_monty_choices.append(i)\n",
                "    opened_door_index = random.choice(possible_monty_choices)\n",
                "    door_indices = [0, 1, 2]\n",
                "    door_indices.remove(my_choice)\n",
                "    door_indices.remove(opened_door_index)\n",
                "    return door_indices[0]\n",
                "```\n",
                "\n",
                "Here is a function that will then run the simulation using either the \"stay\" or \"change\" strategy. It should look familiar to what we wrote in class. If you run `test_strategy(True)`, it will simulate switching door choices. `test_strategy(False)` will simulate staying with the original choice.\n",
                "```python\n",
                "def test_strategy(switch):\n",
                "    n_trials = 100000\n",
                "    cars = 0\n",
                "    for i in range(n_trials):\n",
                "        doors = setup_doors()\n",
                "        my_choice = random.choice([0, 1, 2])\n",
                "        other_door = simulate_monty(doors, my_choice)\n",
                "        if switch:\n",
                "            my_choice = other_door\n",
                "        if doors[my_choice] == 'car':\n",
                "            cars += 1\n",
                "    return cars / n_trials\n",
                "```\n",
                "Note that we can name parameters in Python, so `test_strategy(True)` is equivalent to `test_strategy(switch=True)`. We'll use the latter syntax below, because it's a little more clear.\n",
                "\n",
                "First, copy-paste and modify the code above for the case where there are six doors (one car and five goats). You choose your door, and Monty opens *one* of the remaining goat-doors. Then you can either stay with your current door, or select one of the other four doors at random. We will call these functions `setup_doors_6` and so forth. In particular, note that `simulate_monty` returns a single `door_index` representing the single unopened door in the original formulation. Your new `simulate_monty_6` will have to return a list of the indices of the four remaining unopened doors, and `test_strategy_6` will have to deal with selecting one from that list.\n",
                "\n",
                "**Tips**: `random.choice(range(6))` is identical to `random.choice([0,1,2,3,4,5])`. Also, there is a better way to make a list with one car and n different goats. Just make a list with all goats of the desired length, and add to it a one-element list with a car: `['goat']*10 + ['car']` would do the trick for an eleven-door game.\n",
                "\n",
                "Last, to directly generate the list `[0,1,2,3,4,5]`, you would type `list(range(6))`. As it turns out, `range(6)` is not a list, but a thing that can work like a list some contexts such as a for loop (`for i in range(6)`) or in many read-only cases such as `range(6)[2]` or `random.choice(range(6))`. But it can't be modified (with `append`, `remove` and so forth) like a real list. To get a true python list from a range, just ask to convert it to a list: `list(range(6))`. This is the same idea as when we ask to convert a string to an integer, like `int('6')`.\n",
                "\n",
                "**Debugging Tip**: Try running the helper functions `setup_doors_6` and `simulate_monty_6`  individually (e.g. `print(setup_doors_6())`) to make sure that each is returning sensical results on test data. Then write `test_strategy_6` and make sure the whole thing works. \n",
                "\n",
                "**Debugging Tip**: Alternately or in addition, you might want to use an `assert` statement to alert you to cases where your assumptions are untrue. Like, in `test_strategy_6` you'll probably be assuming that `simulate_monty_6` should return a list of four closed doors. Try `assert len(other_doors) == 4` (assuming that you used the `other_doors` variable to store the results of `simulate_monty_6`) to make sure that your helper functions are doing the right thing. "
            ]
        },
        {
            "cell_type": "code",
            "execution_count": null,
            "metadata": {
                "deletable": false,
                "nbgrader": {
                    "cell_type": "code",
                    "checksum": "f0c01665b1b19cc0684b4704c83cc500",
                    "grade": false,
                    "grade_id": "cell-0db662ce3f66177a",
                    "locked": false,
                    "schema_version": 3,
                    "solution": true
                }
            },
            "outputs": [],
            "source": [
                "import random\n",
                "\n",
                "def setup_doors_6():\n",
                "    # YOUR ANSWER HERE\n",
                "\n",
                "def simulate_monty_6(doors, my_choice):\n",
                "    # YOUR ANSWER HERE\n",
                "\n",
                "def test_strategy_6(switch):\n",
                "    # YOUR ANSWER HERE\n",
                "\n",
                "print(test_strategy_6(switch=False))\n",
                "print(test_strategy_6(switch=True))"
            ]
        },
        {
            "cell_type": "code",
            "execution_count": null,
            "metadata": {
                "deletable": false,
                "editable": false,
                "nbgrader": {
                    "cell_type": "code",
                    "checksum": "8c664423d58b54705e63aa4e898070c4",
                    "grade": true,
                    "grade_id": "cell-f7605251d7befa6d",
                    "locked": true,
                    "points": 5,
                    "schema_version": 3,
                    "solution": false
                }
            },
            "outputs": [],
            "source": [
                "assert abs(test_strategy_6(switch=False) - 1/6) < 0.02\n",
                "assert abs(test_strategy_6(switch=True) - 5/24) < 0.02"
            ]
        },
        {
            "cell_type": "markdown",
            "metadata": {
                "deletable": false,
                "editable": false,
                "nbgrader": {
                    "cell_type": "markdown",
                    "checksum": "255f62a64b4f9db0dcef7c2969673b96",
                    "grade": false,
                    "grade_id": "cell-0862196b1ba07f9d",
                    "locked": true,
                    "schema_version": 3,
                    "solution": false
                }
            },
            "source": [
                "So what happened here? Well, working through the logic is again pretty straightforward. If you choose the \"stay\" strategy, you'll win a car 1/6th of the time. (The assert statement gives you a 2% buffer around that value. Most of the time, with 100,000 trials, your result will be within 2% of the right answer. If you're getting an assertion failure above, try re-running the cell and see if it goes away...)\n",
                "\n",
                "How about choosing the \"switch\" strategy? Well, 1/6 of the time, you chose the car originally. So 1/6 of the time you lose unconditionally. The other 5/6 of the time, the car must be behind one of the four remaining closed doors. So switching to a new, randomly-selected closed door will win 1/4 of the time. So 5/6 of the time you win 1/4 of the time, giving a total win probability of 5/6 * 1/4 or 5/24 of the time.\n",
                "\n",
                "Switching still gives you a slight edge, but it's less than in the original game. There, if you chose a goat originally, switching wins every time. Here, if you chose a goat originally, then switching gives a 1 in 4 chance of victory. (If Monty offered a switch without opening any door, then in the case you chose a goat to start, switching would give a 1 in 5 chance. So when Monty opens the door, he still gives you a slight improvement in odds... but only if you had happened to choose the goat to start with.) "
            ]
        },
        {
            "cell_type": "markdown",
            "metadata": {
                "deletable": false,
                "editable": false,
                "nbgrader": {
                    "cell_type": "markdown",
                    "checksum": "bc03317c3486ef47eacfe0f467644132",
                    "grade": false,
                    "grade_id": "cell-7671397ed5b8313a",
                    "locked": true,
                    "schema_version": 3,
                    "solution": false
                }
            },
            "source": [
                "Next, let's play a 10-door game, with nine goats and one car. You choose one door, then Monty opens five goat doors, and you can either stay with your door, or choose among the remaining four closed doors. Modify the code below accordingly.\n",
                "\n",
                "**Tip**: Remember that `random.choice(my_list)` chooses a single element out of `my_list`, while `random.sample(my_list, 6)` will, choose 6 elements at random (without replacement) from `my_list`."
            ]
        },
        {
            "cell_type": "code",
            "execution_count": null,
            "metadata": {
                "deletable": false,
                "nbgrader": {
                    "cell_type": "code",
                    "checksum": "93c6824211ca206af2a0b0f7421fc5cf",
                    "grade": false,
                    "grade_id": "cell-0a94d740e82e5ff2",
                    "locked": false,
                    "schema_version": 3,
                    "solution": true
                }
            },
            "outputs": [],
            "source": [
                "import random\n",
                "\n",
                "def setup_doors_10():\n",
                "    # YOUR ANSWER HERE\n",
                "\n",
                "def simulate_monty_10(doors, my_choice):\n",
                "    # YOUR ANSWER HERE\n",
                "\n",
                "def test_strategy_10(switch):\n",
                "    # YOUR ANSWER HERE\n",
                "\n",
                "print(test_strategy_10(switch=False))\n",
                "print(test_strategy_10(switch=True))"
            ]
        },
        {
            "cell_type": "code",
            "execution_count": null,
            "metadata": {
                "deletable": false,
                "editable": false,
                "nbgrader": {
                    "cell_type": "code",
                    "checksum": "79048a46983c44afb0b636c6efb49e3e",
                    "grade": true,
                    "grade_id": "cell-6fba79164c1b594e",
                    "locked": true,
                    "points": 5,
                    "schema_version": 3,
                    "solution": false
                }
            },
            "outputs": [],
            "source": [
                "assert abs(test_strategy_10(switch=False) - 1/10) < 0.02\n",
                "assert abs(test_strategy_10(switch=True) - 9/40) < 0.02"
            ]
        },
        {
            "cell_type": "markdown",
            "metadata": {
                "deletable": false,
                "editable": false,
                "nbgrader": {
                    "cell_type": "markdown",
                    "checksum": "0c1612b5cb933114c8cccdad8e36ef16",
                    "grade": false,
                    "grade_id": "cell-5a0b3abca33cb807",
                    "locked": true,
                    "schema_version": 3,
                    "solution": false
                }
            },
            "source": [
                "What's the logic here? Again, the \"stay\" stragety is simple. 1/10 of the time you win.\n",
                "\n",
                "How about the \"switch\" strategy? 9/10 of the time, you will choose a goat to start with, so switching might lead to a win. With five doors opened and four closed, switching again will give a win 1/4 of the time (if you chose a goat). So 9/10 * 1/4 gives a total win probability of 9/40, which is much better than 1/10!\n",
                "\n",
                "How does this case (where you had four closed doors to choose from) differ from the previous (also with four closed doors)? Well, Monty gave away more information by opening five doors (this case) compared to just opening one door (previous scenario). Previously, opening one door changed the odds when switching (in the case you had chosen a goat) from 1/5 to 1/4, a small improvement. In this new scenario, Monty opens 5 doors, changing the odds from 1/9 to 1/4: a much bigger improvement."
            ]
        }
    ],
    "metadata": {
        "anaconda-cloud": {},
        "language_info": {
            "codemirror_mode": {
                "name": "ipython",
                "version": 3
            },
            "file_extension": ".py",
            "mimetype": "text/x-python",
            "name": "python",
            "nbconvert_exporter": "python",
            "pygments_lexer": "ipython3",
            "version": "3.7.4"
        }
    },
    "nbformat": 4,
    "nbformat_minor": 1
}