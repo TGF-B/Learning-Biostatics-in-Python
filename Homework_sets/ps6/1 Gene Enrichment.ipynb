{
    "cells": [
        {
            "cell_type": "markdown",
            "metadata": {
                "deletable": false,
                "editable": false,
                "nbgrader": {
                    "cell_type": "markdown",
                    "checksum": "f072856919253a7a7e6ca34e1532c894",
                    "grade": false,
                    "grade_id": "cell-8a9efbc0bca94021",
                    "locked": true,
                    "schema_version": 3,
                    "solution": false
                }
            },
            "source": [
                "# 1: Gene Enrichment Analysis (18 points)\n",
                "\n",
                "Let's imagine an experiment where we have used RNAi to deplete an RNA-binding protein, and we then perform RNA-seq to identify genes that have changed in their expression levels. Often, the RNA-seq provider will run an analysis pipeline for you and provide a list of genes which have increased or decreased expression compared to control.\n",
                "\n",
                "Suppose that you are given such a list: a file of the names of the 129 transcripts(\\*) that have increased expression in your RNAi conditions. Using the jupyter file browser (with which you opened this notebook), open `upregulated.txt`. As you can see, it is simply a list of gene names, one per line (with no header). \n",
                "\n",
                "Write a for loop to read these gene names into a list called `upregulated_names`. Again, remember that there's no header line, and since there's only one name per line, we won't need to do any splitting on a comma or tab. Just use `strip` to remove the trailing newline.\n",
                "\n",
                "(\\*) Recall that due to splice variation, one gene can produce multiple distinct transcripts. For this toy problem, assume that you have gotten RNA-seq data that distinguishes between transcripts. (I.e using a sequencer that can produce long reads.)"
            ]
        },
        {
            "cell_type": "code",
            "execution_count": null,
            "metadata": {
                "deletable": false,
                "nbgrader": {
                    "cell_type": "code",
                    "checksum": "e8fad65b59719df01e6c0f1e22d29de2",
                    "grade": false,
                    "grade_id": "cell-3c85b25c9de40c57",
                    "locked": false,
                    "schema_version": 3,
                    "solution": true
                }
            },
            "outputs": [],
            "source": [
                "upregulated_names = []\n",
                "# YOUR ANSWER HERE"
            ]
        },
        {
            "cell_type": "code",
            "execution_count": null,
            "metadata": {
                "deletable": false,
                "editable": false,
                "nbgrader": {
                    "cell_type": "code",
                    "checksum": "a60b0f69908139471a1e182fe8ea56fb",
                    "grade": true,
                    "grade_id": "cell-3a53397e4f465272",
                    "locked": true,
                    "points": 1,
                    "schema_version": 3,
                    "solution": false
                }
            },
            "outputs": [],
            "source": [
                "assert len(upregulated_names) == 129\n",
                "assert upregulated_names[0] == 'ENST00000397038.1'\n",
                "assert upregulated_names[128] == 'ENST00000420778.1'"
            ]
        },
        {
            "cell_type": "markdown",
            "metadata": {
                "deletable": false,
                "editable": false,
                "nbgrader": {
                    "cell_type": "markdown",
                    "checksum": "b77cf563cfe8ac293e806d6a3ed9f56d",
                    "grade": false,
                    "grade_id": "cell-ee0d811c75757c93",
                    "locked": true,
                    "schema_version": 3,
                    "solution": false
                }
            },
            "source": [
                "If you remember the genome data table we examined in class (`transcript_data.csv`), it mapped transcript names to several useful data columns. In particular, we're interested in `GeneType`. Open `transcript_data.csv` from the jupyter browser like you did before, and look at the header. Note what column number `GeneType` is.\n",
                "\n",
                "We can also be a little more clever about finding column numbers in Python. To start, open the `transcript_data.csv` file in python below, read in the header line, and then strip the newline and split on the commas, saving the result in a variable called `split_header`. Don't forget to close the file when you're done with it."
            ]
        },
        {
            "cell_type": "code",
            "execution_count": null,
            "metadata": {
                "deletable": false,
                "nbgrader": {
                    "cell_type": "code",
                    "checksum": "e0fcf5ab2737ed38ebf5f1847bf5fd14",
                    "grade": false,
                    "grade_id": "cell-c38f8726bb758a28",
                    "locked": false,
                    "schema_version": 3,
                    "solution": true
                }
            },
            "outputs": [],
            "source": [
                "# YOUR ANSWER HERE\n",
                "print(split_header)"
            ]
        },
        {
            "cell_type": "code",
            "execution_count": null,
            "metadata": {
                "deletable": false,
                "editable": false,
                "nbgrader": {
                    "cell_type": "code",
                    "checksum": "213eb98256954966fc4149e50357badd",
                    "grade": true,
                    "grade_id": "cell-bccc1675d2b3e221",
                    "locked": true,
                    "points": 1,
                    "schema_version": 3,
                    "solution": false
                }
            },
            "outputs": [],
            "source": [
                "assert len(split_header) == 10\n",
                "assert split_header[0] == 'name'\n",
                "assert split_header[-1] == 'utr5'"
            ]
        },
        {
            "cell_type": "markdown",
            "metadata": {
                "deletable": false,
                "editable": false,
                "nbgrader": {
                    "cell_type": "markdown",
                    "checksum": "b2825f24ac89c4a15f15bea6fd6a5fda",
                    "grade": false,
                    "grade_id": "cell-8b72f9791907931b",
                    "locked": true,
                    "schema_version": 3,
                    "solution": false
                }
            },
            "source": [
                "Now we'll use `enumerate` to get the index associated with each entry in `split_header`. Recall that, just like `range(len(values)` lets you step through indices from 0 to `1-len(values)` one at a time in a for loop, `enumerate(values)` lets you step through both the index and the associated value. If you require a refresher, try running the following code below:\n",
                "```python\n",
                "for x in enumerate(split_header):\n",
                "    print(x)\n",
                "```\n",
                "\n",
                "As you see, each `x` is actually a pair of values. It is possible to \"unpack\" pairs (or triplets, &c.) into the correct number of variables as follows:\n",
                "```python\n",
                "for x in enumerate(split_header):\n",
                "    i, col = x\n",
                "    print(i, col)\n",
                "```\n",
                "\n",
                "Most economically, we do the unpacking directly as part of specifying the loop variables. Try running this code below:\n",
                "```python\n",
                "for i, col in enumerate(split_header):\n",
                "    print(i, col)\n",
                "```\n",
                "\n",
                "Finally, remember that just like we could convert a `range()` into a plain list by doing `list(range(10))`, we can also convert the enumeration into a list. Try doing `print(list(enumerate(split_header)))`."
            ]
        },
        {
            "cell_type": "code",
            "execution_count": null,
            "metadata": {
                "deletable": false,
                "editable": false,
                "nbgrader": {
                    "cell_type": "code",
                    "checksum": "bb7e443556cee295aff89edbec646469",
                    "grade": false,
                    "grade_id": "cell-ec0d14095cbc9fec",
                    "locked": true,
                    "schema_version": 3,
                    "solution": false
                }
            },
            "outputs": [],
            "source": []
        },
        {
            "cell_type": "markdown",
            "metadata": {
                "deletable": false,
                "editable": false,
                "nbgrader": {
                    "cell_type": "markdown",
                    "checksum": "5258dec1f8ffe89c0612d9ff2835a4f7",
                    "grade": false,
                    "grade_id": "cell-8532ded6c799a351",
                    "locked": true,
                    "schema_version": 3,
                    "solution": false
                }
            },
            "source": [
                "From the above, you can see easily that the index of the column `name` is 0 and that the index of `geneType` is 4. \n",
                "\n",
                "What if we wanted to look these indices up on the fly? We could use a Python `dict` to map from names to indices. Try stepping through the indices and columns from `split_header` with `enumerate`, and add the column names to the dictionary such that the name maps to the column's index."
            ]
        },
        {
            "cell_type": "code",
            "execution_count": null,
            "metadata": {
                "deletable": false,
                "nbgrader": {
                    "cell_type": "code",
                    "checksum": "d80d491800e07ac5fa8c984a005a074a",
                    "grade": false,
                    "grade_id": "cell-e1800befc89645f1",
                    "locked": false,
                    "schema_version": 3,
                    "solution": true
                }
            },
            "outputs": [],
            "source": [
                "header_dict = {}\n",
                "# YOUR ANSWER HERE\n",
                "print(header_dict['name'])"
            ]
        },
        {
            "cell_type": "code",
            "execution_count": null,
            "metadata": {
                "deletable": false,
                "editable": false,
                "nbgrader": {
                    "cell_type": "code",
                    "checksum": "34a5c5281a553b11fab81b025da397b8",
                    "grade": true,
                    "grade_id": "cell-87aa738f08aa7e32",
                    "locked": true,
                    "points": 1,
                    "schema_version": 3,
                    "solution": false
                }
            },
            "outputs": [],
            "source": [
                "assert header_dict['name'] == 0\n",
                "assert header_dict['txLen'] == 7"
            ]
        },
        {
            "cell_type": "markdown",
            "metadata": {
                "deletable": false,
                "editable": false,
                "nbgrader": {
                    "cell_type": "markdown",
                    "checksum": "36e727bda8737d29efebe5976d4345a5",
                    "grade": false,
                    "grade_id": "cell-784f558f45971444",
                    "locked": true,
                    "schema_version": 3,
                    "solution": false
                }
            },
            "source": [
                "Let's now see if any particular gene types are over- or under-represented in our upregulated genes compared to all the genes in the genome. To do that, we'll want to get the gene types for all of the upregulated genes, and compare that to the gene types across the genome.\n",
                "\n",
                "So first, read through the full `transcript_data.csv` table and make *two* lists. First, put the `geneType` of every transcript in a list called `all_types`. Second, make a list of the types of the transcripts in our list of upregulated genes. Call that list `upregulated_types`.\n",
                "\n",
                "The easiest way to do this will be to just loop through the lines in `transcript_data.csv` once. If the named transcript is in our `upregulated_names` list, then add the associated `geneType` to `upregulated_types`.\n",
                "\n",
                "Remember that we can test for membership in a list with something like:\n",
                "```python\n",
                "my_list = [1,2,3]\n",
                "if 1 in my_list:\n",
                "    print('we have 1')\n",
                "if 4 in my_list:\n",
                "    print('we have 4')\n",
                "```\n",
                "\n",
                "Now, this is a little inefficient: each time we want to know if something is in a list, Python has to step through each element in the list one at a time. This gets slow for large lists. Fortunately, Python has a different construct optimized for exactly this sort of membership testing: `set`. A Python `set` is just like a mathematical set: it contains a particular number of unique items, and we can rapidly test for membership:\n",
                "```python\n",
                "my_set = set([1,2,3])\n",
                "if 1 in my_set:\n",
                "    print('we have 1')\n",
                "if 4 in my_set:\n",
                "    print('we have 4')\n",
                "```\n",
                "\n",
                "As you see above, we can construct a set directly from a list of elements. (Note that of course `my_set = set(my_list)` also works -- you don't have to write out all the elements of the set.)\n",
                "\n",
                "The code below constructs a set of upregulated gene names. When you step through the rows of `transcript_data.csv` to make the two lists described above, make sure to use the `upregulated_names_set` to test if the name is one of the upregulated genes. Also, make use of the `name_i` and `type_i` variables to choose the right values from the split line. This way, your code won't break if the order of the columns were to change in a different file you wanted to read in."
            ]
        },
        {
            "cell_type": "code",
            "execution_count": null,
            "metadata": {
                "deletable": false,
                "nbgrader": {
                    "cell_type": "code",
                    "checksum": "910df86b990694b53516c4102fc02de2",
                    "grade": false,
                    "grade_id": "cell-77f18d3ac7583cbd",
                    "locked": false,
                    "schema_version": 3,
                    "solution": true
                }
            },
            "outputs": [],
            "source": [
                "upregulated_names_set = set(upregulated_names)\n",
                "all_types = []\n",
                "upregulated_types = []\n",
                "transcript_data = open('transcript_data.csv')\n",
                "header = transcript_data.readline() # we'll just ignore the header as ususal\n",
                "name_i = header_dict['name']\n",
                "type_i = header_dict['geneType']\n",
                "# YOUR ANSWER HERE\n",
                "transcript_data.close()"
            ]
        },
        {
            "cell_type": "code",
            "execution_count": null,
            "metadata": {
                "deletable": false,
                "editable": false,
                "nbgrader": {
                    "cell_type": "code",
                    "checksum": "1af533ff27c6fdb7ed73fc95fbf201c8",
                    "grade": true,
                    "grade_id": "cell-af2f3834b1465bc9",
                    "locked": true,
                    "points": 2,
                    "schema_version": 3,
                    "solution": false
                }
            },
            "outputs": [],
            "source": [
                "assert len(all_types) == 89339\n",
                "assert len(upregulated_types) == 129\n",
                "assert all_types[12312] == 'lincRNA'\n",
                "assert upregulated_types[64] == 'pseudogene'"
            ]
        },
        {
            "cell_type": "markdown",
            "metadata": {
                "deletable": false,
                "editable": false,
                "nbgrader": {
                    "cell_type": "markdown",
                    "checksum": "e89c65689dafd3a047f30e76fcbc3af2",
                    "grade": false,
                    "grade_id": "cell-243cd0c633a8ec7a",
                    "locked": true,
                    "schema_version": 3,
                    "solution": false
                }
            },
            "source": [
                "Now, what are all of the different possible gene types? Conveniently, just like a mathematical set, a Python set only contains unique items. If you double-add an item, the set doesn't care:\n",
                "```python\n",
                "print(set([1,1,2,3]))\n",
                "```\n",
                "produces: `{1, 2, 3}`.\n",
                "\n",
                "Like the notation for a python list is `[1,2,3]`, the notation for a set is `{1,2,3}`. So just like `list(range(3))` is asking to convert the range into a list, which gets printed out like `[0,1,2]`, `set([1,2,3])` is asking to convert the list `[1,2,3]` into a set, which gets printed out `{1,2,3}`. \n",
                "\n",
                "Similarly, just as you can type a list directly as `[1,2,3]`, you can type a set as `{1,2,3}`.\n",
                "\n",
                "Try playing with making and printing sets below:"
            ]
        },
        {
            "cell_type": "code",
            "execution_count": null,
            "metadata": {
                "deletable": false,
                "editable": false,
                "nbgrader": {
                    "cell_type": "code",
                    "checksum": "332b85bebe30c6a012247835210eae56",
                    "grade": false,
                    "grade_id": "cell-8eabb1226c407521",
                    "locked": true,
                    "schema_version": 3,
                    "solution": false
                }
            },
            "outputs": [],
            "source": []
        },
        {
            "cell_type": "markdown",
            "metadata": {
                "deletable": false,
                "editable": false,
                "nbgrader": {
                    "cell_type": "markdown",
                    "checksum": "9dd582943a587cbc55e5cee34de43244",
                    "grade": false,
                    "grade_id": "cell-6b614514fcaaa4f2",
                    "locked": true,
                    "schema_version": 3,
                    "solution": false
                }
            },
            "source": [
                "Below, construct a set from our list of all gene types. Call it `all_types_set`. Then run the following code which will sort the set elements alphabetically and print them one by one. Note that just like `sorted()` can be given a list to sort, it can also be given a set. (If we didn't use `sorted` below, and just typed `for t in all_types_set:`, we would get the types back in arbitrary order.)"
            ]
        },
        {
            "cell_type": "code",
            "execution_count": null,
            "metadata": {
                "deletable": false,
                "nbgrader": {
                    "cell_type": "code",
                    "checksum": "7e10ce4b87879aa10e172b275ccbb763",
                    "grade": false,
                    "grade_id": "cell-3b40d101c89d4c5b",
                    "locked": false,
                    "schema_version": 3,
                    "solution": true
                }
            },
            "outputs": [],
            "source": [
                "# YOUR ANSWER HERE\n",
                "\n",
                "for t in sorted(all_types_set):\n",
                "    print(t)"
            ]
        },
        {
            "cell_type": "code",
            "execution_count": null,
            "metadata": {
                "deletable": false,
                "editable": false,
                "nbgrader": {
                    "cell_type": "code",
                    "checksum": "5a7318a6271c29bfd0982b6139d9f903",
                    "grade": true,
                    "grade_id": "cell-a4f6d0c6497a429a",
                    "locked": true,
                    "points": 1,
                    "schema_version": 3,
                    "solution": false
                }
            },
            "outputs": [],
            "source": [
                "assert len(all_types_set) == 24 # len can be used to get the number of entries in the set\n",
                "assert 'lincRNA' in all_types_set\n",
                "assert 'pseudoRNA' not in all_types_set # :)"
            ]
        },
        {
            "cell_type": "markdown",
            "metadata": {
                "deletable": false,
                "editable": false,
                "nbgrader": {
                    "cell_type": "markdown",
                    "checksum": "1847cb5da2e9b98cab96dacd4cc3b19c",
                    "grade": false,
                    "grade_id": "cell-c68b280bc51a42ff",
                    "locked": true,
                    "schema_version": 3,
                    "solution": false
                }
            },
            "source": [
                "Next, let's calculate what fraction of upregulated genes belong to a given type, and compare that to the fraction across the genome.\n",
                "\n",
                "Let's first write a function that calculates the fraction of a given list made up by some specified value (i.e. the count of items in the list that are equal to the specific value, divided by the total length of the list).\n",
                "\n",
                "You could use a for loop to count when items in a list are equal to some specific value (called `query` below), or just use the list's `count` method (e.g. `my_list.count(5)`). The latter will be a lot faster, and require you to write less code too!\n",
                "\n",
                "Take the following list for example: `[1,2,2,4,4,4]`. It has six entries, two of which are `2`. So `2`s make up 1/3 of the list. And `4`s make up 1/2 of the list. So `fraction([1,2,2,4,4,4], 2)` should return `0.33333333`...\n"
            ]
        },
        {
            "cell_type": "code",
            "execution_count": null,
            "metadata": {
                "deletable": false,
                "nbgrader": {
                    "cell_type": "code",
                    "checksum": "6cb72866b4a348c9ea39cb177c5d6ecd",
                    "grade": false,
                    "grade_id": "cell-170cb98133ec162b",
                    "locked": false,
                    "schema_version": 3,
                    "solution": true
                }
            },
            "outputs": [],
            "source": [
                "def fraction(values, query):\n",
                "    # YOUR ANSWER HERE\n",
                "print(fraction([1,2,2,4,4,4], 2))"
            ]
        },
        {
            "cell_type": "code",
            "execution_count": null,
            "metadata": {
                "deletable": false,
                "editable": false,
                "nbgrader": {
                    "cell_type": "code",
                    "checksum": "8f5f06fcbfee9db1e41bd057f96a0fd1",
                    "grade": true,
                    "grade_id": "cell-e2ffe0e925de2e37",
                    "locked": true,
                    "points": 1,
                    "schema_version": 3,
                    "solution": false
                }
            },
            "outputs": [],
            "source": [
                "assert fraction([1,2,1,2], 1) == 0.5\n",
                "assert fraction([1,2,3,2,1], 1) == 2/5\n",
                "assert fraction(['a', 'b', 'c', 'b'], 'b') == 0.5"
            ]
        },
        {
            "cell_type": "markdown",
            "metadata": {
                "deletable": false,
                "editable": false,
                "nbgrader": {
                    "cell_type": "markdown",
                    "checksum": "1afae41b868dace881ce8cecc7a890f8",
                    "grade": false,
                    "grade_id": "cell-f7080da6d30e02da",
                    "locked": true,
                    "schema_version": 3,
                    "solution": false
                }
            },
            "source": [
                "Next, write a function to calculate the relative enrichment of some specified gene type in the `upregulated_types` list, compared to the `all_types` list.\n",
                "\n",
                "That is, for the specified gene type, you will want to return the ratio between the fraction of that type in `upregulated_types` and in `all_types`. So if the fraction of pseudogenes in `upregulated_types` is 0.05, and the fraction of pseudogenes in `all_types` is 0.01, then your function should return 5, because there are 5 times more pseudogenes (proportionally) in the upregulated genes than in the genome at large."
            ]
        },
        {
            "cell_type": "code",
            "execution_count": null,
            "metadata": {
                "deletable": false,
                "nbgrader": {
                    "cell_type": "code",
                    "checksum": "0aa89b8dba0f8780964efc52af09f698",
                    "grade": false,
                    "grade_id": "cell-de786eb48fdbc88b",
                    "locked": false,
                    "schema_version": 3,
                    "solution": true
                }
            },
            "outputs": [],
            "source": [
                "def enrichment(query_gene_type):\n",
                "    # YOUR ANSWER HERE"
            ]
        },
        {
            "cell_type": "code",
            "execution_count": null,
            "metadata": {
                "deletable": false,
                "editable": false,
                "nbgrader": {
                    "cell_type": "code",
                    "checksum": "b8e0443a6f93ad9d7273995e8429c673",
                    "grade": true,
                    "grade_id": "cell-6a54ed4840022360",
                    "locked": true,
                    "points": 2,
                    "schema_version": 3,
                    "solution": false
                }
            },
            "outputs": [],
            "source": [
                "assert 0.046 < fraction(upregulated_types, 'pseudogene') < 0.047\n",
                "assert 0.010 < fraction(all_types, 'pseudogene') < 0.011\n",
                "assert 4.53 < enrichment('pseudogene') < 4.54\n",
                "assert 1 < enrichment('protein_coding') < 1.1\n",
                "# fraction(all_types, 'miRNA') * 129"
            ]
        },
        {
            "cell_type": "markdown",
            "metadata": {
                "deletable": false,
                "editable": false,
                "nbgrader": {
                    "cell_type": "markdown",
                    "checksum": "d3cb7bf730570564b22db2a4cad3b70f",
                    "grade": false,
                    "grade_id": "cell-5a0c79dadffe9781",
                    "locked": true,
                    "schema_version": 3,
                    "solution": false
                }
            },
            "source": [
                "Now, print out the enrichment fraction for each type of gene in `upregulated_types`. Since that list might contain duplicates, you will want to make a set to get just the unique entries in `upregulated_types`, then use a for loop to iterate through the set in sorted order (as above). For each gene type, print out the type and its enrichment all on one line. (Tip: `print(1, 2)` prints `1 2`, on the same line.)\n",
                "\n",
                "At the same time, make a list, where each entry in the list is a two-element list: first, the enrichment fraction, and second the gene type. Call this list `enrichment_list`. \n",
                "\n",
                "Recall from the programming lectures that lists can contain other lists... It's easy to add a list to another list:\n",
                "```python\n",
                "my_list = []\n",
                "other_list = [1, 2, 3]\n",
                "my_list.append(other_list)\n",
                "my_list.append([1, 2, 3]) # or could add list directly, without saving it in a separate variable\n",
                "my_list = [[1, 2, 3], [1, 2, 3]] # or just construct a nested list directly\n",
                "```\n",
                "\n",
                "Similarly, getting at values from nested lists is simple:\n",
                "```python\n",
                "inner_list = my_list[0]\n",
                "print(inner_list[1])\n",
                "print(my_list[0][1]) # or skip the 'inner_list' step...\n",
                "```"
            ]
        },
        {
            "cell_type": "code",
            "execution_count": null,
            "metadata": {
                "deletable": false,
                "nbgrader": {
                    "cell_type": "code",
                    "checksum": "016e4ffaaae12db09e89dec336012249",
                    "grade": false,
                    "grade_id": "cell-8a9a721340a3db53",
                    "locked": false,
                    "schema_version": 3,
                    "solution": true
                }
            },
            "outputs": [],
            "source": [
                "enrichment_list = []\n",
                "# YOUR ANSWER HERE"
            ]
        },
        {
            "cell_type": "code",
            "execution_count": null,
            "metadata": {
                "deletable": false,
                "editable": false,
                "nbgrader": {
                    "cell_type": "code",
                    "checksum": "56ebf6bb2728efcf73d7f05cd2b1625f",
                    "grade": true,
                    "grade_id": "cell-0253988c3005354b",
                    "locked": true,
                    "points": 1,
                    "schema_version": 3,
                    "solution": false
                }
            },
            "outputs": [],
            "source": [
                "assert enrichment_list[2][1] == 'lincRNA'\n",
                "assert 1.06 < enrichment_list[2][0] < 1.07\n",
                "assert enrichment_list[-1][1] == 'snoRNA'\n",
                "assert 1.38 < enrichment_list[-1][0] < 1.39"
            ]
        },
        {
            "cell_type": "markdown",
            "metadata": {
                "deletable": false,
                "editable": false,
                "nbgrader": {
                    "cell_type": "markdown",
                    "checksum": "d98a4b8e56a4d8ef5ab067af25143bdd",
                    "grade": false,
                    "grade_id": "cell-ad89dcef68b0cc4c",
                    "locked": true,
                    "schema_version": 3,
                    "solution": false
                }
            },
            "source": [
                "Previously, we sorted a list of strings using the `sorted` function. They came out alphabetically. As you might imagine, you can also sort a list of numbers. It turns out that we can also sort a list of lists! The sub-lists are sorted by their first element. In the case of ties, the lists are sorted then by their second elements, and so forth.\n",
                "\n",
                "```python\n",
                "my_list = [[2, 'c'], [1, 'a'], [3, 'a'], [1, 'b']]\n",
                "print(sorted(my_list))\n",
                "```\n",
                "produces:\n",
                "```python\n",
                "[[1, 'a'], [1, 'b'], [2, 'c'], [3, 'a']]\n",
                "```\n",
                "\n",
                "Use this fact and the `enrichment_list` created above to print out the name and enrichment factor (in that order) for each gene type, sorted by the enrichment factor. **Hint:** unpacking might be convenient here."
            ]
        },
        {
            "cell_type": "code",
            "execution_count": null,
            "metadata": {
                "deletable": false,
                "nbgrader": {
                    "cell_type": "code",
                    "checksum": "14448753d112fc6173090c88ff9c34b6",
                    "grade": true,
                    "grade_id": "cell-dfb764d6e336a8f7",
                    "locked": false,
                    "points": 2,
                    "schema_version": 3,
                    "solution": true
                }
            },
            "outputs": [],
            "source": [
                "# YOUR ANSWER HERE"
            ]
        },
        {
            "cell_type": "markdown",
            "metadata": {
                "deletable": false,
                "editable": false,
                "nbgrader": {
                    "cell_type": "markdown",
                    "checksum": "7455e38f923d655b5fdb6014dff8e4d3",
                    "grade": false,
                    "grade_id": "cell-3272dba3a95b24aa",
                    "locked": true,
                    "schema_version": 3,
                    "solution": false
                }
            },
            "source": [
                "It appears that (among others) pesudogene transcripts and immunoglobulin variable-chain transcripts (`IG_V_gene`) are overrepresented, while microRNAs and small nucleolar RNAs (snRNAs) are somewhat under-represented.\n",
                "\n",
                "Is this degree of over- or under-representation unusual? That is, how often would a random subset of all of the transcripts, the same size as our list of upregulated transcripts, have such a degree of over- or under-representation?\n",
                "\n",
                "Let's simulate! Write a for loop to take 10,000 samples of the `all_types` list the same length as `upregulated_types`, using `random.sample`. In the loop, increment a counter every time the enrichment factor for `miRNA` genes in the sample is **smaller than or equal to** the enrichment factor for `miRNA` genes in the `upregulated_types` list. (We are looking for smaller values because we want to see how often we would see a value as or more extreme than the one we observed by random sampling alone.)\n",
                "\n",
                "**Note**: it would be really silly to repeatedly re-calculate `enrichment('miRNA')` every time through the for-loop: its value never changes! So save it in a variable at the beginning. Ditto for calculating `fraction(all_types, 'miRNA')`.\n",
                "\n",
                "**Note 2**: make sure that you don't make a variable that has the same name as one of the functions you were using (like `enrichment`). If you do, then you'll replace the enrichment function with the value of the variable! (To fix this, just go back above and re-run the cell where you defined the enrichment function...)"
            ]
        },
        {
            "cell_type": "code",
            "execution_count": null,
            "metadata": {
                "deletable": false,
                "nbgrader": {
                    "cell_type": "code",
                    "checksum": "fd99621944297ee125f796640f78d9be",
                    "grade": false,
                    "grade_id": "cell-2dd4bd8f0e240258",
                    "locked": false,
                    "schema_version": 3,
                    "solution": true
                }
            },
            "outputs": [],
            "source": [
                "import random\n",
                "counter = 0\n",
                "n_trials = 10000\n",
                "# YOUR ANSWER HERE\n",
                "\n",
                "fraction_more_extreme = counter / n_trials\n",
                "print(fraction_more_extreme)\n"
            ]
        },
        {
            "cell_type": "code",
            "execution_count": null,
            "metadata": {
                "deletable": false,
                "editable": false,
                "nbgrader": {
                    "cell_type": "code",
                    "checksum": "d2946cb0c865e0c71a9f813b6bf87b66",
                    "grade": true,
                    "grade_id": "cell-7f945702ae12441a",
                    "locked": true,
                    "points": 2,
                    "schema_version": 3,
                    "solution": false
                }
            },
            "outputs": [],
            "source": [
                "assert 0.145 < fraction_more_extreme < 0.164"
            ]
        },
        {
            "cell_type": "markdown",
            "metadata": {
                "deletable": false,
                "editable": false,
                "nbgrader": {
                    "cell_type": "markdown",
                    "checksum": "82dd489561306354d196ceec5a669a58",
                    "grade": false,
                    "grade_id": "10",
                    "locked": true,
                    "schema_version": 3,
                    "solution": false
                }
            },
            "source": [
                "You should have found out that around 15% of the time, by random chance only, microRNAs would be depleted in a sample of 129 genes by the same amount (or more) than we observed in our actual sample of upregulated genes.\n",
                "\n",
                "5% is a decent general threshold for \"weird by chance alone\". In this case, we must conclude that it's not really all that weird to see this degree of depletion of microRNAs in our sample, since that would happen by chance alone about 15% of the time.\n",
                "\n",
                "Let's test things for some other gene types. Instead of copy-pasting the for-loop above and typing in a different gene type, make it into a function! \n",
                "\n",
                "There's one subtlety to note: if the actual enrichment is > 1, count instances when the sample enrichment is greater than or equal to the actual enrichment. If the actual enrichment is < 1, then count instances when the sample enrichment is less than or equal to the actual enrichment. That is, we want to count cases where the sample is as extreme or more extreme **in the same direction** as the actual enrichment factor.\n",
                "\n",
                "For example, if something is 5-fold enriched, then we should count cases like 5.5 and 6-fold enriched in our sample. If it's 0.5-fold enriched, then count cases like 0.45 and 0.3. This is called a \"one-tailed\" test: we are looking for random events as extreme or more only in one direction (on one tail of the distribution of all random events).\n",
                "\n",
                "Running the below after you finish the function, you should find that it is pretty unlikely that there would be so many pseudogenes in our 'upregulated' list by random chance alone. Cool!"
            ]
        },
        {
            "cell_type": "code",
            "execution_count": null,
            "metadata": {
                "deletable": false,
                "nbgrader": {
                    "cell_type": "code",
                    "checksum": "1b7619b2776a8f238de3650e67936bed",
                    "grade": false,
                    "grade_id": "cell-e0470edfdc470c87",
                    "locked": false,
                    "schema_version": 3,
                    "solution": true
                }
            },
            "outputs": [],
            "source": [
                "def test_enrichment(gene_type):\n",
                "    # YOUR ANSWER HERE\n",
                "    return fraction_more_extreme\n",
                "\n",
                "print('miRNA', test_enrichment('miRNA'))\n",
                "print('pseudogene', test_enrichment('pseudogene'))"
            ]
        },
        {
            "cell_type": "code",
            "execution_count": null,
            "metadata": {
                "deletable": false,
                "editable": false,
                "nbgrader": {
                    "cell_type": "code",
                    "checksum": "2073ba43d99eb52d3f22e3cf43596465",
                    "grade": true,
                    "grade_id": "cell-f4c93f71f5e8ff5f",
                    "locked": true,
                    "points": 3,
                    "schema_version": 3,
                    "solution": false
                }
            },
            "outputs": [],
            "source": [
                "assert 0.14 < test_enrichment('miRNA') < 0.17\n",
                "assert 0.0001 < test_enrichment('pseudogene') < 0.004"
            ]
        },
        {
            "cell_type": "markdown",
            "metadata": {
                "deletable": false,
                "editable": false,
                "nbgrader": {
                    "cell_type": "markdown",
                    "checksum": "b9337806cd664e6485c36fd2a22052f8",
                    "grade": false,
                    "grade_id": "cell-883975316553161c",
                    "locked": true,
                    "schema_version": 3,
                    "solution": false
                }
            },
            "source": [
                "Now write a for loop to go through all of the upregulated gene types (sorted by enrichment factor) and print out the type, the enrichment factor, and the \"weirdness\" value resulting from our test of that enrichment factor."
            ]
        },
        {
            "cell_type": "code",
            "execution_count": null,
            "metadata": {
                "deletable": false,
                "nbgrader": {
                    "cell_type": "code",
                    "checksum": "a26fe2d3b7c19f327eb7faacd4f2179b",
                    "grade": true,
                    "grade_id": "cell-89f6475312464c35",
                    "locked": false,
                    "points": 1,
                    "schema_version": 3,
                    "solution": true
                }
            },
            "outputs": [],
            "source": [
                "# YOUR ANSWER HERE"
            ]
        },
        {
            "cell_type": "markdown",
            "metadata": {
                "deletable": false,
                "editable": false,
                "nbgrader": {
                    "cell_type": "markdown",
                    "checksum": "c9290142d663baaac93399c45f2ce9c2",
                    "grade": false,
                    "grade_id": "12",
                    "locked": true,
                    "schema_version": 3,
                    "solution": false
                }
            },
            "source": [
                "You should have found that even though IG_V_genes have a larger enrichment factor than pseudogenes, it's actually quite likely to get that many IG_V_genes by chance alone, but quite unlikely to get that many pseudogenes. Interesting!\n",
                "\n",
                "The reason is that there's only one IG_V_gene in the upregulated list. Though they are quite rare across the genome (0.15% of all genes), our simulation suggests in a sample of 129 genes that one would expect to get one or more about 18% of the time.\n",
                "\n",
                "How might we caluclate that 18%? Well, how likely would it be to get no IG_V_genes? If we choose one gene, then 99.85% of the time it is not an IG_V_gene. If we choose two genes completely independently, then the probability that neither is an IG_V_gene is $0.9985^2$. (This is just as in our example in class of counting successes and failures.) So the probability of getting zero in 129 genes would be $0.9985^{129} \\approx 82\\%$. (Now, note that this assumes we are choosing the 129 genes completely independently. But this isn't the case: once we've chosen one non-IG_V_gene as \"enriched\" we can't choose it again, so that ever so slightly decreases the chances of choosing another non-IG_V_gene in the following rounds of choosing. However, since there are so very many non-IG_V_genes, this effect is very small.)\n",
                "\n",
                "In comparison, there are 6 pesudogenes in the upregulated list. Though there are about 10 times more pseudogenes in the genome (~1% of the genome), getting six or more in a random sample of 129 genes is actually much more uncommon than getting one IV_G_gene.\n",
                "\n",
                "The moral of the story is  that getting a lot of even relatively common things is difficult to achieve by chance alone. For examople, getting 51 or more heads out of 100 tosses of a fair coin is pretty common, but getting 5100 or more out of 10000 tosses is much more unlikely!"
            ]
        }
    ],
    "metadata": {
        "anaconda-cloud": {},
        "language_info": {
            "codemirror_mode": {
                "name": "ipython",
                "version": 3
            },
            "file_extension": ".py",
            "mimetype": "text/x-python",
            "name": "python",
            "nbconvert_exporter": "python",
            "pygments_lexer": "ipython3",
            "version": "3.7.5"
        }
    },
    "nbformat": 4,
    "nbformat_minor": 1
}