{
 "cells": [
  {
   "cell_type": "markdown",
   "metadata": {
    "deletable": false,
    "editable": false,
    "nbgrader": {
     "cell_type": "markdown",
     "checksum": "5a4dab1cabb627a42782b8f954aac7fc",
     "grade": false,
     "grade_id": "cell-664095ddee0275d9",
     "locked": true,
     "schema_version": 3,
     "solution": false
    }
   },
   "source": [
    "# 2: Cancer mice (6 points)\n",
    "\n",
    "Recall that we imagined an experiment with 10 blueberry-fed mice and 15 regular-chow mice, which found that 4 of the blueberry-fed mice were cancer-free (40%), while 3 of the regular-chow mice were cancer-free (20%). \n",
    "\n",
    "Before the National Blueberry Council put out the press release about how blueberries prevent cancer, we did a quick simulation to make sure that a result such as this would not be common by chance alone.\n",
    "\n",
    "Our final version of the simulation assigned cancer randomly to blueberry or regular mice, with a cancer-free probability of 7/25. We then asked how often we would expect to see more than double or less than half the rate of cancer-freedom in the blueberry mice. By looking at double *or* half, we are performing a two-tailed test: asking about the probability of extreme deviations in either direction.\n",
    "\n",
    "Below is the code from the in-class simulation. Try running it a few times. You should find that almost 30% of the time, we would see a result as extreme as a doubling or halving of the cancer-free rate in the blueberry group by chance alone."
   ]
  },
  {
   "cell_type": "code",
   "execution_count": null,
   "metadata": {
    "deletable": false,
    "editable": false,
    "nbgrader": {
     "cell_type": "code",
     "checksum": "7606c93071afd12c65241fe47b34b6e2",
     "grade": false,
     "grade_id": "cell-6fc22120a1bacde2",
     "locked": true,
     "schema_version": 3,
     "solution": false
    }
   },
   "outputs": [],
   "source": [
    "import random\n",
    "mice = ['blueberry'] * 10 + ['regular'] * 15\n",
    "\n",
    "count = 0\n",
    "n_trials = 10000\n",
    "for i in range(n_trials):\n",
    "    no_cancer = []\n",
    "    for mouse in mice:\n",
    "        if random.random() < 7/25:\n",
    "            no_cancer.append(mouse)\n",
    "    blueberry_cancer_free_rate = no_cancer.count('blueberry') / 10\n",
    "    regular_cancer_free_rate = no_cancer.count('regular') / 15\n",
    "    if blueberry_cancer_free_rate > 2 * regular_cancer_free_rate:\n",
    "        count += 1\n",
    "    elif blueberry_cancer_free_rate < 0.5 * regular_cancer_free_rate:\n",
    "        count += 1\n",
    "\n",
    "print(count / n_trials)"
   ]
  },
  {
   "cell_type": "markdown",
   "metadata": {
    "deletable": false,
    "editable": false,
    "nbgrader": {
     "cell_type": "markdown",
     "checksum": "eb3649697c53099e1936a85885e036ed",
     "grade": false,
     "grade_id": "cell-e09b635eac02fb4b",
     "locked": true,
     "schema_version": 3,
     "solution": false
    }
   },
   "source": [
    "Based on these results, you were able to convince the National Blueberry Council to **not** put out a press release.\n",
    "\n",
    "Regardless, the Council was intrigued by your results that 40% of the mice in the blueberry group were cancer-free, while only 20% in the control group were spared. Though the result was potentially just due to chance, your best estimate of the effects of blueberries was, after all, that it doubled of the chances of being cancer-free. (The problem is just that your best estimate really isn't all that reliable.)\n",
    "\n",
    "The good news is that the National Blueberry Council want to pay for a larger experiment! They hope that with more mice, it might be possible to distinguish whether the effect observed is more likely due to blueberries or to random chance.\n",
    "\n",
    "The bad news is that the Council is pretty angry with you for not having done these calculations beforehand. If you had done so, you would have realized that even an effect as strong as an increase from 20% to 40% in cancer-free mice would be indistinguishable from random chance. This means that the experiment you did was a waste of their money and your time. (Not to mention the lives of 25 mice! (It's one thing to do experiments on animals if you are going to learn something. It's completely different to do experiments that are statistically incapable of producing meaningful results.)\n",
    "\n",
    "So, you need to do some statistics to figure out how many mice need to be in each group. As a first step toward that, let's examine the probability by chance alone of getting similar results using different numbers of mice. Modify the above code to be a function that takes two parameters, the number of blueberry and regular mice, and returns the probability of seeing twice or half the cancer-free rate in the blueberry mice by chance alone (based on 10,000 sampling runs). For simplicity, assume that the cancer-free rate is always 7/25."
   ]
  },
  {
   "cell_type": "code",
   "execution_count": null,
   "metadata": {
    "deletable": false,
    "nbgrader": {
     "cell_type": "code",
     "checksum": "c2f396b596f907807b3f5f2f08e07f04",
     "grade": false,
     "grade_id": "cell-361f4debae84b80a",
     "locked": false,
     "schema_version": 3,
     "solution": true
    }
   },
   "outputs": [],
   "source": [
    "def p_cancer_free_extreme(n_blueberry, n_regular):\n",
    "    # YOUR ANSWER HERE\n",
    "\n",
    "print(p_cancer_free_extreme(10, 15))"
   ]
  },
  {
   "cell_type": "code",
   "execution_count": null,
   "metadata": {
    "deletable": false,
    "editable": false,
    "nbgrader": {
     "cell_type": "code",
     "checksum": "7f16a52d48c23db9fd5ba6a988e69f31",
     "grade": true,
     "grade_id": "cell-19e4cc80d74018b4",
     "locked": true,
     "points": 3,
     "schema_version": 3,
     "solution": false
    }
   },
   "outputs": [],
   "source": [
    "assert 0.28 < p_cancer_free_extreme(10, 15) < 0.31\n",
    "assert 0.13 < p_cancer_free_extreme(20, 30) < 0.16"
   ]
  },
  {
   "cell_type": "markdown",
   "metadata": {
    "deletable": false,
    "editable": false,
    "nbgrader": {
     "cell_type": "markdown",
     "checksum": "f437b39fd15940c5573a533768de9072",
     "grade": false,
     "grade_id": "cell-a090027cb66a3f5d",
     "locked": true,
     "schema_version": 3,
     "solution": false
    }
   },
   "source": [
    "Write a for-loop to print out these probabilities for 10, 20, 50, and 100 blueberry mice, each time with 1.5 times as many control mice. Print the number of blueberry mice on the same line. Last, store the probabilities in a list named `ps`.\n",
    "\n",
    "Note that while `['a','b'] * 2` gives `['a','b','a','b']`, if were were to do `['a','b'] * 2.0`, this would produce  an error. That's because Python distinguishes between integers (i.e. `2`, also called an \"int\") and floating-point numbers (i.e. `2.0`, also called a \"float\"). Because in general it doesn't make sense to multiply a list some fractional number of times, it is always an error to multiply a list by a float. Also note that an int times a float is always a float: `10 * 2.0` gives `20.0`. \n",
    "\n",
    "So, if you use multiplication to calculate the number of control mice, make sure to convert that number back to an integer before you pass it to your `p_cancer_free_extreme()` function. (Converting a floating point number to an integer is just the same as converting a string: `int(2.0)` gives `2`. Note that converting a non-whole number to an integer always rounds down... `int(2.8)` gives `2`. To round to the closest whole number, use `round()`, though note that this returns a float, so `round(2.8)` gives `3.0`. But for this specific question, we don't need to round anything.)"
   ]
  },
  {
   "cell_type": "code",
   "execution_count": null,
   "metadata": {
    "deletable": false,
    "nbgrader": {
     "cell_type": "code",
     "checksum": "9e3fb91e2122cd21bde0208661cb92f5",
     "grade": false,
     "grade_id": "cell-1118373c9bee6626",
     "locked": false,
     "schema_version": 3,
     "solution": true
    }
   },
   "outputs": [],
   "source": [
    "ps = []\n",
    "n_blueberries = [10, 20, 40, 50, 100]\n",
    "# YOUR ANSWER HERE"
   ]
  },
  {
   "cell_type": "code",
   "execution_count": null,
   "metadata": {
    "deletable": false,
    "editable": false,
    "nbgrader": {
     "cell_type": "code",
     "checksum": "9256664cefaeee7caff75145d833af2a",
     "grade": true,
     "grade_id": "cell-37a3d1bb9b4a4e33",
     "locked": true,
     "points": 2,
     "schema_version": 3,
     "solution": false
    }
   },
   "outputs": [],
   "source": [
    "assert 0.28 < ps[0] < 0.31\n",
    "assert 0.13 < ps[1] < 0.16\n",
    "assert 0.02 < ps[3] < 0.03"
   ]
  },
  {
   "cell_type": "markdown",
   "metadata": {
    "deletable": false,
    "editable": false,
    "nbgrader": {
     "cell_type": "markdown",
     "checksum": "9c8d2de72a94efcb30006d16356ec689",
     "grade": false,
     "grade_id": "cell-9d929d02a1076e52",
     "locked": true,
     "schema_version": 3,
     "solution": false
    }
   },
   "source": [
    "So, based on the above, about how many mice, total, will we need to get the probability of a chance-only finding below 5%?\n",
    "\n",
    "This is related to the concept of \"statistical power\", which we will develop in a future lecture. For now, though, this number gives a rough estimate of how many mice you'd need in an experiment, assuming tha"
   ]
  },
  {
   "cell_type": "markdown",
   "metadata": {
    "deletable": false,
    "nbgrader": {
     "cell_type": "markdown",
     "checksum": "16301ccba83b503dd51e9330d017d2d6",
     "grade": true,
     "grade_id": "cell-39b1018436833e50",
     "locked": false,
     "points": 1,
     "schema_version": 3,
     "solution": true
    }
   },
   "source": [
    "YOUR ANSWER HERE"
   ]
  }
 ],
 "metadata": {
  "anaconda-cloud": {},
  "kernelspec": {
   "display_name": "Python 3",
   "language": "python",
   "name": "python3"
  },
  "language_info": {
   "codemirror_mode": {
    "name": "ipython",
    "version": 3
   },
   "file_extension": ".py",
   "mimetype": "text/x-python",
   "name": "python",
   "nbconvert_exporter": "python",
   "pygments_lexer": "ipython3",
   "version": "3.8.2"
  }
 },
 "nbformat": 4,
 "nbformat_minor": 1
}
