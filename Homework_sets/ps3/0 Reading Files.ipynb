{
    "cells": [
        {
            "cell_type": "code",
            "execution_count": null,
            "metadata": {},
            "outputs": [],
            "source": []
        },
        {
            "cell_type": "markdown",
            "metadata": {
                "deletable": false,
                "editable": false,
                "nbgrader": {
                    "cell_type": "markdown",
                    "checksum": "56639e924661f1f79211a5b78b4b721d",
                    "grade": false,
                    "grade_id": "cell-fd8d417a421a318f",
                    "locked": true,
                    "schema_version": 3,
                    "solution": false
                }
            },
            "source": [
                "# Problem 0: Read data from a file (19 points)\n",
                "\n",
                "In this problem, you'll read in the data from a file of human gene coordinates taken from the GENCODE database. You'll store the four columns of data from the file as four individual lists. \n",
                "\n",
                "To do this homework, make sure `gene_table.txt` and `test_table.txt` are in the same folder as this notebook. (They should already be included in the downloaded ps3 folder.)\n",
                "\n",
                "**The goal of problem 0 is to end up with lists holding gene names, start coordinates, stop coordinates, and number of exons per gene - for the entire GENCODE gene set.** As demonstrated in class, you'll use a `for` loop to read in and process lines from the file, one at a time.\n",
                "\n",
                "In the block of the `for` loop we need code to:\n",
                "\n",
                "1. Strip the trailing newline from each line\n",
                "2. Extract the individual values from the four data columns\n",
                "3. Append those values (as the correct data type) to the corresponding lists\n",
                "\n",
                "\n",
                "### Coding Strategy\n",
                "\n",
                "To successfully write code that carries out multiple steps of data processing, it helps to have a strategy. For this problem, you'll use an inside-out coding strategy. The key idea is that we don't usually write code the way you might write, say, an esaay \u2013 you don't start at the beginning and work through to the end. Instead, we write code best by:\n",
                "\n",
                "1. Breaking the overall task into small steps.\n",
                "2. Write and test individual pieces of code for those small steps, using simple examples\n",
                "3. Assemble the small steps into a larger whole that executes the main task.\n",
                "\n",
                "\n",
                "Refer to the Lecture 3 notes and the lecture activity for code examples as you go along. Some of this problem will feel repetitive, since we worked through nearly identical code in class. This is by design! To solve statistical problems later in the course, it is critical to be comfortable with variables, lists, loops, conditionals, and reading files.\n",
                "\n",
                "One more note: some of you may be aware that there are existing Python packages to read in file data. Later in the course we'll use one or two, associated with numpy and pandas. However, you won't always have files that work nicely with pre-written functions. It is critical to know how to use basic Python syntax to handle file input/output."
            ]
        },
        {
            "cell_type": "markdown",
            "metadata": {
                "deletable": false,
                "editable": false,
                "nbgrader": {
                    "cell_type": "markdown",
                    "checksum": "5acb74cfa0a4705e0ad8efa560730204",
                    "grade": false,
                    "grade_id": "cell-682615744892f171",
                    "locked": true,
                    "schema_version": 3,
                    "solution": false
                }
            },
            "source": [
                "# Problem 0.1: Processing file lines\n",
                "\n",
                "## Processing lines, step 1: Strip trailing newline characters\n",
                "\n",
                "In the cell below, a variable called `line` holds a sample line from a larger file of genomic data. Use the `.strip()` command to remove the trailing newline, and assign the result to a new variable `stripped`."
            ]
        },
        {
            "cell_type": "code",
            "execution_count": null,
            "metadata": {
                "deletable": false,
                "nbgrader": {
                    "cell_type": "code",
                    "checksum": "cd547cf51329602f1368626fe0562f01",
                    "grade": false,
                    "grade_id": "cell-eee46b5146ba6062",
                    "locked": false,
                    "schema_version": 3,
                    "solution": true
                }
            },
            "outputs": [],
            "source": [
                "line = 'chr1\\t33385\\t33445\\tchr1.17\\n' # line of data from a DNaseI bed file in K562 cells\n",
                "\n",
                "# YOUR ANSWER HERE\n",
                "\n",
                "stripped # to display the result in output"
            ]
        },
        {
            "cell_type": "code",
            "execution_count": null,
            "metadata": {
                "deletable": false,
                "editable": false,
                "nbgrader": {
                    "cell_type": "code",
                    "checksum": "98fafa667e03e68415392da2371f56cb",
                    "grade": true,
                    "grade_id": "cell-7af83642f2603bb5",
                    "locked": true,
                    "points": 1,
                    "schema_version": 3,
                    "solution": false
                }
            },
            "outputs": [],
            "source": [
                "assert len(stripped) == 24\n",
                "assert ('\\n' in stripped) == False"
            ]
        },
        {
            "cell_type": "markdown",
            "metadata": {
                "deletable": false,
                "editable": false,
                "nbgrader": {
                    "cell_type": "markdown",
                    "checksum": "339d432147fb63cde3d9c952741bfd2f",
                    "grade": false,
                    "grade_id": "cell-43f901c404e23da1",
                    "locked": true,
                    "schema_version": 3,
                    "solution": false
                }
            },
            "source": [
                "## Processing lines, step 2: Split a line of data into a list of elements\n",
                "\n",
                "The next task is to split the string `stripped` into individual data values. As we saw in class, we do this using the function `.split()`.\n",
                "\n",
                "In genomic data files, columns are sometimes delimited (separated) by tabs, in what are *tab-delimited files*. You may have seen people export Microsoft Excel workbooks as `.csv` files. Csv stands for *comma separated values*. So if you were reading in a .csv file, you'd tell `.split()` to divide the line by commas instead of tabs.\n",
                "\n",
                "The function `.split()` turns a *string* into a *list*, spliting the strings at the whitespace (tabs or spaces), or other delimiter (commas) separating the values. `.split()` will try to guess where to divide up the string if you don't give it any arguments (meaning, leaving the parentheses empty). In some cases where your data might include tabs and spaces or commas, `.split()` could guess wrong. So I recommend always including the delimiter argument when you call `.split()`.\n",
                "\n",
                "NOTE: Delimiter arguments for `.split()` must be strings.\n",
                "\n",
                "In the cell below, I've given you a line that has already been stripped of the newline character. Split this line **by its given delimiter** and save the resulting list as `split`."
            ]
        },
        {
            "cell_type": "code",
            "execution_count": null,
            "metadata": {
                "deletable": false,
                "nbgrader": {
                    "cell_type": "code",
                    "checksum": "1b80cabc95e7246295f98374f7bc625c",
                    "grade": false,
                    "grade_id": "cell-cb977e2240822c61",
                    "locked": false,
                    "schema_version": 3,
                    "solution": true
                }
            },
            "outputs": [],
            "source": [
                "stripped = 'ENST00000511072.1,PRDM16,chr1,16,protein_coding,2985731,364430,365175,653,92'\n",
                "\n",
                "# YOUR ANSWER HERE\n",
                "\n",
                "print(split) # to display the result"
            ]
        },
        {
            "cell_type": "code",
            "execution_count": null,
            "metadata": {
                "deletable": false,
                "editable": false,
                "nbgrader": {
                    "cell_type": "code",
                    "checksum": "0b84820242717d0380eb8a258b107191",
                    "grade": true,
                    "grade_id": "cell-3d0090a14844f78d",
                    "locked": true,
                    "points": 1,
                    "schema_version": 3,
                    "solution": false
                }
            },
            "outputs": [],
            "source": [
                "assert len(split) == 10\n",
                "assert split[6] == '364430'\n",
                "assert split[-6] == 'protein_coding'"
            ]
        },
        {
            "cell_type": "markdown",
            "metadata": {
                "deletable": false,
                "editable": false,
                "nbgrader": {
                    "cell_type": "markdown",
                    "checksum": "3eb2695f0f42fa097a4086c711782b35",
                    "grade": false,
                    "grade_id": "cell-26cd8693e1bc76ec",
                    "locked": true,
                    "schema_version": 3,
                    "solution": false
                }
            },
            "source": [
                "## Processing lines, step 3: Convert numerical data to floats\n",
                "\n",
                "The function `.split()` breaks up a string into a list of individual values, but those values are still strings - even the numbers. (Look at the output of the last problem. How can you tell that the list elements are strings?)\n",
                "\n",
                "To perform calculations on the data, we need to convert numerical elements to either integers (using `int()`) or floating point numbers (using `float()`).\n",
                "\n",
                "In the cell below, the list `split` holds data from one subject in a diabetes study. There are three elements in the list: Category (case or control), age, and fasting blood sugar in mmol/L.\n",
                "\n",
                "Below, define three empty lists called `category`, `age`, and `blood_sugar`. Then take each element of `split`, convert that element to the appropriate data type as needed (integer or float), and append the result to the proper list."
            ]
        },
        {
            "cell_type": "code",
            "execution_count": null,
            "metadata": {
                "deletable": false,
                "nbgrader": {
                    "cell_type": "code",
                    "checksum": "07b2a4015b0c7cbd7e83be533a91a718",
                    "grade": false,
                    "grade_id": "cell-aa148a69f4170e00",
                    "locked": false,
                    "schema_version": 3,
                    "solution": true
                }
            },
            "outputs": [],
            "source": [
                "split = ['case', '64', '5.2'] # category, age, fasting blood sugar\n",
                "\n",
                "# YOUR ANSWER HERE\n",
                "\n",
                "print(\"Category:\", category, \"\\nAge:\", age, \"\\nBlood Sugar:\", blood_sugar)"
            ]
        },
        {
            "cell_type": "code",
            "execution_count": null,
            "metadata": {
                "deletable": false,
                "editable": false,
                "nbgrader": {
                    "cell_type": "code",
                    "checksum": "23c8b06a24efdcc8afbcefe869ee8c9e",
                    "grade": true,
                    "grade_id": "cell-d0c260d970ce666c",
                    "locked": true,
                    "points": 3,
                    "schema_version": 3,
                    "solution": false
                }
            },
            "outputs": [],
            "source": [
                "assert len(category) == 1\n",
                "assert category[0] == 'case'\n",
                "assert age[0] == 64\n",
                "assert type(blood_sugar[0]) == float"
            ]
        },
        {
            "cell_type": "markdown",
            "metadata": {
                "deletable": false,
                "editable": false,
                "nbgrader": {
                    "cell_type": "markdown",
                    "checksum": "662d5c22fc14d8d46206572b6bd49ad6",
                    "grade": false,
                    "grade_id": "cell-aa7c04bd46f42136",
                    "locked": true,
                    "schema_version": 3,
                    "solution": false
                }
            },
            "source": [
                "## A review of how to read lines from files.\n",
                "\n",
                "Now that we've gone over how to process indivdual lines from a file, let's breifly recap the three ways to read in those lines into your notebook.\n",
                "\n",
                "Let's say we opened a file and assigned the file object to the variable name `file`. Here are three ways to read in lines:\n",
                "```python\n",
                "file.readline() # reads just one line\n",
                "file.read() # reads all lines at once\n",
                "\n",
                "for line in file: # reads all file lines, one by one\n",
                "    print(line)\n",
                "```\n",
                "\n",
                "Recall that each time a line from the file is read, Python remembers where it left off, no matter which method you use to read in a file line. Given that, why is the following code wrong?\n",
                "\n",
                "```python\n",
                "file = open('test_table.txt`)\n",
                "\n",
                "for line in file:\n",
                "    line = file.readline()\n",
                "    print(line)\n",
                "```\n",
                "\n",
                "The answer is that the **`for`** loop will read in file lines without any help from functions like `.readline()`. In the above code, one line from the file is read with the command `for line in file:`. Then, *the next line* is read with the command `line = file.readline()`. The above code would therefore only print every other line of a file. Make sure you understand why this code is wrong. If you want to test it out, feel free to create a blank cell below and run the code."
            ]
        },
        {
            "cell_type": "markdown",
            "metadata": {
                "deletable": false,
                "editable": false,
                "nbgrader": {
                    "cell_type": "markdown",
                    "checksum": "bf8e65a2f1cc872524e6256e34dc2329",
                    "grade": false,
                    "grade_id": "cell-ce3a8c6cde316685",
                    "locked": true,
                    "schema_version": 3,
                    "solution": false
                }
            },
            "source": [
                "## Putting the code together to read an entire file\n",
                "\n",
                "Now we put all the code together into something that will read in the entire file `gene_table.txt`. To do this you can type the code *almost* exactly as you typed it above, even using the same variable names `line`, `stripped`, and `split`. The individual steps above should be places within the block of a `for` loop that reads in all the data lines.\n",
                "\n",
                "`gene_table.txt` has four columns of data: gene names, start coordinates, stop coordinates, and the number of exons in the gene. (You can verify this by opening this text file in your jupyter dashboard.)\n",
                "\n",
                "In the cell below, write code to do the following:\n",
                "\n",
                "1. Create empty lists called `names`, `starts`, `stops`, and `exons`. (NOTE the names are plural, a handy convention indicate lists.)\n",
                "2. Open the file. (Refer to lecture 3 notes for the syntax).\n",
                "3. Read in the header line by itself with .readline() **Don't forget this step!** You don't want to mistakenly add the header to your lists of data.\n",
                "4. For each line after the header:\n",
                "    - Strip the trailing newline\n",
                "    - Split the line into individual elements (our file is **tab-delimited**)\n",
                "    - Convert numerical elements to **integers**\n",
                "    - Append data values to their respective lists\n",
                "5. Close the file using the command *file_variable*`.close()` (Fill in whatever variable name you choose for your file.)\n",
                "\n",
                "**A suggestion**: Try your code on the smaller file `test_table.txt` first. When you think it's working, change your answer in the cell below to open the file `gene_table.txt`.\n"
            ]
        },
        {
            "cell_type": "code",
            "execution_count": null,
            "metadata": {
                "deletable": false,
                "nbgrader": {
                    "cell_type": "code",
                    "checksum": "282b5877005af92e6c6855d49253318c",
                    "grade": false,
                    "grade_id": "cell-0c3f8ca08447837b",
                    "locked": false,
                    "schema_version": 3,
                    "solution": true
                }
            },
            "outputs": [],
            "source": [
                "# Create the four blank lists below:\n",
                "\n",
                "# YOUR ANSWER HERE\n",
                "\n",
                "# Open the file. Choose an informative variable name.\n",
                "# I suggest 'file'.\n",
                "\n",
                "# YOUR ANSWER HERE\n",
                "\n",
                "# Use .readline() to first read in just the file header as we did in class\n",
                "# Then write the for loop to read the rest of the lines. In the block of the loop,\n",
                "# include the line processing operations listed above.\n",
                "\n",
                "# YOUR ANSWER HERE\n",
                "\n",
                "# Close the file. If you named your file object 'file', \n",
                "# then you would write file.close()\n",
                "\n",
                "# YOUR ANSWER HERE\n",
                "\n",
                "# Feel free to create a new blank cell below to\n",
                "# test out what's in your lists, to make sure you got the \n",
                "# answer you expect."
            ]
        },
        {
            "cell_type": "code",
            "execution_count": null,
            "metadata": {
                "deletable": false,
                "editable": false,
                "nbgrader": {
                    "cell_type": "code",
                    "checksum": "07b216c2c8d9ec9fee931744fe052256",
                    "grade": true,
                    "grade_id": "cell-a8966be5520f0295",
                    "locked": true,
                    "points": 7,
                    "schema_version": 3,
                    "solution": false
                }
            },
            "outputs": [],
            "source": [
                "assert len(names) == 197782\n",
                "assert type(exons[2873]) == int\n",
                "assert len(stops) == len(names)\n",
                "assert starts[2847] == 26432397"
            ]
        },
        {
            "cell_type": "markdown",
            "metadata": {
                "deletable": false,
                "editable": false,
                "nbgrader": {
                    "cell_type": "markdown",
                    "checksum": "28f6d64c73ee013410a7f07606aca439",
                    "grade": false,
                    "grade_id": "cell-880eba1f746317d9",
                    "locked": true,
                    "schema_version": 3,
                    "solution": false
                }
            },
            "source": [
                "# Problem 0.2: How long are human genes?\n",
                "\n",
                "We opened `gene_table.txt`, read in the data, and closed the file. Our data is now stored in four lists. We can now calculate the lengths of all human genes. \n",
                "\n",
                "The problem is basically like our red/green luciferase assay problem from class. We need to loop over two lists simultaneously, perform a calculation, and append the result to a new list. Using 4 lines of code (or less), we can calculate the lengths of all human genes using basic Python syntax.\n",
                "\n",
                "In the cell below, do the following:\n",
                "\n",
                "1. Loop over the lists `stops` and `starts`, using `zip()` as demonstrated in class.\n",
                "\n",
                "2. In the block of the `for` loop, calculate gene lengths by subtracting each start coordinate from its corresponding stop coordinate. Append the result to a list called `lengths`.\n",
                "\n",
                "\n",
                "Remember to define `lengths` as an empty list before you start your **`for`** loop."
            ]
        },
        {
            "cell_type": "code",
            "execution_count": null,
            "metadata": {
                "deletable": false,
                "nbgrader": {
                    "cell_type": "code",
                    "checksum": "5985ac832e61f56d1052112459483a11",
                    "grade": false,
                    "grade_id": "cell-e269378b3905dbab",
                    "locked": false,
                    "schema_version": 3,
                    "solution": true
                }
            },
            "outputs": [],
            "source": [
                "# YOUR ANSWER HERE"
            ]
        },
        {
            "cell_type": "code",
            "execution_count": null,
            "metadata": {
                "deletable": false,
                "editable": false,
                "nbgrader": {
                    "cell_type": "code",
                    "checksum": "3f21d872ae1e01336f62c722d1893dce",
                    "grade": true,
                    "grade_id": "cell-055b65a3793946a1",
                    "locked": true,
                    "points": 2,
                    "schema_version": 3,
                    "solution": false
                }
            },
            "outputs": [],
            "source": [
                "assert len(lengths) == 197782\n",
                "assert lengths[1827] == 16858\n",
                "assert lengths[53] == 104\n",
                "assert lengths[75] - lengths[20938] == 3273"
            ]
        },
        {
            "cell_type": "markdown",
            "metadata": {
                "deletable": false,
                "editable": false,
                "nbgrader": {
                    "cell_type": "markdown",
                    "checksum": "523d60d9c47f3ec26a7ccc6f9f113e0d",
                    "grade": false,
                    "grade_id": "cell-ebf71d7bf96e5485",
                    "locked": true,
                    "schema_version": 3,
                    "solution": false
                }
            },
            "source": [
                "# Problem 0.3: Calculate the mean length of human genes\n",
                "\n",
                "## Easy summary functions for lists\n",
                "\n",
                "This problem will demonstrate some simple functions that summarize properties of our lists. You've already seen one: `len()`. You could write own length function using the syntax you've learned already. But often there is a built-in Python function that save you the trouble.\n",
                "\n",
                "**These next problems will require a little searching online, or some experimenting to find built-in Python functions that summarize your list in some way.** The functions are actually easy to guess, so I encourage you to just try what you think would be an obvious name for a function. If `len()` is a function to find the length of a list, what would a function for calculating the sum of list elements look like?"
            ]
        },
        {
            "cell_type": "markdown",
            "metadata": {
                "deletable": false,
                "editable": false,
                "nbgrader": {
                    "cell_type": "markdown",
                    "checksum": "0605efb86f0b5a1b11141cb222cfb419",
                    "grade": false,
                    "grade_id": "cell-ce38e0c2d54f7f6c",
                    "locked": true,
                    "schema_version": 3,
                    "solution": false
                }
            },
            "source": [
                "**Summing numbers in a list:** \n",
                "How many total exons are there in the human genome? Find a Python function to **sum** all of the values in the list `exons`. Save the answer to the variable `exons_sum`.\n",
                "\n",
                "NOTE: This isn't quite the correct number of total exons, since there is some redundancy in our table. We downloaded a table of human transcripts, many of which overlap and share the same exons."
            ]
        },
        {
            "cell_type": "code",
            "execution_count": null,
            "metadata": {
                "deletable": false,
                "nbgrader": {
                    "cell_type": "code",
                    "checksum": "bdc06b0eaa0f91eb1d34409884ba5dde",
                    "grade": false,
                    "grade_id": "cell-991e7442c21af8d2",
                    "locked": false,
                    "schema_version": 3,
                    "solution": true
                }
            },
            "outputs": [],
            "source": [
                "# YOUR ANSWER HERE\n",
                "\n",
                "print(exons_sum)"
            ]
        },
        {
            "cell_type": "code",
            "execution_count": null,
            "metadata": {
                "deletable": false,
                "editable": false,
                "nbgrader": {
                    "cell_type": "code",
                    "checksum": "e8e744d325467942f6bb4c630b43c508",
                    "grade": true,
                    "grade_id": "cell-3e91715ecb39432d",
                    "locked": true,
                    "points": 1,
                    "schema_version": 3,
                    "solution": false
                }
            },
            "outputs": [],
            "source": [
                "assert exons_sum == 1230194"
            ]
        },
        {
            "cell_type": "markdown",
            "metadata": {
                "deletable": false,
                "editable": false,
                "nbgrader": {
                    "cell_type": "markdown",
                    "checksum": "cd19bc8241abad3f560cc7b64738d5cf",
                    "grade": false,
                    "grade_id": "cell-0830f5a827720d93",
                    "locked": true,
                    "schema_version": 3,
                    "solution": false
                }
            },
            "source": [
                "**Largest and smallest values in a list:** \n",
                "How long is the longest human gene? How long is the shortest? Find Python functions that will identify the maximum and miminum values in a list, and apply it to your list of human gene lengths. Assign the answers to the variables `longest` and `shortest`."
            ]
        },
        {
            "cell_type": "code",
            "execution_count": null,
            "metadata": {
                "deletable": false,
                "nbgrader": {
                    "cell_type": "code",
                    "checksum": "ac4617ea8e2a1da6305e86130dfcde2c",
                    "grade": false,
                    "grade_id": "cell-f4a208d3e5f7be99",
                    "locked": false,
                    "schema_version": 3,
                    "solution": true
                }
            },
            "outputs": [],
            "source": [
                "# YOUR ANSWER HERE\n",
                "print('longest:', longest, 'shortest:', shortest)"
            ]
        },
        {
            "cell_type": "code",
            "execution_count": null,
            "metadata": {
                "deletable": false,
                "editable": false,
                "nbgrader": {
                    "cell_type": "code",
                    "checksum": "41c4b277922f1a4aa1ca748172a1f2c6",
                    "grade": true,
                    "grade_id": "cell-e4f0e6d3e1528f18",
                    "locked": true,
                    "points": 1,
                    "schema_version": 3,
                    "solution": false
                }
            },
            "outputs": [],
            "source": [
                "assert longest == 2304640\n",
                "assert shortest == 5"
            ]
        },
        {
            "cell_type": "markdown",
            "metadata": {
                "deletable": false,
                "editable": false,
                "nbgrader": {
                    "cell_type": "markdown",
                    "checksum": "bb83f162a592382838259d2949fca270",
                    "grade": false,
                    "grade_id": "cell-a1c8f22f972970ba",
                    "locked": true,
                    "schema_version": 3,
                    "solution": false
                }
            },
            "source": [
                "What is the maximum number of exons in a human gene? Use one of the functions from the last question to answer this. Assign the result to `most_exons`."
            ]
        },
        {
            "cell_type": "code",
            "execution_count": null,
            "metadata": {
                "deletable": false,
                "nbgrader": {
                    "cell_type": "code",
                    "checksum": "901773d9e187554abab345d1f28d3e87",
                    "grade": false,
                    "grade_id": "cell-4be7a5a9e75c235c",
                    "locked": false,
                    "schema_version": 3,
                    "solution": true
                }
            },
            "outputs": [],
            "source": [
                "# YOUR ANSWER HERE\n",
                "\n",
                "print(most_exons) # display the answer"
            ]
        },
        {
            "cell_type": "code",
            "execution_count": null,
            "metadata": {
                "deletable": false,
                "editable": false,
                "nbgrader": {
                    "cell_type": "code",
                    "checksum": "24807b2946ff870d3333e2abc2e59484",
                    "grade": true,
                    "grade_id": "cell-cb1ccb1bbf3dfe2a",
                    "locked": true,
                    "points": 1,
                    "schema_version": 3,
                    "solution": false
                }
            },
            "outputs": [],
            "source": [
                "assert most_exons == 363"
            ]
        },
        {
            "cell_type": "markdown",
            "metadata": {
                "collapsed": true,
                "deletable": false,
                "editable": false,
                "nbgrader": {
                    "cell_type": "markdown",
                    "checksum": "c53beb87a8f7b1a23a8768ac1df71546",
                    "grade": false,
                    "grade_id": "cell-7c64d9e889f0e9fc",
                    "locked": true,
                    "schema_version": 3,
                    "solution": false
                }
            },
            "source": [
                "## Calculate the mean length of human genes\n",
                "\n",
                "To calculate the mean of a set of data, you take the **sum** of those data and divide by the **number** of data points. What two simple list summarizing functions could you use to calculate the mean transcript length of the list `lengths`?\n",
                "\n",
                "In the cell below, use two simple list summarizing functions to calculate the mean length of human genes. (Take the sum of the list `lengths` and divide it by the number of list elements.) Assign your answer to the variable `mean_length`."
            ]
        },
        {
            "cell_type": "code",
            "execution_count": null,
            "metadata": {
                "deletable": false,
                "nbgrader": {
                    "cell_type": "code",
                    "checksum": "bbc770101f071b49b1c5b98bee860b0f",
                    "grade": false,
                    "grade_id": "cell-8ba539bc42fa41dc",
                    "locked": false,
                    "schema_version": 3,
                    "solution": true
                }
            },
            "outputs": [],
            "source": [
                "# YOUR ANSWER HERE\n",
                "\n",
                "print(mean_length)"
            ]
        },
        {
            "cell_type": "code",
            "execution_count": null,
            "metadata": {
                "deletable": false,
                "editable": false,
                "nbgrader": {
                    "cell_type": "code",
                    "checksum": "ad1736bd8ab640a2c0bde20475ad429b",
                    "grade": true,
                    "grade_id": "cell-f451f8835fcd891e",
                    "locked": true,
                    "points": 2,
                    "schema_version": 3,
                    "solution": false
                }
            },
            "outputs": [],
            "source": [
                "assert 34491.72 < mean_length < 34491.73"
            ]
        }
    ],
    "metadata": {
        "language_info": {
            "codemirror_mode": {
                "name": "ipython",
                "version": 3
            },
            "file_extension": ".py",
            "mimetype": "text/x-python",
            "name": "python",
            "nbconvert_exporter": "python",
            "pygments_lexer": "ipython3",
            "version": "3.8.3"
        }
    },
    "nbformat": 4,
    "nbformat_minor": 2
}