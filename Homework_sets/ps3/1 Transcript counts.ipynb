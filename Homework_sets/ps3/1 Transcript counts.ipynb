{
    "cells": [
        {
            "cell_type": "markdown",
            "metadata": {
                "deletable": false,
                "editable": false,
                "nbgrader": {
                    "cell_type": "markdown",
                    "checksum": "1452a9c21204b0a86b6a3e97964a6c6c",
                    "grade": false,
                    "grade_id": "cell-20a75362441476e2",
                    "locked": true,
                    "schema_version": 3,
                    "solution": false
                }
            },
            "source": [
                "# Problem 1: Counting transcript types\n",
                "\n",
                "In this problem, you'll use read in data from a file and use dictionaries to work with the data. You're also going to learn how to *write* your results to a file. Make sure you have the file `enriched.txt` in the same folder where you keep this in-class activity notebook. (This file should already be in the ps3 folder when you download it.)\n",
                "\n",
                "This problem is similar to the Gene Ontology dictionary problem from problem set 2. You'll apply the same core idea, but you'll read in the data to a file and write some results to a new file."
            ]
        },
        {
            "cell_type": "markdown",
            "metadata": {
                "deletable": false,
                "editable": false,
                "nbgrader": {
                    "cell_type": "markdown",
                    "checksum": "2a9fcb4273d5b9d6ed4781382deeaad3",
                    "grade": false,
                    "grade_id": "cell-9fd506944837c775",
                    "locked": true,
                    "schema_version": 3,
                    "solution": false
                }
            },
            "source": [
                "## Tracking counts of transcript types with a dictionary\n",
                "\n",
                "For this exercise, your data is a list of transcripts whose expression changed during an experiment. As a first pass analysis, your goal is to see what kinds of transcripts were affected (miRNA's, protein coding genes, lncRNAs, etc). You're not going to perform a rigorous statistical analysis of enrichment at this point \u2013 you're just going to use your Python skills to summarize one aspect of the data.\n",
                "\n",
                "Your task is to:\n",
                "\n",
                "1. Open the file 'enriched.txt'\n",
                "2. Read the file line by line and count the occurrences of each transcript type.\n",
                "3. Close the file and write the results, in alphabetical order, to an output file.\n",
                "\n",
                "To keep track of the counts for each type of transcript, you'll use a dictionary. In this dictionary, the *keys* will be the transcript types, and the *value* will be the number of times that type of transcript occurred in the data. \n",
                "\n",
                "Remember from the lecture 3 activity and homework problem 0 what the general steps are for reading in data from a file:\n",
                "\n",
                "**Step 1:** Open the file.\n",
                "\n",
                "**Step 2:** Read in the header line by itself with `readline()`.\n",
                "\n",
                "**Step 3:** Use a `for` loop to read and process the rest of the lines, *stripping* trailing newlines and *splitting* each line into a list of data elements.\n",
                "\n",
                "**Step 4:** Do something with the data elements - such as assigning them to lists.\n",
                "\n",
                "Steps 1, 2, and 3 are generally the same any time you work with file data. **Step 4** changes depending on the kind of analysis you want to do. In this case, **step 4** is to keep a running total of transcript types. You'll work through this in the cells below. "
            ]
        },
        {
            "cell_type": "markdown",
            "metadata": {
                "deletable": false,
                "editable": false,
                "nbgrader": {
                    "cell_type": "markdown",
                    "checksum": "9f494eb05132cbcc113a77093ea0b50c",
                    "grade": false,
                    "grade_id": "cell-104e7ad1a9774c2b",
                    "locked": true,
                    "schema_version": 3,
                    "solution": false
                }
            },
            "source": [
                "### Warmup problem: Running counts and adding entries to a dictionary on the fly\n",
                "\n",
                "Let's use a small dataset to write our code to keep track of counts with a dictionary. Run the cell below to create the list `transcripts`. "
            ]
        },
        {
            "cell_type": "code",
            "execution_count": null,
            "metadata": {},
            "outputs": [],
            "source": [
                "transcripts = ['protein_coding', 'miRNA', 'protein_coding', 'miRNA', 'snRNA', 'protein_coding']"
            ]
        },
        {
            "cell_type": "markdown",
            "metadata": {
                "deletable": false,
                "editable": false,
                "nbgrader": {
                    "cell_type": "markdown",
                    "checksum": "3bf1a2428e8276f3a3a4f899898037c7",
                    "grade": false,
                    "grade_id": "cell-3de94ef7af095753",
                    "locked": true,
                    "schema_version": 3,
                    "solution": false
                }
            },
            "source": [
                "Next we need to create a dictionary to hold the counts of each type of transcript. We could create a dictionary that began with counts of 0 for each transcript type like this:\n",
                "\n",
                "```python\n",
                "t_types = {'protein_coding':0, 'miRNA':0, 'snRNA':0}\n",
                "```\n",
                "\n",
                "We would then increment the counts by one each time we saw that type:\n",
                "\n",
                "```python\n",
                "t_types['miRNA'] += 1 # the += adds the value to the right to the variable on the left\n",
                "```\n",
                "\n",
                "But it's tedious to write out all of the dictionary entries in advance. Also, what if you encounter a transcript type that's not already in your dictionary? \n",
                "\n",
                "**Recap from problem set 2, problem 1 (Gene Ontology Dictionary):**\n",
                "\n",
                "A better way is to define an empty dictionary, and then add new entries as you encounter them. For this, we can use the key words `in` and `not in` to check if an entry is already in the dictionary. Below is a simple example of code that checks to see if a dictionary entry exists. If the entry *doesn't* exist, one is created. If the entry does exist, the code increments the count by 1:\n",
                "\n",
                "```python\n",
                "### Counting coin tosses\n",
                "\n",
                "coin_tosses = {} # empty dictionary\n",
                "toss = 'heads' # the data\n",
                "\n",
                "if toss not in coin_tosses:\n",
                "    coin_tosses[toss] = 1 # create a new entry and set value to 1\n",
                "else:\n",
                "    coin_tosses[toss] += 1 # increment existing entry\n",
                "```\n",
                "\n",
                "Below, apply the logic of the coin toss example to write code to count transcripts. Write the code to do the following:\n",
                "\n",
                "1. Create a empty dictionary called `transcript_counts`.\n",
                "2. Use a `for` loop to iterate over the list `transcripts`, which we created above.\n",
                "3. In the block of the `for` loop, add new transcript types to the dictionary as they come up, and increment the count of types that are already in the dictionary.\n",
                "\n",
                "Use `print()` to see the results."
            ]
        },
        {
            "cell_type": "code",
            "execution_count": null,
            "metadata": {
                "deletable": false,
                "nbgrader": {
                    "cell_type": "code",
                    "checksum": "c01fb3c9feb81f497b57bb39a7048d9d",
                    "grade": false,
                    "grade_id": "cell-19e773a0b6009e92",
                    "locked": false,
                    "schema_version": 3,
                    "solution": true
                }
            },
            "outputs": [],
            "source": [
                "# YOUR ANSWER HERE\n",
                "\n",
                "print(transcript_counts)"
            ]
        },
        {
            "cell_type": "code",
            "execution_count": null,
            "metadata": {
                "deletable": false,
                "editable": false,
                "nbgrader": {
                    "cell_type": "code",
                    "checksum": "dcafe8b85242175f8e5affd9834b14df",
                    "grade": true,
                    "grade_id": "cell-4782ac44b5793169",
                    "locked": true,
                    "points": 3,
                    "schema_version": 3,
                    "solution": false
                }
            },
            "outputs": [],
            "source": [
                "assert len(transcript_counts) == 3\n",
                "assert transcript_counts['miRNA'] == 2"
            ]
        },
        {
            "cell_type": "markdown",
            "metadata": {
                "deletable": false,
                "editable": false,
                "nbgrader": {
                    "cell_type": "markdown",
                    "checksum": "3be28c5d3b2441e1fb3f40f48d69b480",
                    "grade": false,
                    "grade_id": "cell-9e65d0ecb7a67098",
                    "locked": true,
                    "schema_version": 3,
                    "solution": false
                }
            },
            "source": [
                "To solve the main problem, you'll essentially run that same `for` loop on the data in the `enriched.txt` file.\n",
                "\n",
                "### Steps 1 & 2: Open the file `enriched.txt` and examine the header line\n",
                "\n",
                "Run the cell to open the file and read in the first line (the header line). You don't need to assign this line to a variable, but use `print()` to look at it. In which data column are the transcript (i.e., gene) types? If the header elements were in a list, what index number would you need to access `geneType`?\n",
                "\n",
                "(Note you can also learn what the different columns are by opening the text file from the jupyter dashboard.)"
            ]
        },
        {
            "cell_type": "code",
            "execution_count": null,
            "metadata": {},
            "outputs": [],
            "source": [
                "# run this cell and examine the output\n",
                "\n",
                "file = open('enriched.txt')\n",
                "print(file.readline())"
            ]
        },
        {
            "cell_type": "markdown",
            "metadata": {
                "deletable": false,
                "editable": false,
                "nbgrader": {
                    "cell_type": "markdown",
                    "checksum": "040785482c95d8c5791cd4413ece8715",
                    "grade": false,
                    "grade_id": "cell-dbedb9ae6e26d131",
                    "locked": true,
                    "schema_version": 3,
                    "solution": false
                }
            },
            "source": [
                "### Steps 3 & 4: Define an empty dictionary, loop over each line of the file, count transcripts\n",
                "\n",
                "Now your task is to read in the file data and create a dictionary of transcript type counts, just as you did above.\n",
                "\n",
                "In the cell below, define an empty dictionary called `transcript_counts`. Then write a `for` loop to read in the rest of the file lines from `enriched.txt`. Each line should be stripped of the trailing newline and split into individual data elements.\n",
                "\n",
                "Once you've processed the line, use the `if`...`else` that code you wrote above to add a count for the appropriate transcript type in the dictionary `transcript_counts`.\n",
                "\n",
                "**HINT:** In the block of the **`for`** loop, after using `.split()`, you will have a list of elements. Which list element holds the transcript type?\n",
                "\n",
                "**NOTE:** Feel free to look at your code from the lecture activity to review how to process file lines. But don't just copy and paste the code \u2013 *type* it out. Physically typing code is crucial for becoming fluent in any programming language."
            ]
        },
        {
            "cell_type": "code",
            "execution_count": null,
            "metadata": {
                "deletable": false,
                "nbgrader": {
                    "cell_type": "code",
                    "checksum": "c862004c879b4a996a9d252215063ad6",
                    "grade": false,
                    "grade_id": "cell-d6164f71df81a39c",
                    "locked": false,
                    "schema_version": 3,
                    "solution": true
                }
            },
            "outputs": [],
            "source": [
                "# YOUR ANSWER HERE\n",
                "\n",
                "print(transcript_counts) "
            ]
        },
        {
            "cell_type": "code",
            "execution_count": null,
            "metadata": {
                "deletable": false,
                "editable": false,
                "nbgrader": {
                    "cell_type": "code",
                    "checksum": "d403f099d83973c07a28134ff5e1ec05",
                    "grade": true,
                    "grade_id": "cell-3e1cd08247405986",
                    "locked": true,
                    "points": 4,
                    "schema_version": 3,
                    "solution": false
                }
            },
            "outputs": [],
            "source": [
                "# Run the cell below to check your answers\n",
                "\n",
                "assert transcript_counts['protein_coding'] == 15021\n",
                "assert transcript_counts['snoRNA'] == 241\n",
                "assert transcript_counts['non_coding'] == 2\n",
                "assert transcript_counts['polymorphic_pseudogene'] == 38"
            ]
        },
        {
            "cell_type": "markdown",
            "metadata": {
                "deletable": false,
                "editable": false,
                "nbgrader": {
                    "cell_type": "markdown",
                    "checksum": "e360381ec8dfb56ccb3f2450ce76b4c1",
                    "grade": false,
                    "grade_id": "cell-4ceb0ac7a9803795",
                    "locked": true,
                    "schema_version": 3,
                    "solution": false,
                    "task": false
                }
            },
            "source": [
                "### Step 5: Write the results to a file.\n",
                "\n",
                "Now that you've counted transcript types, how do you save the results in a file that you can return to later? \n",
                "\n",
                "The first step is to open a new file that you can *write* to. The syntax will be mostly familiar:\n",
                "\n",
                "```python\n",
                "output = open('transcript.counts.txt','w') # 'w' makes the file writeable.\n",
                "```\n",
                "\n",
                "Next, you write lines to the file as strings, like this:\n",
                "\n",
                "```python\n",
                "# Notice that line end with a newline! .write() doesn't add one automatically.\n",
                "line = 'protein_coding 15021\\n' \n",
                "output.write(line)\n",
                "```\n",
                "\n",
                "We write *strings* to files. But the counts in our dictionary are integers. In fact we want to print a mix of strings (the transcript type) and integers (the counts). Unlike `print()`, `.write()` can't handle this, unfortunately, as in this example:\n",
                "\n",
                "```python\n",
                "# key is the variable holding the dictionary key (a string).\n",
                "print(key, transcript_counts[key], \"\\n\") # works fine.\n",
                "output.write(key, transcript_counts[key], \"\\n\") # GIVES ERROR\n",
                "```\n",
                "\n",
                "So how would you combine the dictionary key (a string), the counts (an integer), and a newline (another string) into a single string (with a tab between the key and the counts)? You'll want a string that looks like this:\n",
                "\n",
                "```python\n",
                "'protein_coding\\t15021\\n`\n",
                "```\n",
                "\n",
                "Try to figure out how to do this in the cell below. Do the following:\n",
                "\n",
                "1. Open a writeable file called `transcript.counts.txt`.\n",
                "2. Loop over the transcript types in the dictionary *in alphabetical order*. (Use `sorted(my_dictionary.keys())`.) Write both the key (e.g., the transcript type) and the value (the counts) to the file.\n",
                "3. Close both the input and output files using `.close()`. \n",
                "\n",
                "**HINT:** To create output strings from the dictionary data, try using string conversion (`str()`) and string concatenation (`+`) to link the key and the value. Another option is the `.join()` method, which we'll illustrate later in the class."
            ]
        },
        {
            "cell_type": "code",
            "execution_count": null,
            "metadata": {
                "deletable": false,
                "nbgrader": {
                    "cell_type": "code",
                    "checksum": "842f9efc493c44821ddfcb093dd73401",
                    "grade": true,
                    "grade_id": "cell-5ba45f89f9c19fb1",
                    "locked": false,
                    "points": 1,
                    "schema_version": 3,
                    "solution": true,
                    "task": false
                }
            },
            "outputs": [],
            "source": [
                "# Output file\n",
                "output = open('transcript.counts.txt','w')\n",
                "\n",
                "# For loop writing the dictionary to file:\n",
                "# YOUR ANSWER HERE\n",
                "output.close()\n",
                "file.close()"
            ]
        },
        {
            "cell_type": "markdown",
            "metadata": {
                "deletable": false,
                "editable": false,
                "nbgrader": {
                    "cell_type": "markdown",
                    "checksum": "b0d57f334e9276e7ca06a1d0e46eecc1",
                    "grade": false,
                    "grade_id": "cell-35554f7dd59595c7",
                    "locked": true,
                    "schema_version": 3,
                    "solution": false,
                    "task": false
                }
            },
            "source": [
                "Open your `transcript.counts.txt` to see how it looks. If you don't like the result, try again. You don't have to delete the file \u2013 `open('transcript.counts.txt','w')` will overwrite the old one."
            ]
        }
    ],
    "metadata": {
        "language_info": {
            "codemirror_mode": {
                "name": "ipython",
                "version": 3
            },
            "file_extension": ".py",
            "mimetype": "text/x-python",
            "name": "python",
            "nbconvert_exporter": "python",
            "pygments_lexer": "ipython3",
            "version": "3.8.3"
        }
    },
    "nbformat": 4,
    "nbformat_minor": 2
}