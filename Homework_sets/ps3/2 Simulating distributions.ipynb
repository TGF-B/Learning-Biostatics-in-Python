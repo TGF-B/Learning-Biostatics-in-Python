{
    "cells": [
        {
            "cell_type": "markdown",
            "metadata": {
                "deletable": false,
                "editable": false,
                "nbgrader": {
                    "cell_type": "markdown",
                    "checksum": "76de4fb4782713a78b97ff90603f5057",
                    "grade": false,
                    "grade_id": "cell-47947bf339b8e0ab",
                    "locked": true,
                    "schema_version": 3,
                    "solution": false,
                    "task": false
                }
            },
            "source": [
                "# Problem 2: Writing functions to simulate coin tosses\n",
                "\n",
                "In the second half of this course, we'll spend a lot of time doing statistics by simulation. In this problem you'll apply Python syntax for functions and loops to run two simple simulations of coing tosses. In these simulations we consider a fair coin (probability of heads = 0.5). In the language of probability, each toss is a 'trial' and we consider 'heads' a success.\n",
                "\n",
                "You'll simulate the distributions that answer two questions:\n",
                "\n",
                "1. How many heads do you expect with n coin tosses?\n",
                "\n",
                "2. How many coin tosses does it take before seeing heads for the first time?\n",
                "\n",
                "If you've taken a probability course, you may know how to answer these questions mathematically. In this problem, we're just going to simulate the results and look at how the two distributions differ.\n",
                "\n",
                "## 2.1: A function to simulate n coin tosses\n",
                "\n",
                "In the cell below, write a function called `total_successes()` to simulate n coin tosses. \n",
                "\n",
                "1. The function should take one argument, the number of tosses (which you can call n). \n",
                "2. Give n a default value of 10.\n",
                "3. The function should return the total number of heads obtained.\n",
                "\n",
                "Hint: Use a for loop to execute the coin-toss code n number of times and keep track of each iteration that results in heads.\n",
                "\n",
                "Once you define your function, test it out a few times to make sure it's giving you reasonable answer.\n",
                "\n",
                "### Simulating the coin toss:\n",
                "Obviously there is no actual coin involved here. Use the random number generator function `random.random()` to generate a number between 0 and 1. (We discussed the `random` module in the lecture.) If the random number is greater than 0.5, consider the outcome heads."
            ]
        },
        {
            "cell_type": "code",
            "execution_count": null,
            "metadata": {
                "deletable": false,
                "nbgrader": {
                    "cell_type": "code",
                    "checksum": "6885ce6ed6bce8c21003d20cd3d60dd5",
                    "grade": false,
                    "grade_id": "cell-284d491be1b4c841",
                    "locked": false,
                    "schema_version": 3,
                    "solution": true,
                    "task": false
                }
            },
            "outputs": [],
            "source": [
                "import random\n",
                "\n",
                "# Write the function below\n",
                "# YOUR ANSWER HERE"
            ]
        },
        {
            "cell_type": "code",
            "execution_count": null,
            "metadata": {
                "deletable": false,
                "editable": false,
                "nbgrader": {
                    "cell_type": "code",
                    "checksum": "3ccf817b29261e6ac1c2e064124742fc",
                    "grade": true,
                    "grade_id": "cell-4d88246321af6655",
                    "locked": true,
                    "points": 3,
                    "schema_version": 3,
                    "solution": false,
                    "task": false
                }
            },
            "outputs": [],
            "source": [
                "assert total_successes(10) < 11"
            ]
        },
        {
            "cell_type": "code",
            "execution_count": null,
            "metadata": {},
            "outputs": [],
            "source": [
                "# Try out your function here\n"
            ]
        },
        {
            "cell_type": "markdown",
            "metadata": {
                "deletable": false,
                "editable": false,
                "nbgrader": {
                    "cell_type": "markdown",
                    "checksum": "53d71e4e08dc943201789318a924133b",
                    "grade": false,
                    "grade_id": "cell-8d24a1aa92bde54f",
                    "locked": true,
                    "schema_version": 3,
                    "solution": false,
                    "task": false
                }
            },
            "source": [
                "## 2.2 A function to simulate number of tosses until first success\n",
                "\n",
                "Now write a function called `first_success()` to simulate the number of coin tosses it takes before seeing heads for the first time. Use the same random number approach to simulate coin tosses.\n",
                "\n",
                "This function needs to keep tossing the coin until heads shows up. One way to do this is to use a different type of loop control, called a `while` loop. A `while` loop is a mix of `if` and `for`: `while` evaluates whether a statement is true or false, and runs the next loop iteration as long as the condition is true.\n",
                "\n",
                "Here's a comparison of `if` and `while`:\n",
                "\n",
                "```python\n",
                "if x < 10:\n",
                "    # execute the code in this block once\n",
                "    \n",
                "while x < 10:\n",
                "    # execute the code, repeat the loop if the condition is still true\n",
                "```    \n",
                "\n",
                "Another way to think about `while` is this: `for` runs a loop for a fixed number of times, and `while` runs a loop for an unspecified number of times - it just keeps going until a truth condition fails.\n",
                "\n",
                "In the cell below is an exmple of the syntax:"
            ]
        },
        {
            "cell_type": "code",
            "execution_count": null,
            "metadata": {},
            "outputs": [],
            "source": [
                "# Count to 10\n",
                "x = 0\n",
                "while x <10: # loop will keep running as long as this boolean condition is True\n",
                "    x += 1\n",
                "    print(x)"
            ]
        },
        {
            "cell_type": "markdown",
            "metadata": {
                "deletable": false,
                "editable": false,
                "nbgrader": {
                    "cell_type": "markdown",
                    "checksum": "c74dae5b4f2e1887ccf7e0092cb63539",
                    "grade": false,
                    "grade_id": "cell-90f4df1927cd345b",
                    "locked": true,
                    "schema_version": 3,
                    "solution": false,
                    "task": false
                }
            },
            "source": [
                "In the cell below, write the function `first_success()` to simulate tossing a coin until the first success.\n",
                "\n",
                "1. The function takes no arguments (parentheses are empty). (Make sure you understand why no arguments are needed.\n",
                "\n",
                "\n",
                "2. The function should return the number of tosses it takes to first see heads. (This total should include the toss that came up heads.)\n",
                "\n",
                "\n",
                "3. Use `random.random()` to simulate the coin toss, as before.\n",
                "\n",
                "\n",
                "4. Use a `while` loop to keep tossing until a toss comes up heads.\n",
                "\n",
                "Test out your function and make sure it gives you reasonable answers."
            ]
        },
        {
            "cell_type": "code",
            "execution_count": null,
            "metadata": {
                "deletable": false,
                "nbgrader": {
                    "cell_type": "code",
                    "checksum": "22740a0c7d2455e8df71aa0d38ee71b7",
                    "grade": false,
                    "grade_id": "cell-77bd0433813ef8a3",
                    "locked": false,
                    "schema_version": 3,
                    "solution": true,
                    "task": false
                }
            },
            "outputs": [],
            "source": [
                "# Write your function below\n",
                "\n",
                "# YOUR ANSWER HERE"
            ]
        },
        {
            "cell_type": "code",
            "execution_count": null,
            "metadata": {
                "deletable": false,
                "editable": false,
                "nbgrader": {
                    "cell_type": "code",
                    "checksum": "a7967d925ec1a02be9d1b8b0f7f1262b",
                    "grade": true,
                    "grade_id": "cell-700e3dc8313626df",
                    "locked": true,
                    "points": 3,
                    "schema_version": 3,
                    "solution": false,
                    "task": false
                }
            },
            "outputs": [],
            "source": [
                "assert first_success() > 0"
            ]
        },
        {
            "cell_type": "code",
            "execution_count": null,
            "metadata": {},
            "outputs": [],
            "source": [
                "# Test out your function here"
            ]
        },
        {
            "cell_type": "markdown",
            "metadata": {
                "deletable": false,
                "editable": false,
                "nbgrader": {
                    "cell_type": "markdown",
                    "checksum": "4b483b27b38978470f23e20c59bb21c3",
                    "grade": false,
                    "grade_id": "cell-0f09b7b5f984e126",
                    "locked": true,
                    "schema_version": 3,
                    "solution": false,
                    "task": false
                }
            },
            "source": [
                "## 2.3 Use functions to simulate coin toss distributions\n",
                "\n",
                "The two functions each simulate one set of trials. Your first function tells you how many heads were in one set of n coin tosses. But what is the distribution of outcomes if you repeated the n tosses many times?\n",
                "\n",
                "To simulate probability distributions using our functions,you will run for loops to call the functions 100,000 times. As the loop runs, you keep track of the outcome of that iteration using a list. Then you can plost the distribution of 100,000 outcomes stored in the list.\n",
                "\n",
                "In the cell below, do the following:\n",
                "\n",
                "1. Write a `for` loop that calls `total_successes()` 100,000 times, using 10 for the arguement n. Each time through the loop, append the result to the list `totals`.\n",
                "\n",
                "3. Write a `for` loop that calls `first_success()` 100,000 times. Each time through the loop, append the result to the list `firsts`."
            ]
        },
        {
            "cell_type": "code",
            "execution_count": null,
            "metadata": {
                "deletable": false,
                "nbgrader": {
                    "cell_type": "code",
                    "checksum": "099af07760bff62f67800ac7b4e9a782",
                    "grade": false,
                    "grade_id": "cell-570e4745fca60e9a",
                    "locked": false,
                    "schema_version": 3,
                    "solution": true,
                    "task": false
                }
            },
            "outputs": [],
            "source": [
                "# Create lists to hold the outcomes\n",
                "totals = []\n",
                "firsts = []\n",
                "\n",
                "# Call total_successes 100,000 times\n",
                "# YOUR ANSWER HERE\n",
                "\n",
                "# Call first_success 100,000 times\n",
                "# YOUR ANSWER HERE\n",
                "\n",
                "print(max(totals), min(totals)) # make sure lists are the right size"
            ]
        },
        {
            "cell_type": "code",
            "execution_count": null,
            "metadata": {
                "deletable": false,
                "editable": false,
                "nbgrader": {
                    "cell_type": "code",
                    "checksum": "d7cbb1fe768e16a67f550777132bed90",
                    "grade": true,
                    "grade_id": "cell-e551fe8c7f174096",
                    "locked": true,
                    "points": 4,
                    "schema_version": 3,
                    "solution": false,
                    "task": false
                }
            },
            "outputs": [],
            "source": [
                "assert max(totals) > 6\n",
                "assert min(totals) < 2\n",
                "assert len(totals) == 100000\n",
                "assert len(firsts) == 100000\n",
                "assert max(firsts) < 35\n",
                "assert max(firsts) > 8\n",
                "assert min(firsts) == 1"
            ]
        },
        {
            "cell_type": "markdown",
            "metadata": {
                "deletable": false,
                "editable": false,
                "nbgrader": {
                    "cell_type": "markdown",
                    "checksum": "f4a3b3b5d28699b6efda29dd49e57470",
                    "grade": false,
                    "grade_id": "cell-e3a9f4af81cd0ec0",
                    "locked": true,
                    "schema_version": 3,
                    "solution": false,
                    "task": false
                }
            },
            "source": [
                "## Visualizing the distributions\n",
                "Run the cell below to plot the two distributions. (We'll cover plot syntax in a later lecture.)  Note their different shapes. If you've taken a probability course, you might recognize that we've simulated the binomial (number of successes in n trials) and the geometric (number of trials to first success) distributions."
            ]
        },
        {
            "cell_type": "code",
            "execution_count": null,
            "metadata": {},
            "outputs": [],
            "source": [
                "%matplotlib inline\n",
                "import matplotlib.pyplot as plt\n",
                "plt.style.use('ggplot')\n",
                "plt.rcParams['figure.figsize'] = [12, 4]\n",
                "\n",
                "bins = [0,1,2,3,4,5,6,7,8,9,10,12,14,16]\n",
                "hist_data = plt.hist(firsts, bins=bins, density=True, label='Tosses to first success')\n",
                "#plt.axvline(gg_mean, color='orange', label='GG mean')\n",
                "bin_edges = hist_data[1]\n",
                "hist_data = plt.hist(totals, bins=bin_edges, density=True, alpha=0.5, label='Total successes')\n",
                "#plt.axvline(aa_mean, color='blue', label='AA mean')\n",
                "legend = plt.legend()"
            ]
        },
        {
            "cell_type": "code",
            "execution_count": null,
            "metadata": {},
            "outputs": [],
            "source": []
        }
    ],
    "metadata": {
        "language_info": {
            "codemirror_mode": {
                "name": "ipython",
                "version": 3
            },
            "file_extension": ".py",
            "mimetype": "text/x-python",
            "name": "python",
            "nbconvert_exporter": "python",
            "pygments_lexer": "ipython3",
            "version": "3.8.3"
        }
    },
    "nbformat": 4,
    "nbformat_minor": 4
}