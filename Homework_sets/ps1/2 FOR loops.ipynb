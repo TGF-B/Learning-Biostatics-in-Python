{
    "cells": [
        {
            "cell_type": "markdown",
            "metadata": {
                "deletable": false,
                "editable": false,
                "nbgrader": {
                    "cell_type": "markdown",
                    "checksum": "d4ebe1be621318e697cac93c6ee095bc",
                    "grade": false,
                    "grade_id": "cell-beea49634072ef47",
                    "locked": true,
                    "schema_version": 3,
                    "solution": false
                }
            },
            "source": [
                "# Problem 2: Running a FOR loop over two lists at the same time (3 points)\n",
                "\n",
                "During today's class activity, you worked two lists of reporter gene data (the red and green channels). You normalized the red measurements by the *mean* of the green measurements. But a more typical practice is to normalize each measurement (red channel) by its own corresponding control measurement (green channel).\n",
                "\n",
                "So how do you write a FOR loop to take each red measurement and divide it by its corresponding green measurement? To do this, you need to know how to run a FOR loop over two or more lists at the same time. This skill will be critical in this class. You'll learn how to do that in this problem.\n",
                "\n",
                "## The `range()` function\n",
                "\n",
                "To solve our problem, we need to learn about `range()`, one of the most useful Python functions. It does a simple thing - generate a range of numbers. Here's the syntax:\n",
                "\n",
                "```python\n",
                "range(0,10) # generate numbers 0-9 (The 10 works like slices in lists: the last number in the range plus 1\n",
                "range(10) # same thing - default is to start from 0\n",
                "range(2,10) # generate numbers 2-9\n",
                "range(0,11, 2) # count by twos - 0, 2, 4, 6, 8, 10\n",
                "```\n",
                "\n",
                "The `range()` function by itself doesn't do much though. Run one of the expressions in the cell below. What happens?"
            ]
        },
        {
            "cell_type": "code",
            "execution_count": null,
            "metadata": {},
            "outputs": [],
            "source": [
                "# Try one of the expressions above. This is a scratch cell and is not graded.\n"
            ]
        },
        {
            "cell_type": "markdown",
            "metadata": {
                "deletable": false,
                "editable": false,
                "nbgrader": {
                    "cell_type": "markdown",
                    "checksum": "a1b378b7ca3cee9d462fac139d306afa",
                    "grade": false,
                    "grade_id": "cell-80165efa34970d1f",
                    "locked": true,
                    "schema_version": 3,
                    "solution": false
                }
            },
            "source": [
                "## Using `range()` in a `for` loop\n",
                "\n",
                "Nothing visibly happens when you call `range()`. However, it creates an object that you can iterate over with a `for` loop. In a `for` loop, you can use range in place of a list. In the cell below, write a `for` expression that uses `range(10)` in place of a list. Inside the block of the `for` loop, print the loop temporary variable (call it `i`). The loop should print the numbers 0-9, each on its own line."
            ]
        },
        {
            "cell_type": "code",
            "execution_count": null,
            "metadata": {},
            "outputs": [],
            "source": [
                "# This cell is not graded.\n"
            ]
        },
        {
            "cell_type": "markdown",
            "metadata": {
                "deletable": false,
                "editable": false,
                "nbgrader": {
                    "cell_type": "markdown",
                    "checksum": "5d26804bec588b4708b6e048f789f611",
                    "grade": false,
                    "grade_id": "cell-28e95bf2992bc852",
                    "locked": true,
                    "schema_version": 3,
                    "solution": false
                }
            },
            "source": [
                "## Using `range()` to create list index values in a for loop\n",
                "\n",
                "Running a `for` loop over a range call produces a series of numbers in order. You can use those numbers as position indices for a list. In the cell below there is a list `data` comprised of 4 data points. Write a `for` loop to print out each of those data values, but instead of the list in your `for` expression, use `range()` with the appropriate number between the parentheses.\n",
                "\n",
                "Inside the block of the `for` loop (the indented part), use the numbers generated by `range()` as list indices. For example, you can write: `print(data[i])` to print out the data point at position `i` in the list.\n",
                "\n",
                "Once you've solved this problem, it should become clear how to run a `for` loop over more than one list at once."
            ]
        },
        {
            "cell_type": "code",
            "execution_count": null,
            "metadata": {},
            "outputs": [],
            "source": [
                "# This cell is not graded.\n",
                "data = [2.1, 3.8, 1.9, 3.4]\n"
            ]
        },
        {
            "cell_type": "markdown",
            "metadata": {
                "deletable": false,
                "editable": false,
                "nbgrader": {
                    "cell_type": "markdown",
                    "checksum": "4b98ad3537794fd05525d47114ef5019",
                    "grade": false,
                    "grade_id": "cell-5857503f07ca7df7",
                    "locked": true,
                    "schema_version": 3,
                    "solution": false
                }
            },
            "source": [
                "We need to put one last piece in place. In your `for` loop above, you should have used `range(4)` as part of your `for` loop statement, since the list to iterate over had 4 items. But what if you have a list with 10 items, or 10,000 items - or a list that could have different numbers of items each time you run your code? \n",
                "\n",
                "Rather than write code that is specific for one particular list, we'll use a more flexible expression. In class we learned about the `len()` function that returns the number of items in a list.\n",
                "\n",
                "In the cell below, rewrite your `for` loop above to use `range()` with `len()` to iterate over the list `data` and print out each data point."
            ]
        },
        {
            "cell_type": "code",
            "execution_count": null,
            "metadata": {},
            "outputs": [],
            "source": [
                "# This cell is not graded.\n"
            ]
        },
        {
            "cell_type": "markdown",
            "metadata": {
                "deletable": false,
                "editable": false,
                "nbgrader": {
                    "cell_type": "markdown",
                    "checksum": "338867918d6b068a86a617068c550ede",
                    "grade": false,
                    "grade_id": "cell-a655ceabda427596",
                    "locked": true,
                    "schema_version": 3,
                    "solution": false
                }
            },
            "source": [
                "## Normalizing luciferase data\n",
                "\n",
                "Now we return to the luciferase problem from today's in-class activity. Your task is write a `for` loop that iterates over both `red` and `green` data at the same time, and divides the red value by its corresponding green value. The result should be appended to a new list called `normalized_data`.\n",
                "\n",
                "In the cell below, do the following:\n",
                "\n",
                "1. Create an empty list called `norm_data`, to hold the normalized values.\n",
                "\n",
                "2. Write a `for` loop using `range()` and `len()` to iterate over both `red` and `green`. (You can call `len()` with either `red` or `green` as the argument - just pick one.)\n",
                "\n",
                "3. In the loop block (indented lines), divide the red value by the green value and `.append()` the result to the list `norm_data`. To access values in the red and green lists, use the numbers generated by `range()` as list indices."
            ]
        },
        {
            "cell_type": "code",
            "execution_count": null,
            "metadata": {
                "deletable": false,
                "nbgrader": {
                    "cell_type": "code",
                    "checksum": "01c730b095737d9cde1fdb8634786429",
                    "grade": false,
                    "grade_id": "cell-d7c4b755018f6a16",
                    "locked": false,
                    "schema_version": 3,
                    "solution": true
                }
            },
            "outputs": [],
            "source": [
                "# Red and green luciferase data\n",
                "red = [23, 145, 203, 235, 354, 456]\n",
                "green = [5, 11, 6, 9, 8, 4]\n",
                "\n",
                "# YOUR ANSWER HERE\n",
                "\n",
                "print(norm_data)  # look at your results"
            ]
        },
        {
            "cell_type": "code",
            "execution_count": null,
            "metadata": {
                "deletable": false,
                "editable": false,
                "nbgrader": {
                    "cell_type": "code",
                    "checksum": "cff5816c6e55b958ab73e73e8d31d1b5",
                    "grade": true,
                    "grade_id": "cell-677b014675709f54",
                    "locked": true,
                    "points": 3,
                    "schema_version": 3,
                    "solution": false
                }
            },
            "outputs": [],
            "source": [
                "assert len(norm_data) == len(red)\n",
                "assert norm_data[2] < 33.834 and norm_data[0] == 4.6"
            ]
        }
    ],
    "metadata": {
        "language_info": {
            "codemirror_mode": {
                "name": "ipython",
                "version": 3
            },
            "file_extension": ".py",
            "mimetype": "text/x-python",
            "name": "python",
            "nbconvert_exporter": "python",
            "pygments_lexer": "ipython3",
            "version": "3.8.3"
        }
    },
    "nbformat": 4,
    "nbformat_minor": 2
}