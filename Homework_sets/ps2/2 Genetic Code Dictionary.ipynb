{
 "cells": [
  {
   "cell_type": "markdown",
   "metadata": {
    "deletable": false,
    "editable": false,
    "nbgrader": {
     "cell_type": "markdown",
     "checksum": "2485be6c52ade5802c212ceedd936f57",
     "grade": false,
     "grade_id": "cell-41fc58e937bb1f49",
     "locked": true,
     "schema_version": 3,
     "solution": false
    }
   },
   "source": [
    "# Problem 1: Use a dictionary to translate a DNA sequence to protein sequence (5 points)\n",
    "\n",
    "\n",
    "This class is focused on statistics, and so we don't spend much time learning how to parse DNA and protein sequences. But many of the Python skills that we apply to statistics in this course are also useful for sequence analysis.\n",
    "\n",
    "In this problem, you're going to translate coding DNA sequence to protein sequence, using a dictionary containing the genetic code. This problem is very similar to the Gene Ontology and Restriction Enzyme problems. It combines elements of both those problems, and introduces a new argument for range."
   ]
  },
  {
   "cell_type": "markdown",
   "metadata": {
    "deletable": false,
    "editable": false,
    "nbgrader": {
     "cell_type": "markdown",
     "checksum": "5eb57e74de80ac4b70fed3bc7a765c44",
     "grade": false,
     "grade_id": "cell-acf9512fa3df3e60",
     "locked": true,
     "schema_version": 3,
     "solution": false
    }
   },
   "source": [
    "## 1.1 Loop over a coding DNA sequence and print out the codons.\n",
    "\n",
    "In the problem below, I give you a DNA sequence. Your task is to write a **`for`** loop that grabs three bases at a time from that DNA sequence and appends them to a list.\n",
    "\n",
    "To loop over a string (such as a DNA sequence), we use two tools: slices and `range()`. Let's look at these one at a time:\n",
    "\n",
    "**Grabbing three bases with a slice - COPIED FROM LAST PROBLEM FOR YOUR CONVENIENCE**\n",
    "\n",
    "Strings, like lists, can be accessed with indexing and slices, like this:\n",
    "\n",
    "```python\n",
    "dna = 'ATGAGCAGGTCAGTGACTGAT' # a DNA sequence\n",
    "dna[0] # the first base\n",
    "dna[0:3] # a slice that grabs the first three bases\n",
    "dna[i:i+3] # a slice that grabs three bases beginning at index i\n",
    "```\n",
    "\n",
    "**Looping over a string with range() - IMPORTANT NEW APPLICATION OF `range()`**\n",
    "The function `range()` can take up to three arguments:\n",
    "`range(start, stop+1, step size)`\n",
    "\n",
    "The start position defaults to 0, and the step size defaults to 1. So these three statemens are equivalent:\n",
    "\n",
    "```python\n",
    "# All three count from 0 to (length of dna - 1), by ones\n",
    "range(len(dna))\n",
    "\n",
    "range(0, len(dna)) \n",
    "\n",
    "range(0, len(dna), 1)\n",
    "```\n",
    "\n",
    "So if you wanted to print out each base of a DNA sequence, you would use a **`for`** loop with `range()` and string indexing, as shown in the cell below. Run the cell to see how it works."
   ]
  },
  {
   "cell_type": "code",
   "execution_count": null,
   "metadata": {},
   "outputs": [],
   "source": [
    "# Run this cell\n",
    "dna = 'ATGAGCAGGTCAGTGACTGAT' # a partial protein coding sequence\n",
    "\n",
    "for i in range(len(dna)): # looping over the sequence one base at a time\n",
    "    print(dna[i])"
   ]
  },
  {
   "cell_type": "markdown",
   "metadata": {
    "deletable": false,
    "editable": false,
    "nbgrader": {
     "cell_type": "markdown",
     "checksum": "a3629a89536cb074f73118d4325203c8",
     "grade": false,
     "grade_id": "cell-1804ea4e25155ca9",
     "locked": true,
     "schema_version": 3,
     "solution": false
    }
   },
   "source": [
    "Using similar approach, write a **`for`** loop that iterates over the following DNA sequence **three** bases (i.e., one codon) at a time. In the block of the **`for`** loop, use a slice to grab the codon, and append it to the list `codons`.\n",
    "\n",
    "**HINT:** In your `for` statement, call `range()` with *all three arguments* - start, stop, and step size, as in the last example in the markdown cell above."
   ]
  },
  {
   "cell_type": "code",
   "execution_count": null,
   "metadata": {
    "deletable": false,
    "nbgrader": {
     "cell_type": "code",
     "checksum": "723dd98447f2bb0db6fa0db0c92685a1",
     "grade": false,
     "grade_id": "cell-c9f59da038d5e92f",
     "locked": false,
     "schema_version": 3,
     "solution": true
    }
   },
   "outputs": [],
   "source": [
    "# Below is the coding sequence of yeast CYC1\n",
    "dna = 'ATGACTGAATTCAAGGCCGGTTCTGCTAAGAAAGGTGCTACACTTTTCAAGACTAGATGTCTACAATGCCACACCGTGGAAAAGGGTGGCCCACATAAGGTTGGTCCAAACTTGCATGGTATCTTTGGCAGACACTCTGGTCAAGCTGAAGGGTATTCGTACACAGATGCCAATATCAAGAAAAACGTGTTGTGGGACGAAAATAACATGTCAGAGTACTTGACTAACCCAAAGAAATATATTCCTGGTACCAAGATGGCCTTTGGTGGGTTGAAGAAGGAAAAAGACAGAAACGACTTAATTACCTACTTGAAAAAAGCCTGTGAGTAA'\n",
    "codons = [] # append codons to this list\n",
    "\n",
    "# YOUR ANSWER HERE\n",
    "\n",
    "print(codons[0:10]) # display some of the results"
   ]
  },
  {
   "cell_type": "code",
   "execution_count": null,
   "metadata": {
    "deletable": false,
    "editable": false,
    "nbgrader": {
     "cell_type": "code",
     "checksum": "7fed3308802365612573f7e00b24675a",
     "grade": true,
     "grade_id": "cell-262e10a45af70c3e",
     "locked": true,
     "points": 2,
     "schema_version": 3,
     "solution": false
    }
   },
   "outputs": [],
   "source": [
    "# Run to check your answers\n",
    "assert len(codons) == 110\n",
    "assert codons[59] == 'AAG'\n",
    "assert codons[33] == 'GTT'"
   ]
  },
  {
   "cell_type": "markdown",
   "metadata": {
    "deletable": false,
    "editable": false,
    "nbgrader": {
     "cell_type": "markdown",
     "checksum": "c142b3c896fec7b485fbc7f402339e49",
     "grade": false,
     "grade_id": "cell-7f7e9a85043a5781",
     "locked": true,
     "schema_version": 3,
     "solution": false
    }
   },
   "source": [
    "## 1.2 Write a `for` loop to translate a DNA sequence using a dictionary of the genetic code.\n",
    "\n",
    "Now that you know how to extract codons from a DNA sequence, it's easy to look up codons in a genetic code dictionary. Your task is to write code to translate a DNA sequence into protein sequence:\n",
    "\n",
    "1. Loop over the DNA sequence one codon at a time, building your protein sequence as you go.\n",
    "2. Use the dictionary find the amino acid corresponding to that codon.\n",
    "3. Add that amino acid to the end of the protein sequence.\n",
    "\n",
    "Below I've saved you some typing by creating a dictionary with the genetic code below. Run the cell."
   ]
  },
  {
   "cell_type": "code",
   "execution_count": null,
   "metadata": {},
   "outputs": [],
   "source": [
    "# Run this cell. Written one entry per line for legibility.\n",
    "\n",
    "genetic_code = {\n",
    "    'TTT':'F',\n",
    "    'TTC':'F',\n",
    "    'TTA':'L',\n",
    "    'TTG':'L',\n",
    "    'CTT':'L',\n",
    "    'CTC':'L',\n",
    "    'CTA':'L',\n",
    "    'CTG':'L',\n",
    "    'ATT':'I',\n",
    "    'ATC':'I',\n",
    "    'ATA':'I',\n",
    "    'ATG':'M',\n",
    "    'GTT':'V',\n",
    "    'GTC':'V',\n",
    "    'GTA':'V',\n",
    "    'GTG':'V',\n",
    "    'TCT':'S',\n",
    "    'TCC':'S',\n",
    "    'TCA':'S',\n",
    "    'TCG':'S',\n",
    "    'CCT':'P',\n",
    "    'CCC':'P',\n",
    "    'CCA':'P',\n",
    "    'CCG':'P',\n",
    "    'ACT':'T',\n",
    "    'ACC':'T',\n",
    "    'ACA':'T',\n",
    "    'ACG':'T',\n",
    "    'GCT':'A',\n",
    "    'GCC':'A',\n",
    "    'GCA':'A',\n",
    "    'GCG':'A',\n",
    "    'TAT':'Y',\n",
    "    'TAC':'Y',\n",
    "    'TAA':'STOP',\n",
    "    'TAG':'STOP',\n",
    "    'CAT':'H',\n",
    "    'CAC':'H',\n",
    "    'CAA':'Q',\n",
    "    'CAG':'Q',\n",
    "    'AAT':'N',\n",
    "    'AAC':'N',\n",
    "    'AAA':'K',\n",
    "    'AAG':'K',\n",
    "    'GAT':'D',\n",
    "    'GAC':'D',\n",
    "    'GAA':'E',\n",
    "    'GAG':'E',\n",
    "    'TGT':'C',\n",
    "    'TGC':'C',\n",
    "    'TGA':'STOP',\n",
    "    'TGG':'W',\n",
    "    'CGT':'R',\n",
    "    'CGC':'R',\n",
    "    'CGA':'R',\n",
    "    'CGG':'R',\n",
    "    'AGT':'S',\n",
    "    'AGC':'S',\n",
    "    'AGA':'R',\n",
    "    'AGG':'R',\n",
    "    'GGT':'G',\n",
    "    'GGC':'G',\n",
    "    'GGA':'G',\n",
    "    'GGG':'G',\n",
    "}"
   ]
  },
  {
   "cell_type": "markdown",
   "metadata": {
    "deletable": false,
    "editable": false,
    "nbgrader": {
     "cell_type": "markdown",
     "checksum": "827c30c614507592c7a14b57cecf8ae1",
     "grade": false,
     "grade_id": "cell-236f0811a9e4ed9d",
     "locked": true,
     "schema_version": 3,
     "solution": false
    }
   },
   "source": [
    "Now write the code to translate DNA sequence below to protein sequence. Don't worry about handling stop codons yet. Just write a function that looks up dictionary entries to create the protein sequence.\n",
    "\n",
    "Assign the protein sequence to the variable `protein`.\n",
    "\n",
    "HINT: Your loop needs to build your protein sequence, which is a string. You've learned how to create empty lists and `.append()` new values to them in a `for` loop. Conceptually, you'll can do the same thing with a string. You can use the `+=` operator to add characters to a string, much like `.append()` for a list. Also, just like you define an empty list with a pair of brackets, you can define an empty string with quotes like this:\n",
    "\n",
    "`my_string = ''`"
   ]
  },
  {
   "cell_type": "code",
   "execution_count": null,
   "metadata": {
    "deletable": false,
    "nbgrader": {
     "cell_type": "code",
     "checksum": "cded19840aa292639cb5e3cc7f9c3fa2",
     "grade": false,
     "grade_id": "cell-7e891fbee41bc5e9",
     "locked": false,
     "schema_version": 3,
     "solution": true
    }
   },
   "outputs": [],
   "source": [
    "sequence = 'ATGACAGCCAGTTTAACTACCAAGTTCTTGAACAATACCTATGAAAACCCATTTATGAATTGAGGG'\n",
    "\n",
    "# YOUR ANSWER HERE\n",
    "\n",
    "print(protein)"
   ]
  },
  {
   "cell_type": "code",
   "execution_count": null,
   "metadata": {
    "deletable": false,
    "editable": false,
    "nbgrader": {
     "cell_type": "code",
     "checksum": "0590e3f6fba29d017a52c07fb418165c",
     "grade": true,
     "grade_id": "cell-5c66e162b8967a16",
     "locked": true,
     "points": 2,
     "schema_version": 3,
     "solution": false
    }
   },
   "outputs": [],
   "source": [
    "# Run to check your answer\n",
    "assert protein == 'MTASLTTKFLNNTYENPFMNSTOPG'"
   ]
  },
  {
   "cell_type": "markdown",
   "metadata": {
    "deletable": false,
    "editable": false,
    "nbgrader": {
     "cell_type": "markdown",
     "checksum": "eb5b8c5bc629a5ef518e78afc3c263a2",
     "grade": false,
     "grade_id": "cell-721c7f1e99cb94d6",
     "locked": true,
     "schema_version": 3,
     "solution": false
    }
   },
   "source": [
    "### 2. Modify the code to handle stop codons\n",
    "The translation code above has two flaws in it. First, it adds the string 'STOP' to our translated sequence. (Notice the `STOP` in the output above?) Second, the loop contines past the stop codon. Your task is to modify the code so that the `for` loop ends when it encounters a stop codon.\n",
    "\n",
    "**Breaking out of a `for` loop with `break`**\n",
    "\n",
    "The way to end a `for` loop early is to use `break` with an `if` statement:\n",
    "\n",
    "```python\n",
    "# A for loop that ends if it encounters a number larger than 10\n",
    "my_list = [1,5,2,6,75,3,5,2] \n",
    "\n",
    "for n in my_list:\n",
    "    if n > 10:\n",
    "        break\n",
    "    else:\n",
    "        # code to do whatever you want to do\n",
    "```\n",
    "When `break` is triggered, the loop stops immediately, and the Python interpreter then moves on to any subsequent code. (Another command, `continue`, doesn't end the loop but immediately moves on to the next iteration without executing futher code.)\n",
    "\n",
    "In the cell below, write a modified version of your code anove to include a `break` statement. If the code encounters a stop codon, it should break out of the loop without adding any further characters to the protein sequence. Again, the protein sequence should be assigned to the variable `protein`."
   ]
  },
  {
   "cell_type": "code",
   "execution_count": null,
   "metadata": {
    "deletable": false,
    "nbgrader": {
     "cell_type": "code",
     "checksum": "100a46e9cdf86a6941a8d03851b6c980",
     "grade": false,
     "grade_id": "cell-2b687dc8c0f9c2de",
     "locked": false,
     "schema_version": 3,
     "solution": true
    }
   },
   "outputs": [],
   "source": [
    "sequence = 'ATGACAGCCAGTTTAACTACCAAGTTCTTGAACAATACCTATGAAAACCCATTTATGAATTGAGGG'\n",
    "\n",
    "# YOUR ANSWER HERE\n",
    "print(protein)"
   ]
  },
  {
   "cell_type": "code",
   "execution_count": null,
   "metadata": {
    "deletable": false,
    "editable": false,
    "nbgrader": {
     "cell_type": "code",
     "checksum": "12eb2db5fb9dd701128d788ce87f9b59",
     "grade": true,
     "grade_id": "cell-6cb9869b17bfa8d6",
     "locked": true,
     "points": 1,
     "schema_version": 3,
     "solution": false
    }
   },
   "outputs": [],
   "source": [
    "# Run this to check your answer\n",
    "assert protein == 'MTASLTTKFLNNTYENPFMN'"
   ]
  },
  {
   "cell_type": "markdown",
   "metadata": {
    "deletable": false,
    "editable": false,
    "nbgrader": {
     "cell_type": "markdown",
     "checksum": "718a34f83aa88de149671a9c0052b4bf",
     "grade": false,
     "grade_id": "cell-2fda53e6e271cda5",
     "locked": true,
     "schema_version": 3,
     "solution": false,
     "task": false
    }
   },
   "source": [
    "Along with `break` there are two other control words that are helpful with loops and conditionals: `pass` and `continue`. These other control words are useful in some special situations and you should be aware that they exist. To read more about them, check out sections 4.4 and 4.5 of the official Python page on flow control: https://docs.python.org/3/tutorial/controlflow.html"
   ]
  }
 ],
 "metadata": {
  "kernelspec": {
   "display_name": "Python 3",
   "language": "python",
   "name": "python3"
  },
  "language_info": {
   "codemirror_mode": {
    "name": "ipython",
    "version": 3
   },
   "file_extension": ".py",
   "mimetype": "text/x-python",
   "name": "python",
   "nbconvert_exporter": "python",
   "pygments_lexer": "ipython3",
   "version": "3.8.2"
  }
 },
 "nbformat": 4,
 "nbformat_minor": 2
}
