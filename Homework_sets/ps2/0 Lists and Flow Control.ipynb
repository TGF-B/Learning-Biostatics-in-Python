{
    "cells": [
        {
            "cell_type": "markdown",
            "metadata": {
                "deletable": false,
                "editable": false,
                "nbgrader": {
                    "cell_type": "markdown",
                    "checksum": "f313f46926851fce62a86c2857e4c452",
                    "grade": false,
                    "grade_id": "cell-62420559291dafb2",
                    "locked": true,
                    "schema_version": 3,
                    "solution": false
                }
            },
            "source": [
                "# Problem 0: Zipping lists and more complex conditional statements (6 points)\n",
                "\n",
                "In problem 0 you'll practice using `zip()` and conditional statements, working again with our toy reporter gene data set.\n",
                "\n",
                "**REMINDER**: You can create blank cells to write some scratch code if you need extra space. The autograde will ignore these. However, your actual answer code must go in the answer cells. \n",
                "\n",
                "## Problem 0.1: Warmup with `zip()` and `if`\n",
                "\n",
                "First, a quick problem to practice the syntax:\n",
                "\n",
                "You have some data: a list of transcript types, and a corresponding list of expression changes collected during an experiment. Your task is to identify transcripts that are 1) protein-coding and 2) whose expression decreased in the experiment.\n",
                "\n",
                "To do this problem, you'll need to build an **`if`** statement that depends on two conditions: the gene is protein-coding **and** its expression went down. Sensibly enough, we test for the truth values of two conditions in Python using **`and`**:\n",
                "\n",
                "```python\n",
                "# Probably not the code for Google's self-driving car\n",
                "color = 'red'\n",
                "shape = 'octagon'\n",
                "\n",
                "if color=='red' and shape=='octagon':\n",
                "    print('STOP!')\n",
                "else:\n",
                "    print('GO!')\n",
                "```\n",
                "\n",
                "In the cell below, use `zip()` to simultaneously loop over two lists, `gene_types` and `expression`. Inside the block of the **`for`** loop, use an `if` statement with two conditions to identify protein-coding transcripts whose expression decreased (i.e., negative values). Append those expression values to the list `downreg_pc`. (For the other transcripts, do nothing.)"
            ]
        },
        {
            "cell_type": "code",
            "execution_count": null,
            "metadata": {
                "deletable": false,
                "nbgrader": {
                    "cell_type": "code",
                    "checksum": "ac5d9cf9214f5c40b1197c91af7638d9",
                    "grade": false,
                    "grade_id": "cell-c7a567a6c2a36988",
                    "locked": false,
                    "schema_version": 3,
                    "solution": true
                }
            },
            "outputs": [],
            "source": [
                "# I defined the lists for you\n",
                "gene_types = ['protein_coding','antisense','protein_coding','protein_coding','miRNA','protein_coding','lincRNA']\n",
                "expression = [-0.22, 0.77, 0.03, -0.62, 0.19, 0.23,-0.49]\n",
                "downregulated_pc = [] # list of downregulated protein genes\n",
                "\n",
                "\n",
                "# YOUR ANSWER HERE\n",
                "\n",
                "# See your results:\n",
                "print(\"Downregulated expression values:\",downregulated_pc) "
            ]
        },
        {
            "cell_type": "code",
            "execution_count": null,
            "metadata": {
                "deletable": false,
                "editable": false,
                "nbgrader": {
                    "cell_type": "code",
                    "checksum": "1a19113cc2dd453b02abe18d84ff79c0",
                    "grade": true,
                    "grade_id": "cell-8cbb4afc1e50045a",
                    "locked": true,
                    "points": 2,
                    "schema_version": 3,
                    "solution": false
                }
            },
            "outputs": [],
            "source": [
                "# Run to check your answer\n",
                "assert len(downregulated_pc) == 2\n",
                "assert downregulated_pc[0] == -0.22\n",
                "assert downregulated_pc[1] == -0.62"
            ]
        },
        {
            "cell_type": "markdown",
            "metadata": {
                "deletable": false,
                "editable": false,
                "nbgrader": {
                    "cell_type": "markdown",
                    "checksum": "9c32fbcaee0bf5bae7e8b9a320563924",
                    "grade": false,
                    "grade_id": "cell-51b2bac5fd243cd6",
                    "locked": true,
                    "schema_version": 3,
                    "solution": false,
                    "task": false
                }
            },
            "source": [
                "## Problem 0.2: Reporter gene data version 3\n",
                "\n",
                "In this problem, we return yet again to the red/green reporter gene experiment we saw in lecture 1 and problem set 1. The problem is the same one you were asked to complete in the homework, but this time you should solve it with `zip()`.\n",
                "\n",
                "If you need to review the syntax, look back over the code you wrote for the Lecture 1 non-graded activity and homework problem 2.\n",
                "\n",
                "Recall that your task in the reporter gene problem is to write a `for` loop that iterates over both `red` and `green` data at the same time, and divide the red value by its corresponding green value. The result should be appended to a new list called `norm_data`.\n",
                "\n",
                "Instead of using the `range()` syntax, this time solve the problem using `zip()`. In the cell below, do the following:\n",
                "\n",
                "\n",
                "1. Create an empty list called `norm_data` to hold the normalized values.\n",
                "\n",
                "2. Write a `for` loop using `zip()` to iterate over both `red` and `green`. \n",
                "\n",
                "3. In the loop block (indented lines), divide the red value by the green value and `.append()` the result to the list `norm_data`.\n"
            ]
        },
        {
            "cell_type": "code",
            "execution_count": null,
            "metadata": {
                "deletable": false,
                "nbgrader": {
                    "cell_type": "code",
                    "checksum": "f570e7dd5528d06b3e6b3f433cbc7b2a",
                    "grade": false,
                    "grade_id": "cell-a6f2c01674f7e7a4",
                    "locked": false,
                    "schema_version": 3,
                    "solution": true,
                    "task": false
                }
            },
            "outputs": [],
            "source": [
                "red = [23, 145, 203, 235, 354, 456]\n",
                "green = [5, 11, 6, 9, 8, 4]\n",
                "\n",
                "# Write your code below. Use print() to display your results.\n",
                "# YOUR ANSWER HERE"
            ]
        },
        {
            "cell_type": "code",
            "execution_count": null,
            "metadata": {
                "deletable": false,
                "editable": false,
                "nbgrader": {
                    "cell_type": "code",
                    "checksum": "d3696e04f65acbb878b4fe72b36438ef",
                    "grade": true,
                    "grade_id": "cell-bbe8cb979757d0e2",
                    "locked": true,
                    "points": 1,
                    "schema_version": 3,
                    "solution": false,
                    "task": false
                }
            },
            "outputs": [],
            "source": [
                "assert len(norm_data) == len(red)\n",
                "assert norm_data[2] < 33.834 and norm_data[0] == 4.6"
            ]
        },
        {
            "cell_type": "markdown",
            "metadata": {
                "deletable": false,
                "editable": false,
                "nbgrader": {
                    "cell_type": "markdown",
                    "checksum": "06535eadbecf34500371b9cb1c1fa024",
                    "grade": false,
                    "grade_id": "cell-d22c2bf046c85835",
                    "locked": true,
                    "schema_version": 3,
                    "solution": false,
                    "task": false
                }
            },
            "source": [
                "## Problem 0.3: Reporter gene data version 4 - avoid dividing by 0\n",
                "\n",
                "Zeros in our control data are another potential source of error in our reporter gene normalization code. If we got a blank measurement for one sample in the green channel, then our code above won't work \u2013 you can't divide red by green if green is zero.\n",
                "\n",
                "So let's make our normalization code a little more sophisticated, by adding a conditional statement to check for zero values in the green channel.\n",
                "\n",
                "We want a `for` loop that recognizes when green is zero and then executes an alternate instruction.\n",
                "\n",
                "In the cell below, I've edited `green` to include a 0. Write a `for` loop to normalize red by green, as before. Your tasks is to use `if` and `else` inside the `for` loop block to do the following:\n",
                "\n",
                " *If* the value of green is greater than zero, normalize green by red and append the result to `normalized`.\n",
                " \n",
                " *Else*, print an error message: \"Green value is zero.\" (And do nothing else - we skip that sample.)"
            ]
        },
        {
            "cell_type": "code",
            "execution_count": null,
            "metadata": {
                "deletable": false,
                "nbgrader": {
                    "cell_type": "code",
                    "checksum": "c082548b4ad0f4c6605015d122cf56da",
                    "grade": false,
                    "grade_id": "cell-f2ec1ae9626b7e33",
                    "locked": false,
                    "schema_version": 3,
                    "solution": true,
                    "task": false
                }
            },
            "outputs": [],
            "source": [
                "red = [23, 145, 203, 235, 354, 456]\n",
                "green = [5, 11, 6, 0, 8, 4]\n",
                "norm_data = [] # clear the list - we'll reuse this variable name\n",
                "\n",
                "# Write your code below.\n",
                "\n",
                "# YOUR ANSWER HERE\n",
                "print(norm_data)\n",
                "# Visualize the result."
            ]
        },
        {
            "cell_type": "code",
            "execution_count": null,
            "metadata": {
                "deletable": false,
                "editable": false,
                "nbgrader": {
                    "cell_type": "code",
                    "checksum": "fe197916285da183c9039b11af33556d",
                    "grade": true,
                    "grade_id": "cell-ed3ed698877fd4ce",
                    "locked": true,
                    "points": 3,
                    "schema_version": 3,
                    "solution": false,
                    "task": false
                }
            },
            "outputs": [],
            "source": [
                "assert len(norm_data) == 5\n",
                "assert norm_data[2] < 33.834 and norm_data[-1] == 114.0"
            ]
        }
    ],
    "metadata": {
        "language_info": {
            "codemirror_mode": {
                "name": "ipython",
                "version": 3
            },
            "file_extension": ".py",
            "mimetype": "text/x-python",
            "name": "python",
            "nbconvert_exporter": "python",
            "pygments_lexer": "ipython3",
            "version": "3.8.3"
        }
    },
    "nbformat": 4,
    "nbformat_minor": 2
}