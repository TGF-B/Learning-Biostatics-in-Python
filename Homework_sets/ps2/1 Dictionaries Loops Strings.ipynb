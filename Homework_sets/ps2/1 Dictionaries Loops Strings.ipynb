{
    "cells": [
        {
            "cell_type": "markdown",
            "metadata": {
                "deletable": false,
                "editable": false,
                "nbgrader": {
                    "cell_type": "markdown",
                    "checksum": "0626122a0c3b8b4e64e1d906baaf3ce3",
                    "grade": false,
                    "grade_id": "cell-7d30413fc3682c2c",
                    "locked": true,
                    "schema_version": 3,
                    "solution": false
                }
            },
            "source": [
                "# Problem 0.1: Gene Ontology Dictionary (5 points)\n",
                "\n",
                "## Build a dictionary while iterating over a list\n",
                "\n",
                "This problem is a simplified version of a type of problem that will come up frequently in this course, especially when we do enrichment calculations with genomic data.\n",
                "\n",
                "Imagine you performed some experiment in which you measured gene expression in a sample before and after some perturbation. You have obtained gene ontology annotations for the genes whose expression increased after the perturbation. Your task is to count the number of times each gene ontology term shows up in your results. To keep track of the counts, you will create a dictionary in which the *keys* are gene ontology terms and the *values* are number of times the term occurs in the data.\n",
                "\n",
                "In the cell below is a list of gene ontology terms for each gene whose expression increased. You're going to iterate over the list with a FOR loop. In the block of the loop, your code should do build the dictionary by performing one of the following tasks: \n",
                "\n",
                "1) Add *new* GO terms to the dictionary as you encounter them OR:\n",
                "\n",
                "2) Increment the count for GO terms that already exist in the dictionary. \n",
                "\n",
                "To write the code, you can use the keywords `in` and `not in` to check if a GO term is already in the dictionary. Below is a simple example of how this works. If the entry *doesn't* exist, one is created and given an initial value of 1. If the entry already exists, the code increments the count by 1:\n",
                "\n",
                "```python\n",
                "### Counting coin tosses\n",
                "\n",
                "coin_tosses = {} # empty dictionary\n",
                "toss = 'heads' # the data\n",
                "\n",
                "if toss not in coin_tosses:\n",
                "    coin_tosses[toss] = 1 # create a new entry and set value to 1\n",
                "else:\n",
                "    coin_tosses[toss] += 1 # increment existing entry\n",
                "```\n",
                "\n",
                "Below, apply the logic of the coin toss example to count the occurrences of gene ontology terms in the data. Write the code to do the following:\n",
                "\n",
                "1. Create a empty dictionary called `go_counts`.\n",
                "2. Use a `for` loop to iterate over the list `go_annotations`.\n",
                "3. In the block of the `for` loop, add new GO terms to the dictionary as they come up, and increment the count of terms that are already in the dictionary.\n",
                "\n",
                "Use `print()` to see the results.\n",
                "\n",
                "(If you're not familiar with gene ontology analysis, you can find an introduction here: http://geneontology.org.)"
            ]
        },
        {
            "cell_type": "code",
            "execution_count": null,
            "metadata": {
                "deletable": false,
                "nbgrader": {
                    "cell_type": "code",
                    "checksum": "6b6b38d1853ac7556839ccf7f2aba9e3",
                    "grade": false,
                    "grade_id": "cell-e55244148106c6fc",
                    "locked": false,
                    "schema_version": 3,
                    "solution": true
                }
            },
            "outputs": [],
            "source": [
                "# Some simplified GO annotations\n",
                "go_annotations = ['neurogenesis', 'eye development', 'neurogenesis',  'cell differentiation','detoxification',\\\n",
                "                  'cell differentiation', 'neurogenesis', 'detoxification', 'exocytosis', 'lipid transport',\\\n",
                "                 'signaling', 'neurogenesis']\n",
                "\n",
                "# YOUR ANSWER HERE\n",
                "\n",
                "print(go_counts)"
            ]
        },
        {
            "cell_type": "code",
            "execution_count": null,
            "metadata": {
                "deletable": false,
                "editable": false,
                "nbgrader": {
                    "cell_type": "code",
                    "checksum": "474073c56420f083db9b8df2aae72412",
                    "grade": true,
                    "grade_id": "cell-365f0ae638272836",
                    "locked": true,
                    "points": 2,
                    "schema_version": 3,
                    "solution": false
                }
            },
            "outputs": [],
            "source": [
                "assert go_counts['neurogenesis'] == 4\n",
                "assert go_counts['eye development'] == 1\n",
                "assert len(go_counts) == 7"
            ]
        },
        {
            "cell_type": "markdown",
            "metadata": {
                "deletable": false,
                "editable": false,
                "nbgrader": {
                    "cell_type": "markdown",
                    "checksum": "013cc39871c9c5df9c81b95374ebae75",
                    "grade": false,
                    "grade_id": "cell-a59ea98e98b809ee",
                    "locked": true,
                    "schema_version": 3,
                    "solution": false
                }
            },
            "source": [
                "# Problem 0.2: Restriction enzymes (3 points)\n",
                "## Run a sliding window over a DNA sequence to find restriction sites\n",
                "\n",
                "Your goal in this problem is to identify which restriction enzymes cut a DNA sequence. You'll write code to do the following:\n",
                "\n",
                "1) Create a dictionary of restriction enzyme specificities in which the cut sequence is the *key* and the enzyme name is the *value*.\n",
                "\n",
                "2) Run a `for` loop over a DNA sequence, using `range()` to take 6 bp windows. Check if those 6 bp sequences match a dictionary entry of enzyme specificities. If yes, append the name of the restriction enzyme to a list.\n",
                "\n",
                "It sounds like a simple problem, but the code will bring together most of the concepts we've learned so far. We'll solve this in two steps.\n",
                "\n",
                "### 0.2.1: Build the dictionary by looping over two lists.\n",
                "In the cell below are two lists, `enzyme_names` and `specificities`. Matching names and specificities are in the corresponding position in each list.\n",
                "\n",
                "Build a dictionary called `enzymes` by using `for` with `zip()` to loop over the two lists. Add dictionary entries as you go, with the *specificity as the key and the enzyme name as the value.* (Intuitively you might think the enzyme name should be the key, but in this problem we need to look up enzymes by their cuts sites, not their names.)\n",
                "\n",
                "HINT: Define your empty dictionary *before* the `for` loop. (Why is this important?)"
            ]
        },
        {
            "cell_type": "code",
            "execution_count": null,
            "metadata": {
                "deletable": false,
                "nbgrader": {
                    "cell_type": "code",
                    "checksum": "fe2276839c108f13097f35160bc2bc39",
                    "grade": false,
                    "grade_id": "cell-b87f87084a8723bb",
                    "locked": false,
                    "schema_version": 3,
                    "solution": true
                }
            },
            "outputs": [],
            "source": [
                "enzyme_names = ['EcoRI', 'BamHI', 'SphI','XhoI', 'XbaI', 'SacI', 'HindIII']\n",
                "specificities = ['GAATTC', 'GGATCC', 'GCATGC', 'CTCGAG', 'TCTAGA', 'CCGCGG','AAGCTT']\n",
                "\n",
                "# YOUR ANSWER HERE\n",
                "\n",
                "print(enzymes)"
            ]
        },
        {
            "cell_type": "code",
            "execution_count": null,
            "metadata": {
                "deletable": false,
                "editable": false,
                "nbgrader": {
                    "cell_type": "code",
                    "checksum": "0c39fea6a942db94c2e9e93a174ada66",
                    "grade": true,
                    "grade_id": "cell-179806e4d7a03090",
                    "locked": true,
                    "points": 1,
                    "schema_version": 3,
                    "solution": false
                }
            },
            "outputs": [],
            "source": [
                "assert sorted(enzymes.values()) == ['BamHI', 'EcoRI', 'HindIII', 'SacI', 'SphI', 'XbaI', 'XhoI']\n",
                "assert sorted(enzymes.keys()) == ['AAGCTT', 'CCGCGG', 'CTCGAG', 'GAATTC', 'GCATGC', 'GGATCC', 'TCTAGA']"
            ]
        },
        {
            "cell_type": "markdown",
            "metadata": {
                "deletable": false,
                "editable": false,
                "nbgrader": {
                    "cell_type": "markdown",
                    "checksum": "30df5e3b6e13a6522ad39c9bba75f832",
                    "grade": false,
                    "grade_id": "cell-6d6d38ad969d2298",
                    "locked": true,
                    "schema_version": 3,
                    "solution": false
                }
            },
            "source": [
                "### 0.2.2 Loop over a DNA sequence & take 6 bp slices\n",
                "\n",
                "In the cell below, you're given a DNA sequence. Write code to do the following:\n",
                "\n",
                "1) Create an empty list called `cutters` to hold the list of enzymes that cut the sequence.\n",
                "\n",
                "2) Iterate over the DNA sequence, 1 bp at a time using `range()`.\n",
                "\n",
                "3) In the block of the loop do the following: \n",
                "        1. Take a 6 bp slice of the DNA sequence\n",
                "        2. Check whether that 6 bp sequence is a key in the dictionary\n",
                "        3. If it is, append the enzyme name to `cutters`.\n",
                "        \n",
                "#### Hints\n",
                "To loop over a string (such as a DNA sequence), we use two tools: slices and `range()`. You've learned how to use `range()` in a for loop. Let's look at slices:\n",
                "\n",
                "**Grabbing three bases with a slice**\n",
                "\n",
                "Strings, like lists, can be accessed with indexing and slices, like this:\n",
                "\n",
                "```python\n",
                "dna = 'ATGAGCAGGTCAGTGACTGAT' # a DNA sequence\n",
                "dna[0] # the first base\n",
                "dna[0:3] # a slice that grabs the first three bases\n",
                "dna[i:i+3] # a slice that grabs three bases beginning at index i\n",
                "```\n",
                "By iterating a for loop over an index i, you can use this syntax to slide across the DNA in 6 bp windows."
            ]
        },
        {
            "cell_type": "code",
            "execution_count": null,
            "metadata": {
                "deletable": false,
                "nbgrader": {
                    "cell_type": "code",
                    "checksum": "34ef8ad93bca3df881969147bb262bb3",
                    "grade": false,
                    "grade_id": "cell-939149d3dd2455e0",
                    "locked": false,
                    "schema_version": 3,
                    "solution": true
                }
            },
            "outputs": [],
            "source": [
                "# Check this sequence for cut sites\n",
                "dna_seq = 'TAGGCTGGATCCTCGATTCGATGGGGCCCATTAATCTAGAGATCGGATCGGACTGAAAGCTCTTTTGATTCGAAGCTTGCGATGCGAAGCTTGCTAGCTA'\n",
                "\n",
                "# YOUR ANSWER HERE\n",
                "        \n",
                "print(cutters)"
            ]
        },
        {
            "cell_type": "code",
            "execution_count": null,
            "metadata": {
                "deletable": false,
                "editable": false,
                "nbgrader": {
                    "cell_type": "code",
                    "checksum": "84d663a1780b41f97242f968ab09e8d2",
                    "grade": true,
                    "grade_id": "cell-460adc0dfe4c5036",
                    "locked": true,
                    "points": 2,
                    "schema_version": 3,
                    "solution": false
                }
            },
            "outputs": [],
            "source": [
                "assert len(cutters) == 4\n",
                "assert cutters.count('HindIII') == 2\n",
                "assert 'XbaI' in cutters"
            ]
        }
    ],
    "metadata": {
        "language_info": {
            "codemirror_mode": {
                "name": "ipython",
                "version": 3
            },
            "file_extension": ".py",
            "mimetype": "text/x-python",
            "name": "python",
            "nbconvert_exporter": "python",
            "pygments_lexer": "ipython3",
            "version": "3.8.3"
        }
    },
    "nbformat": 4,
    "nbformat_minor": 2
}