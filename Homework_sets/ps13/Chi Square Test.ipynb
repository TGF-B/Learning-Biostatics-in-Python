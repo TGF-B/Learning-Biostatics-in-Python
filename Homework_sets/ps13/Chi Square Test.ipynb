{
 "cells": [
  {
   "cell_type": "markdown",
   "metadata": {},
   "source": [
    "$$\\chi^2 = \\sum_{i = 1}^{n}\\frac{(\\textrm{observed}_i - \\textrm{expected}_i)^2}{\\textrm{expected}_i}$$"
   ]
  },
  {
   "cell_type": "markdown",
   "metadata": {},
   "source": [
    "5.6 某仓库调查不同品种苹果的耐贮情况，随机抽取‘国光’苹果200个,腐烂14个；‘红星’苹果 178个.腐烂 16个。试检验这两种苹果耐贮差异是否显著\n",
    "5.6 A warehouse investigated the storage tolerance of different varieties of apples, randomly selecting 200 'Guoguang' apples and 14 rotten ones‘ 178 Red Star apples and 16 rotten apples. Test whether there is a significant difference in storage tolerance between these two types of apples"
   ]
  },
  {
   "cell_type": "code",
   "execution_count": 26,
   "metadata": {},
   "outputs": [
    {
     "name": "stdout",
     "output_type": "stream",
     "text": [
      "Total Number of Apples: 378\n",
      "Expected Rate of Good Apples： 0.9206349206349206\n",
      "Expected Numbers of Good Apples： ['Expected_numbers', 184.12698412698413, 163.87301587301587]\n",
      "Chi square is： 0.04046106160402947\n",
      "p: 0.15941820637843568\n",
      "Accept H0 assumption，reject HA assumption\n"
     ]
    }
   ],
   "source": [
    "import numpy as np\n",
    "import math\n",
    "from scipy.stats import chi2\n",
    "# import the data from table\n",
    "table = [['Observed_numbers', 'Total_numbers'], [186, 200], [162, 178]]\n",
    "\n",
    "# 1: Assumption H0:No significance between two groups；HA：Significance between two groups\n",
    "# 2: Significance level = 0.05\n",
    "alpha = 0.05\n",
    "\n",
    "# 3:  Caculate the total numbers of samples\n",
    "Total = sum(table[i][1] for i in range(1, len(table)))\n",
    "print(\"Total Number of Apples:\",Total)\n",
    "\n",
    "#4: Caculate the expected rate and expected number of good apples\n",
    "Expectation_rate=0\n",
    "Expected_number = ['Expected_numbers']\n",
    "for i in range(1, len(table)):\n",
    "    Expectation_rate += (table[i][0]) / Total\n",
    "print(\"Expected Rate of Good Apples：\",Expectation_rate)\n",
    "for i in range(1, len(table)):\n",
    "    Expectation = Expectation_rate * table[i][1]\n",
    "    Expected_number.append(Expectation)\n",
    "print(\"Expected Numbers of Good Apples：\",Expected_number)\n",
    "\n",
    "#5:Caculate the Chi_square\n",
    "Chi_2 = 0\n",
    "for i in range(1, len(table)):\n",
    "    Chi_2 += math.pow(abs(table[i][0] - Expected_number[i]), 2) / Expected_number[i]\n",
    "print(\"Chi square is：\", Chi_2)\n",
    "\n",
    "#6:Statistical inference\n",
    "p=chi2.cdf(Chi_2, 1)\n",
    "print(\"p:\",p)\n",
    "if p > alpha:\n",
    "    print(\"Accept H0 assumption，reject HA assumption\")\n",
    "else:\n",
    "    print(\"Reject H0 assumption，accept HA assumption\")"
   ]
  }
 ],
 "metadata": {
  "kernelspec": {
   "display_name": "Python 3",
   "language": "python",
   "name": "python3"
  },
  "language_info": {
   "codemirror_mode": {
    "name": "ipython",
    "version": 3
   },
   "file_extension": ".py",
   "mimetype": "text/x-python",
   "name": "python",
   "nbconvert_exporter": "python",
   "pygments_lexer": "ipython3",
   "version": "3.11.4"
  },
  "orig_nbformat": 4
 },
 "nbformat": 4,
 "nbformat_minor": 2
}
