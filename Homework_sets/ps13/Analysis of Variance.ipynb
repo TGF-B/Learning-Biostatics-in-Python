{
 "cells": [
  {
   "cell_type": "markdown",
   "metadata": {},
   "source": [
    "### Analysis of Variance\n",
    "The nature of Analysis of Variance is the comparison of __S<sub>t</sub>__(the variance of treatment effect) and __S<sub>e</sub>__(the variance of error effect).But before you do this , four steps are required.\n"
   ]
  },
  {
   "cell_type": "markdown",
   "metadata": {},
   "source": [
    "##### 1:The decomposition of Sum-of-Squares\n",
    "\n",
    "\\begin{aligned}\n",
    "S S_T & =\\sum\\left(x_{i j}\\right)^2-\\frac{T^2}{n k}\n",
    "\\end{aligned}\n",
    "\n",
    "\\begin{gathered}\n",
    "S S_t=\\frac{1}{n} \\sum T_{i \\cdot}^2-\\frac{T^2}{n k} \\\\ \n",
    "S S_e=S S_T-S S_t\n",
    "\\end{gathered}\n",
    "\n",
    "\n",
    "SS<sub>T</sub> :   total     sum     of      suqares ;<br />\n",
    "SS<sub>t</sub> :   sum  of   squares     betwween    treatment   groups ;<br />\n",
    "SS<sub>e</sub> :   sum  of  squares     in  treatment   group <br />\n",
    "T<sub>i</sub>:sum of value from one treatment group"
   ]
  },
  {
   "cell_type": "markdown",
   "metadata": {},
   "source": [
    "##### 2:The decomposition of Degree-of-Freedom\n",
    "\n",
    "\\begin{gathered}\n",
    "d f_T=n k-1 \\\\\n",
    "d f_t=k-1 \\\\\n",
    "d f_{\\mathrm{e}}=d f_T-d f_t=(n k-1)-(k-1)=k(n-1)\n",
    "\\end{gathered}\n",
    "\n",
    "$d f_T$ :Total degree of freedom ;<br />\n",
    "$d f_t$ :Degree of freedom between treatment groups; <br />\n",
    "$d f_e$ :Degree of freedom in treatment group\n",
    "$$\n"
   ]
  },
  {
   "cell_type": "markdown",
   "metadata": {},
   "source": [
    "##### 3:The variance\n",
    "\n",
    "\\begin{aligned}\n",
    "S_t^2 & =\\frac{S S_t}{df_t} \\\\ \\\\\n",
    "S_e^2 & =\\frac{S S_e}{df_e}\n",
    "\\end{aligned}"
   ]
  },
  {
   "cell_type": "markdown",
   "metadata": {},
   "source": [
    "##### 4:F test\n",
    "\n",
    "\\begin{aligned}\n",
    "F=\\frac{S_t^2}{S_e^2}\n",
    "\\end{aligned}\n",
    "\n",
    "Similar to other tests, you compare the F value with F<sub>α</sub> which you queried from appendix. </br>\n",
    "If F > F<sub>α</sub> , then H<sub>0</sub> assumption could be true. </br>\n",
    "If F < F<sub>α</sub> , it means the probability of H<sub>0</sub> assumption was not that obvious , then you reject H<sub>0</sub> ,accept that H<sub>A</sub> , which means the there are treatment errors come from the goups, and you go for the next round test ---- __Multiple Comparison__. </br>"
   ]
  },
  {
   "cell_type": "markdown",
   "metadata": {},
   "source": [
    "#### 5:Multiple Comparison\n",
    "This comparison is done between _TWO_ group averages, and repeat it for each pair group.</br>\n",
    "There are mainly three methods depending on the group numbers __k__.\n",
    "\n",
    "##### 5.1 LSD (Least Significant Difference Method) , K >=3\n",
    "LSD represents the least ｜$\\bar{x}_1 - \\bar{x}_2$｜ , find it , and then compare it with other ｜$\\bar{x}_1 - \\bar{x}_2$｜\n",
    " <br />\n",
    "As a typical T-test,there is :\n",
    "\n",
    "\\begin{aligned}\n",
    "\n",
    "t &=\\frac{\\overline{x_1}-\\overline{x_2}}{S_{\\bar{x}_1+\\bar{x}_2}}\n",
    "\n",
    "\\end{aligned}\n",
    "\n",
    "\\begin{aligned}\n",
    "\\bar{x}_1-\\bar{x}_2= LSD_α =t_α \\cdot S_{\\bar{x}_1-\\bar{x}_2}\n",
    "\\end{aligned}\n",
    "\n",
    "$$\n",
    "s_{\\bar{x}_1-\\bar{x}_2}=\\sqrt{\\frac{s_1^2}{n_1}+\\frac{s_2^2}{n_2}}=\\sqrt{s_e^2\\left(\\frac{1}{n_1}+\\frac{1}{n_2}\\right)}\n",
    "$$"
   ]
  },
  {
   "cell_type": "markdown",
   "metadata": {},
   "source": [
    "习题6.4\n",
    "为研究对种子发芽的影响，分别用0(对照),10,50,100(g/g)4种不同浓度的氟化钠溶液处理种子(浸种),每一种浓度处理的种子用培养皿进行发芽试验(每皿50粒,每处理重复3次)。观察它们的发芽情况,测得芽长资料如下表所示。试作方差分析,并用LSD法、SSR法和q法分别进行多重比较。\n",
    "\n",
    "Exercise 6.4\n",
    "To study the impact on seed germination, four different concentrations of sodium fluoride solutions (O (control), 10,50100 (g/g), were used to treat seeds (soaking). Each concentration of treated seeds was subjected to germination tests in a culture dish (50 seeds per dish, repeated 3 times per treatment). Observe their germination and measure the bud length data as shown in the table below. Conduct analysis of variance and compare multiple methods using LSD, SSR, and q, respectively.\n",
    "## 芽长\n",
    "\n",
    "| 处理/(g/g) | 1/cm | 2/cm | 3/cm |\n",
    "|---|---|---|---|\n",
    "| 0(对照) | 8.9 | 8.4 | 8.6 |\n",
    "| 10 | 8.2 | 7.9 | 7.5 |\n",
    "| 50 | 7.0 | 5.5 | 6.1 |\n",
    "| 100 | 5.0 | 6.3 | 4.1 |\n"
   ]
  },
  {
   "cell_type": "markdown",
   "metadata": {},
   "source": [
    "LSD"
   ]
  },
  {
   "cell_type": "code",
   "execution_count": null,
   "metadata": {},
   "outputs": [],
   "source": []
  }
 ],
 "metadata": {
  "kernelspec": {
   "display_name": "Python 3",
   "language": "python",
   "name": "python3"
  },
  "language_info": {
   "codemirror_mode": {
    "name": "ipython",
    "version": 3
   },
   "file_extension": ".py",
   "mimetype": "text/x-python",
   "name": "python",
   "nbconvert_exporter": "python",
   "pygments_lexer": "ipython3",
   "version": "3.11.4"
  },
  "orig_nbformat": 4
 },
 "nbformat": 4,
 "nbformat_minor": 2
}
