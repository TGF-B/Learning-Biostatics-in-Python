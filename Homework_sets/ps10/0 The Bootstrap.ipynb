{
    "cells": [
        {
            "cell_type": "markdown",
            "metadata": {
                "deletable": false,
                "editable": false,
                "nbgrader": {
                    "cell_type": "markdown",
                    "checksum": "287bd311a8eaea41429b2e925ccde4f4",
                    "grade": false,
                    "grade_id": "cell-01b88596d99e6f3e",
                    "locked": true,
                    "schema_version": 3,
                    "solution": false
                }
            },
            "source": [
                "# Question 0: The Bootstrap\n",
                "\n",
                "The bootstrap is an approach to generating new samples from the \"true\" distribution. There's only one **real** way to get new samples from the actual true distribution, and that's to run your experiment again. The bootstrap offers a different idea: we assume that our existing sample is representative of the \"true\" distribution, so to approximate new samples from the \"true\" distribution, we can repeatedly draw new samples from our existing sample. This process of repeatedly drawing new samples is called \"resampling\" or \"bootstrapping\".\n",
                "\n",
                "Technically, what the bootstrap assumes is that the relationship between the \"true\" distribution and our sample is approximately the same as the relationship between our sample and the bootstrap (re-)samples that we draw from it. We will explore this idea more in the next lecture. For now, however, let's just get comfortable with resampling.\n",
                "\n",
                "## Problem 0.0\n",
                "Below, a list of lifespans is provided, giving the length of the lives of 96 *C. elegans* (in days). Write a function called `resample_means` that will generate a specified number of resamples of the a given dataset, and for each resample, calculate the mean of that resample. As is standard for bootstrapping, each resampled dataset should be the same size as the original dataset. The function should return a list containing the mean value for each resampled dataset.\n",
                "\n",
                "The most straightforward way to perform the actual resampling is with the `choices` function from the `random` module. (Try importing `random` and then type `random.choices?` to see the documentation. In short, `choices` performs sampling *with replacement* which is exactly what is needed here. Note that `random.sample` is the equivalent function for sampling *without replacement*, but you really don't want to use that here!) \n",
                "\n",
                "**Tip:** use the parameter `k` of `random.choices` to control the data size returned (e.g. `resample = random.choices(data, k=10)` will return 10 elements sampled with replacement from `data`)."
            ]
        },
        {
            "cell_type": "code",
            "execution_count": null,
            "metadata": {
                "deletable": false,
                "nbgrader": {
                    "cell_type": "code",
                    "checksum": "4d037216bef1344c506da13fc97b8c73",
                    "grade": false,
                    "grade_id": "cell-838f9abe7f59eb9c",
                    "locked": false,
                    "schema_version": 3,
                    "solution": true
                }
            },
            "outputs": [],
            "source": [
                "import random\n",
                "\n",
                "lifespans = [12.01,  11.75,   8.09,   6.21,   8.82,   8.35,   3.65,  10.12,\n",
                "              9.63,   5.41,  13.08,  10.87,  13.31,  11.24,  10.87,   8.76,\n",
                "             11.97,   9.26,  11.6 ,  12.22,  10.62,   9.63,   9.14,  10.62,\n",
                "              3.38,   9.02,   9.99,   6.94,  11.95,  10.08,   8.11,   8.85,\n",
                "             13.65,  13.89,   9.23,  14.87,   8.73,  11.58,  13.42,  11.46,\n",
                "              9.1 ,   8.  ,  14.76,   9.71,  13.66,  14.39,   9.21,  10.79,\n",
                "             12.88,   8.95,  10.92,  11.65,  10.79,  10.63,  10.07,   9.21,\n",
                "              9.08,  11.65,   6.77,  12.38,   4.8 ,  11.29,  11.05,  10.68,\n",
                "             11.66,  11.29,  10.06,  11.88,  11.4 ,  10.3 ,  11.15,  10.3 ,\n",
                "             11.52,  13.6 ,  11.16,   9.57,   9.69,   8.83,  10.91,   8.23,\n",
                "             12.75,  15.47,  10.79,  12.48,   9.08,  11.04,  11.16,  10.78,\n",
                "              6.76,  12.97,   9.19,   9.81,  13.82,  14.33,  10.3 ,  11.28]\n",
                "\n",
                "def mean(v):\n",
                "    return sum(v)/len(v)\n",
                "\n",
                "def resample_means(data, n_resamples):\n",
                "    means = []\n",
                "    # YOUR ANSWER HERE\n",
                "    return means\n",
                "\n",
                "print('mean lifespan:', mean(lifespans))\n",
                "print('min and max lifespan:', min(lifespans), max(lifespans))\n",
                "resampled = resample_means(lifespans, 10000)\n",
                "print('min and max mean lifespan from resamples:', min(resampled), max(resampled))"
            ]
        },
        {
            "cell_type": "code",
            "execution_count": null,
            "metadata": {
                "deletable": false,
                "editable": false,
                "nbgrader": {
                    "cell_type": "code",
                    "checksum": "35ea810fa42806f80a9d87f6ca34d0c3",
                    "grade": true,
                    "grade_id": "cell-555119f4508828c2",
                    "locked": true,
                    "points": 3,
                    "schema_version": 3,
                    "solution": false
                }
            },
            "outputs": [],
            "source": [
                "assert len(resampled) == 10000\n",
                "new_samples = resample_means([1,1,1,2], 1000)\n",
                "for sample in new_samples:\n",
                "    assert sample in {1, 1.25, 1.5, 1.75, 2}\n",
                "assert 275 < new_samples.count(1.0) < 357 # should get all 1's about 31.6% of the time"
            ]
        },
        {
            "cell_type": "markdown",
            "metadata": {
                "deletable": false,
                "editable": false,
                "nbgrader": {
                    "cell_type": "markdown",
                    "checksum": "e1fedcae5a7bde58a0a22a27792b4f91",
                    "grade": false,
                    "grade_id": "cell-4925aec95aec31e8",
                    "locked": true,
                    "schema_version": 3,
                    "solution": false
                }
            },
            "source": [
                "Note from the output above that while there's a wide range of lifespans in the population, the range of mean lifespans from the resamples is comparatively narrow. \n",
                "\n",
                "Run the code below to use `matplotlib.hist` to plot the histogram of the lifespans and the resampled means. Note several new techniques:\n",
                " 1. `plt.style.use` allows you to choose among [several style options](https://tonysyu.github.io/raw_content/matplotlib-style-gallery/gallery.html). 'ggplot' is a decent one.\n",
                " 1. you can use `bins='auto'` to have the histogram function guess a good number of bins from the dataset size.\n",
                " 1. `plt.xlim(min, max)` sets range of the x-values in the plot. We use this below to make each plot be on the same x scale.\n",
                " 1. `plt.axvline(x)` will plot a line at the given x position. An optional `color` parameter can be used.\n",
                " 1. To create additional plots in one cell without piling the plots on top of one another, you can use `plt.figure()`. Try removing this call and re-run the cell...\n",
                " \n",
                "From this, you should see how very narrow the distribution of resampled means is! It's pretty rare by chance alone to get a sample with a mean more than half a day or so different..."
            ]
        },
        {
            "cell_type": "code",
            "execution_count": null,
            "metadata": {
                "deletable": false,
                "editable": false,
                "nbgrader": {
                    "cell_type": "code",
                    "checksum": "0fc84531ffff10b153bcdff2366696ce",
                    "grade": false,
                    "grade_id": "cell-436e4364c3de85f7",
                    "locked": true,
                    "schema_version": 3,
                    "solution": false
                }
            },
            "outputs": [],
            "source": [
                "%matplotlib inline\n",
                "from matplotlib import pyplot as plt\n",
                "plt.style.use('ggplot')\n",
                "\n",
                "plt.hist(lifespans, bins='auto')\n",
                "plt.xlim(min(lifespans)-1, max(lifespans)+1)\n",
                "plt.axvline(mean(lifespans), color='blue')\n",
                "plt.title('Distribution of lifespans')\n",
                "plt.figure()\n",
                "\n",
                "plt.xlim(min(lifespans)-1, max(lifespans)+1)\n",
                "plt.hist(resampled, bins='auto')\n",
                "plt.axvline(mean(lifespans), color='blue')\n",
                "plt.title('Distribution of resampled means')\n",
                "\n",
                "pass\n",
                "# \"pass\" means do nothing, which has the effect of suppressing the matplotlib barf that would otherwise\n",
                "# be printed. Try commenting it out to see..."
            ]
        },
        {
            "cell_type": "markdown",
            "metadata": {
                "deletable": false,
                "editable": false,
                "nbgrader": {
                    "cell_type": "markdown",
                    "checksum": "c11b21b6b5b948020fb9d3f49d27066c",
                    "grade": false,
                    "grade_id": "cell-8588a874c659f245",
                    "locked": true,
                    "schema_version": 3,
                    "solution": false
                }
            },
            "source": [
                "## Problem 0.1\n",
                "The mean lifespan from our sample is 10.5 days. Let's calculate percent of the time that one of the resampled datasets has a mean lifespan less than 10 days.\n",
                "\n",
                "To do so, write a more general function that will count how many times a list contains a value less than or equal to `below` or greater than or equal to `above`. Note that sometimes (as in the case above) we only want to use one of these thresholds. (For example, only count values less than the `below` threshold, and not bother with a high threshold.) To do this we will provide the function with *default arguments* that allow the user to not specify one of the thresholds.\n",
                "\n",
                "The following example demonstrates default arguments, which you have seen before, but which we haven't used in our own functions yet. Before you run the below, try to guess what the outputs will be..."
            ]
        },
        {
            "cell_type": "code",
            "execution_count": null,
            "metadata": {
                "deletable": false,
                "editable": false,
                "nbgrader": {
                    "cell_type": "code",
                    "checksum": "28aaecabd18013050129bba6bfd50b0d",
                    "grade": false,
                    "grade_id": "cell-e2817356ad4b20ea",
                    "locked": true,
                    "schema_version": 3,
                    "solution": false
                }
            },
            "outputs": [],
            "source": [
                "def test_defaults(a=1, b='b'):\n",
                "    print('a is', a)\n",
                "    print('b is', b)\n",
                "    print()\n",
                "    \n",
                "print('no arguments:')\n",
                "test_defaults()\n",
                "\n",
                "print('a=5:')\n",
                "test_defaults(a=5)\n",
                "\n",
                "print('b=5:')\n",
                "test_defaults(b=5)\n",
                "\n",
                "print('out of order:')\n",
                "test_defaults(b=5, a='a')\n",
                "\n",
                "print('no names:')\n",
                "test_defaults(4, 'c')\n",
                "\n",
                "print('only one:')\n",
                "test_defaults(4)"
            ]
        },
        {
            "cell_type": "markdown",
            "metadata": {
                "deletable": false,
                "editable": false,
                "nbgrader": {
                    "cell_type": "markdown",
                    "checksum": "c0092d97c3e91168fd73919e66196e30",
                    "grade": false,
                    "grade_id": "cell-adbdbbb19d4df314",
                    "locked": true,
                    "schema_version": 3,
                    "solution": false
                }
            },
            "source": [
                "Now, we need to choose a default value for the `below` and `above` thresholds that will let us decide whether or not to ignore those thresholds. The classic choice in python is `None`. We can detect if an argument is `None` by the following:\n",
                "```python\n",
                "def test_none(x=None):\n",
                "    if x is None:\n",
                "        print('no x specified!')\n",
                "    else:\n",
                "        print(x)\n",
                "\n",
                "def test_not_none(x=None):\n",
                "    if x is not None:\n",
                "        print(x)\n",
                "    # don't print anything if x is none...\n",
                "```\n",
                "\n",
                "Using similar logic, finish defining the `fraction_extreme` function to determine the *fraction* of values in a list that are less than or equal to `below` (if `below` is not `None`) or are greater than or equal to `above` (if `above` is not `None`). "
            ]
        },
        {
            "cell_type": "code",
            "execution_count": null,
            "metadata": {
                "deletable": false,
                "nbgrader": {
                    "cell_type": "code",
                    "checksum": "afed890701a1ec2c1d61b638d749aa81",
                    "grade": false,
                    "grade_id": "cell-ce3b91dd6b9a7dcd",
                    "locked": false,
                    "schema_version": 3,
                    "solution": true
                }
            },
            "outputs": [],
            "source": [
                "def fraction_extreme(values, below=None, above=None):\n",
                "    total = 0\n",
                "    # YOUR ANSWER HERE\n",
                "    return total\n",
                "\n",
                "print(fraction_extreme(resampled, below=10))\n",
                "print(fraction_extreme(resampled, above=11))\n",
                "print(fraction_extreme(resampled, below=10, above=11))"
            ]
        },
        {
            "cell_type": "code",
            "execution_count": null,
            "metadata": {
                "deletable": false,
                "editable": false,
                "nbgrader": {
                    "cell_type": "code",
                    "checksum": "46fed8acde1bdc5b17499f11a6f49f8a",
                    "grade": true,
                    "grade_id": "cell-2a6ffd5d0bd2019a",
                    "locked": true,
                    "points": 3,
                    "schema_version": 3,
                    "solution": false
                }
            },
            "outputs": [],
            "source": [
                "both = fraction_extreme(resampled, below=10) + fraction_extreme(resampled, above=11)\n",
                "assert abs(both - fraction_extreme(resampled, below=10, above=11)) < 0.0001\n",
                "assert fraction_extreme([1,2,3,4,5], below=2) == 2/5"
            ]
        },
        {
            "cell_type": "markdown",
            "metadata": {
                "deletable": false,
                "editable": false,
                "nbgrader": {
                    "cell_type": "markdown",
                    "checksum": "a720f79aad85cf8ab838626ef8639194",
                    "grade": false,
                    "grade_id": "cell-a46bce1a79f760a8",
                    "locked": true,
                    "schema_version": 3,
                    "solution": false
                }
            },
            "source": [
                "So, less than 2% of the time do we get a sample that has a mean less than 10 days. This suggests that we should be surprised if we ran another experiment and found such a short lifespan in those animals. (Either the genotype in the other experiment is short-lived, or the incubator temperature was different, or the media was different, or the person scoring the worms as alive or dead wasn't consistent, and on and on. We could reject the null hypothesis that the two different samples are identical, but we don't know which alternative hypothesis explains the difference!)\n",
                "\n",
                "In the next questions, we will develop these methods into specific null hypothesis significance tests."
            ]
        }
    ],
    "metadata": {
        "language_info": {
            "codemirror_mode": {
                "name": "ipython",
                "version": 3
            },
            "file_extension": ".py",
            "mimetype": "text/x-python",
            "name": "python",
            "nbconvert_exporter": "python",
            "pygments_lexer": "ipython3",
            "version": "3.7.4"
        }
    },
    "nbformat": 4,
    "nbformat_minor": 2
}