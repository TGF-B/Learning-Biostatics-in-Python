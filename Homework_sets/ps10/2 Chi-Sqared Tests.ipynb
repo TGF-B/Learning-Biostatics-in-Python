{
    "cells": [
        {
            "cell_type": "markdown",
            "metadata": {
                "deletable": false,
                "editable": false,
                "nbgrader": {
                    "cell_type": "markdown",
                    "checksum": "679e0aa4239b4630acaef824e73e631c",
                    "grade": false,
                    "grade_id": "cell-6f5ae908245612b7",
                    "locked": true,
                    "schema_version": 3,
                    "solution": false
                }
            },
            "source": [
                "# Question 2: The one-sample chi-squared test\n",
                "\n",
                "Recall from class that the chi-squared statistic is used to compare counts of categorical variables between the \"observed\" and \"expected\" cases. The definition of the statistic is:\n",
                "$$\\chi^2 = \\sum_{i = 1}^{n}\\frac{(\\textrm{observed}_i - \\textrm{expected}_i)^2}{\\textrm{expected}_i}$$\n",
                "where the summation is across the *i* different possible categories.\n",
                "\n",
                "## Problem 2.0\n",
                "The first thing we need to do to build a $\\chi^2$ test is to write a function `category_count` that will count the number of instances of each category in a list. This will be a little like our `bincount` function from the previous question, but with some salient differences. We will allow category names to be strings or numbers (or really anything), and we will store the count for each category in a dictionary.\n",
                "\n",
                "The function will take a list of all the possible categories, and a list of data containing the actual categories to count. To do this, initialize a dictionary mapping each category name to a counter that starts at zero. Then step through the data and for each element, increment the appropriate counter in the dictionary.\n",
                "\n",
                "For example, `category_count(['apple', 'banana', 'plum'], ['apple', 'apple', 'apple', 'plum'])` should return the following dictionary: `{'apple':3, 'banana':0, 'plum':1}` (Don't worry about handling the case where the data list contains a category not in the list of possible categories.)\n",
                "\n",
                "Then write a function, `chi2`, which will take the list of possible categories and two dictionaries: `observed` and `expected`. Assume that these dictionaries map from each category to the count, just as returned from the `category_count` function. For each category, calculate that category's contribution to the $\\chi^2$ statistic and add it to a running sum."
            ]
        },
        {
            "cell_type": "code",
            "execution_count": null,
            "metadata": {
                "deletable": false,
                "nbgrader": {
                    "cell_type": "code",
                    "checksum": "6d1984f936c5c2ce8ea3939773060f61",
                    "grade": false,
                    "grade_id": "cell-94e9033fe806a827",
                    "locked": false,
                    "schema_version": 3,
                    "solution": true
                }
            },
            "outputs": [],
            "source": [
                "def category_count(all_categories, values):\n",
                "    counts = {}\n",
                "    # YOUR ANSWER HERE\n",
                "    return counts\n",
                "\n",
                "def chi2(all_categories, observed, expected):\n",
                "    chi2_statistic = 0\n",
                "    # YOUR ANSWER HERE\n",
                "    return chi2_statistic\n",
                "\n",
                "fruits = ['apple', 'banana', 'plum']\n",
                "print(category_count(fruits, ['apple']*3 + ['banana']*4))\n",
                "\n",
                "observed_fruit_bowl = {'apple': 4, 'banana': 0, 'plum': 10}\n",
                "fruit_bowl_as_pictured_in_menu = {'apple': 3, 'banana': 1, 'plum': 8}\n",
                "print(chi2(fruits, observed_fruit_bowl, fruit_bowl_as_pictured_in_menu))"
            ]
        },
        {
            "cell_type": "code",
            "execution_count": null,
            "metadata": {
                "deletable": false,
                "editable": false,
                "nbgrader": {
                    "cell_type": "code",
                    "checksum": "a4a54f410e76bfd25ab95543779caa62",
                    "grade": true,
                    "grade_id": "cell-de8d8e4319e5e77e",
                    "locked": true,
                    "points": 2,
                    "schema_version": 3,
                    "solution": false
                }
            },
            "outputs": [],
            "source": [
                "assert category_count(fruits, ['plum']*100) == {'apple': 0, 'banana': 0, 'plum': 100}\n",
                "assert category_count(fruits, ['plum', 'apple', 'banana']) == {'apple': 1, 'banana': 1, 'plum': 1}\n",
                "assert chi2(fruits, observed_fruit_bowl, fruit_bowl_as_pictured_in_menu) == (1/3 + 1/1 + 4/8)"
            ]
        },
        {
            "cell_type": "markdown",
            "metadata": {
                "deletable": false,
                "editable": false,
                "nbgrader": {
                    "cell_type": "markdown",
                    "checksum": "de1a52c8cde61b45c6439b5478ba611c",
                    "grade": false,
                    "grade_id": "cell-73dc1f3f72fa39ea",
                    "locked": true,
                    "schema_version": 3,
                    "solution": false
                }
            },
            "source": [
                "Let's return to the second rat-behavior problem from class: \"do rats prefer food to electric shocks?\"\n",
                "\n",
                "Let us assume that we have again obtained 24 rats, and this time we placed each in a cage with three buttons: one that delivers food, one that does nothing, and one that delivers a mild electric discharge. We allow each rat 10 button presses, for 240 presses total. \n",
                "\n",
                "Under the null hypothesis that the rats have no preference either way, we would expect on average 80 button presses for each category. In reality, we observed 98 food-button presses, 79 nothing-button presses, and 63 shock-button presses.\n",
                "\n",
                "The setup below shows how we can calculate the $\\chi^2$ score to see how far our experimental data depart from our theoretical prediction assuming no preference. \n",
                "\n",
                "But what does this score mean? Does that mean that our data are *really* different from the theoretical prediction, or only a *little* different? That is, what's the relevant scale for comparing $\\chi^2$ scores?\n",
                "\n",
                "Again, null hypothesis significance testing comes in handy. If a $\\chi^2$ score that large could easily come about by chance just due to sampling from a population of rats that complies with our null hypothesis, then no, our data isn't really significantly different from theoretical prediction.\n",
                "\n",
                "So let's bootstrap to find out what kind of $\\chi^2$ scores we might get if the null hypothesis were true. So, how do we make our experimental data look like the null hypothesis? In the previous problems, the null hypothesis merely specified the location of the mean or the minimum of the data, so all we had to do was shift the data around a bit. Here, though, the null hypothesis completely specifies the distribution: from 24 completely unbiased rats, we would expect 80 button presses for each category. So that's our \"transformed\" dataset. \n",
                "\n",
                "You may note that the lines can get a bit blurry between \"resampling\" and \"simulation\"... which are we doing in this case?\n",
                "\n",
                "## Problem 2.1\n",
                "Finish writing the `bootstrap_chi2` function below. It takes a list of categories and a list containing the expected distribution of categories (i.e. not a dictionary of counts, but a list containing each category name the number of times it's expected to be observed). Your function should calculate the expected counts from this list (using `category_count`), and then resample the expected list repeatedly to generate a new list to get new counts from. For each new set of counts, calculate the $\\chi^2$ score compared to the expected counts, and add that score to the list of $\\chi^2$ scores to return.\n",
                "\n",
                "This will give the distribution of $\\chi^2$ scores under the null hypothesis that the observed values are distributed identically to the expected values. (Again, note that we don't need to use the actual observed values anywhere in this calculation...)\n",
                "\n",
                "Next, paste in your `fraction_extreme` function from the previous questions, and use that to calculate a p-value for the experimental $\\chi^2$ score compared to the null distribution. Store this as `p_value`. Note that this is a one-tailed value, because $\\chi^2$ scores are by definition non-negative (so there's only one direction to go from the null hypothesis that the \"true\" $\\chi^2 = 0$).\n",
                "\n",
                "Finally, plot the histogram of resampled $\\chi^2$ scores and plot the experimental value with a blue line, as before."
            ]
        },
        {
            "cell_type": "code",
            "execution_count": null,
            "metadata": {
                "deletable": false,
                "nbgrader": {
                    "cell_type": "code",
                    "checksum": "45f706cb5a7ae07f0b6e64b981c55b6f",
                    "grade": false,
                    "grade_id": "cell-5ebc3cecf34cc641",
                    "locked": false,
                    "schema_version": 3,
                    "solution": true
                }
            },
            "outputs": [],
            "source": [
                "import random\n",
                "%matplotlib inline\n",
                "from matplotlib import pyplot as plt\n",
                "plt.style.use('ggplot')\n",
                "\n",
                "buttons = ['food', 'nothing', 'shock']\n",
                "button_presses_observed = ['food']*98 + ['nothing']*79 + ['shock']*63\n",
                "button_presses_expected = ['food']*80 + ['nothing']*80 + ['shock']*80\n",
                "\n",
                "observed_button_counts = category_count(buttons, button_presses_observed)\n",
                "expected_button_counts = category_count(buttons, button_presses_expected)\n",
                "experimental_chi2 = chi2(buttons, observed_button_counts, expected_button_counts)\n",
                "print('experimental chi^2:', experimental_chi2)\n",
                "\n",
                "def bootstrap_chi2(all_categories, expected, n_resamples):\n",
                "    chi2_vals = []\n",
                "    # YOUR ANSWER HERE\n",
                "    return chi2_vals\n",
                "\n",
                "chi2s = bootstrap_chi2(buttons, button_presses_expected, 10000)\n",
                "print('bootstrap chi^2 range:', min(chi2s), max(chi2s))\n",
                "\n",
                "def fraction_extreme(values, below=None, above=None):\n",
                "    # YOUR ANSWER HERE\n",
                "\n",
                "# Now calculate the p-value and plot a histogram of the bootstrapped chi^2 values\n",
                "# vs. the experimentally observed value\n",
                "# YOUR ANSWER HERE\n",
                "\n",
                "print('p =', p_value)"
            ]
        },
        {
            "cell_type": "code",
            "execution_count": null,
            "metadata": {
                "deletable": false,
                "editable": false,
                "nbgrader": {
                    "cell_type": "code",
                    "checksum": "8cf06019e9d35e4dec3f31ea1238b0fe",
                    "grade": true,
                    "grade_id": "cell-7f6d307f246cc77f",
                    "locked": true,
                    "points": 4,
                    "schema_version": 3,
                    "solution": false
                }
            },
            "outputs": [],
            "source": [
                "assert experimental_chi2 == 7.675\n",
                "assert len(chi2s) == 10000\n",
                "assert min(chi2s) == 0\n",
                "assert max(chi2s) > 13\n",
                "assert 0.015 < p_value < 0.03"
            ]
        },
        {
            "cell_type": "markdown",
            "metadata": {
                "deletable": false,
                "editable": false,
                "nbgrader": {
                    "cell_type": "markdown",
                    "checksum": "5f590ac78dfa88e550f2c0201b862643",
                    "grade": false,
                    "grade_id": "cell-16b3dbb78656f8d3",
                    "locked": true,
                    "schema_version": 3,
                    "solution": false
                }
            },
            "source": [
                "## Problem 2.2\n",
                "So, it was pretty unlikely to have a set of category counts as far from (80, 80, 80) as our experimental data of (98, 79, 63) by chance alone. Thus we can reject the null hypothesis that the observed differences can be accounted for simply as an artifact of random sampling.\n",
                "\n",
                "What if we had run a smaller experiment, though? Repeat the above steps, using the new experimental dataset below, with half as many button presses...\n",
                "\n",
                "Calculate `experimental_chi2_2`, `chi2s_2`, and `p_value_2` as above, but using the new datasets below, and plot the relevant histogram and line."
            ]
        },
        {
            "cell_type": "code",
            "execution_count": null,
            "metadata": {
                "deletable": false,
                "nbgrader": {
                    "cell_type": "code",
                    "checksum": "5cd2defa7a38aecb80bd8ccb7f3f3afc",
                    "grade": false,
                    "grade_id": "cell-821058e4b43551b3",
                    "locked": false,
                    "schema_version": 3,
                    "solution": true
                }
            },
            "outputs": [],
            "source": [
                "button_presses_observed_2 = ['food']*49 + ['nothing']*39 + ['shock']*32\n",
                "button_presses_expected_2 = ['food']*40 + ['nothing']*40 + ['shock']*40\n",
                "\n",
                "observed_button_counts_2 = category_count(buttons, button_presses_observed_2)\n",
                "expected_button_counts_2 = category_count(buttons, button_presses_expected_2)\n",
                "\n",
                "# YOUR ANSWER HERE\n",
                "print('experimental chi^2:', experimental_chi2_2)\n",
                "print('bootstrap chi^2 range:', min(chi2s_2), max(chi2s_2))\n",
                "print('p =', p_value_2)"
            ]
        },
        {
            "cell_type": "code",
            "execution_count": null,
            "metadata": {
                "deletable": false,
                "editable": false,
                "nbgrader": {
                    "cell_type": "code",
                    "checksum": "915c7c734aef06ad117b31853e78ba9a",
                    "grade": true,
                    "grade_id": "cell-ba6b0b4426193cfe",
                    "locked": true,
                    "points": 3,
                    "schema_version": 3,
                    "solution": false
                }
            },
            "outputs": [],
            "source": [
                "assert experimental_chi2_2 == 3.65\n",
                "assert len(chi2s_2) == 10000\n",
                "assert min(chi2s_2) == 0\n",
                "assert max(chi2s_2) > 13\n",
                "assert 0.16 < p_value_2 < 0.19"
            ]
        },
        {
            "cell_type": "markdown",
            "metadata": {
                "deletable": false,
                "editable": false,
                "nbgrader": {
                    "cell_type": "markdown",
                    "checksum": "ef8d5162452237afd4d4f7c535297eaf",
                    "grade": false,
                    "grade_id": "cell-e9c8530ac0bdb03a",
                    "locked": true,
                    "schema_version": 3,
                    "solution": false
                }
            },
            "source": [
                "What a difference a little more data make, huh?\n",
                "\n",
                "In the next problem set, we'll perform a two-sample $\\chi^2$ test where experimental and control data are compared, rather than comparing experimental data against a theoretical prediction."
            ]
        }
    ],
    "metadata": {
        "kernelspec": {
            "display_name": "Python 3",
            "language": "python",
            "name": "python3"
        },
        "language_info": {
            "codemirror_mode": {
                "name": "ipython",
                "version": 3
            },
            "file_extension": ".py",
            "mimetype": "text/x-python",
            "name": "python",
            "nbconvert_exporter": "python",
            "pygments_lexer": "ipython3",
            "version": "3.11.4"
        }
    },
    "nbformat": 4,
    "nbformat_minor": 2
}
