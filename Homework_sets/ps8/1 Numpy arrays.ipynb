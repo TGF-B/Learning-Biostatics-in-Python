{
    "cells": [
        {
            "cell_type": "markdown",
            "metadata": {
                "deletable": false,
                "editable": false,
                "nbgrader": {
                    "cell_type": "markdown",
                    "checksum": "2c3ecebea5ce149c50671f2c62936e59",
                    "grade": false,
                    "grade_id": "cell-e1f495c8a875556a",
                    "locked": true,
                    "schema_version": 3,
                    "solution": false,
                    "task": false
                }
            },
            "source": [
                "# Problem 1: `numpy` arrays\n",
                "\n",
                "Arrays are part of the `numpy` package, which is used frequently in scientific computing. In fact `matplotlib` converts all lists into arrays before making plots. In this course we have emphasized building skills with Python's basic syntax and data structures. But some tasks are cumbersome with basic Python tools (such as working with lists of lists). `Numpy` arrays and associated functions make many computing tasks easier and faster, as long as you're working with floats or integers. Just as it's sometimes useful to buy a miniprep kit or polymerase master mix, rather than make them yourself, it's also often more efficient to work with pre-written software. Numpy provides a lot of powerful data analysis software that you don't want to bother writing from scratch, so it is worth becoming familiar with the basics.\n",
                "\n",
                "## Key learning goal: Understand how arrays are different from lists\n",
                "\n",
                "Arrays are in many ways like lists and lists of lists. But there are critical differences between them. Given what you already know about lists, extending your knowledge to arrays should be straightforward.\n",
                "\n",
                "This problem is mostly a self-directed tutorial, with only a few graded problems. The goal is become familiar with features of arrays.\n",
                "\n",
                "Here's the official `numpy` documentation, which will be useful to you as you continue to write code after finishing this course: https://docs.scipy.org/doc/numpy-1.13.0/index.html\n",
                "\n",
                "To begin the problem, import `numpy` as `np` in the cell below. (`np` is the standard nickname used with a `numpy` import.)"
            ]
        },
        {
            "cell_type": "code",
            "execution_count": null,
            "metadata": {},
            "outputs": [],
            "source": [
                "# import numpy here\n",
                "\n",
                "import numpy as np"
            ]
        },
        {
            "cell_type": "markdown",
            "metadata": {
                "deletable": false,
                "editable": false,
                "nbgrader": {
                    "cell_type": "markdown",
                    "checksum": "9f083e21778d059aea62a7bccec5d7ff",
                    "grade": false,
                    "grade_id": "cell-4fbbfc5ebb045477",
                    "locked": true,
                    "schema_version": 3,
                    "solution": false,
                    "task": false
                }
            },
            "source": [
                "## 1.0 Creating an array\n",
                "\n",
                "Numpy functions almost always return an array, so calling a `numpy` function is one way to generate an array. But to create an array from scratch, you typically first create a list, then use `np.array()` to convert the list to an array:\n",
                "\n",
                "```python\n",
                "a = np.array([0, 1, 2, 3, 4, 5, 6, 7, 8, 9]) # create a 1D array by calling np.array on a list\n",
                "\n",
                "# an alternative - create the list first:\n",
                "list_a = [0, 1, 2, 3, 4, 5, 6, 7, 8, 9]\n",
                "\n",
                "a = np.array(list_a)\n",
                "```\n",
                "\n",
                "### How not to create an array:\n",
                "\n",
                "The `np.array()` function takes *one* data object and converts it to an array. So the code will not work:\n",
                "\n",
                "```python\n",
                "b = np.array(0,1,2,3)\n",
                "```\n",
                "\n",
                "Can you see why?\n",
                "\n",
                "\n",
                "In the cell below, choose one of the correct methods to create an array called `a` with the numbers 0 through 9."
            ]
        },
        {
            "cell_type": "code",
            "execution_count": null,
            "metadata": {
                "deletable": false,
                "nbgrader": {
                    "cell_type": "code",
                    "checksum": "d137977f55f144ba9ee40fcc9e6fa028",
                    "grade": false,
                    "grade_id": "cell-6bbb050fc993d03e",
                    "locked": false,
                    "schema_version": 3,
                    "solution": true,
                    "task": false
                }
            },
            "outputs": [],
            "source": [
                "# YOUR ANSWER HERE"
            ]
        },
        {
            "cell_type": "code",
            "execution_count": null,
            "metadata": {
                "deletable": false,
                "editable": false,
                "nbgrader": {
                    "cell_type": "code",
                    "checksum": "112e0cbd79944ee591c601e5c4e2a6b5",
                    "grade": true,
                    "grade_id": "cell-299d705353b59534",
                    "locked": true,
                    "points": 1,
                    "schema_version": 3,
                    "solution": false,
                    "task": false
                }
            },
            "outputs": [],
            "source": [
                "assert len(a) == 10"
            ]
        },
        {
            "cell_type": "markdown",
            "metadata": {},
            "source": [
                "## 1.2 Higher dimensional arrays\n",
                "Arrays don't just have to hold a single sequence of values. Arrays can be two dimensional, like lists of lists (e.g., something with rows and columns). Arrays can have higher dimensions or axes as well, but we usually don't need that for biological data analysis.\n",
                "\n",
                "In the cell below, do the following:\n",
                "\n",
                "1) Create a list of lists that holds the data below (containing hypothetical fluoresence intensities of several pixels in a microsopy image). Each list represent x, y, and intensity values for a pixel, and the list of lists holds all three pixels. (Make up your own variable name for the list of lists.)\n",
                "\n",
                "pixel 1: (10, 0, 35)\n",
                "\n",
                "pixel 2: (3, 8, 89)\n",
                "\n",
                "pixel 3: (6, 5, 23)\n",
                "\n",
                "2) Convert the list to an array called `pixels` (using `np.array()`), and print `pixels`. \n",
                "\n",
                "\n",
                "Use `print()` to look at the array `pixels`. Does the output make sense? You can use `type()` to verify that `pixels` is an array. \n",
                "\n",
                "There is one other way to tell whether something is an array or a list. Look carefully at the output of `print(pixels)` \u2013 what punctuation mark is missing between the data values that you would expect to see in a list?\n",
                "\n"
            ]
        },
        {
            "cell_type": "code",
            "execution_count": null,
            "metadata": {
                "deletable": false,
                "nbgrader": {
                    "cell_type": "code",
                    "checksum": "04244ee8ee5ee2d9cda9b8bb530c26bf",
                    "grade": false,
                    "grade_id": "cell-ef6eebd2928ccb26",
                    "locked": false,
                    "schema_version": 3,
                    "solution": true,
                    "task": false
                }
            },
            "outputs": [],
            "source": [
                "# YOUR ANSWER HERE\n",
                "\n",
                "print(pixels)"
            ]
        },
        {
            "cell_type": "code",
            "execution_count": null,
            "metadata": {
                "deletable": false,
                "editable": false,
                "nbgrader": {
                    "cell_type": "code",
                    "checksum": "7affb4dd8a4e5821199216355fce43c8",
                    "grade": true,
                    "grade_id": "cell-5032c7d32acb3b7f",
                    "locked": true,
                    "points": 1,
                    "schema_version": 3,
                    "solution": false,
                    "task": false
                }
            },
            "outputs": [],
            "source": [
                "assert pixels.size == 9\n",
                "assert pixels.shape == (3,3)"
            ]
        },
        {
            "cell_type": "markdown",
            "metadata": {
                "deletable": false,
                "editable": false,
                "nbgrader": {
                    "cell_type": "markdown",
                    "checksum": "81fcab3688197ccaf63c38884a00b9bf",
                    "grade": false,
                    "grade_id": "cell-e832af0ff7b51e04",
                    "locked": true,
                    "schema_version": 3,
                    "solution": false,
                    "task": false
                }
            },
            "source": [
                "## Array attributes (not graded exercise)\n",
                "\n",
                "Because arrays can have one or more dimensions, there are a few commands that help you determine the properties of an array. In the cell below, try the following commands on our arrays `a` and `c`. Replace 'array_name' with the actual array variable). \n",
                "\n",
                "```python\n",
                "array_name.size\n",
                "array_name.shape\n",
                "array_name.ndim\n",
                "```\n",
                "What information does each command give you? Also try the function `len()` - what does that tell you about an array?\n",
                "\n",
                "NOTE: There are no parentheses after these commands. Why not? It's because they aren't functions, but rather *attributes* of an array. These are intrinsic properties of the array object, kind of like metadata of files on your computer. The above commands report those properties."
            ]
        },
        {
            "cell_type": "code",
            "execution_count": null,
            "metadata": {},
            "outputs": [],
            "source": [
                "# Try the array attribute commands here (not graded)\n"
            ]
        },
        {
            "cell_type": "markdown",
            "metadata": {
                "deletable": false,
                "editable": false,
                "nbgrader": {
                    "cell_type": "markdown",
                    "checksum": "5a52dc515aa9e45d48c061024aa45617",
                    "grade": false,
                    "grade_id": "cell-336fadff6d789971",
                    "locked": true,
                    "schema_version": 3,
                    "solution": false,
                    "task": false
                }
            },
            "source": [
                "To see an example of a higher (3) dimensional array, type the following into the cell below:\n",
                "```python\n",
                "np.ones((3,3,3)) # not np.array() - what is this function doing?\n",
                "```"
            ]
        },
        {
            "cell_type": "code",
            "execution_count": null,
            "metadata": {},
            "outputs": [],
            "source": []
        },
        {
            "cell_type": "markdown",
            "metadata": {
                "deletable": false,
                "editable": false,
                "nbgrader": {
                    "cell_type": "markdown",
                    "checksum": "68e0028a021862ad3b86898acafa4fe7",
                    "grade": false,
                    "grade_id": "cell-dd611692c7c32e28",
                    "locked": true,
                    "schema_version": 3,
                    "solution": false,
                    "task": false
                }
            },
            "source": [
                "## Some useful array functions\n",
                "There is a `numpy` version of `range()` just for arrays. Type the following code into the cell below, then `print()` `d` and `e` to see the differences in output:\n",
                "```python\n",
                "d = list(range(10))\n",
                "e = np.arange(10)\n",
                "```\n",
                "Look carefully at the output \u2013 `e` may look like a list, but there is an important difference in the printed output. Can you spot it?"
            ]
        },
        {
            "cell_type": "code",
            "execution_count": null,
            "metadata": {},
            "outputs": [],
            "source": []
        },
        {
            "cell_type": "markdown",
            "metadata": {
                "deletable": false,
                "editable": false,
                "nbgrader": {
                    "cell_type": "markdown",
                    "checksum": "5de380a4507c615f7ef5688fe69108d8",
                    "grade": false,
                    "grade_id": "cell-a99696c729923e3c",
                    "locked": true,
                    "schema_version": 3,
                    "solution": false,
                    "task": false
                }
            },
            "source": [
                "Here's a function similar to `np.arange()` for creating an array of evenly spaced numbers. Run this code in the cell below.\n",
                "\n",
                "```python\n",
                "np.linspace(0, 1, 6) # start, stop, number of points\n",
                "```"
            ]
        },
        {
            "cell_type": "code",
            "execution_count": null,
            "metadata": {},
            "outputs": [],
            "source": []
        },
        {
            "cell_type": "markdown",
            "metadata": {
                "deletable": false,
                "editable": false,
                "nbgrader": {
                    "cell_type": "markdown",
                    "checksum": "316ba406f05474398f0774f311941740",
                    "grade": false,
                    "grade_id": "cell-91f5dabf88961d7f",
                    "locked": true,
                    "schema_version": 3,
                    "solution": false,
                    "task": false
                }
            },
            "source": [
                "The next function is useful for initializing an empty array (filled with zeros) - run the code in the cell below:\n",
                "```python\n",
                "np.zeros((2, 10))\n",
                "```"
            ]
        },
        {
            "cell_type": "code",
            "execution_count": null,
            "metadata": {},
            "outputs": [],
            "source": [
                "np.zeros((2, 10))"
            ]
        },
        {
            "cell_type": "markdown",
            "metadata": {},
            "source": [
                "Why create an array filled with zeros? **As you'll see below, appending to arrays (unlike lists) is not very efficient.** Generally, you want to avoid appending new data to arrays. The best practice is to either: \n",
                "\n",
                "1) Create a list using `.append()`, then covert the list to an array once all items have been appended.\n",
                "\n",
                "\n",
                "2) First create an empty array of the size of your final dataset (using `np.zeros()`), then fill in the array with your data.\n",
                "\n",
                "Bottom line, `np.zeros()` is a handy function for pre-building arrays before you add your actual data."
            ]
        },
        {
            "cell_type": "markdown",
            "metadata": {},
            "source": [
                "## 1.3 Indexing and slicing arrays\n",
                "Indexing a 1D array is similar to indexing a list. In the cell below, do the following, using the array `a` that you created at the beginning:\n",
                "\n",
                "1) Use indexing to assign the 4th element of the array `a` to the variable `b`.\n",
                "\n",
                "2) Use a slice to grab the last three elements of `a` and assign the result to the variable `c`\n",
                "\n",
                "\n",
                "\n",
                "Slices also work. Use a slice to print the last three elements of `a`."
            ]
        },
        {
            "cell_type": "code",
            "execution_count": null,
            "metadata": {
                "deletable": false,
                "nbgrader": {
                    "cell_type": "code",
                    "checksum": "d6940431f91f67ce697b1e0992f0b688",
                    "grade": false,
                    "grade_id": "cell-516ab9bfc5ed6636",
                    "locked": false,
                    "schema_version": 3,
                    "solution": true,
                    "task": false
                }
            },
            "outputs": [],
            "source": [
                "# Graded answer\n",
                "\n",
                "# YOUR ANSWER HERE"
            ]
        },
        {
            "cell_type": "code",
            "execution_count": null,
            "metadata": {
                "deletable": false,
                "editable": false,
                "nbgrader": {
                    "cell_type": "code",
                    "checksum": "fd41b65fc06761cfd7d6afd592488882",
                    "grade": true,
                    "grade_id": "cell-3913cc68be65feb0",
                    "locked": true,
                    "points": 1,
                    "schema_version": 3,
                    "solution": false,
                    "task": false
                }
            },
            "outputs": [],
            "source": [
                "assert type(c) == type(a)\n",
                "assert isinstance(b, np.int64)"
            ]
        },
        {
            "cell_type": "markdown",
            "metadata": {
                "deletable": false,
                "editable": false,
                "nbgrader": {
                    "cell_type": "markdown",
                    "checksum": "e89e0c49b96c833cd0d253f96b82f20d",
                    "grade": false,
                    "grade_id": "cell-ecd7da4f71564b08",
                    "locked": true,
                    "schema_version": 3,
                    "solution": false,
                    "task": false
                }
            },
            "source": [
                "Indexing a 2D array is much easier than it was with a list of lists - this is a case where it works just as you expect:\n",
                "```python\n",
                "my_array[row][column] # same applied to higher dimensions\n",
                "```\n",
                "\n",
                "In the cell below, use indexing to get *the y coordinate of the third pixel in the array `pixels`* (third row, second column). Assign the answer to the variable `pixel3`."
            ]
        },
        {
            "cell_type": "code",
            "execution_count": null,
            "metadata": {
                "deletable": false,
                "nbgrader": {
                    "cell_type": "code",
                    "checksum": "3e646ce288523703d1bd941aa6559f5f",
                    "grade": false,
                    "grade_id": "cell-d4ce6ae2deb78566",
                    "locked": false,
                    "schema_version": 3,
                    "solution": true,
                    "task": false
                }
            },
            "outputs": [],
            "source": [
                "# Graded answer\n",
                "\n",
                "# YOUR ANSWER HERE"
            ]
        },
        {
            "cell_type": "code",
            "execution_count": null,
            "metadata": {
                "deletable": false,
                "editable": false,
                "nbgrader": {
                    "cell_type": "code",
                    "checksum": "e848f60bee8ca21cada258b0aac59784",
                    "grade": true,
                    "grade_id": "cell-276f4047cec6b278",
                    "locked": true,
                    "points": 1,
                    "schema_version": 3,
                    "solution": false,
                    "task": false
                }
            },
            "outputs": [],
            "source": [
                "assert pixel3 ==5\n",
                "assert isinstance(pixel3, np.integer)"
            ]
        },
        {
            "cell_type": "markdown",
            "metadata": {},
            "source": [
                "## An even better way to index arrays with more than one dimension\n",
                "There is a better (and, under the hood, faster) way to do this. Rather than use a separate set of square indexing brackets for each array dimension, you just put the indicies within a single set of square brackets:\n",
                "\n",
                "```python\n",
                "b[2,0] # better than writing b[2][0]\n",
                "```\n",
                "Try accessing the y coordinate of the third pixel again, but use this more efficient approach."
            ]
        },
        {
            "cell_type": "code",
            "execution_count": null,
            "metadata": {},
            "outputs": [],
            "source": [
                "# Non-graded answer. Try faster index below\n",
                "\n"
            ]
        },
        {
            "cell_type": "markdown",
            "metadata": {
                "deletable": false,
                "editable": false,
                "nbgrader": {
                    "cell_type": "markdown",
                    "checksum": "1752094c8c7edc372a2407a99296ec3a",
                    "grade": false,
                    "grade_id": "cell-4af80d7fb6ce8422",
                    "locked": true,
                    "schema_version": 3,
                    "solution": false,
                    "task": false
                }
            },
            "source": [
                "## 1.4 Accessing rows and columns with arrays\n",
                "\n",
                "Another great feature of arrays is that you can slice over more than one dimension. Remember, we could not do that for lists of lists. For example, this doesn't work:\n",
                "\n",
                "```python\n",
                "list_of_lists[:3][:2] # will throw error\n",
                "```\n",
                "But with arrays, you can, as long as you put your slices in a single set of square brackets:\n",
                "```python\n",
                "b[:3, :2] # first three rows, first two columns\n",
                "```\n",
                "In the cell below, use this syntax to grab the pixel intensities (values of the third column) of all three pixels in `pixels`. (Created above in section 1.2.) Assign the answer to the variable `intensities`."
            ]
        },
        {
            "cell_type": "code",
            "execution_count": null,
            "metadata": {
                "deletable": false,
                "nbgrader": {
                    "cell_type": "code",
                    "checksum": "bc385f51c5a55be2650dfed484f13105",
                    "grade": false,
                    "grade_id": "cell-d3e4c0c738a8ad8b",
                    "locked": false,
                    "schema_version": 3,
                    "solution": true,
                    "task": false
                }
            },
            "outputs": [],
            "source": [
                "# Graded answer\n",
                "\n",
                "# YOUR ANSWER HERE"
            ]
        },
        {
            "cell_type": "code",
            "execution_count": null,
            "metadata": {
                "deletable": false,
                "editable": false,
                "nbgrader": {
                    "cell_type": "code",
                    "checksum": "8798000ea0a69d011161dd80e3b501f5",
                    "grade": true,
                    "grade_id": "cell-42f5b9302833a2a8",
                    "locked": true,
                    "points": 2,
                    "schema_version": 3,
                    "solution": false,
                    "task": false
                }
            },
            "outputs": [],
            "source": [
                "assert intensities[1] == 89\n",
                "assert isinstance(intensities, np.ndarray)"
            ]
        },
        {
            "cell_type": "markdown",
            "metadata": {
                "deletable": false,
                "editable": false,
                "nbgrader": {
                    "cell_type": "markdown",
                    "checksum": "4f210b8c2bac549b9695232ebd07cbd4",
                    "grade": false,
                    "grade_id": "cell-a47502b706273ccb",
                    "locked": true,
                    "schema_version": 3,
                    "solution": false,
                    "task": false
                }
            },
            "source": [
                "## Math is concise and fast with arrays - no need for `for` loops\n",
                "\n",
                "If you wanted to square all numbers in a list, you would do it with a for loop, or more concisely, with a list comprehension. Squaring all numbers in an array is easier and faster. More generally, math operations applied to an array operate element by element, *without the need to write a `for` loop*. Run the cell below to see this."
            ]
        },
        {
            "cell_type": "code",
            "execution_count": null,
            "metadata": {},
            "outputs": [],
            "source": [
                "my_array = np.array([1, 2, 3, 4])\n",
                "my_array**2 # square each element - what would happen if you tried this with a list?"
            ]
        },
        {
            "cell_type": "markdown",
            "metadata": {
                "deletable": false,
                "editable": false,
                "nbgrader": {
                    "cell_type": "markdown",
                    "checksum": "a3e991b18dbcf2beb7717bac69772df5",
                    "grade": false,
                    "grade_id": "cell-5cf27c9fd803f02f",
                    "locked": true,
                    "schema_version": 3,
                    "solution": false,
                    "task": false
                }
            },
            "source": [
                "To see how much faster math is on arrays, let's use the `%timeit` magic function. Use `%timeit` before a statement to see how long it takes to execute:\n",
                "\n",
                "```python\n",
                "my_list = [1, 2, 3]\n",
                "%timeit [i + 1 for i in my_list] # time a list comprehension to add one to each element\n",
                "```\n",
                "In the cell below, do the following:\n",
                "\n",
                "1. Use `list(range(1000))` to create a list of the numbers 0 to 999, and assign it to the variable `numbers_list`.\n",
                "2. Then use `%timeit` to see how long it takes square all numbers in `numbers_list` using list comprehension."
            ]
        },
        {
            "cell_type": "code",
            "execution_count": null,
            "metadata": {},
            "outputs": [],
            "source": [
                "# Non-graded answer - just try the code in the next two answer cells\n"
            ]
        },
        {
            "cell_type": "markdown",
            "metadata": {
                "deletable": false,
                "editable": false,
                "nbgrader": {
                    "cell_type": "markdown",
                    "checksum": "bd0a2ab33d5210582ede8e44b91f9698",
                    "grade": false,
                    "grade_id": "cell-8fe257c9e7908856",
                    "locked": true,
                    "schema_version": 3,
                    "solution": false,
                    "task": false
                }
            },
            "source": [
                "In the next cell, do the same with an array. Use `np.arange()` to create an array with the numbers 0 to 999, and call it `numbers_array`. Then use `%timeit` to see how long it takes to square all numbers in the array. Using `numpy` is more than 200 times faster than a regular `for` loop."
            ]
        },
        {
            "cell_type": "code",
            "execution_count": null,
            "metadata": {},
            "outputs": [],
            "source": []
        },
        {
            "cell_type": "markdown",
            "metadata": {
                "deletable": false,
                "editable": false,
                "nbgrader": {
                    "cell_type": "markdown",
                    "checksum": "c1067e9f6dd1004ab6db30714a3fd5da",
                    "grade": false,
                    "grade_id": "cell-eeed87dd2abfc78f",
                    "locked": true,
                    "schema_version": 3,
                    "solution": false,
                    "task": false
                }
            },
            "source": [
                "## 1.5 How arrays are *not* like lists\n",
                "\n",
                "You've seen a few ways in which arrays are not like lists: \n",
                "\n",
                "1) Indexing and slicing across multiple dimensions is simpler with arrays. \n",
                "\n",
                "2) Element by element math works on arrays without a `for` loop.\n",
                "\n",
                "Another important way arrays are different from lists is that *arrays only hold a single data type.* \n",
                "\n",
                "In the cell below, create a list called `list_h` with the following three values: the integer 1, the float 2.5, and the string DNA (remember you need quotes for strings).\n",
                "\n",
                "Then use the `np.array()` function to convert `list_h` to an array called `array_h`. Finally, print out `list_h` and `array_h`. "
            ]
        },
        {
            "cell_type": "code",
            "execution_count": null,
            "metadata": {
                "deletable": false,
                "nbgrader": {
                    "cell_type": "code",
                    "checksum": "721da0ab82a86799c1224aa683d4e8e5",
                    "grade": false,
                    "grade_id": "cell-6416384d566ce171",
                    "locked": false,
                    "schema_version": 3,
                    "solution": true,
                    "task": false
                }
            },
            "outputs": [],
            "source": [
                "# Graded answer\n",
                "\n",
                "# YOUR ANSWER HERE\n",
                "\n",
                "print(list_h, array_h)"
            ]
        },
        {
            "cell_type": "code",
            "execution_count": null,
            "metadata": {
                "deletable": false,
                "editable": false,
                "nbgrader": {
                    "cell_type": "code",
                    "checksum": "91abc9315d654fcf2be0247f2a31b08d",
                    "grade": true,
                    "grade_id": "cell-41b7432f10f23144",
                    "locked": true,
                    "points": 1,
                    "schema_version": 3,
                    "solution": false,
                    "task": false
                }
            },
            "outputs": [],
            "source": [
                "assert array_h[1] == '2.5'"
            ]
        },
        {
            "cell_type": "markdown",
            "metadata": {
                "deletable": false,
                "editable": false,
                "nbgrader": {
                    "cell_type": "markdown",
                    "checksum": "5fa389b458bccabb189df7ff248e9ba0",
                    "grade": false,
                    "grade_id": "cell-cb2ea8a8694e968d",
                    "locked": true,
                    "schema_version": 3,
                    "solution": false,
                    "task": false
                }
            },
            "source": [
                "As you can see, by converting `list_h` into an array, all the list elements were converted into a single data type. What data type is that? Write your answer in the cell below. (This answer is graded.)"
            ]
        },
        {
            "cell_type": "markdown",
            "metadata": {
                "deletable": false,
                "nbgrader": {
                    "cell_type": "markdown",
                    "checksum": "7cc3fada64c26e72a6e0b46720888809",
                    "grade": true,
                    "grade_id": "cell-d251ca82dc21a628",
                    "locked": false,
                    "points": 1,
                    "schema_version": 3,
                    "solution": true,
                    "task": false
                }
            },
            "source": [
                "YOUR ANSWER HERE"
            ]
        },
        {
            "cell_type": "markdown",
            "metadata": {
                "deletable": false,
                "editable": false,
                "nbgrader": {
                    "cell_type": "markdown",
                    "checksum": "b617efadca8358f0afde8ea4d2d3fde9",
                    "grade": false,
                    "grade_id": "cell-4f9c3b0d91a64670",
                    "locked": true,
                    "schema_version": 3,
                    "solution": false,
                    "task": false
                }
            },
            "source": [
                "### Key takeaway: arrays generally hold only one data type\n",
                "\n",
                "Because all elements of an array have to be of the same type, the `np.array()` function coerces all elements to be a single data type, in a way that depends on what can be coerced into what. For example, strings can't be forced into integers, but it's easy to make an integer into a string.\n",
                "\n",
                "You can actually include multiple data types in an array by defining your own complex data type. It gets ugly quickly, but if you want to see how to do it, check out this page: http://www.python-course.eu/numpy_dtype.php"
            ]
        },
        {
            "cell_type": "markdown",
            "metadata": {
                "deletable": false,
                "editable": false,
                "nbgrader": {
                    "cell_type": "markdown",
                    "checksum": "c3efabbf163a0ec357f145ef3cc72e44",
                    "grade": false,
                    "grade_id": "cell-35a4cf6d4c9707c2",
                    "locked": true,
                    "schema_version": 3,
                    "solution": false,
                    "task": false
                }
            },
            "source": [
                "### Iterating over an array\n",
                "\n",
                "You can iterate over arrays with a for loop using the same syntax used for looping over lists (`for item in list:`). It's easiest with a one dimentional array. In the cell below, write a for loop that iterates over the 1D array `a` and prints out each value. Then in the next cell, do the same thing for the 2D array `pixels`. Do the results make sese?"
            ]
        },
        {
            "cell_type": "code",
            "execution_count": null,
            "metadata": {},
            "outputs": [],
            "source": [
                "# Non-graded answer\n",
                "\n",
                "for element in pixels:\n",
                "    print(element)\n",
                "    \n",
                "for element in a:\n",
                "    print(element)"
            ]
        },
        {
            "cell_type": "markdown",
            "metadata": {
                "deletable": false,
                "editable": false,
                "nbgrader": {
                    "cell_type": "markdown",
                    "checksum": "74dd91cec15160a025c73fe73f514659",
                    "grade": false,
                    "grade_id": "cell-62e6fdb82245cb63",
                    "locked": true,
                    "schema_version": 3,
                    "solution": false,
                    "task": false
                }
            },
            "source": [
                "## Appending to arrays\n",
                "Arrays have their own special append function, but beware, it's different from list append:\n",
                "```python\n",
                "a = np.append(a,10) # note, np.append returns a *copy* of the array, so you need to assign to variable\n",
                "```\n",
                "Try that in the cell below. Then type `np.append?` to learn more. Appending to arrays can get complicated \u2013 you have to think about array dimensions and data types. Try experimenting with the append function and the 2D array `pixels`. (For example, append a list of three numbers to `pixels`. Then try appending a number to *one* of the lists of three numbers in `pixels`, to make a list of 4 numbers. What works and what gives you an error?)\n",
                "\n",
                "**NOTE:** `np.append()` is generally not something you want to use much because it's inherently inefficient. We append to lists frequently, but arrays are not meant to used in this way. This has to do with how arrays versus lists are stored in memory. Appending something to the array changes the array size, which requires new memory allocation in a way not required of lists. Therefore it's best to first build your dataset as a list, then convert it to an array."
            ]
        },
        {
            "cell_type": "code",
            "execution_count": null,
            "metadata": {},
            "outputs": [],
            "source": [
                "# Non-graded cell\n"
            ]
        },
        {
            "cell_type": "markdown",
            "metadata": {
                "deletable": false,
                "editable": false,
                "nbgrader": {
                    "cell_type": "markdown",
                    "checksum": "c9113c90441813c0ab402d49d70e682d",
                    "grade": false,
                    "grade_id": "cell-72f54006e0fa83bd",
                    "locked": true,
                    "schema_version": 3,
                    "solution": false,
                    "task": false
                }
            },
            "source": [
                "## 1.6 Math functions:\n",
                "\n",
                "Some convient math functoins for arrays will look familiar. Try these for array `a` in the cell below. (Use print, or just rerun the cell with each new function.)\n",
                "\n",
                "```\n",
                "array_name.sum()\n",
                "array_name.min()\n",
                "array_name.max()\n",
                "array_name.mean()\n",
                "array_name.var()\n",
                "array_name.std()\n",
                "```"
            ]
        },
        {
            "cell_type": "code",
            "execution_count": null,
            "metadata": {},
            "outputs": [],
            "source": [
                "# Non-graded cell\n"
            ]
        },
        {
            "cell_type": "markdown",
            "metadata": {
                "deletable": false,
                "editable": false,
                "nbgrader": {
                    "cell_type": "markdown",
                    "checksum": "19b42fe8b37ee2efc7299ac8a8525ac0",
                    "grade": false,
                    "grade_id": "cell-4bf5219abd3acfde",
                    "locked": true,
                    "schema_version": 3,
                    "solution": false,
                    "task": false
                }
            },
            "source": [
                "The same functions work on multi-dimensional arrays too. For example, for our array `b` you can calculate sums or means along rows or columns using the axis parameter like this:\n",
                "\n",
                "```\n",
                "pixels.sum(axis=0)\n",
                "```\n",
                "Try these the cell below, first for axis 0 of array `pixels`, then for axis 1. Which axis represents rows, and which columns? Are the results of each function what you expected? \n",
                "\n",
                "Then, in the next cell, use indexing and the built-in array mean function to take the mean of the pixel intensities (third column) in the array `pixels`. Assin the result to the variable `mean_intensity`."
            ]
        },
        {
            "cell_type": "code",
            "execution_count": null,
            "metadata": {},
            "outputs": [],
            "source": [
                "# Non-graded cell to test functions\n"
            ]
        },
        {
            "cell_type": "code",
            "execution_count": null,
            "metadata": {
                "deletable": false,
                "nbgrader": {
                    "cell_type": "code",
                    "checksum": "1ea7fcfd039b9becb164ebbacb49ed1b",
                    "grade": false,
                    "grade_id": "cell-077703ff3f6ce451",
                    "locked": false,
                    "schema_version": 3,
                    "solution": true,
                    "task": false
                }
            },
            "outputs": [],
            "source": [
                "# Calculate mean of 3rd column of pixels\n",
                "# Graded answer\n",
                "\n",
                "# YOUR ANSWER HERE"
            ]
        },
        {
            "cell_type": "code",
            "execution_count": null,
            "metadata": {
                "deletable": false,
                "editable": false,
                "nbgrader": {
                    "cell_type": "code",
                    "checksum": "8f33875d2d8c8a79e3ac9fabc6ab59e3",
                    "grade": true,
                    "grade_id": "cell-ffc59ff8e4920fc9",
                    "locked": true,
                    "points": 1,
                    "schema_version": 3,
                    "solution": false,
                    "task": false
                }
            },
            "outputs": [],
            "source": [
                "assert int(mean_intensity) == 49"
            ]
        },
        {
            "cell_type": "markdown",
            "metadata": {
                "deletable": false,
                "editable": false,
                "nbgrader": {
                    "cell_type": "markdown",
                    "checksum": "6bf17353068c97d884a5d8c8a82bb85f",
                    "grade": false,
                    "grade_id": "cell-cc3e35a9a34d6447",
                    "locked": true,
                    "schema_version": 3,
                    "solution": false,
                    "task": false
                }
            },
            "source": [
                "## 1.7 Read in file data with NumPy\n",
                "\n",
                "In this course we emphasize writing code from basic building blocks. You've learned how to read in and process file data by writing a for loop. However, there is a shortcut to use when you want to load your data into a numpy array:\n",
                "\n",
                "```python\n",
                "data = np.loadtxt(fname='my_file.csv', delimiter=',')\n",
                "```\n",
                "\n",
                "Use this command to load the data from the file `cell_cycle.txt` and save it as an array called `data`. (The delimiter will be the tab character, `'\\t'`.)\n",
                "\n",
                "This is the yeast cell cycle gene expression data we briefly worked with in earlier lectures. There is a header row, indicating each time point. The remaining data are gene expression values, one gene per row, across the cell cycle."
            ]
        },
        {
            "cell_type": "code",
            "execution_count": null,
            "metadata": {
                "deletable": false,
                "nbgrader": {
                    "cell_type": "code",
                    "checksum": "d91154656b83979e66821b575f96b1f6",
                    "grade": false,
                    "grade_id": "cell-daa6f0cd87e895e9",
                    "locked": false,
                    "schema_version": 3,
                    "solution": true,
                    "task": false
                }
            },
            "outputs": [],
            "source": [
                "# Load cell_cycle.txt\n",
                "# Graded answer\n",
                "\n",
                "# YOUR ANSWER HERE"
            ]
        },
        {
            "cell_type": "code",
            "execution_count": null,
            "metadata": {
                "deletable": false,
                "editable": false,
                "nbgrader": {
                    "cell_type": "code",
                    "checksum": "1aeab931855d0119572679741925c237",
                    "grade": true,
                    "grade_id": "cell-4e58241b8d825c26",
                    "locked": true,
                    "points": 1,
                    "schema_version": 3,
                    "solution": false,
                    "task": false
                }
            },
            "outputs": [],
            "source": [
                "assert data.ndim == 2"
            ]
        },
        {
            "cell_type": "markdown",
            "metadata": {
                "deletable": false,
                "editable": false,
                "nbgrader": {
                    "cell_type": "markdown",
                    "checksum": "fa95724670d4a42ee1bcf918e2255302",
                    "grade": false,
                    "grade_id": "cell-b9bf8c8364d31e03",
                    "locked": true,
                    "schema_version": 3,
                    "solution": false,
                    "task": false
                }
            },
            "source": [
                "Once you've loaded the file data into an array called `data` experiment with indexing, slices, `len()`, `.shape`, `.ndim` to look at the array. For example, try printing out just the header row, or the last three rows. Is this a two dimensional array, as expected?"
            ]
        },
        {
            "cell_type": "code",
            "execution_count": null,
            "metadata": {},
            "outputs": [],
            "source": [
                "# Non-graded cell to test array features"
            ]
        },
        {
            "cell_type": "markdown",
            "metadata": {
                "deletable": false,
                "editable": false,
                "nbgrader": {
                    "cell_type": "markdown",
                    "checksum": "d67eff57d9bb93a9f34e6f177c6a7642",
                    "grade": false,
                    "grade_id": "cell-1e8b369e5db4f394",
                    "locked": true,
                    "schema_version": 3,
                    "solution": false,
                    "task": false
                }
            },
            "source": [
                "Next, plot some of this data.\n",
                "\n",
                "In the cell below, first run the standard commands to set up and import `matplotlib.pyplot`:\n",
                "\n",
                "```python\n",
                "%matplotlib inline\n",
                "import matplotlib.pyplot as plt\n",
                "```\n",
                "\n",
                "Then, assign the header row of `data` to a new variable `time_points`. These will be our x-axis values. The y-axis will show gene expression levels.\n",
                "\n",
                "What data type is `time_points`? (Use `type()` to check.)"
            ]
        },
        {
            "cell_type": "code",
            "execution_count": null,
            "metadata": {
                "deletable": false,
                "nbgrader": {
                    "cell_type": "code",
                    "checksum": "20fd57d6ce85a9a8defeebbd38a80355",
                    "grade": false,
                    "grade_id": "cell-58ad527961ac1384",
                    "locked": false,
                    "schema_version": 3,
                    "solution": true,
                    "task": false
                }
            },
            "outputs": [],
            "source": [
                "# Graded answer - create variable time_points\n",
                "\n",
                "# YOUR ANSWER HERE\n",
                "print(time_points, type(time_points))"
            ]
        },
        {
            "cell_type": "code",
            "execution_count": null,
            "metadata": {
                "deletable": false,
                "editable": false,
                "nbgrader": {
                    "cell_type": "code",
                    "checksum": "44b793d63fc436b0af813e49469033f5",
                    "grade": true,
                    "grade_id": "cell-781a91b893515297",
                    "locked": true,
                    "points": 1,
                    "schema_version": 3,
                    "solution": false,
                    "task": false
                }
            },
            "outputs": [],
            "source": [
                "assert 25 == len(time_points)"
            ]
        },
        {
            "cell_type": "markdown",
            "metadata": {
                "deletable": false,
                "editable": false,
                "nbgrader": {
                    "cell_type": "markdown",
                    "checksum": "20161bc9beabd4dbfb59d5a789c91773",
                    "grade": false,
                    "grade_id": "cell-271356239cf4802a",
                    "locked": true,
                    "schema_version": 3,
                    "solution": false,
                    "task": false
                }
            },
            "source": [
                "Next, plot all the the *non-header* rows of `data` (y-axis values) against `time_points` (x-axis values), using the `plt.plot()` function. Remember, `plt.plot()` takes two arguments - a list (or array) of x values and a list (or array) of y values.\n",
                "\n",
                "In the cell below, plot *the first* row of `data`, using `time_points` and a slice on `data`."
            ]
        },
        {
            "cell_type": "code",
            "execution_count": null,
            "metadata": {},
            "outputs": [],
            "source": [
                "# Non-graded answer\n"
            ]
        },
        {
            "cell_type": "markdown",
            "metadata": {
                "deletable": false,
                "editable": false,
                "nbgrader": {
                    "cell_type": "markdown",
                    "checksum": "e15e76402e566fcc4863da8137248a5b",
                    "grade": false,
                    "grade_id": "cell-6c269512b2358775",
                    "locked": true,
                    "schema_version": 3,
                    "solution": false,
                    "task": false
                }
            },
            "source": [
                "Next, plot all of the non-header rows by using a `for` loop. The loop should iterate over *all but the first row of `data`.* (Use a slice of `data` in your `for` statement, like this: `for row in data[1:]:`.) Each time through the loop, call `plt.plot()` to plot the current row."
            ]
        },
        {
            "cell_type": "code",
            "execution_count": null,
            "metadata": {},
            "outputs": [],
            "source": [
                "# Non-graded answer\n"
            ]
        },
        {
            "cell_type": "markdown",
            "metadata": {},
            "source": [
                "## Averaging over columns and rows in a 2D array\n",
                "\n",
                "When we worked with lists of lists, we had to use a for loop (or list comprehension) to take averages over rows or columns of data. This averaging over a data column is much easier with arrays. \n",
                "\n",
                "Your next task is to calculate the average expression for each gene (that is, each row in `data` **except** the header row), over the **first six** time points (i.e., the first six columns).\n",
                "\n",
                "To do this without a for loop, you can simply apply the `np.mean()` function `data`. Here's an example:\n",
                "\n",
                "```python\n",
                "col_averages = np.mean(my_array, axis = 0) # axis = 0 averages over the *rows* for each column\n",
                "row_averages = np.mean(my_array, axis=1) # axis = 1 averages over *columns* for each row\n",
                "```\n",
                "\n",
                "The `axis` argument is important to understand, since it's used in many functions that operate on arrays. Axis 0 of an array refers to the first array dimension, e.g., the elements you would get with your first indexing number, like `data[2]`. A one-dimensional array has only one axis, obviously, axis 0. A two-dimensional array has axis 0 and axis 1, a 3D array has axes 0-2, etc.\n",
                "\n",
                "In a 2D array, axis 0 can be thought of as the rows, and axis 1 as the columns. So `np.mean(my_array, axis = 0)` gives you *column* averages because you are averaging *over the row axis*, that is, over all the rows.\n",
                "\n",
                "In the cell below, use `np.mean()` to calculate the average expression of each gene (i.e., *row* averages) for the first six time points. The examples above show how to do this for all columns. Use a slice on `data` to get the column averages for the first six columns. Remember to exclude the header row!\n",
                "\n",
                "Assign the result to `gene_avgs`."
            ]
        },
        {
            "cell_type": "code",
            "execution_count": null,
            "metadata": {
                "deletable": false,
                "nbgrader": {
                    "cell_type": "code",
                    "checksum": "0af1b030b6f1091dc4a66c7f9ea47df3",
                    "grade": false,
                    "grade_id": "cell-57a33826884c3e9e",
                    "locked": false,
                    "schema_version": 3,
                    "solution": true,
                    "task": false
                }
            },
            "outputs": [],
            "source": [
                "# Graded answer\n",
                "\n",
                "# YOUR ANSWER HERE\n"
            ]
        },
        {
            "cell_type": "code",
            "execution_count": null,
            "metadata": {
                "deletable": false,
                "editable": false,
                "nbgrader": {
                    "cell_type": "code",
                    "checksum": "d218c7c75fa3eec217a9006d8180332e",
                    "grade": true,
                    "grade_id": "cell-624bd72693c3b051",
                    "locked": true,
                    "points": 2,
                    "schema_version": 3,
                    "solution": false,
                    "task": false
                }
            },
            "outputs": [],
            "source": [
                "assert gene_avgs.shape == (99,)\n",
                "assert 0.2629 < gene_avgs[10] < 0.2630\n",
                "assert -0.0312 < np.mean(gene_avgs) < -0.0311"
            ]
        },
        {
            "cell_type": "markdown",
            "metadata": {
                "deletable": false,
                "editable": false,
                "nbgrader": {
                    "cell_type": "markdown",
                    "checksum": "5bd398676a05f165134df756623afcae",
                    "grade": false,
                    "grade_id": "cell-c216582deb5871cc",
                    "locked": true,
                    "schema_version": 3,
                    "solution": false,
                    "task": false
                }
            },
            "source": [
                "## 1.8 Practicing Element by Element Operations With Arrays\n",
                "\n",
                "Below are the results of a two-color luciferase reporter gene assay, performed in a 96 well plate. For each well, there is a green measurement (the control reporter, the list `green`) and a red measurement (the test reporter, the list `red`). Run the cell below to load the data."
            ]
        },
        {
            "cell_type": "code",
            "execution_count": null,
            "metadata": {},
            "outputs": [],
            "source": [
                "# Run this cell\n",
                "red = [  75.06789969,  102.6761147 ,  105.80468261,   91.32053303,\n",
                "         94.81085526,  123.13513035,  105.18699967,  102.52030289,\n",
                "         88.56186704,   97.56377875,  118.16973774,   97.25039381,\n",
                "         94.02892511,   70.88551784,   89.90737712,   92.46419686,\n",
                "         75.01544288,  105.93009074,   89.42360156,   71.93031026,\n",
                "        111.45803265,  109.2387486 ,   87.16146403,   74.54965171,\n",
                "         93.14081199,   85.15774173,  119.83568919,  131.46453267,\n",
                "        124.73590733,   80.20070033,  102.53917546,  106.38963365,\n",
                "        107.69692525,  105.97778478,  102.39125882,   93.91543072,\n",
                "         82.38649633,   95.98291161,   93.38359085,  107.33904336,\n",
                "        108.59808569,  110.15603312,   86.71854631,   97.57525572,\n",
                "         88.41521212,   99.21128443,   93.31129435,  105.98018753,\n",
                "         80.36089216,  112.72033678,   99.54035572,  132.52076639,\n",
                "        110.73406648,  104.70161138,  112.78952785,   96.07567285,\n",
                "         91.97611987,  116.21238255,   76.59076397,   96.48804188,\n",
                "         87.51085807,   87.36755846,  111.6409671 ,  104.72468052,\n",
                "        121.33189269,  101.74353757,   70.43838411,  109.27861276,\n",
                "         88.37094794,   71.65313041,   94.40397085,  104.22731807,\n",
                "        100.51691116,   71.3525646 ,   94.88456141,   97.67093936,\n",
                "         97.74755503,   93.38834725,   76.36626406,  124.94518032,\n",
                "         98.39223498,   96.84341551,  117.88054516,  102.6533986 ,\n",
                "         82.83899181,   71.54005462,  120.25959834,  100.6473819 ,\n",
                "         98.83913644,  139.37448277,  105.36258277,  113.30474148,\n",
                "         87.00635691,  101.88296106,  106.88937415,   78.80771799]\n",
                "\n",
                "green = [  9.44794457,  11.02191701,   9.12734783,  12.06936672,\n",
                "         9.75529923,  10.09647493,  11.30731366,   6.77353594,\n",
                "        12.30478573,   8.3746339 ,   8.33274671,   9.98814856,\n",
                "         6.95522297,   9.97492289,  13.74362915,   5.78911019,\n",
                "        11.97888824,   6.06880946,  10.92527125,  11.5591475 ,\n",
                "        12.17907135,  10.86482997,  10.05318254,   8.88161624,\n",
                "         9.29767555,  11.96684094,   8.02057314,   8.30002577,\n",
                "        10.24994511,   7.07860487,  11.4631994 ,   8.70756227,\n",
                "         6.52934609,  10.95439525,   9.12974836,   7.54861306,\n",
                "        10.14259259,  11.38768161,   9.37378845,   8.3745961 ,\n",
                "        12.5271594 ,   9.24121746,   6.08488598,  11.16757983,\n",
                "        12.54897223,  14.56168373,  15.32761802,   7.2858463 ,\n",
                "         7.20713393,   9.07103501,  12.47403878,  10.50002976,\n",
                "         5.67374945,  11.02314955,  11.66384027,   9.04565327,\n",
                "        12.93272115,  10.49581989,  11.34283136,   8.72258147,\n",
                "         9.66582856,   9.0737323 ,   9.43100488,   7.93671749,\n",
                "        11.02899911,  12.03540981,   9.03346529,   8.31858648,\n",
                "        13.00019911,  10.83834909,   5.7958448 ,   6.02205257,\n",
                "        14.13883493,   9.74121018,  11.71495384,   8.93387281,\n",
                "        12.51727825,  12.36010242,   8.55949812,   7.14193118,\n",
                "         9.5120317 ,  11.58300315,  11.88483374,   8.16378893,\n",
                "        13.52081441,  10.31226078,  12.95468397,   9.13677285,\n",
                "         8.81048839,   8.94386741,  10.10855814,   7.61843472,\n",
                "        12.5949694 ,   9.71627537,  12.80195694,  10.28982774]"
            ]
        },
        {
            "cell_type": "markdown",
            "metadata": {
                "deletable": false,
                "editable": false,
                "nbgrader": {
                    "cell_type": "markdown",
                    "checksum": "eeba2025c51fcf624866f8f2c875e4b8",
                    "grade": false,
                    "grade_id": "cell-ee1873f8dd89c993",
                    "locked": true,
                    "schema_version": 3,
                    "solution": false,
                    "task": false
                }
            },
            "source": [
                "Your task is to take the ratio of red versus green for each measurement. You've done this before for lists, using `zip()` and a for loop (or a list comprehension). Below is the code to do this using `zip()`. Run the cell below."
            ]
        },
        {
            "cell_type": "code",
            "execution_count": null,
            "metadata": {},
            "outputs": [],
            "source": [
                "# Just run this cell\n",
                "# The syntax should be familiar\n",
                "\n",
                "ratios_list = []\n",
                "for r, g in zip(red, green):\n",
                "    ratios_list.append(r/g)"
            ]
        },
        {
            "cell_type": "markdown",
            "metadata": {
                "deletable": false,
                "editable": false,
                "nbgrader": {
                    "cell_type": "markdown",
                    "checksum": "7e43f6f600e533c162d435ee644a5cb5",
                    "grade": false,
                    "grade_id": "cell-bc1285098b00bcb7",
                    "locked": true,
                    "schema_version": 3,
                    "solution": false,
                    "task": false
                }
            },
            "source": [
                "You can perform the same normalization more efficiently and concisely with arrays rather than lists. As you saw, arrays let you perform element by element operations without using a for loop. \n",
                "\n",
                "In the cell below, convert the lists `red` and `green` to arrays, using the `np.array()` function. Call them `red_array` and `green_array`. Then take the ratio of the two arrays and assign the result to `ratios_array`, using the natural element by element operation syntax for arrays. (If you need to check your answers, print out `ratios_list` and `ratios_array` to see if they match.) "
            ]
        },
        {
            "cell_type": "code",
            "execution_count": null,
            "metadata": {
                "deletable": false,
                "nbgrader": {
                    "cell_type": "code",
                    "checksum": "2d8ce34c11ee408b9d7c974e3f9c77e4",
                    "grade": false,
                    "grade_id": "cell-5088b7abd3621bf1",
                    "locked": false,
                    "schema_version": 3,
                    "solution": true,
                    "task": false
                }
            },
            "outputs": [],
            "source": [
                "# Graded cell\n",
                "\n",
                "# YOUR ANSWER HERE"
            ]
        },
        {
            "cell_type": "code",
            "execution_count": null,
            "metadata": {
                "deletable": false,
                "editable": false,
                "nbgrader": {
                    "cell_type": "code",
                    "checksum": "6e75612362273f622b2745509146b779",
                    "grade": true,
                    "grade_id": "cell-a99f77786df3861d",
                    "locked": true,
                    "points": 3,
                    "schema_version": 3,
                    "solution": false,
                    "task": false
                }
            },
            "outputs": [],
            "source": [
                "assert ratios_array.ndim == 1\n",
                "assert 7.566 < ratios_array[3] < 7.567 "
            ]
        },
        {
            "cell_type": "markdown",
            "metadata": {
                "deletable": false,
                "editable": false,
                "nbgrader": {
                    "cell_type": "markdown",
                    "checksum": "22627bc5dd609392a570f8f1abb3b2a9",
                    "grade": false,
                    "grade_id": "cell-0028ff2c67e075d3",
                    "locked": true,
                    "schema_version": 3,
                    "solution": false,
                    "task": false
                }
            },
            "source": [
                "To lean more about `numpy`, check out the `numpy` site, which has a few nice tutorials: https://numpy.org/devdocs/user/quickstart.html"
            ]
        }
    ],
    "metadata": {
        "language_info": {
            "codemirror_mode": {
                "name": "ipython",
                "version": 3
            },
            "file_extension": ".py",
            "mimetype": "text/x-python",
            "name": "python",
            "nbconvert_exporter": "python",
            "pygments_lexer": "ipython3",
            "version": "3.8.3"
        }
    },
    "nbformat": 4,
    "nbformat_minor": 2
}