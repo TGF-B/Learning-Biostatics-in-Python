{
    "cells": [
        {
            "cell_type": "markdown",
            "metadata": {
                "deletable": false,
                "editable": false,
                "nbgrader": {
                    "cell_type": "markdown",
                    "checksum": "465b2c2ae13d9399943a6ef577954b5f",
                    "grade": false,
                    "grade_id": "cell-37528a06d84c16dc",
                    "locked": true,
                    "schema_version": 3,
                    "solution": false
                }
            },
            "source": [
                "# Problem 1: Comparing Two Distributions with Plots (12 points)\n",
                "\n",
                "In this problem, you'll make several different types of plots to show the results for the control and treatment groups in a diet study. At the end of the study (after several weeks on a control or a supposedly healthy diet), LDL cholesterol was measured for the subjects in each group. In this task, you'll explore different ways to visualize the resulting data.\n",
                "\n",
                "The programming aim of this problem is to introduce some of the ways that you can customize `matplotlib` plots.\n",
                "\n",
                "Too often, scientific papers simply show the means of different samples using bar charts, often with an unspecified type of error bar. But bar charts are not ideal for showing and comparing two distributions. Bar charts heavily emphasize the mean over other properties of the distribution.  Also, the visual impact of the height of the bars depends on the scale of the y-axis. As a result, small differences can be made to seem large or vice versa. Bar charts are almost always an inferior choice for comparing the means of several samples. (For more on why bar charts should be avoided, see this: https://www.nature.com/nmeth/journal/v11/n2/full/nmeth.2813.html)\n",
                "\n",
                "The main purpose of this problem is to work through several alternatives to bar charts. As you make each of the plots, ask yourself:\n",
                "\n",
                "1) How well does this plot visualize the *entire* distribution of the data?\n",
                "\n",
                "2) How well does the plot show summary statistics like mean, median, and standard deviation?\n",
                "\n",
                "### 1. Load the data\n",
                "In this assignment you make different plots of the same data set. In the cell below are some LDL-C measurements from a control and diet treatment group. In this hypothetical study, the control group ate a standard diet for some time perios, while the diet group ate the alternate diet. The measurements represent LDL cholesterol measurements after the diet. Each group consists of 22 subjects. Run the cell below to load the data."
            ]
        },
        {
            "cell_type": "code",
            "execution_count": null,
            "metadata": {},
            "outputs": [],
            "source": [
                "# Run this cell to load the blood LDL-C measurements (in mg/dL)\n",
                "control_ldl = [109,77,119,145,125,121,130,103,129,91,113,133,98,130,152,136,133,138,136,132,126,114]\n",
                "diet_ldl = [83,113,92,150,97,54,71,115,138,86,88,119,112,101,126,114,129,128,138,101,96,93]"
            ]
        },
        {
            "cell_type": "markdown",
            "metadata": {
                "deletable": false,
                "editable": false,
                "nbgrader": {
                    "cell_type": "markdown",
                    "checksum": "cee432d56825577e6f237b2e4418e120",
                    "grade": false,
                    "grade_id": "cell-91fa6e1242e9ecdc",
                    "locked": true,
                    "schema_version": 3,
                    "solution": false
                }
            },
            "source": [
                "### 2. Calculate the mean and standard deviation\n",
                "\n",
                "Next, calculate the summary statistics for each group. Import the `statistics` library and use the library's functions `statistics.mean()` and `statistics.stdev()` to calculate the mean and standard deviation for each group. Save the results as the variables `control_mean`, `control_sd`, `diet_mean`, `diet_sd`."
            ]
        },
        {
            "cell_type": "code",
            "execution_count": null,
            "metadata": {
                "deletable": false,
                "nbgrader": {
                    "cell_type": "code",
                    "checksum": "e65bf7629b281bf6b7fdc8c78b4b73b4",
                    "grade": false,
                    "grade_id": "cell-f78e1b4d59d7e473",
                    "locked": false,
                    "schema_version": 3,
                    "solution": true
                }
            },
            "outputs": [],
            "source": [
                "# YOUR ANSWER HERE\n",
                "\n",
                "print(control_mean, control_sd, diet_mean, diet_sd)"
            ]
        },
        {
            "cell_type": "code",
            "execution_count": null,
            "metadata": {
                "deletable": false,
                "editable": false,
                "nbgrader": {
                    "cell_type": "code",
                    "checksum": "5f028e3d30155366f9781dedeab06ac7",
                    "grade": true,
                    "grade_id": "cell-13b79ed2fb6546d5",
                    "locked": true,
                    "points": 1,
                    "schema_version": 3,
                    "solution": false
                }
            },
            "outputs": [],
            "source": [
                "assert 122.271 < control_mean < 122.273\n",
                "assert 18.081 < control_sd < 18.083\n",
                "assert 106.544 < diet_mean < 106.546\n",
                "assert 23.468 < diet_sd < 23.4698"
            ]
        },
        {
            "cell_type": "markdown",
            "metadata": {
                "deletable": false,
                "editable": false,
                "nbgrader": {
                    "cell_type": "markdown",
                    "checksum": "395430baba873ed90e9243bc8c38f6a1",
                    "grade": false,
                    "grade_id": "cell-38064ffe3dfe6cba",
                    "locked": true,
                    "schema_version": 3,
                    "solution": false
                }
            },
            "source": [
                "### 3. Load `matplotlib`\n",
                "\n",
                "We now have our data and some summary statistics to plot. The next step is to set up the notebook to display plots inline, and then import `pyplot`.\n",
                "\n",
                "In the cell below, run the \"magic\" command to display matplotlib plots inline in your notebook. Then import the `pyplot` module, and be sure to assign it the abbreviation `plt`. Refer to `L5_activity.ipynb` if you need to review the syntax."
            ]
        },
        {
            "cell_type": "code",
            "execution_count": null,
            "metadata": {
                "deletable": false,
                "nbgrader": {
                    "cell_type": "code",
                    "checksum": "74471cadf75a7c36867ee2763faa8682",
                    "grade": false,
                    "grade_id": "cell-3f9630ff03dea8ee",
                    "locked": false,
                    "schema_version": 3,
                    "solution": true
                }
            },
            "outputs": [],
            "source": [
                "# YOUR ANSWER HERE"
            ]
        },
        {
            "cell_type": "code",
            "execution_count": null,
            "metadata": {
                "deletable": false,
                "editable": false,
                "nbgrader": {
                    "cell_type": "code",
                    "checksum": "ed0aac1a741fcd85e53c78b7afc0abd4",
                    "grade": true,
                    "grade_id": "cell-4594dd69022c9004",
                    "locked": true,
                    "points": 1,
                    "schema_version": 3,
                    "solution": false
                }
            },
            "outputs": [],
            "source": [
                "assert type(plt.plot()) == list"
            ]
        },
        {
            "cell_type": "markdown",
            "metadata": {},
            "source": [
                "### 4.  Two distributions as stacked histogram subplots\n",
                "\n",
                "One common way to display distributions is as histograms. In `L5_activity`, we plotted two histograms, one overlayed on another, which makes them easy to compare. But one disadvantage of overlaid histograms is that one histogram is obscured by the other.\n",
                "\n",
                "An alternative is to plot the histograms as separate panels stacked vertically, with their x-axes lines up and *on the same scale*. (Generally y-axes should be on the same scale too.) Then you can compare whether one histogram is shifted relative to the other. \n",
                "\n",
                "To plot multiple panels, we'll use the `plt.subplot()` function. It works like this:\n",
                "\n",
                "```python\n",
                "# First, create a blank figure, into which we'll put two panels\n",
                "plt.figure(1, figsize=(10, 10)) # The first argument '1' means this is Figure 1.\n",
                "\n",
                "# Create subpanel 1:\n",
                "plt.subplot(211) # argument 211 = n rows (2), n columns (1), create subfigure number 1 (1)\n",
                "# THE COMMAND TO PLOT THE FIRST HISTOGRAM WILL GO ON THIS LINE\n",
                "# COMMANDS TO LABEL AXES, SET AXES LIMITS WILL GO ON THE NEXT FEW LINES\n",
                "# Any customization commands on these lines will only apply to the first subfigure\n",
                "\n",
                "# Create subpanel 2:\n",
                "plt.subplot(212) # # argument 211 = n rows (2), n columns (1), create subfigure number 1 (2) \n",
                "# THE COMMAND TO PLOT THE SECOND HISTOGRAM WILL GO ON THIS LINE\n",
                "# COMMANDS TO LABEL AXES, SET AXES LIMITS WILL GO ON THE NEXT FEW LINES\n",
                "# Customization commands on these lines will apply to the second subfigure\n",
                "```\n",
                "\n",
                "**In the cell below, fill in the code outline above to plot two stacked histograms of `control_ldl` and `diet_ldl`. The y-axis should show frequency (not absolute counts). Place the control group on top and the diet group on the bottom.** Here are some helpful commands:\n",
                "\n",
                "To plot histograms in `L5_activity`, you ran this command:\n",
                "```python\n",
                "plt.hist(wt_expression, 20, density = True) # list of data, number of bins, set y-axis to frequency\n",
                "```\n",
                "When you draw your histograms below, I suggest using **5 bins**, but feel free to choose more.\n",
                "\n",
                "To set axis limits, here are some options (choose the first one, or either of the next two):\n",
                "```python\n",
                "plt.axis([xmin, xmax, ymin, ymax]) # set limits for x and y axes\n",
                "plt.xlim([min, max]) # set limits for one axis only\n",
                "plt.ylim([min, max])\n",
                "```\n",
                "When you make your stacked histograms, the **axes limits *must* be the same for both panels**, otherwise the plot will be misleading. Find x-axis limits that capture all the data. For the y-axis limits (i.e., frequency), I suggest ranging from 0 to 0.04, but this will depend on the number of bins you use.\n",
                "\n",
                "Be sure to label your axes and add titles to each subplot showing which treatment group is displayed! (The data units are LDL-C in mg/dL.) Here are the relevant commands:\n",
                "```python\n",
                "plt.ylabel('Y axis label', fontsize = 14) # plt.xlabel() labels the x axis \n",
                "plt.title('Subplot Title')\n",
                "```"
            ]
        },
        {
            "cell_type": "code",
            "execution_count": null,
            "metadata": {
                "deletable": false,
                "nbgrader": {
                    "cell_type": "code",
                    "checksum": "1b95e03bb842278ccaa3e213784553b8",
                    "grade": true,
                    "grade_id": "cell-ac8b05fb53ebf1c7",
                    "locked": false,
                    "points": 2,
                    "schema_version": 3,
                    "solution": true
                }
            },
            "outputs": [],
            "source": [
                "# YOUR ANSWER HERE"
            ]
        },
        {
            "cell_type": "markdown",
            "metadata": {},
            "source": [
                "### 5.  Plot with error bars to show mean and standard deviation \n",
                "\n",
                "In this next plot, you'll make something close to a bar chart, but instead of bars the means will be shown by dots, with error bars showing the standard deviation. In future statistics lectures, we'll talk more about error bars and confidence intervals. You could easily make the error bars in this chart show standard mean errors or confidence intervals, rather than standard deviations. (See this *Nature Methods* piece on types of error bars and simple rules for calculating them: http://www.nature.com/nmeth/journal/v10/n10/full/nmeth.2659.html)\n",
                "\n",
                "**The tricky part of this plot is that the x-axis has to show categorical variables (the treatment groups).** To do this, you first make dummy or placeholder *numerical* x values that position the two treatment groups on the x axis. Then you replace the numerical values with the actual category labels. With placeholder x values, you essentially make an xy scatter plot with only two points. (There are easier ways to do this with, say, the `seaborn` package, but the customization skills below are important to learn - code similar to the example below appears repeatedly in various plotting tutorials.)\n",
                "\n",
                "To make this plot, we first need to make a few lists.\n",
                "\n",
                "First, make a list of placeholder x values and a list of y values (use the variable names below):\n",
                "```python\n",
                "x_placeholders = [1, 2] # control group gets x = 1, diet group gets x = 2\n",
                "y_means = [control_mean, diet_mean]\n",
                "```\n",
                "\n",
                "Second, make a list called `x_labels` that has the actual category names ('control' and 'diet').\n",
                "\n",
                "Third, make a list of standard deviations (call it something like `sd_list`). The list should hold the standard deviation variables that you created above.\n",
                "\n",
                "Next, call the function to make an errorbar plot, putting in the lists as arguments:\n",
                "```python\n",
                "plt.errorbar(list_of_x_placeholders, list_of_data, yerr= sd_list, fmt = 'ko', capsize=7)\n",
                "# fmt and capsize arguments format the dots and error bars, see the help documentation for more\n",
                "```\n",
                "Finally, replace the placeholder x values with category labels, again using our lists:\n",
                "```python\n",
                "plt.xticks(x_placeholders, x_labels, fontsize = 14) # applies x_labels to the axis ticks at x_placeholders\n",
                "plt.yticks(fontsize = 14) # plt.yticks also works - good for changing font sizes\n",
                "```\n",
                "\n",
                "On subsequent lines, customize and label the plot using the commands introduced for the histograms. **Important**: Set x-axis limits to center your data. Since we chose 1 and 2 as placeholder x values, having the x axis span from 0 to 3 will work.\n",
                "\n",
                "In the cell below, make the error bar plot, using the code above. Remember to comment your code!"
            ]
        },
        {
            "cell_type": "code",
            "execution_count": null,
            "metadata": {
                "deletable": false,
                "nbgrader": {
                    "cell_type": "code",
                    "checksum": "2bf7fc89202eaa85e1c462df49df02a7",
                    "grade": true,
                    "grade_id": "cell-9f1f27694ee88fb3",
                    "locked": false,
                    "points": 2,
                    "schema_version": 3,
                    "solution": true
                }
            },
            "outputs": [],
            "source": [
                "# YOUR ANSWER HERE"
            ]
        },
        {
            "cell_type": "markdown",
            "metadata": {
                "collapsed": true,
                "deletable": false,
                "editable": false,
                "nbgrader": {
                    "cell_type": "markdown",
                    "checksum": "b5b2479bb1624892f467a8d24f0473c2",
                    "grade": false,
                    "grade_id": "cell-5d083a74e8ade525",
                    "locked": true,
                    "schema_version": 3,
                    "solution": false
                }
            },
            "source": [
                "How does the above plot compare with histograms, with respect to showing means, standard deviations, and represnting all of the data?\n",
                "\n",
                "## Boxplots\n",
                "\n",
                "Boxplots show medians (the center line, these are not means!), and landmark percentiles of the distribution. For more on boxplots, follow the link above in the introduction to this problem set. \n",
                "\n",
                "With `plt.boxplot()`, we don't need to create a placeholder x-axis; the categories are labeled for us if we use the `labels` argument:\n",
                "\n",
                "```python\n",
                "plt.boxplot(data, labels= x_labels) # x_labels was defined in the previous cell; reuse it here\n",
                "```\n",
                "In this example, `data` is a list of lists, containing the lists measurments for each group, `control_ldl` and `diet_ldl`.\n",
                "\n",
                "**In the cell below, Make the list `data`, then draw boxplots in the cell below. Label the x and y axes.** \n",
                "\n",
                "Explore some boxplot customization options using the function help, or by working through the tutorial: https://matplotlib.org/gallery/pyplots/boxplot_demo.html#sphx-glr-gallery-pyplots-boxplot-demo-py"
            ]
        },
        {
            "cell_type": "code",
            "execution_count": null,
            "metadata": {
                "deletable": false,
                "nbgrader": {
                    "cell_type": "code",
                    "checksum": "7ad55660e94b3d0533554b13867d5730",
                    "grade": true,
                    "grade_id": "cell-000873a531337c54",
                    "locked": false,
                    "points": 1,
                    "schema_version": 3,
                    "solution": true
                }
            },
            "outputs": [],
            "source": [
                "# YOUR ANSWER HERE"
            ]
        },
        {
            "cell_type": "markdown",
            "metadata": {
                "deletable": false,
                "editable": false,
                "nbgrader": {
                    "cell_type": "markdown",
                    "checksum": "679c30d22f34428446c52ae353674acd",
                    "grade": false,
                    "grade_id": "cell-95d76c2e6a346d6b",
                    "locked": true,
                    "schema_version": 3,
                    "solution": false
                }
            },
            "source": [
                "## Violinplots\n",
                "\n",
                "Violin plots are like boxplots, except they show the shape of the full distiburion. They're like histograms turned sideways and then reflected across the x axis.\n",
                "\n",
                "You were introduced to `plt.violinplot()` in class. One major annoyance is that the function arguments differ from those of boxplots. There is no `labels` argument. So we have to create a placeholder x-axis again, but this time we don't need to specifically put those placeholder x values in the `plt.violinplot()` function call. Here's how to do it:\n",
                "\n",
                "```python\n",
                "# WRITE THE VIOLINPLOT FUNCITON CALL ON THIS LINE\n",
                "plt.xticks(x_placeholders, x_labels, fontsize = 14) # same as with the xy plot\n",
                "ply.xlim([0,3]) # center plots by setting x axis range, as before\n",
                "```\n",
                "It's helpful to show mean or median markers on violin plots. You can do this with the `showmeans = True` or `showmedians = True` argument when you call `plt.violinplot()`.\n",
                "\n",
                "**Make fully labeled violin plots in the cell below.**"
            ]
        },
        {
            "cell_type": "code",
            "execution_count": null,
            "metadata": {
                "deletable": false,
                "nbgrader": {
                    "cell_type": "code",
                    "checksum": "1b153c9db8a9e655da31fadd6bffa78e",
                    "grade": true,
                    "grade_id": "cell-70c5050bd82fbcf8",
                    "locked": false,
                    "points": 1,
                    "schema_version": 3,
                    "solution": true
                }
            },
            "outputs": [],
            "source": [
                "# YOUR ANSWER HERE"
            ]
        },
        {
            "cell_type": "markdown",
            "metadata": {
                "deletable": false,
                "editable": false,
                "nbgrader": {
                    "cell_type": "markdown",
                    "checksum": "96bf59bd46b3746bd074066d398eca8a",
                    "grade": false,
                    "grade_id": "cell-c6e3f88b94614bae",
                    "locked": true,
                    "schema_version": 3,
                    "solution": false
                }
            },
            "source": [
                "## Show all the data: Dot Plots with jitter\n",
                "\n",
                "We only have 22 data points per treatment group \u2013 few enough so that we could plot all of the data without the result being a mess. Such dot plots are becoming increaslingly common in publications, where they are a much better alternative to bar charts.\n",
                "\n",
                "We'll make this plot in two steps. First, in the cell below, we'll make placeholder x values, as we did before. But we need a list of place holder x values for every single data point, not just the mean.\n",
                "\n",
                "As before, we'll assign x = 1 to the control group, and x = 2 to the diet group.\n",
                "\n",
                "You know how to use the multiplication operator to make a list of repeated values:\n",
                "```python\n",
                "x_control = [1]*len(control_ldl) # a list of len(control_ldl) 1's, one for each data point\n",
                "x_diet = [2]*len(diet_ldl) # same idea\n",
                "```\n",
                "\n",
                "**In the cell below, first make those lists of placeholder values. These are your x values. The original lists of ldl measurements are your y values. Call `plt.scatter(x, y)` two times, first with the control data, then with the diet data. Then, set the axis limits as you did previously (x axis goes from 0 to 3). Use `plt.xticks()` to replace the dummy x values with the category labels, as you did before.**"
            ]
        },
        {
            "cell_type": "code",
            "execution_count": null,
            "metadata": {
                "deletable": false,
                "nbgrader": {
                    "cell_type": "code",
                    "checksum": "b7c20fe239787a8cc1edffbb31eaf707",
                    "grade": false,
                    "grade_id": "cell-da334b9a2e2735e0",
                    "locked": false,
                    "schema_version": 3,
                    "solution": true,
                    "task": false
                }
            },
            "outputs": [],
            "source": [
                "# YOUR ANSWER HERE"
            ]
        },
        {
            "cell_type": "code",
            "execution_count": null,
            "metadata": {
                "deletable": false,
                "editable": false,
                "nbgrader": {
                    "cell_type": "code",
                    "checksum": "ae2a8dfa50a0a74c8071a69ab45e7bd2",
                    "grade": true,
                    "grade_id": "cell-0ac83a1938255f27",
                    "locked": true,
                    "points": 2,
                    "schema_version": 3,
                    "solution": false,
                    "task": false
                }
            },
            "outputs": [],
            "source": [
                "assert len(x_control) == len(x_diet)"
            ]
        },
        {
            "cell_type": "markdown",
            "metadata": {
                "deletable": false,
                "editable": false,
                "nbgrader": {
                    "cell_type": "markdown",
                    "checksum": "65b2585c9d156ebdcb9f0a7cab58aae5",
                    "grade": false,
                    "grade_id": "cell-60955b3f7184699e",
                    "locked": true,
                    "schema_version": 3,
                    "solution": false
                }
            },
            "source": [
                "### Draw a mean line\n",
                "\n",
                "Now we want to add a line at the mean value for each distribution. For that, we just overlay two line plots:\n",
                "\n",
                "```python\n",
                "# [0.8, 1.2]are x values for beginning and end of the mean line. \n",
                "# y values are control_mean at both beginning and end of the mean line\n",
                "plt.plot([0.8, 1.2],[control_mean, control_mean], 'k', linewidth = 2.5)\n",
                "```\n",
                "\n",
                "Carefully copy or retype your code from the cell above into the cell below. Then use the line of code above to draw mean lines for the control and diet groups. (The mean line for the diet group should go from x= 1.8 to x= 2.2.)\n",
                "\n",
                "You could easily draw a median line instead. Which do you think would be more appropriate for this plot? (Don't write the answer, just think about it.)"
            ]
        },
        {
            "cell_type": "code",
            "execution_count": null,
            "metadata": {
                "deletable": false,
                "nbgrader": {
                    "cell_type": "code",
                    "checksum": "927408033dbbb549ce5e6e7a1559fa4f",
                    "grade": true,
                    "grade_id": "cell-f286eeb51b50b14f",
                    "locked": false,
                    "points": 1,
                    "schema_version": 3,
                    "solution": true
                }
            },
            "outputs": [],
            "source": [
                "# YOUR ANSWER HERE"
            ]
        },
        {
            "cell_type": "markdown",
            "metadata": {
                "deletable": false,
                "editable": false,
                "nbgrader": {
                    "cell_type": "markdown",
                    "checksum": "5daa10d873bb4bb7010142995c24c407",
                    "grade": false,
                    "grade_id": "cell-31732d533e41bb20",
                    "locked": true,
                    "schema_version": 3,
                    "solution": false
                }
            },
            "source": [
                "### Spread out the dots by adding jitter\n",
                "The plot should be looking good by now. The remaining problem is that all of the dots line up, making it hard to see how many dots are stacked on top of each other in the middle of the distribution.\n",
                "\n",
                "The dots are lined up because all of the control data points have x = 1, and all the diet data points have x = 2. To spread out the dots, we'll randomize the x values a little.\n",
                "\n",
                "In the cell below, type the following 3 lines of code:\n",
                "```python\n",
                "from numpy import random\n",
                "\n",
                "# Note that this overwrites the existing lists of x values\n",
                "x_control = 0.9 + 0.2 * random.random(len(control_ldl))\n",
                "x_diet = 1.9 + 0.2 * random.random(len(diet_ldl))\n",
                "```\n",
                "\n",
                "The function `random.random()` generates random numbers from the uniform distribution, between 0 and 1. To make sure the random x values cluster near 1 and 2, we multiply by 0.2 and add a contant. (I came up with these contstants by trial and error \u2013 feel free to change them to see how this affects the look of the plot.)\n",
                "\n",
                "Next, copy your plotting code from the cell above. There is no need to change what you've written, since we reused our previous x-value lists names to generate the random x values. \n",
                "\n",
                "If you haven't yet, be sure to add commands to label the axes and add a plot title. Then run the cell to see the final result."
            ]
        },
        {
            "cell_type": "code",
            "execution_count": null,
            "metadata": {
                "deletable": false,
                "nbgrader": {
                    "cell_type": "code",
                    "checksum": "65771c4d106309cc4084da468a9cccc5",
                    "grade": true,
                    "grade_id": "cell-70e64e67a2309587",
                    "locked": false,
                    "points": 2,
                    "schema_version": 3,
                    "solution": true
                }
            },
            "outputs": [],
            "source": [
                "# YOUR ANSWER HERE"
            ]
        },
        {
            "cell_type": "markdown",
            "metadata": {
                "deletable": false,
                "editable": false,
                "nbgrader": {
                    "cell_type": "markdown",
                    "checksum": "df19115ec66193324f2e91d7a4c01663",
                    "grade": false,
                    "grade_id": "cell-96973e023f7023a7",
                    "locked": true,
                    "schema_version": 3,
                    "solution": false
                }
            },
            "source": [
                "This may seem liks a lot of steps to create this plot, but you could now easily write your own function that takes two lists of data and makes a dot plot with jitter and mean lines.\n",
                "\n",
                "In this problem you used basic `matplotlib` tools to make a plot. An alternative is the `seaborn` package, which is some ways makes some of the customizations you worked with here easier. To see plots similar to what you made here, try: https://seaborn.pydata.org/tutorial/categorical.html"
            ]
        }
    ],
    "metadata": {
        "language_info": {
            "codemirror_mode": {
                "name": "ipython",
                "version": 3
            },
            "file_extension": ".py",
            "mimetype": "text/x-python",
            "name": "python",
            "nbconvert_exporter": "python",
            "pygments_lexer": "ipython3",
            "version": "3.7.8"
        }
    },
    "nbformat": 4,
    "nbformat_minor": 2
}