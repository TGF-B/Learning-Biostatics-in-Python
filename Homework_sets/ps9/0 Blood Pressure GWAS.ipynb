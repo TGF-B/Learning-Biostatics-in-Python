{
    "cells": [
        {
            "cell_type": "markdown",
            "metadata": {
                "deletable": false,
                "editable": false,
                "nbgrader": {
                    "cell_type": "markdown",
                    "checksum": "6faf05b65f43d6e8fc64786f6f9ca844",
                    "grade": false,
                    "grade_id": "cell-4b72b7c569d59d80",
                    "locked": true,
                    "schema_version": 3,
                    "solution": false,
                    "task": false
                }
            },
            "source": [
                "# Problem 0: Calculating statistics with Pandas\n",
                "\n",
                "In this problem you'll use `pandas` to calculate conditional probabilities on a set of simulated blood pressure GWAS data. The goal is to practice working with `pandas` dataframes, performing some of the same tasks that until now we've solved with basic Python syntax.\n",
                "\n",
                "You will read in file data, calculate summary statistics, and determine conditional probabilities with `pandas` tools.\n",
                "\n",
                "### Blood pressure GWAS\n",
                "A recent study of Americans of Japanese ancestry (http://www.ncbi.nlm.nih.gov/pubmed/26476085) looked at the association of several so-called \"longevity\" genetic variants with blood pressure. They found that the SNP rs2802288 was associated with hypertension in women. Women who are homozygous for the minor allele (AA) were significantly less likely to have hypertension, defined as a systolic blood pressure above 140 mmHG, than women homozygous for the major allele (GG).\n",
                "\n",
                "I didn't have access to the original data from the study, so I simulated the data for this problem based on the published mean and standard deviations for each genotype. For simplicity, this data only includes homozygous genotypes.\n",
                "\n",
                "Make sure that the file `bloodpressure.txt` is in your ps4 folder. This file consists of two columns of data, a systolic blood pressure measurement, and a genotype. (You can open this file from the Jupyter dashboard to take a look before writing your code.)\n",
                "\n",
                "\n",
                "\n",
                "## 0.1 import `pandas` and load file data\n",
                "In the cell below, import `pandas` (as `pd`). Then use `pd.read_csv` to read in the data from the file `bloodpressure.txt`. This file is **tab-delimited**, so you'll need to include the separator argument indicating that `'\\t'` is the delimiter. The argument to use is `sep='\\t'`.\n",
                "\n",
                "Load the data into a variable called `data`. What kind of Python object is `data`?"
            ]
        },
        {
            "cell_type": "code",
            "execution_count": null,
            "metadata": {
                "deletable": false,
                "nbgrader": {
                    "cell_type": "code",
                    "checksum": "92a4eb8cc1a0bdab8a87747b4b290a60",
                    "grade": false,
                    "grade_id": "cell-f6b43344b672acd4",
                    "locked": false,
                    "schema_version": 3,
                    "solution": true,
                    "task": false
                }
            },
            "outputs": [],
            "source": [
                "# YOUR ANSWER HERE\n",
                "\n",
                "# check the input - .head() displays the header and first few rows\n",
                "print(type(data))\n",
                "data.head()"
            ]
        },
        {
            "cell_type": "code",
            "execution_count": null,
            "metadata": {
                "deletable": false,
                "editable": false,
                "nbgrader": {
                    "cell_type": "code",
                    "checksum": "334acd9ccb6bda03d97f36dd5c114285",
                    "grade": true,
                    "grade_id": "cell-58ff2a2774c333af",
                    "locked": true,
                    "points": 1,
                    "schema_version": 3,
                    "solution": false,
                    "task": false
                }
            },
            "outputs": [],
            "source": [
                "assert len(data) == 261"
            ]
        },
        {
            "cell_type": "markdown",
            "metadata": {
                "deletable": false,
                "editable": false,
                "nbgrader": {
                    "cell_type": "markdown",
                    "checksum": "333317f30d081ef0023e4706c702341d",
                    "grade": false,
                    "grade_id": "cell-c91df20768e08162",
                    "locked": true,
                    "schema_version": 3,
                    "solution": false,
                    "task": false
                }
            },
            "source": [
                "## 0.2 Calculate allele frequencies\n",
                "\n",
                "As you can see, the data table consists of two columns. The first is the systolic blood pressure and the second is the genotype (`AA` or `GG`). Notice that the columnes are named (BP and allele). You can use these column names (as strings) to access those columns in the dataframe. For example, `data['allele']` would get you the second column of the data frame.\n",
                "\n",
                "When you have different levels of categorical data in a `pandas` dataframe, you can use the convenient function `.groupby('column_name')` to calculate summary statistics on different groups within your data. In this case, you can quickly determine the mean blood pressure by genotype with the following syntax:\n",
                "\n",
                "```python\n",
                "data.groupby('allele')['BP'].mean()\n",
                "```\n",
                "Look carefully at the syntax, and make sure you understand the meaning of all of the parentheses, square brackets, and periods. You've seen sequential `.` functions before, with code like `line.strip().split()`.\n",
                "\n",
                "Run the code in the cell below and look at the output, which shows mean blood pressure for both genotypes. Let's say you wanted to assign those genotype means to their own variables. How could you use `dataframe.groupby()['column'].mean()`?\n",
                "\n",
                "The trick is to use unpacking. Recall how unpacking works. You can put multiple variables on the **left** of the `=` operator to unpack an object into its elements. For example the follwing code unpacks the list into two variables:\n",
                "\n",
                "```python\n",
                "item1, item2 = [10, 20]\n",
                "```\n",
                "\n",
                "**In the scratch cell below**, unpack the output of `data.groupby('allele')['BP'].mean()` so that the mean blood pressure for each genotype is assigned to its own variable. (You might have to experiment a little.)"
            ]
        },
        {
            "cell_type": "code",
            "execution_count": null,
            "metadata": {},
            "outputs": [],
            "source": [
                "# SCRATCH CELL"
            ]
        },
        {
            "cell_type": "markdown",
            "metadata": {
                "deletable": false,
                "editable": false,
                "nbgrader": {
                    "cell_type": "markdown",
                    "checksum": "961708733ac50e04030e83c4e3aa02c5",
                    "grade": false,
                    "grade_id": "cell-71211f1ba9fa7c39",
                    "locked": true,
                    "schema_version": 3,
                    "solution": false,
                    "task": false
                }
            },
            "source": [
                "Now use unpacking with `.groupby()` to answer the following: How many data points are there for each genotype? **Hint:** Rather than `.mean()`, the function `.count()` will be useful here.\n",
                "\n",
                "In the cell below, use `.groupby()` and `.count()` to determine the count of each genotype in `data`. Unpack the output into the variables `aa` and `gg`."
            ]
        },
        {
            "cell_type": "code",
            "execution_count": null,
            "metadata": {
                "deletable": false,
                "nbgrader": {
                    "cell_type": "code",
                    "checksum": "72bc4729eb0eba71473a83b257a56a2f",
                    "grade": false,
                    "grade_id": "cell-e62878d4c0b5c9ce",
                    "locked": false,
                    "schema_version": 3,
                    "solution": true,
                    "task": false
                }
            },
            "outputs": [],
            "source": [
                "# YOUR ANSWER HERE\n",
                "print(aa, gg)"
            ]
        },
        {
            "cell_type": "code",
            "execution_count": null,
            "metadata": {
                "deletable": false,
                "editable": false,
                "nbgrader": {
                    "cell_type": "code",
                    "checksum": "372eda2fb2f7b559dc86a1035fee2b0d",
                    "grade": true,
                    "grade_id": "cell-56986f9d97c219a4",
                    "locked": true,
                    "points": 2,
                    "schema_version": 3,
                    "solution": false,
                    "task": false
                }
            },
            "outputs": [],
            "source": [
                "assert aa + gg == 261"
            ]
        },
        {
            "cell_type": "markdown",
            "metadata": {
                "deletable": false,
                "editable": false,
                "nbgrader": {
                    "cell_type": "markdown",
                    "checksum": "0dbd318cc77512c72b50166991df14e6",
                    "grade": false,
                    "grade_id": "cell-c12e36908a9b0693",
                    "locked": true,
                    "schema_version": 3,
                    "solution": false,
                    "task": false
                }
            },
            "source": [
                "## 0.3 Boolean masks\n",
                "\n",
                "With dataframes, you often want to select rows of data that meet certain criteria. For example, you may want all rows with a `GG` genotype. A useful way to select data from a dataframe (or a numpy array) is to use a *boolean mask* - that is, an object that is the same size as the dataframe, and consists of true/false values. The mask can be used as an indexing statement (placed within square brackets) to select the data you want.\n",
                "\n",
                "Here's an example to select all rows with the `GG` genotype:\n",
                "```python\n",
                "mask = data['allele'] == 'GG'\n",
                "gg_data = data[mask]\n",
                "```\n",
                "\n",
                "Run this code in the cell below. What does the object `mask` look like? Print it out to see."
            ]
        },
        {
            "cell_type": "code",
            "execution_count": null,
            "metadata": {},
            "outputs": [],
            "source": [
                "# SCRATCH CELL\n"
            ]
        },
        {
            "cell_type": "markdown",
            "metadata": {
                "deletable": false,
                "editable": false,
                "nbgrader": {
                    "cell_type": "markdown",
                    "checksum": "366742143f86b57a0a7d8725af1a80a2",
                    "grade": false,
                    "grade_id": "cell-8e207bb67325ba77",
                    "locked": true,
                    "schema_version": 3,
                    "solution": false,
                    "task": false
                }
            },
            "source": [
                "You can use masks together with other functions like `.mean()`. For example:\n",
                "\n",
                "```python\n",
                "data[mask].mean()\n",
                "```\n",
                "\n",
                "Also, while it's often helpful to define the mask as its own variable, that's not necessary. You can put the mask statement itself between the indexing brackets:\n",
                "\n",
                "```python\n",
                "gg_mean = data[data['allele'] == 'GG'].mean()\n",
                "```\n",
                "\n",
                "In the cell below, use a boolean mask to calculate the probability of high blood pressure (BP greater than 140) in the data. More specifically, do the following:\n",
                "\n",
                "1) Define a boolean mask to select rows in which the `'BP'` value is > 140.\n",
                "\n",
                "2) Use the mask to select those rows, and use `len()` to count the number of high blood pressure rows/subjects.\n",
                "\n",
                "3) Calculate the probability of high blood pressure: Divide the number of subjects with high blood pressure by the total number of subjects. (Again, use `len()` to get the number of dataframe rows.) **Save the result as the variable `p_hi`.**"
            ]
        },
        {
            "cell_type": "code",
            "execution_count": null,
            "metadata": {
                "deletable": false,
                "nbgrader": {
                    "cell_type": "code",
                    "checksum": "a1dec58d6370f71e42f23ac177a5722b",
                    "grade": false,
                    "grade_id": "cell-fa38a3c286ffc701",
                    "locked": false,
                    "schema_version": 3,
                    "solution": true,
                    "task": false
                }
            },
            "outputs": [],
            "source": [
                "# YOUR ANSWER HERE\n",
                "\n",
                "# Probability of high blood pressure:\n",
                "print(p_hi)"
            ]
        },
        {
            "cell_type": "code",
            "execution_count": null,
            "metadata": {
                "deletable": false,
                "editable": false,
                "nbgrader": {
                    "cell_type": "code",
                    "checksum": "05337d9f2ee3b4a1e0df7c9a648ca0fc",
                    "grade": true,
                    "grade_id": "cell-f16e746c71cd76b4",
                    "locked": true,
                    "points": 2,
                    "schema_version": 3,
                    "solution": false,
                    "task": false
                }
            },
            "outputs": [],
            "source": [
                "assert 0.264367 < p_hi < 0.2643679 "
            ]
        },
        {
            "cell_type": "markdown",
            "metadata": {
                "deletable": false,
                "editable": false,
                "nbgrader": {
                    "cell_type": "markdown",
                    "checksum": "97e994daffb87ea9015876c76da1fc2c",
                    "grade": false,
                    "grade_id": "cell-b5a0c981281024da",
                    "locked": true,
                    "schema_version": 3,
                    "solution": false,
                    "task": false
                }
            },
            "source": [
                "## 0.4 Calculate conditional probabilities\n",
                "Calculate the probability of high blood pressure, given the allele:\n",
                "\n",
                "$P(hypertension \\mid allele)$\n",
                "\n",
                "To do this, use a mask to apply two selection criteria to `data`. Select rows with BP > 140 and one of the two alleles.\n",
                "\n",
                "You can string together multiple boolean statements using `&` (for `AND`) and `|` (for `OR`). The only trick here is to enclose each boolean statement in parentheses before adding another:\n",
                "\n",
                "```python\n",
                "(data['allele'] == 'GG') | (second boolean statement)\n",
                "```\n",
                "In the cell below do the following:\n",
                "\n",
                "1) Define two masks, one for each genotype, to select rows with BP > 140 and the particular genotype. *Save the masks* as `hi_mask_gg` and `hi_mask_aa`.\n",
                "\n",
                "2) Calculate the probability of high blood pressure for each genotype (the number of subjects with the genotype and high bp, divided by the number of subjects with the genotype). As you did above, use the mask and `len()` to count the number of subjects. You already calculated the total subject with each genotype - the variables `aa` and `gg`. \n",
                "\n",
                "3) Assign the calculated probabilities to the variables `p_hi_aa` and `p_hi_gg`."
            ]
        },
        {
            "cell_type": "code",
            "execution_count": null,
            "metadata": {
                "deletable": false,
                "nbgrader": {
                    "cell_type": "code",
                    "checksum": "df40824cf56f6699916201898b03b21e",
                    "grade": false,
                    "grade_id": "cell-42494063caecffdf",
                    "locked": false,
                    "schema_version": 3,
                    "solution": true,
                    "task": false
                }
            },
            "outputs": [],
            "source": [
                "# YOUR ANSWER HERE\n",
                "\n",
                "print(p_hi_aa, p_hi_gg)"
            ]
        },
        {
            "cell_type": "code",
            "execution_count": null,
            "metadata": {
                "deletable": false,
                "editable": false,
                "nbgrader": {
                    "cell_type": "code",
                    "checksum": "2d78efb2891d274bc38d54e607a21ef9",
                    "grade": true,
                    "grade_id": "cell-07604674070145eb",
                    "locked": true,
                    "points": 4,
                    "schema_version": 3,
                    "solution": false,
                    "task": false
                }
            },
            "outputs": [],
            "source": [
                "assert 0.317 < p_hi_gg < 0.318\n",
                "assert 0.0714 < p_hi_aa < 0.075\n",
                "assert len(hi_mask_aa) + len(hi_mask_gg) == 522"
            ]
        },
        {
            "cell_type": "markdown",
            "metadata": {},
            "source": [
                "## Observed vs expected `GG` subjects with high blood pressure\n",
                "\n",
                "Note that the probability of high blood pressure among subjects with the `GG` genotype is about 32%. The probability of high blood pressure in the overall sample is about 26%. In the last stats lectures, we'll discuss how to calculate if this difference is significant.\n",
                "\n",
                "For the final task of this problem, calculate the *expected* number of `GG` subjects with high blood pressure, given a baseline probability of `p_hi` and the number of `GG` subjects, `gg`. Assign the result to `exp_hi`.\n",
                "\n",
                "Then calculate the observed number of `GG` subjects with high blood pressure. (Use `hi_mask_gg` and `len()`.) Assign the answer to the variable `obs_hi`."
            ]
        },
        {
            "cell_type": "code",
            "execution_count": null,
            "metadata": {
                "deletable": false,
                "nbgrader": {
                    "cell_type": "code",
                    "checksum": "a47b336f5ec0e5237cb5afd5d9c7dcbf",
                    "grade": false,
                    "grade_id": "cell-6c894b4a1ac3146b",
                    "locked": false,
                    "schema_version": 3,
                    "solution": true,
                    "task": false
                }
            },
            "outputs": [],
            "source": [
                "# YOUR ANSWER HERE\n",
                "\n",
                "\n",
                "print(int(exp_hi), obs_hi)"
            ]
        },
        {
            "cell_type": "code",
            "execution_count": null,
            "metadata": {
                "deletable": false,
                "editable": false,
                "nbgrader": {
                    "cell_type": "code",
                    "checksum": "9025bbcfbcd5ca13424ee725751127bd",
                    "grade": true,
                    "grade_id": "cell-9c5ddae418b550c8",
                    "locked": true,
                    "points": 2,
                    "schema_version": 3,
                    "solution": false,
                    "task": false
                }
            },
            "outputs": [],
            "source": [
                "assert int(exp_hi) + obs_hi == 119"
            ]
        }
    ],
    "metadata": {
        "language_info": {
            "codemirror_mode": {
                "name": "ipython",
                "version": 3
            },
            "file_extension": ".py",
            "mimetype": "text/x-python",
            "name": "python",
            "nbconvert_exporter": "python",
            "pygments_lexer": "ipython3",
            "version": "3.8.3"
        }
    },
    "nbformat": 4,
    "nbformat_minor": 4
}