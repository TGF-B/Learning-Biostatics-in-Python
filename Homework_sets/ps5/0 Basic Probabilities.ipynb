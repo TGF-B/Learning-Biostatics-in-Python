{
 "cells": [
  {
   "cell_type": "markdown",
   "metadata": {
    "deletable": false,
    "editable": false,
    "nbgrader": {
     "cell_type": "markdown",
     "checksum": "041f006d8130f7f4f70d560859f423d0",
     "grade": false,
     "grade_id": "cell-90b6c59a7e6f5593",
     "locked": true,
     "schema_version": 3,
     "solution": false
    }
   },
   "source": [
    "# Basic Probabilities (11 points)\n",
    "\n",
    "In this question, we will use simple counting to calculate the probabilities of various events.\n",
    "\n",
    "We will use data from `transcript_table.csv`, which contains information about each annotated transcript in the human genome. (Because of alternate splicing, a single gene can have many transcripts.) Try viewing the data table via the Jupyter file browser (from which you opened this notebook file): you'll see it has columns for transcript name, number of exons, gene type, and transcript length.\n",
    "\n",
    "Run the cell below to load these data and define some basic functions that you wrote in the previous homework."
   ]
  },
  {
   "cell_type": "code",
   "execution_count": 1,
   "metadata": {
    "deletable": false,
    "editable": false,
    "nbgrader": {
     "cell_type": "code",
     "checksum": "3c06537f09ad5ca80d396db358e6f3f7",
     "grade": false,
     "grade_id": "cell-383bba801ac8263d",
     "locked": true,
     "schema_version": 3,
     "solution": false
    }
   },
   "outputs": [],
   "source": [
    "exon_counts = []\n",
    "gene_types = []\n",
    "transcript_lengths = []\n",
    "file = open('transcript_table.csv')\n",
    "header = file.readline()\n",
    "for line in file:\n",
    "    values = line.strip('\\n').split(',')\n",
    "    exon_counts.append(int(values[1]))\n",
    "    gene_types.append(values[2])\n",
    "    transcript_lengths.append(int(values[3]))\n",
    "file.close()\n",
    "\n",
    "def mean(values):\n",
    "    return sum(values) / len(values)\n",
    "\n",
    "def variance(values):  #方差\n",
    "    mean_value = mean(values)\n",
    "    squared_deviations = []\n",
    "    for value in values:\n",
    "        squared_deviations.append((value - mean_value)**2)\n",
    "    return mean(squared_deviations)\n",
    "\n",
    "def std(values):#标准差\n",
    "    return variance(values)**0.5\n",
    "\n",
    "def median(values):#中位数\n",
    "    sorted_values = sorted(values)\n",
    "    midpoint = len(sorted_values) // 2\n",
    "    if len(sorted_values) %2 == 1: # odd length\n",
    "        return sorted_values[midpoint]\n",
    "    else: # even length\n",
    "        return (sorted_values[midpoint - 1] + sorted_values[midpoint]) / 2\n",
    "\n",
    "def median_absolute_deviation(values): #中位数绝对偏差\n",
    "    median_value = median(values)\n",
    "    absolute_deviations = []\n",
    "    for value in values:\n",
    "        absolute_deviations.append(abs(value - median_value))\n",
    "    return median(absolute_deviations)"
   ]
  },
  {
   "cell_type": "markdown",
   "metadata": {
    "deletable": false,
    "editable": false,
    "nbgrader": {
     "cell_type": "markdown",
     "checksum": "0955f1401efe15ad8bc214ccfc5d5e1c",
     "grade": false,
     "grade_id": "cell-73260556d38db1fc",
     "locked": true,
     "schema_version": 3,
     "solution": false
    }
   },
   "source": [
    "Recall that we have seen two basic types of for loops so far.\n",
    "\n",
    "First, loops that build a list by transforming elements of another list:\n",
    "```python\n",
    "values = [1, 2, 3, 4]\n",
    "squared_values = []\n",
    "for value in values:\n",
    "    squared_values.append(value**2)\n",
    "```\n",
    "And second, loops that count:\n",
    "```python\n",
    "values = [1, 2, 3, 4]\n",
    "num_even = 0\n",
    "for value in values:\n",
    "    if value %2 == 0:\n",
    "        num_even += 1\n",
    "```\n",
    "\n",
    "For this problem, we will mostly be using the latter type of loop.\n",
    "\n",
    "**Note**: Some of the following problems are a bit repetitive. This is intentional! You just have to write the same basic kinds of loops a lot of times to get to the point where you see and think about the whole loop as a single unit of code.\n"
   ]
  },
  {
   "cell_type": "markdown",
   "metadata": {
    "deletable": false,
    "editable": false,
    "nbgrader": {
     "cell_type": "markdown",
     "checksum": "23c2d0450e87fa844bd5843e4c989027",
     "grade": false,
     "grade_id": "cell-44c05239adf38218",
     "locked": true,
     "schema_version": 3,
     "solution": false
    }
   },
   "source": [
    "## Simple probabilities via counting\n",
    "First, write a for-loop below that will count how many transcripts are longer than the mean.\n",
    "\n",
    "**Hint**: do not re-calculate the mean each time in the body of the for loop! Instead, calculate the mean once, before the loop, and store the result in a variable that you will use within the for loop.\n",
    "\n",
    "**Hint 2**: do not name this variable `mean`, as that would replace the function that we defined above with the name `mean`..."
   ]
  },
  {
   "cell_type": "code",
   "execution_count": 35,
   "metadata": {
    "deletable": false,
    "nbgrader": {
     "cell_type": "code",
     "checksum": "fd4a506d81d72ed1a2e7c4139bbe72a1",
     "grade": false,
     "grade_id": "cell-a481656ea886daae",
     "locked": false,
     "schema_version": 3,
     "solution": true
    }
   },
   "outputs": [
    {
     "name": "stdout",
     "output_type": "stream",
     "text": [
      "24154\n"
     ]
    }
   ],
   "source": [
    "larger_than_mean = 0\n",
    "# YOUR ANSWER HERE\n",
    "average=mean(transcript_lengths)\n",
    "for value in transcript_lengths:\n",
    "    if value >average :\n",
    "        larger_than_mean += 1\n",
    "print(larger_than_mean)"
   ]
  },
  {
   "cell_type": "code",
   "execution_count": 36,
   "metadata": {
    "deletable": false,
    "editable": false,
    "nbgrader": {
     "cell_type": "code",
     "checksum": "e0dc714c963cfb7fbc9a79a3dab750a4",
     "grade": true,
     "grade_id": "cell-425939af4fa538c0",
     "locked": true,
     "points": 2,
     "schema_version": 3,
     "solution": false
    }
   },
   "outputs": [],
   "source": [
    "assert larger_than_mean == 24154"
   ]
  },
  {
   "cell_type": "markdown",
   "metadata": {
    "deletable": false,
    "editable": false,
    "nbgrader": {
     "cell_type": "markdown",
     "checksum": "bccd6f761c5cb9615c04729fc1fb3794",
     "grade": false,
     "grade_id": "cell-978e2fe91b375122",
     "locked": true,
     "schema_version": 3,
     "solution": false
    }
   },
   "source": [
    "Now divide by the relevant denominator to convert this count into a probability. Store the resulting probability in a variable named `p_larger_than_mean`."
   ]
  },
  {
   "cell_type": "code",
   "execution_count": 37,
   "metadata": {
    "deletable": false,
    "nbgrader": {
     "cell_type": "code",
     "checksum": "d84644a4037d6a521f62df149e76e750",
     "grade": false,
     "grade_id": "cell-58def4b6270eff77",
     "locked": false,
     "schema_version": 3,
     "solution": true
    }
   },
   "outputs": [
    {
     "name": "stdout",
     "output_type": "stream",
     "text": [
      "Percent larger than the mean: 24.17817817817818\n"
     ]
    }
   ],
   "source": [
    "# YOUR ANSWER HERE\n",
    "#calculate the arrow numbers of  'exon count' column\n",
    "arrow_number = len(transcript_lengths)\n",
    "#calculate the percent larger than the mean\n",
    "p_larger_than_mean = larger_than_mean / arrow_number\n",
    "print('Percent larger than the mean:', p_larger_than_mean * 100)"
   ]
  },
  {
   "cell_type": "code",
   "execution_count": 38,
   "metadata": {
    "deletable": false,
    "editable": false,
    "nbgrader": {
     "cell_type": "code",
     "checksum": "b9720046e7a63572f8c835b69cc9d640",
     "grade": true,
     "grade_id": "cell-5d70f69076cab1dd",
     "locked": true,
     "points": 1,
     "schema_version": 3,
     "solution": false
    }
   },
   "outputs": [],
   "source": [
    "assert 0.24 < p_larger_than_mean < 0.25"
   ]
  },
  {
   "cell_type": "markdown",
   "metadata": {
    "deletable": false,
    "editable": false,
    "nbgrader": {
     "cell_type": "markdown",
     "checksum": "b63ac61deed42c6e151f14af9b8f86f6",
     "grade": false,
     "grade_id": "cell-f886fcb828ee0f65",
     "locked": true,
     "schema_version": 3,
     "solution": false
    }
   },
   "source": [
    "Now calculate the probability that a transcript is larger than the mean plus two standard deviations. (Again, don't re-calculate this threshold each time through the for loop: that will take forever!) Store the result in a variable named `p_much_larger_than_mean`."
   ]
  },
  {
   "cell_type": "code",
   "execution_count": 22,
   "metadata": {
    "deletable": false,
    "nbgrader": {
     "cell_type": "code",
     "checksum": "245220f09b87423108170443b8b1403e",
     "grade": false,
     "grade_id": "cell-548412e6dc31a73a",
     "locked": false,
     "schema_version": 3,
     "solution": true
    }
   },
   "outputs": [
    {
     "name": "stdout",
     "output_type": "stream",
     "text": [
      "Percent much larger than the mean: 4.1741741741741745\n"
     ]
    }
   ],
   "source": [
    "# YOUR ANSWER HERE\n",
    "standard_deviation=std(transcript_lengths)\n",
    "larger_than_mean_plus_2std = average + 2* standard_deviation #正态分布95%的点分布在这个范围内\n",
    "much_larger = 0\n",
    "for values in exon_counts:\n",
    "    if values > larger_than_mean_plus_2std:\n",
    "        much_larger += 1\n",
    "p_much_larger_than_mean=much_larger/arrow_number\n",
    "print('Percent much larger than the mean:', p_much_larger_than_mean * 100)"
   ]
  },
  {
   "cell_type": "code",
   "execution_count": 23,
   "metadata": {
    "deletable": false,
    "editable": false,
    "nbgrader": {
     "cell_type": "code",
     "checksum": "7242a1e81e64159aef07bee2e4e18c6e",
     "grade": true,
     "grade_id": "cell-3600d6aeb84f9eca",
     "locked": true,
     "points": 1,
     "schema_version": 3,
     "solution": false
    }
   },
   "outputs": [],
   "source": [
    "assert 0.041 < p_much_larger_than_mean < 0.043"
   ]
  },
  {
   "cell_type": "markdown",
   "metadata": {
    "deletable": false,
    "editable": false,
    "nbgrader": {
     "cell_type": "markdown",
     "checksum": "8cc720fc0d73de1ac5d8c00c0b63a7bc",
     "grade": false,
     "grade_id": "cell-eec834732d300a81",
     "locked": true,
     "schema_version": 3,
     "solution": false
    }
   },
   "source": [
    "What's the probability that a transcript is larger than the median transcript length? (Assume that the dataset has an even number of transcripts...) **Hint**: you shouldn't need to write any code to answer this one. Write your answer below."
   ]
  },
  {
   "cell_type": "code",
   "execution_count": 24,
   "metadata": {
    "deletable": false,
    "nbgrader": {
     "cell_type": "code",
     "checksum": "4d3342020cbdb8be244f3433b82ac233",
     "grade": true,
     "grade_id": "cell-276ac37149d73060",
     "locked": false,
     "points": 1,
     "schema_version": 3,
     "solution": true
    }
   },
   "outputs": [
    {
     "ename": "SyntaxError",
     "evalue": "invalid syntax (2428811591.py, line 2)",
     "output_type": "error",
     "traceback": [
      "\u001b[0;36m  Cell \u001b[0;32mIn[24], line 2\u001b[0;36m\u001b[0m\n\u001b[0;31m    50%\u001b[0m\n\u001b[0m       ^\u001b[0m\n\u001b[0;31mSyntaxError\u001b[0m\u001b[0;31m:\u001b[0m invalid syntax\n"
     ]
    }
   ],
   "source": [
    "# YOUR ANSWER HERE\n",
    "assert p_larger_than_median==0.5"
   ]
  },
  {
   "cell_type": "markdown",
   "metadata": {
    "deletable": false,
    "editable": false,
    "nbgrader": {
     "cell_type": "markdown",
     "checksum": "5ff73d91ec78fe9bb83153add69fac93",
     "grade": false,
     "grade_id": "cell-ed504d8eae6e3a13",
     "locked": true,
     "schema_version": 3,
     "solution": false
    }
   },
   "source": [
    "## Compound probabilites: *and* and *or*\n",
    "\n",
    "Calculate the probability that a transcript length is greater than the median **and** less than the mean and store this as `p_between`."
   ]
  },
  {
   "cell_type": "code",
   "execution_count": 45,
   "metadata": {
    "deletable": false,
    "nbgrader": {
     "cell_type": "code",
     "checksum": "bce8ae64edd9b1c75fdc306a4d29095c",
     "grade": false,
     "grade_id": "cell-dde8b07c19ae486e",
     "locked": false,
     "schema_version": 3,
     "solution": true
    }
   },
   "outputs": [
    {
     "name": "stdout",
     "output_type": "stream",
     "text": [
      "Percent between mean and median: 25.82182182182182\n"
     ]
    }
   ],
   "source": [
    "# YOUR ANSWER HERE\n",
    "median_value=median(transcript_lengths)\n",
    "mean_value=mean(transcript_lengths)\n",
    "between_number=0\n",
    "for values in transcript_lengths:\n",
    "    if median_value<values<mean_value:\n",
    "        between_number+=1\n",
    "p_between=between_number/len(transcript_lengths)\n",
    "print('Percent between mean and median:', p_between * 100)"
   ]
  },
  {
   "cell_type": "code",
   "execution_count": 46,
   "metadata": {
    "deletable": false,
    "editable": false,
    "nbgrader": {
     "cell_type": "code",
     "checksum": "6e310662d0e7ad73435aebb56daadd69",
     "grade": true,
     "grade_id": "cell-fd824a271ad9ea25",
     "locked": true,
     "points": 1,
     "schema_version": 3,
     "solution": false
    }
   },
   "outputs": [],
   "source": [
    "assert 0.25 < p_between < 0.26"
   ]
  },
  {
   "cell_type": "markdown",
   "metadata": {
    "deletable": false,
    "editable": false,
    "nbgrader": {
     "cell_type": "markdown",
     "checksum": "82e23871e3b47c6659ca9d7cd8d1575f",
     "grade": false,
     "grade_id": "cell-873c826d48748360",
     "locked": true,
     "schema_version": 3,
     "solution": false
    }
   },
   "source": [
    "Calculate the probability of a transcript length being within one standard deviation of the mean in either direction. Store the low and high thresholds for transcript length in variables `low_thresh` and `high_thresh`, and the probability in `p_near_mean`."
   ]
  },
  {
   "cell_type": "code",
   "execution_count": 39,
   "metadata": {
    "deletable": false,
    "nbgrader": {
     "cell_type": "code",
     "checksum": "5f09f86eb64e1b5a9f748f33b009dfbc",
     "grade": false,
     "grade_id": "cell-804503b13d65a2d9",
     "locked": false,
     "schema_version": 3,
     "solution": true
    }
   },
   "outputs": [
    {
     "name": "stdout",
     "output_type": "stream",
     "text": [
      "Range: [ -55909.60434689818 , 143874.35798053181 ]\n",
      "Percent within range: 92.990990990991\n"
     ]
    }
   ],
   "source": [
    "# YOUR ANSWER HERE\n",
    "#正态分布中，大约68%的值分布于均值的正负一个标准差范围内\n",
    "low_thresh=mean(transcript_lengths)-std(transcript_lengths)\n",
    "high_thresh=mean(transcript_lengths)+std(transcript_lengths)\n",
    "near_mean_number=0\n",
    "for value in transcript_lengths:\n",
    "    if low_thresh<value<high_thresh:\n",
    "        near_mean_number+=1\n",
    "p_near_mean=near_mean_number/len(transcript_lengths)\n",
    "print('Range: [', low_thresh, ',', high_thresh, ']')\n",
    "print('Percent within range:', p_near_mean * 100)"
   ]
  },
  {
   "cell_type": "code",
   "execution_count": 40,
   "metadata": {
    "deletable": false,
    "editable": false,
    "nbgrader": {
     "cell_type": "code",
     "checksum": "1d0bd02b253bc5e58496e4673df5d945",
     "grade": true,
     "grade_id": "cell-697c70434d861941",
     "locked": true,
     "points": 1,
     "schema_version": 3,
     "solution": false
    }
   },
   "outputs": [],
   "source": [
    "assert 0.929 < p_near_mean < 0.93"
   ]
  },
  {
   "cell_type": "markdown",
   "metadata": {
    "deletable": false,
    "editable": false,
    "nbgrader": {
     "cell_type": "markdown",
     "checksum": "43d7eec1b6063b1c12c47f448bf6347b",
     "grade": false,
     "grade_id": "cell-037cf5cc864105d2",
     "locked": true,
     "schema_version": 3,
     "solution": false
    }
   },
   "source": [
    "Woah! Two things are a bit odd here, right? First, the low threshold (the mean minus one standard deviation) is *negative*. But a transcript can't have a negative length! That means that the standard deviation is much larger than the mean, which is a result of the fact that there are some *really* long transcripts. And as we can see, outliers have a disproportionate effect on the standard deviation just as they have on the mean.\n",
    "\n",
    "Second, over 90% of the data are \"near\" the mean, if we use one standard deviation on either side as a criterion for \"near\". But the standard deviation is supposed to give something like an \"average\" distance from the mean. So 90% of the data are below average (in terms of distance from the mean)? Again, this is a result of extreme outliers.\n",
    "\n",
    "Modify your code above to find out the probability that a transcript length is within $\\pm1$ median absolute deviation of the median. (Use $\\ge$ or $\\le$, not strict inequality, for the comparisons. Recall that in Python, these operators are written `>=` and `<=`, respectively.) Store the result in `p_near_median`."
   ]
  },
  {
   "cell_type": "code",
   "execution_count": 43,
   "metadata": {
    "deletable": false,
    "nbgrader": {
     "cell_type": "code",
     "checksum": "3010c3698ad31c0ea92a7cf90d54c3c2",
     "grade": false,
     "grade_id": "cell-b71e964d7535a46a",
     "locked": false,
     "schema_version": 3,
     "solution": true
    }
   },
   "outputs": [
    {
     "name": "stdout",
     "output_type": "stream",
     "text": [
      "Range: [ 1051.0 , 25148.0 ]\n",
      "Percent within range: 50.001001001001\n"
     ]
    }
   ],
   "source": [
    "# YOUR ANSWER HERE\n",
    "low_thresh=median(transcript_lengths)-median_absolute_deviation(transcript_lengths)\n",
    "high_thresh=median(transcript_lengths)+median_absolute_deviation(transcript_lengths)\n",
    "near_median_number=0\n",
    "for value in transcript_lengths:\n",
    "    if low_thresh<=value<=high_thresh:\n",
    "        near_median_number+=1\n",
    "p_near_median=near_median_number/len(transcript_lengths)\n",
    "print('Range: [', low_thresh, ',', high_thresh, ']')\n",
    "print('Percent within range:', p_near_median * 100)"
   ]
  },
  {
   "cell_type": "code",
   "execution_count": 44,
   "metadata": {
    "deletable": false,
    "editable": false,
    "nbgrader": {
     "cell_type": "code",
     "checksum": "005b27a76c8686214ddb7e4dbaab7f88",
     "grade": true,
     "grade_id": "cell-9ccb97050efe4b6f",
     "locked": true,
     "points": 1,
     "schema_version": 3,
     "solution": false
    }
   },
   "outputs": [],
   "source": [
    "assert 0.5 < p_near_median < 0.501"
   ]
  },
  {
   "cell_type": "markdown",
   "metadata": {
    "deletable": false,
    "editable": false,
    "nbgrader": {
     "cell_type": "markdown",
     "checksum": "7ac593d44881b4e66467769fc4a5eb9d",
     "grade": false,
     "grade_id": "cell-20df6e4bb30ce2a4",
     "locked": true,
     "schema_version": 3,
     "solution": false
    }
   },
   "source": [
    "Interesting! Exactly half of the data are within $\\pm1$ median absolute deviation of the median. Think about this and convince yourself why this is by definition so."
   ]
  },
  {
   "cell_type": "markdown",
   "metadata": {
    "deletable": false,
    "editable": false,
    "nbgrader": {
     "cell_type": "markdown",
     "checksum": "4a2c079bc7f1547819f30666f3a58e6f",
     "grade": false,
     "grade_id": "cell-a1ca6a9da5523a65",
     "locked": true,
     "schema_version": 3,
     "solution": false
    }
   },
   "source": [
    "Last, we will try making some \"or\" measurements. To switch things up a bit, we will look at several attributes for each transcript at once.\n",
    "\n",
    "Recall the syntax for stepping through multiple lists in parallel with a for loop:\n",
    "```python\n",
    "letters = ['a', 'b', 'c']\n",
    "numbers = [1, 2, 3]\n",
    "for letter, number in zip(letters, numbers):\n",
    "    print(letter, number)\n",
    "```\n",
    "This of course prints:\n",
    "```\n",
    "a 1\n",
    "b 2\n",
    "c 3\n",
    "```\n",
    "\n",
    "Using this sort of loop, calculate the probability that a transcript either is really long (> 200,000 bp) or has a lot of exons (> 20). Store it in `p_huge`."
   ]
  },
  {
   "cell_type": "code",
   "execution_count": 50,
   "metadata": {
    "deletable": false,
    "nbgrader": {
     "cell_type": "code",
     "checksum": "f403de15a2033a2af66a8ba54478de18",
     "grade": false,
     "grade_id": "cell-e0c44bc4ee2b11e6",
     "locked": false,
     "schema_version": 3,
     "solution": true
    }
   },
   "outputs": [
    {
     "name": "stdout",
     "output_type": "stream",
     "text": [
      "Percent of huge transcripts: 9.653653653653652\n"
     ]
    }
   ],
   "source": [
    "# YOUR ANSWER HERE\n",
    "huge_number=0\n",
    "for transcript,exon in zip(transcript_lengths,exon_counts):\n",
    "    if transcript>200000 or exon>20:\n",
    "        huge_number+=1\n",
    "p_huge=huge_number/len(transcript_lengths)\n",
    "print('Percent of huge transcripts:', p_huge * 100)"
   ]
  },
  {
   "cell_type": "code",
   "execution_count": 51,
   "metadata": {
    "deletable": false,
    "editable": false,
    "nbgrader": {
     "cell_type": "code",
     "checksum": "ad01dc3d98d6db9020f5d53156596f9e",
     "grade": true,
     "grade_id": "cell-b63bb9f5b645f5be",
     "locked": true,
     "points": 1,
     "schema_version": 3,
     "solution": false
    }
   },
   "outputs": [],
   "source": [
    "assert 0.096 < p_huge < 0.097"
   ]
  },
  {
   "cell_type": "markdown",
   "metadata": {},
   "source": [
    "Now we will verify our formula for \"or\": $$P(A \\mathbin{or} B) = P(A) + P(B) - P(A \\mathbin{and} B)$$\n",
    "\n",
    "Below, calculate the relevant probabilities `p_long_transcript` (length > 200,000), `p_many_exons` (> 20), and `p_both`, the probability that a transcript is long *and* has many exons. (Try to write just one for loop...)"
   ]
  },
  {
   "cell_type": "code",
   "execution_count": 54,
   "metadata": {
    "deletable": false,
    "nbgrader": {
     "cell_type": "code",
     "checksum": "32c8c028588ae728e16d39c1a23f9bb0",
     "grade": false,
     "grade_id": "cell-67800af10dc9b67c",
     "locked": false,
     "schema_version": 3,
     "solution": true
    }
   },
   "outputs": [
    {
     "name": "stdout",
     "output_type": "stream",
     "text": [
      "Percent with long transcripts: 4.34034034034034\n",
      "Percent with many exons: 6.731731731731731\n",
      "Percent with both: 1.4184184184184185\n",
      "Percent long transcripts or many exons: 9.653653653653652\n"
     ]
    }
   ],
   "source": [
    "# YOUR ANSWER HERE\n",
    "long_transcripts_number=0\n",
    "many_exons_number=0\n",
    "both_number=0\n",
    "for transcript,exon in zip(transcript_lengths,exon_counts):\n",
    "    if transcript > 200000 and exon>20:\n",
    "        both_number+=1\n",
    "    if transcript > 200000:\n",
    "        long_transcripts_number+=1\n",
    "    if exon>20:\n",
    "        many_exons_number+=1\n",
    "\n",
    "p_long_transcript=long_transcripts_number/len(transcript_lengths)\n",
    "p_many_exons=many_exons_number/len(exon_counts)\n",
    "p_both=both_number/len(transcript_lengths)\n",
    "print('Percent with long transcripts:', p_long_transcript * 100)\n",
    "print('Percent with many exons:', p_many_exons * 100)\n",
    "print('Percent with both:', p_both * 100)\n",
    "calculated_or = p_long_transcript + p_many_exons - p_both\n",
    "print('Percent long transcripts or many exons:', calculated_or * 100)"
   ]
  },
  {
   "cell_type": "code",
   "execution_count": 55,
   "metadata": {
    "deletable": false,
    "editable": false,
    "nbgrader": {
     "cell_type": "code",
     "checksum": "4bb253b6f703dd3eb913f289d898333b",
     "grade": true,
     "grade_id": "cell-3208dd3567abe878",
     "locked": true,
     "points": 1,
     "schema_version": 3,
     "solution": false
    }
   },
   "outputs": [],
   "source": [
    "assert 0.043 < p_long_transcript < 0.044\n",
    "assert 0.067 < p_many_exons < 0.068\n",
    "assert 0.014 < p_both < 0.015"
   ]
  },
  {
   "cell_type": "markdown",
   "metadata": {
    "deletable": false,
    "editable": false,
    "nbgrader": {
     "cell_type": "markdown",
     "checksum": "86fb2c5146fbeda69d20c13cd1893d2b",
     "grade": false,
     "grade_id": "cell-c6d4f9acc82bce98",
     "locked": true,
     "schema_version": 3,
     "solution": false
    }
   },
   "source": [
    "## Independence\n",
    "Last, let's examine the definition of independence:\n",
    "$$P(A \\mathbin{and} B) = P(A) \\cdot P(B) \\iff \\textrm{A and B are independent}$$\n",
    "(Where $\\iff$ means \"if and only if\".)\n",
    "\n",
    "We will use this to test if having many exons is independent of having a long transcript. Calculate `p_expected_both`, the probability that both of these events would be true if they were independent."
   ]
  },
  {
   "cell_type": "code",
   "execution_count": 66,
   "metadata": {
    "deletable": false,
    "nbgrader": {
     "cell_type": "code",
     "checksum": "c66165d941be1f0af361b5849b80d916",
     "grade": false,
     "grade_id": "cell-3405c84a526d174b",
     "locked": false,
     "schema_version": 3,
     "solution": true
    }
   },
   "outputs": [
    {
     "name": "stdout",
     "output_type": "stream",
     "text": [
      "Expected percent with both: 0.09548412276140003\n"
     ]
    }
   ],
   "source": [
    "# YOUR ANSWER HERE\n",
    "if p_both==p_long_transcript*p_many_exons:\n",
    "    p_expected_both=p_long_transcript*p_many_exons\n",
    "print('Expected percent with both:', p_expected_both * 100)"
   ]
  },
  {
   "cell_type": "code",
   "execution_count": 68,
   "metadata": {
    "deletable": false,
    "editable": false,
    "nbgrader": {
     "cell_type": "code",
     "checksum": "5442ae364f64d37539eb23bae7521d9c",
     "grade": true,
     "grade_id": "cell-5f7ea1a0a8c24d77",
     "locked": true,
     "points": 1,
     "schema_version": 3,
     "solution": false
    }
   },
   "outputs": [],
   "source": [
    "assert 0.0009 < p_expected_both < 0.001"
   ]
  },
  {
   "cell_type": "markdown",
   "metadata": {
    "deletable": false,
    "editable": false,
    "nbgrader": {
     "cell_type": "markdown",
     "checksum": "628e999e705b8440bc0ffd2c01364f80",
     "grade": false,
     "grade_id": "cell-fd5231908293753a",
     "locked": true,
     "schema_version": 3,
     "solution": false
    }
   },
   "source": [
    "So we can see that we encounter long transcripts with many exons almost ten times more frequently than we would expect if there were no relationship between transcript length and exon count... Thus (as we expect) these are not independent properties of a transcript."
   ]
  },
  {
   "cell_type": "code",
   "execution_count": null,
   "metadata": {},
   "outputs": [],
   "source": []
  }
 ],
 "metadata": {
  "kernelspec": {
   "display_name": "Python 3",
   "language": "python",
   "name": "python3"
  },
  "language_info": {
   "codemirror_mode": {
    "name": "ipython",
    "version": 3
   },
   "file_extension": ".py",
   "mimetype": "text/x-python",
   "name": "python",
   "nbconvert_exporter": "python",
   "pygments_lexer": "ipython3",
   "version": "3.8.3"
  }
 },
 "nbformat": 4,
 "nbformat_minor": 2
}
