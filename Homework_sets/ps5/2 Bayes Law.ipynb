{
 "cells": [
  {
   "cell_type": "markdown",
   "metadata": {
    "deletable": false,
    "editable": false,
    "nbgrader": {
     "cell_type": "markdown",
     "checksum": "7c75ebb266d397f1a19384dceff787f9",
     "grade": false,
     "grade_id": "cell-327b7dcdbd20ef8f",
     "locked": true,
     "schema_version": 3,
     "solution": false
    }
   },
   "source": [
    "# Question 3: Bayes Law (28 points)\n",
    "\n",
    "At the end of the last problem, we plugged numbers into the Bayes law formula to verify that it worked. In this problem, we will try to gain a bit more intuition, and use Bayes law to understand the sensitivity/specificity tradeoff.\n",
    "\n",
    "Here again is the derivation of Bayes law.\n",
    "\n",
    "First, this is the definition of conditional probability: $P(A \\mid B) = P(A \\mathbin{and} B) \\mathbin{/} P(B)$.\n",
    "\n",
    "Equivalently: $P(A \\mathbin{and} B) = P(A \\mid B) \\cdot P(B)$.\n",
    "\n",
    "If $P(A \\mathbin{and} B) = P(B \\mathbin{and} A)$, then it must be the case that $P(A \\mid B) \\cdot P(B) = P(B \\mid A) \\cdot P(A)$.\n",
    "\n",
    "Dividing by $P(B)$ then gives Bayes law:\n",
    "$$P(A \\mid B) = \\frac{P(B \\mid A) \\cdot P(A)}{P(B)}$$\n",
    "\n",
    "In class, we talked about a test that was positive for 99% of samples that actually had the activity we were testing for (i.e. \"positive controls\"). The test was negative for 95% of the \"inactive\" samples (i.e. those without the activity, or \"negative controls\"). This first number is called \"sensitivity\": the fraction of active samples that detected by the test. The second number is \"specificity\": the fraction of inactive samples that are correctly *not* detected by the test.\n",
    "\n",
    "We will use the following language throughout: a test can be \"positive\" or \"negative\", and a sample can be \"active\" or \"inactive\". So a \"false positive\" is when the test is positive, but the sample is inactive. (To save space, in notation we will use $+$ and $-$ for positve and negative test results, respectively.)\n",
    "\n",
    "In the space below, write a definition (just in words, no need for formulas) of sensitivity and specificity using the language of conditional probability. I.e. \"sensitivity is the probability that ..., given that ...\". \n",
    "\n",
    "**Note**: in a markdown cell (the text entry cells, like below), to start a new paragraph you need to put a blank line. So separate your two answers by an empty line."
   ]
  },
  {
   "cell_type": "markdown",
   "metadata": {
    "deletable": false,
    "nbgrader": {
     "cell_type": "markdown",
     "checksum": "38070bffb2c1148d7ce6d05c644a71b2",
     "grade": true,
     "grade_id": "cell-9d29d6f9b402bba0",
     "locked": false,
     "points": 2,
     "schema_version": 3,
     "solution": true
    }
   },
   "source": [
    "YOUR ANSWER HERE"
   ]
  },
  {
   "cell_type": "markdown",
   "metadata": {
    "deletable": false,
    "editable": false,
    "nbgrader": {
     "cell_type": "markdown",
     "checksum": "0ab5d15e2ef0ed14960042e885923c00",
     "grade": false,
     "grade_id": "cell-05fc36cfe1483219",
     "locked": true,
     "schema_version": 3,
     "solution": false
    }
   },
   "source": [
    "Now, in words, write out what this probability statement is: $P(\\mathrm{active}\\mid+)$."
   ]
  },
  {
   "cell_type": "markdown",
   "metadata": {
    "deletable": false,
    "nbgrader": {
     "cell_type": "markdown",
     "checksum": "7ed01ba1c4dacc931bfa41aa85397509",
     "grade": true,
     "grade_id": "cell-4c024219db4b95ef",
     "locked": false,
     "points": 1,
     "schema_version": 3,
     "solution": true
    }
   },
   "source": [
    "YOUR ANSWER HERE"
   ]
  },
  {
   "cell_type": "markdown",
   "metadata": {
    "deletable": false,
    "editable": false,
    "nbgrader": {
     "cell_type": "markdown",
     "checksum": "d7bec5e0537b5d038d39b4588697eac3",
     "grade": false,
     "grade_id": "cell-d943aa73af7c26af",
     "locked": true,
     "schema_version": 3,
     "solution": false
    }
   },
   "source": [
    "$P(\\mathrm{active}\\mid+)$ is also known as the \"positive predictive value\". This is the value we really want to know!\n",
    "\n",
    "Test performance can often be written in a $2\\times 2$ table. Here is how our test above would look with 100 positive control (\"active\") and 100 negative control (\"inactive\") compounds:\n",
    "\n",
    "|             | active | inactive |\n",
    "|-------------|--------|----------|\n",
    "|$\\mathbf{+}$ |   99   |     5    |\n",
    "|$\\mathbf{-}$ |   1    |     95   |\n",
    "\n",
    "In this case, what is the positive predictive value? Define the variable `ppv` as a fraction of two numbers:"
   ]
  },
  {
   "cell_type": "code",
   "execution_count": null,
   "metadata": {
    "deletable": false,
    "nbgrader": {
     "cell_type": "code",
     "checksum": "4a3da7724bb8af346ab37ccb692807f0",
     "grade": false,
     "grade_id": "cell-fc5e59e2fe6537fe",
     "locked": false,
     "schema_version": 3,
     "solution": true
    }
   },
   "outputs": [],
   "source": [
    "# YOUR ANSWER HERE"
   ]
  },
  {
   "cell_type": "code",
   "execution_count": null,
   "metadata": {
    "deletable": false,
    "editable": false,
    "nbgrader": {
     "cell_type": "code",
     "checksum": "b8c27b9ad0977abb846b88643c26c9a3",
     "grade": true,
     "grade_id": "cell-7a7644b81d7729d4",
     "locked": true,
     "points": 1,
     "schema_version": 3,
     "solution": false
    }
   },
   "outputs": [],
   "source": [
    "assert 0.951 < ppv < 0.952"
   ]
  },
  {
   "cell_type": "markdown",
   "metadata": {
    "deletable": false,
    "editable": false,
    "nbgrader": {
     "cell_type": "markdown",
     "checksum": "14d487cde06f0e81d5f05e017051a752",
     "grade": false,
     "grade_id": "cell-afbb4d00ee0d47d4",
     "locked": true,
     "schema_version": 3,
     "solution": false
    }
   },
   "source": [
    "If we screen 2000 total samples, consisting of 100 active samples (i.e. true apoptosis-inducing drugs) and 1900 inactive samples, what is the total number of true positive tests and false positive tests we will get? Adding these together gives the total number of positives. From these, you can calculate $P(+)$ and $P(+\\mathbin{and} \\mathrm{active})$.\n",
    "\n",
    "Using the `sensitivity` and `specificity` variables, calculate `num_true_positive`, `num_false_positive`, `num_positive`, `p_positive` and `p_positive_and_active`. Define these variables in terms of one another, and the variables defined for you below."
   ]
  },
  {
   "cell_type": "code",
   "execution_count": null,
   "metadata": {
    "deletable": false,
    "nbgrader": {
     "cell_type": "code",
     "checksum": "b68fa10f01f0ed22b491b7ac19e2824b",
     "grade": false,
     "grade_id": "cell-84a2fedb3e9202fa",
     "locked": false,
     "schema_version": 3,
     "solution": true
    }
   },
   "outputs": [],
   "source": [
    "sensitivity = 0.99\n",
    "specificity = 0.95\n",
    "num_active = 100\n",
    "num_inactive = 1900\n",
    "total_compounds = num_active + num_inactive\n",
    "# YOUR ANSWER HERE\n",
    "print('true positives:', num_true_positive)\n",
    "print('false positives:', num_false_positive)\n",
    "print('total positive tests:', num_positive)\n",
    "print('percent of tests positive:', p_positive*100)\n",
    "print('percent of (tests positive) and (active):', p_positive_and_active*100)"
   ]
  },
  {
   "cell_type": "code",
   "execution_count": null,
   "metadata": {
    "deletable": false,
    "editable": false,
    "nbgrader": {
     "cell_type": "code",
     "checksum": "0291a69ed974541aa6084a56c3e300f9",
     "grade": true,
     "grade_id": "cell-054551dc2babfa39",
     "locked": true,
     "points": 3,
     "schema_version": 3,
     "solution": false
    }
   },
   "outputs": [],
   "source": [
    "assert 0.096 < p_positive < 0.098\n",
    "assert 0.049 < p_positive_and_active < 0.05"
   ]
  },
  {
   "cell_type": "markdown",
   "metadata": {
    "deletable": false,
    "editable": false,
    "nbgrader": {
     "cell_type": "markdown",
     "checksum": "66a42e2c684d498afe82816f0d7550bf",
     "grade": false,
     "grade_id": "cell-6fbca1c6cc7419a5",
     "locked": true,
     "schema_version": 3,
     "solution": false
    }
   },
   "source": [
    "What is $P(\\mathrm{active}\\mid+)$ (i.e. the positive predictive value) in this case? Calculate out the answer two ways.\n",
    "\n",
    "First, just use what conditional probability means: of the total number of positive results (which you calculated above), how many are from active compounds? Define `ppv1` as this fraction.\n",
    "\n",
    "Second, use the mathematical definition: \n",
    "$$P(\\mathrm{active}\\mid+) = \\frac{P(+\\mathbin{and} \\mathrm{active})}{P(+)}$$\n",
    "\n",
    "Using your values for $P(+)$ and $P(+\\mathbin{and} \\mathrm{active})$ from the previous question, calculate $P(\\mathrm{active}\\mid+)$, as `ppv2`. Make sure you can see how it simplifies into the same fraction as above."
   ]
  },
  {
   "cell_type": "code",
   "execution_count": null,
   "metadata": {
    "deletable": false,
    "nbgrader": {
     "cell_type": "code",
     "checksum": "47e7ad540af4d6c9eac29a23c55a8674",
     "grade": false,
     "grade_id": "cell-a31eb07ca6406677",
     "locked": false,
     "schema_version": 3,
     "solution": true
    }
   },
   "outputs": [],
   "source": [
    "# YOUR ANSWER HERE"
   ]
  },
  {
   "cell_type": "code",
   "execution_count": null,
   "metadata": {
    "deletable": false,
    "editable": false,
    "nbgrader": {
     "cell_type": "code",
     "checksum": "6fd3a2d692930e521bea60fed2c64ab1",
     "grade": true,
     "grade_id": "cell-2f642daed6b673f6",
     "locked": true,
     "points": 2,
     "schema_version": 3,
     "solution": false
    }
   },
   "outputs": [],
   "source": [
    "assert 0.5 < ppv1 < 0.52\n",
    "assert 0.5 < ppv2 < 0.52"
   ]
  },
  {
   "cell_type": "markdown",
   "metadata": {
    "deletable": false,
    "editable": false,
    "nbgrader": {
     "cell_type": "markdown",
     "checksum": "83715dfc86ba544a92e360c0f2c7980e",
     "grade": false,
     "grade_id": "cell-e77db562fcfa51d2",
     "locked": true,
     "schema_version": 3,
     "solution": false
    }
   },
   "source": [
    "So, in the above scenario, about 50% of the positive tests will be for truly active compounds.\n",
    "\n",
    "Now, write out a $2\\times 2$ table for testing 200 active and 49800 inactive samples, using the above sensitivty and specificity. If you write it as:\n",
    "```markdown\n",
    "| | active | inactive |\n",
    "|-|--------|----------|\n",
    "|+|   xx   |    yy    |\n",
    "|-|   aa   |    bb    |\n",
    "```\n",
    "Then it will turn into a nifty table when you \"run\" the cell with shift-enter:\n",
    "\n",
    "| | active | inactive |\n",
    "|-|--------|----------|\n",
    "|+|   xx   |    yy    |\n",
    "|-|   aa   |    bb    |\n",
    "\n",
    "\n",
    "(**Note**: it won't format right if there is a line of text right above the table. Make sure the table is at the beginning of the cell, or separated by a blank line.)\n"
   ]
  },
  {
   "cell_type": "markdown",
   "metadata": {
    "collapsed": true,
    "deletable": false,
    "nbgrader": {
     "cell_type": "markdown",
     "checksum": "9e54b167f908fe951ac0d0480c287782",
     "grade": true,
     "grade_id": "cell-ace93cf0e614cb19",
     "locked": false,
     "points": 4,
     "schema_version": 3,
     "solution": true
    }
   },
   "source": [
    "YOUR ANSWER HERE"
   ]
  },
  {
   "cell_type": "markdown",
   "metadata": {
    "deletable": false,
    "editable": false,
    "nbgrader": {
     "cell_type": "markdown",
     "checksum": "d6438cc7cc163ed9f514e0983b11ecf0",
     "grade": false,
     "grade_id": "cell-2cc3bb903fb7f2b2",
     "locked": true,
     "schema_version": 3,
     "solution": false
    }
   },
   "source": [
    "Now write the positive predictive value in terms of the numbers in the above table (i.e. the fraction of total positive results that come from active compounds). Store the result in a variable `ppv`. "
   ]
  },
  {
   "cell_type": "code",
   "execution_count": null,
   "metadata": {
    "deletable": false,
    "nbgrader": {
     "cell_type": "code",
     "checksum": "21ca0813ada693a813850309b9becac9",
     "grade": false,
     "grade_id": "cell-95988cd692d4d7ed",
     "locked": false,
     "schema_version": 3,
     "solution": true
    }
   },
   "outputs": [],
   "source": [
    "# YOUR ANSWER HERE\n",
    "print('positive predictive value (percent):', ppv*100)"
   ]
  },
  {
   "cell_type": "code",
   "execution_count": null,
   "metadata": {
    "deletable": false,
    "editable": false,
    "nbgrader": {
     "cell_type": "code",
     "checksum": "79c20542e7a779c375a40222eb3aa845",
     "grade": true,
     "grade_id": "cell-91b2eb93faf2dbc6",
     "locked": true,
     "points": 1,
     "schema_version": 3,
     "solution": false
    }
   },
   "outputs": [],
   "source": [
    "assert 0.073 < ppv < 0.074"
   ]
  },
  {
   "cell_type": "markdown",
   "metadata": {
    "deletable": false,
    "editable": false,
    "nbgrader": {
     "cell_type": "markdown",
     "checksum": "96cfa0aadc5fb520f5b00ec0273394c6",
     "grade": false,
     "grade_id": "cell-d6bf87a56924c216",
     "locked": true,
     "schema_version": 3,
     "solution": false
    }
   },
   "source": [
    "Next, let's try to write out a direct formula for  positive preditive value, i.e. $P(\\mathrm{active}\\mid+)$.\n",
    "\n",
    "From Bayes law, we have: \n",
    "$$P(\\mathrm{active}\\mid+) = \\frac{P(+\\mid \\mathrm{active})\\cdot P(\\mathrm{active})}{P(+)}$$\n",
    "\n",
    "Now, how can we find the $P(+)$, the probability of a postive test? Above, we defined the number of positive results simply as the sum of the true positives and the false positives. Similarly, the probability of a postive test is simply the probability of a true positive *or* a false positive. Because there's no overlap between true and false positives, we can just say $P(+) = P(\\textrm{true positive}) + P(\\textrm{false positive})$.\n",
    "\n",
    "What is $P(\\textrm{true positive})$? Well, a true positive is an active compound that tested positive. In other words, $\\mathrm{active} \\mathbin{and} +$. So $P(\\textrm{true positive}) = P(\\mathrm{active} \\mathbin{and} +)$.\n",
    "\n",
    "So, starting with Bayes law above, we have so far:\n",
    "\\begin{align}\n",
    "P(\\mathrm{active}\\mid+) &= \\frac{P(+\\mid \\mathrm{active})\\cdot P(\\mathrm{active})}{P(+)}\\\\\n",
    "&= \\frac{P(+\\mid \\mathrm{active})\\cdot P(\\mathrm{active})}{P(\\textrm{true positive}) + P(\\textrm{false positive})}\\\\\n",
    "&= \\frac{P(+\\mid \\mathrm{active})\\cdot P(\\mathrm{active})}{P(\\mathrm{active} \\mathbin{and} +) + P(\\mathrm{inactive} \\mathbin{and} +)}\n",
    "\\end{align}\n",
    "\n",
    "Now, all we need is to come up with a formula for $P(\\mathrm{active} \\mathbin{and} +)$ and $P(\\mathrm{inactive} \\mathbin{and} +)$.\n",
    "\n",
    "How did you calculate $P(\\mathrm{active} \\mathbin{and} +)$ in the question above? It was pretty straightforward: first, you calculated the number of true positive tests as the sensitivity of the test multiplied by the number of active compounds. (Similarly, the number of false positive tests is 1 - specificity multiplied by the number of inactive compounds.)\n",
    "\n",
    "Dividing the number of true positives by the total number of compounds tested gave the *probability* of a true positive test. In other words:\n",
    "$$P(\\mathrm{active} \\mathbin{and} +) = \\frac{\\mathrm{sensitivity} \\cdot \\mathrm{total}(\\mathrm{active})}{\\textrm{total compounds}}$$\n",
    "\n",
    "Of course,\n",
    "$$\\frac{\\mathrm{total}(\\mathrm{active})}{\\textrm{total compounds}} = P(\\mathrm{active})$$\n",
    "\n",
    "So: $P(\\mathrm{active} \\mathbin{and} +) = \\mathrm{sensitivity} \\cdot P(\\mathrm{active})$.\n",
    "\n",
    "If we substitute  the formal definition of sensitivity into the above, we get: $P(\\mathrm{active} \\mathbin{and} +) = P(+\\mid\\mathrm{active}) \\cdot P(\\mathrm{active})$.\n",
    "\n",
    "This is, of course, our definition of conditional probability again. It all makes intuitive sense, and mathematical sense!\n",
    "\n",
    "Plugging everything in together:\n",
    "$$P(\\mathrm{active}\\mid+) = \\frac{P(+\\mid \\mathrm{active})\\cdot P(\\mathrm{active})}{P(+ \\mid \\mathrm{active})\\cdot P(\\mathrm{active}) + P(+ \\mid \\mathrm{inactive})\\cdot P(\\mathrm{inactive})}$$\n",
    "\n",
    "Or:\n",
    "$$P(\\mathrm{active}\\mid+) = \\frac{\\mathrm{sensitivity}\\cdot P(\\mathrm{active})}{\\mathrm{sensitivity}\\cdot P(\\mathrm{active}) + (1 - \\mathrm{specificity})\\cdot P(\\mathrm{inactive})}$$\n",
    "\n",
    "\n",
    "What are $P(\\mathrm{active})$ and $P(\\mathrm{inactive})$ in this collection of 200 active and 49800 inactive samples?\n",
    "\n",
    "Write out calculations in Python for $P(\\mathrm{active})$, $P(\\mathrm{inactive})$, and $P(\\mathrm{active}\\mid+)$. Store the results in the variables `p_active`, `p_inactive`, and `ppv`, respectively. Use the variables `p_active`,  `p_inactive`, `sensitivity` and `specificity` in your PPV calculation. "
   ]
  },
  {
   "cell_type": "code",
   "execution_count": null,
   "metadata": {
    "deletable": false,
    "nbgrader": {
     "cell_type": "code",
     "checksum": "5a02902f58c329205f3b789ba9b2db58",
     "grade": false,
     "grade_id": "cell-7c61ede3ddb1b8db",
     "locked": false,
     "schema_version": 3,
     "solution": true
    }
   },
   "outputs": [],
   "source": [
    "sensitivity = 0.99\n",
    "specificity = 0.95\n",
    "# YOUR ANSWER HERE\n",
    "print(p_active)\n",
    "print(p_inactive)\n",
    "print(ppv)"
   ]
  },
  {
   "cell_type": "code",
   "execution_count": null,
   "metadata": {
    "deletable": false,
    "editable": false,
    "nbgrader": {
     "cell_type": "code",
     "checksum": "6b63ed396b5bc8276c0b1f011d5cb3a7",
     "grade": true,
     "grade_id": "cell-1870f6c3e3b2e2f5",
     "locked": true,
     "points": 2,
     "schema_version": 3,
     "solution": false
    }
   },
   "outputs": [],
   "source": [
    "# test your answers\n",
    "assert p_active == 4/1000\n",
    "assert p_inactive == 1-p_active\n",
    "assert 0.073 < ppv < 0.074 "
   ]
  },
  {
   "cell_type": "markdown",
   "metadata": {
    "deletable": false,
    "editable": false,
    "nbgrader": {
     "cell_type": "markdown",
     "checksum": "fbc016fc8fb33c54cab3b46e52aa2eb5",
     "grade": false,
     "grade_id": "cell-7b2dba0ec5614daa",
     "locked": true,
     "schema_version": 3,
     "solution": false
    }
   },
   "source": [
    "So both via the formula and just by direct inspection of the $2\\times2$ table, we saw a PPV of of 0.0736. This means that 7.36% of the time you get a positive assay result, the compound will be truly active.\n",
    "\n",
    "If validating a screen hit takes 10 days, it will take 1000 days to validate 100 hits, of which 7 are probably real. That works out to ~136 days for every real hit. No good!\n",
    "\n",
    "As we mentioned in class, sensitivity and specificity usually trade off against one another. We could make our test more stringent, so that our specificity goes to 99%, say. But that might reduce the sensitivity to 95%. \n",
    "\n",
    "Copy the code above to the next cell and change the sensitivity and specificity to 95% and 99%, respectively. Print the PPV."
   ]
  },
  {
   "cell_type": "code",
   "execution_count": null,
   "metadata": {
    "deletable": false,
    "nbgrader": {
     "cell_type": "code",
     "checksum": "61d4a1f5ccac240d00108651710f9bef",
     "grade": false,
     "grade_id": "cell-8c31f8daa9163327",
     "locked": false,
     "schema_version": 3,
     "solution": true
    }
   },
   "outputs": [],
   "source": [
    "# YOUR ANSWER HERE\n",
    "print(ppv)"
   ]
  },
  {
   "cell_type": "code",
   "execution_count": null,
   "metadata": {
    "deletable": false,
    "editable": false,
    "nbgrader": {
     "cell_type": "code",
     "checksum": "f7af4e06236e89d143b6c306ccc8515a",
     "grade": true,
     "grade_id": "cell-219841cc9558a8ae",
     "locked": true,
     "points": 1,
     "schema_version": 3,
     "solution": false
    }
   },
   "outputs": [],
   "source": [
    "assert 0.27 < ppv < 0.28"
   ]
  },
  {
   "cell_type": "markdown",
   "metadata": {
    "deletable": false,
    "editable": false,
    "nbgrader": {
     "cell_type": "markdown",
     "checksum": "0a1979470b74e3ed2c2343153f252e92",
     "grade": false,
     "grade_id": "cell-a6e7ef692f76846c",
     "locked": true,
     "schema_version": 3,
     "solution": false
    }
   },
   "source": [
    "Wow, almost 28% of the positive hits are real!\n",
    "\n",
    "In the original case, we got 198 true positives and 2490 false positives. With a 95% sensitive, 99% specific test, how many true and false positives do you get?\n",
    "\n",
    "Using the variables `sensitivity` and `specificity` that you re-defined above, calculate the total number of true and false positives, storing them in the variables `true_positives` and `false_positives`. (Sometimes \"sensitivity\" is called the \"true positive rate\" and specificity is called the \"true negative rate\". Now you should see why...)"
   ]
  },
  {
   "cell_type": "code",
   "execution_count": null,
   "metadata": {
    "deletable": false,
    "nbgrader": {
     "cell_type": "code",
     "checksum": "6a7b6fd6c822c50377910a031322913e",
     "grade": false,
     "grade_id": "cell-a5f2c54d9e231dbc",
     "locked": false,
     "schema_version": 3,
     "solution": true
    }
   },
   "outputs": [],
   "source": [
    "# YOUR ANSWER HERE\n",
    "print(true_positives)\n",
    "print(false_positives)"
   ]
  },
  {
   "cell_type": "code",
   "execution_count": null,
   "metadata": {
    "deletable": false,
    "editable": false,
    "nbgrader": {
     "cell_type": "code",
     "checksum": "9e5b720074cfc45a46d0c72e0344ec61",
     "grade": true,
     "grade_id": "cell-63a8a754c2b1ec66",
     "locked": true,
     "points": 1,
     "schema_version": 3,
     "solution": false
    }
   },
   "outputs": [],
   "source": [
    "assert int(true_positives) == 190\n",
    "assert int(false_positives) == 498"
   ]
  },
  {
   "cell_type": "markdown",
   "metadata": {
    "deletable": false,
    "editable": false,
    "nbgrader": {
     "cell_type": "markdown",
     "checksum": "785e1e8fda5d1442b740d2c982bfe65a",
     "grade": false,
     "grade_id": "cell-3e1c34f601b2b0f0",
     "locked": true,
     "schema_version": 3,
     "solution": false
    }
   },
   "source": [
    "That's not bad! Switching 99% sensitive / 95% specific for the one that is 95% sensitive / 99% specific means missing out on eight active compounds (going from 198 to 190 true positives), but also excluding 1992 false positives (going from 2490 to only 498).\n",
    "\n",
    "Unfortunately, many times sensitivity and specificity don't trade off symmetrically. A more realistic scenario might be 99% specific, 80% sensitive. Copy your answer from above and modify to calculate the ppv and number of true and false positives in this case."
   ]
  },
  {
   "cell_type": "code",
   "execution_count": null,
   "metadata": {
    "deletable": false,
    "nbgrader": {
     "cell_type": "code",
     "checksum": "c3e470641943f186d459642ece4b3075",
     "grade": false,
     "grade_id": "cell-df15d3697a16751b",
     "locked": false,
     "schema_version": 3,
     "solution": true
    }
   },
   "outputs": [],
   "source": [
    "# YOUR ANSWER HERE\n",
    "print(ppv)\n",
    "print(true_positives)\n",
    "print(false_positives)"
   ]
  },
  {
   "cell_type": "code",
   "execution_count": null,
   "metadata": {
    "deletable": false,
    "editable": false,
    "nbgrader": {
     "cell_type": "code",
     "checksum": "28f82dc5bc935978c04f6f15115aeb3f",
     "grade": true,
     "grade_id": "cell-bb96036c47bbef34",
     "locked": true,
     "points": 1,
     "schema_version": 3,
     "solution": false
    }
   },
   "outputs": [],
   "source": [
    "assert 0.24 < ppv < 0.25\n",
    "assert int(true_positives) == 160\n",
    "assert int(false_positives) == 498"
   ]
  },
  {
   "cell_type": "markdown",
   "metadata": {
    "deletable": false,
    "editable": false,
    "nbgrader": {
     "cell_type": "markdown",
     "checksum": "19befce32e127df6a7648f49c22f0a81",
     "grade": false,
     "grade_id": "cell-9e793b7a459a5dbe",
     "locked": true,
     "schema_version": 3,
     "solution": false
    }
   },
   "source": [
    "The positive predictive value didn't change much! But what did change? Write your answer below.\n",
    "\n",
    "Often a drug company's goal isn't just to find one active compound, but to find many, because so many candidate drugs fail to work out for reasons having nothing to do with activity. (For example, unwanted side effects.) Why is a test with poor sensitity bad in this case? Write your answer below."
   ]
  },
  {
   "cell_type": "markdown",
   "metadata": {
    "deletable": false,
    "nbgrader": {
     "cell_type": "markdown",
     "checksum": "8429e53519afd0429d48a9c7d6ab1b6a",
     "grade": true,
     "grade_id": "cell-fc415da061dfb7c9",
     "locked": false,
     "points": 2,
     "schema_version": 3,
     "solution": true
    }
   },
   "source": [
    "YOUR ANSWER HERE"
   ]
  },
  {
   "cell_type": "markdown",
   "metadata": {
    "deletable": false,
    "editable": false,
    "nbgrader": {
     "cell_type": "markdown",
     "checksum": "929f57e0ec980fd6c54845ba001cad08",
     "grade": false,
     "grade_id": "cell-481d42ed381fe451",
     "locked": true,
     "schema_version": 3,
     "solution": false
    }
   },
   "source": [
    "Sometimes false positives and false negatives occur just because of completely random factors. If we assume that errors are completely independent, what is the probability of an inactive compound testing positive on two tests in a row? What is the probability of an active compound testing positive on two tests in a row?\n",
    "\n",
    "Calculate these probabilites, using the test parameters of 99% sensitivity and 95% specificity. Save the results in variables `p_two_false_pos` and `p_two_true_pos`."
   ]
  },
  {
   "cell_type": "code",
   "execution_count": null,
   "metadata": {
    "deletable": false,
    "nbgrader": {
     "cell_type": "code",
     "checksum": "6cbafe6dd1c998910cd72a908092702a",
     "grade": false,
     "grade_id": "cell-1f44430ea2507a29",
     "locked": false,
     "schema_version": 3,
     "solution": true
    }
   },
   "outputs": [],
   "source": [
    "sensitivity = 0.99\n",
    "specificity = 0.95\n",
    "# YOUR ANSWER HERE\n",
    "print(p_two_false_pos)\n",
    "print(p_two_true_pos)"
   ]
  },
  {
   "cell_type": "code",
   "execution_count": null,
   "metadata": {
    "deletable": false,
    "editable": false,
    "nbgrader": {
     "cell_type": "code",
     "checksum": "3ac1e90ef0c75d7ebab7b3a098dd59d1",
     "grade": true,
     "grade_id": "cell-1a366d7e9c73d9e9",
     "locked": true,
     "points": 3,
     "schema_version": 3,
     "solution": false
    }
   },
   "outputs": [],
   "source": [
    "assert int(p_two_false_pos * 10000) == 25\n",
    "assert int(p_two_true_pos * 100) == 98"
   ]
  },
  {
   "cell_type": "markdown",
   "metadata": {
    "deletable": false,
    "editable": false,
    "nbgrader": {
     "cell_type": "markdown",
     "checksum": "d9929f4d78ec22a066aac2743c1aaff3",
     "grade": false,
     "grade_id": "cell-e516e2fbba365495",
     "locked": true,
     "schema_version": 3,
     "solution": false
    }
   },
   "source": [
    "Let's say our testing procedure is just to repeat the individual test twice, and only score the test as positive if **both** repeats score positive. What is the overall sensitivity and specificity of this double test? Define `sensitivity` and `specificity` in terms of `p_two_false_pos` and `p_two_true_pos`, and then calculate the PPV, number of false positives, and number of true positives as before."
   ]
  },
  {
   "cell_type": "code",
   "execution_count": null,
   "metadata": {
    "deletable": false,
    "nbgrader": {
     "cell_type": "code",
     "checksum": "ecbbccffdebfad3ef0b2d9c083aecfbe",
     "grade": false,
     "grade_id": "cell-ac01a3daf7f8ac9a",
     "locked": false,
     "schema_version": 3,
     "solution": true
    }
   },
   "outputs": [],
   "source": [
    "# YOUR ANSWER HERE\n",
    "print('sensitivity:', sensitivity)\n",
    "print('specificity:', specificity)\n",
    "print('ppv:', ppv)\n",
    "print('# true positives:', true_positives)\n",
    "print('# false positives:', false_positives)"
   ]
  },
  {
   "cell_type": "code",
   "execution_count": null,
   "metadata": {
    "deletable": false,
    "editable": false,
    "nbgrader": {
     "cell_type": "code",
     "checksum": "0976d213ef88c5ad7f16b20295c73ed6",
     "grade": true,
     "grade_id": "cell-fae16ce3699d6555",
     "locked": true,
     "points": 3,
     "schema_version": 3,
     "solution": false
    }
   },
   "outputs": [],
   "source": [
    "assert 0.61 < ppv < 0.62\n",
    "assert int(true_positives) == 196\n",
    "assert int(false_positives) == 124"
   ]
  },
  {
   "cell_type": "markdown",
   "metadata": {
    "deletable": false,
    "editable": false,
    "nbgrader": {
     "cell_type": "markdown",
     "checksum": "2cdf62f554acc0ce52e8727034746444",
     "grade": false,
     "grade_id": "cell-1228ba4f7ad69e44",
     "locked": true,
     "schema_version": 3,
     "solution": false
    }
   },
   "source": [
    "This is great! Re-testing is a great way to get rid of random errors. We missed a few true active compounds though -- the true positives went from 198 in the original case to 196. For an 80% sensitive test, though, things would be much worse: double-testing would go from 80% sensitive to 64% sensitive.\n",
    "\n",
    "However, re-testing is not a panacea. What other kinds of errors will re-testing not eliminate? Give your answer in the context of drug screening: why might a compound that doesn't cause apoptosis  cause a colorimetric assay (e.g. turning the well blue / not blue) to repeatedly give a false positive?"
   ]
  },
  {
   "cell_type": "markdown",
   "metadata": {
    "deletable": false,
    "nbgrader": {
     "cell_type": "markdown",
     "checksum": "0b86ec274ca3e57b61ce09b2a949c524",
     "grade": true,
     "grade_id": "cell-475770ea9bbffa1f",
     "locked": false,
     "points": 1,
     "schema_version": 3,
     "solution": true
    }
   },
   "source": [
    "YOUR ANSWER HERE"
   ]
  }
 ],
 "metadata": {
  "anaconda-cloud": {},
  "kernelspec": {
   "display_name": "Python 3",
   "language": "python",
   "name": "python3"
  },
  "language_info": {
   "codemirror_mode": {
    "name": "ipython",
    "version": 3
   },
   "file_extension": ".py",
   "mimetype": "text/x-python",
   "name": "python",
   "nbconvert_exporter": "python",
   "pygments_lexer": "ipython3",
   "version": "3.8.2"
  }
 },
 "nbformat": 4,
 "nbformat_minor": 1
}
