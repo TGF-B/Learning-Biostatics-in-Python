{
 "cells": [
  {
   "cell_type": "markdown",
   "metadata": {
    "deletable": false,
    "editable": false,
    "nbgrader": {
     "cell_type": "markdown",
     "checksum": "6e9cbea9d724019a15bd6081cfd680fe",
     "grade": false,
     "grade_id": "cell-3ed3cf4fab39bdc5",
     "locked": true,
     "schema_version": 3,
     "solution": false
    }
   },
   "source": [
    "# Conditional Probability (8 points)\n",
    "\n",
    "In this problem we will explore conditional probability, or the probability of A given that B is also the case: $P(A \\mid B)$.\n",
    "\n",
    "Recall that in class we defined conditional probability: $P(A \\mid B) = P(A \\mathbin{and} B) \\mathbin{/} P(B)$.\n",
    "\n",
    "Rearranging this, we have, equivalently, $P(A \\mid B) \\cdot P(B) = P(A \\mathbin{and} B)$.\n",
    "\n",
    "That should make sense: If 1/2 of all genetics students study cancer (that is, $P(\\textrm{studying cancer} \\mid \\textrm{genetics student}) = 0.5$), and 1/4 of all students study genetics (i.e. $P(\\textrm{genetics student}) = 0.25$), then 1/8 of all students are genetics students studying cancer (i.e. $P(\\textrm{studying cancer} \\mathbin{and} \\textrm{genetics student}) = 0.125$).\n",
    "\n",
    "Run the below cell to load the dataset and define `mean`."
   ]
  },
  {
   "cell_type": "code",
   "execution_count": 2,
   "metadata": {
    "deletable": false,
    "editable": false,
    "nbgrader": {
     "cell_type": "code",
     "checksum": "f45ca5f6f43cefc9fcb0a634cb99d07c",
     "grade": false,
     "grade_id": "cell-b3b1091a0748401d",
     "locked": true,
     "schema_version": 3,
     "solution": false
    }
   },
   "outputs": [],
   "source": [
    "exon_counts = []\n",
    "gene_types = []\n",
    "transcript_lengths = []\n",
    "file = open('transcript_table.csv')\n",
    "header = file.readline()\n",
    "for line in file:\n",
    "    values = line.strip('\\n').split(',')\n",
    "    exon_counts.append(int(values[1]))\n",
    "    gene_types.append(values[2])\n",
    "    transcript_lengths.append(int(values[3]))\n",
    "file.close()\n",
    "\n",
    "def mean(values):\n",
    "    return sum(values) / len(values)"
   ]
  },
  {
   "cell_type": "markdown",
   "metadata": {
    "deletable": false,
    "editable": false,
    "nbgrader": {
     "cell_type": "markdown",
     "checksum": "baeaa006857eacabb2566ec31426e3c2",
     "grade": false,
     "grade_id": "cell-e78e0bb455c11e28",
     "locked": true,
     "schema_version": 3,
     "solution": false
    }
   },
   "source": [
    "First, let's make a list of the transcript lengths of *just* the microRNAs. (The `gene_types` list has `miRNA` as the entry for microRNA transcripts.) To do this, step through both the `gene_types` list and the `transcript_lengths` list, using `zip`, and add to the `miRNA_tx_lens` list only when the gene type is a microRNA:"
   ]
  },
  {
   "cell_type": "code",
   "execution_count": 3,
   "metadata": {
    "deletable": false,
    "nbgrader": {
     "cell_type": "code",
     "checksum": "5662831bfeba81220396a3dcb7377493",
     "grade": false,
     "grade_id": "cell-f5990be0554b6355",
     "locked": false,
     "schema_version": 3,
     "solution": true
    }
   },
   "outputs": [
    {
     "name": "stdout",
     "output_type": "stream",
     "text": [
      "number of annotated microRNAs: 3197\n",
      "mean miRNA transcript length: 88.50547388176416\n"
     ]
    }
   ],
   "source": [
    "miRNA_tx_lens = []\n",
    "# YOUR ANSWER HERE\n",
    "for gene,miRNA_length in zip(gene_types,transcript_lengths):\n",
    "    if gene == 'miRNA':\n",
    "        miRNA_tx_lens.append(int(miRNA_length))\n",
    "\n",
    "print('number of annotated microRNAs:', len(miRNA_tx_lens))\n",
    "print('mean miRNA transcript length:', mean(miRNA_tx_lens))"
   ]
  },
  {
   "cell_type": "code",
   "execution_count": 4,
   "metadata": {
    "deletable": false,
    "editable": false,
    "nbgrader": {
     "cell_type": "code",
     "checksum": "168c9611819f7dd85cfa84657a98f58f",
     "grade": true,
     "grade_id": "cell-79d586ba16194c07",
     "locked": true,
     "points": 2,
     "schema_version": 3,
     "solution": false
    }
   },
   "outputs": [],
   "source": [
    "assert len(miRNA_tx_lens) == 3197\n",
    "assert miRNA_tx_lens[1233] == 88"
   ]
  },
  {
   "cell_type": "markdown",
   "metadata": {
    "deletable": false,
    "editable": false,
    "nbgrader": {
     "cell_type": "markdown",
     "checksum": "8fb6d7fd4e1cfe62303fc31591283dbb",
     "grade": false,
     "grade_id": "cell-3cde19709b256a07",
     "locked": true,
     "schema_version": 3,
     "solution": false
    }
   },
   "source": [
    "Now, use `miRNA_tx_lens` to calculate the probability that a given microRNA transcript is less than 70 nucleotides. Save this as `p_short_miRNA`. \n",
    "\n",
    "**Hint**: Remember that the relevant denominator here is the number of miRNA transcripts, not the total number of transcripts. "
   ]
  },
  {
   "cell_type": "code",
   "execution_count": 5,
   "metadata": {
    "deletable": false,
    "nbgrader": {
     "cell_type": "code",
     "checksum": "d6b189c57d9b5abb9e2adb75bac54db7",
     "grade": false,
     "grade_id": "cell-fcfa5050aeca6b5d",
     "locked": false,
     "schema_version": 3,
     "solution": true
    }
   },
   "outputs": [
    {
     "name": "stdout",
     "output_type": "stream",
     "text": [
      "Percent of microRNAs that have short transcripts: 11.197998123240538\n"
     ]
    }
   ],
   "source": [
    "# YOUR ANSWER HERE\n",
    "short_miRNA_number=0\n",
    "for length in miRNA_tx_lens:\n",
    "    if length < 70:\n",
    "        short_miRNA_number+=1\n",
    "p_short_miRNA=short_miRNA_number/len(miRNA_tx_lens)\n",
    "print('Percent of microRNAs that have short transcripts:', p_short_miRNA * 100)"
   ]
  },
  {
   "cell_type": "code",
   "execution_count": 6,
   "metadata": {
    "deletable": false,
    "editable": false,
    "nbgrader": {
     "cell_type": "code",
     "checksum": "ac5bbec0d9fae1f2605625561d38d427",
     "grade": true,
     "grade_id": "cell-eda15d23a401d39f",
     "locked": true,
     "points": 1,
     "schema_version": 3,
     "solution": false
    }
   },
   "outputs": [],
   "source": [
    "assert 0.111 < p_short_miRNA < 0.112"
   ]
  },
  {
   "cell_type": "markdown",
   "metadata": {
    "deletable": false,
    "editable": false,
    "nbgrader": {
     "cell_type": "markdown",
     "checksum": "bf1ae30e88e8c700eba8b02495698755",
     "grade": false,
     "grade_id": "cell-a7c8ef5dc4193cb3",
     "locked": true,
     "schema_version": 3,
     "solution": false
    }
   },
   "source": [
    "The value `p_short_miRNA` is the probability, among only the set of microRNA transcripts, that the length is less than 70 nt. In other words, this is the *conditional probability* that a transcript is < 70 nt, given that the gene is a microRNA:\n",
    "\n",
    "$P(\\mathrm{transcript\\_len} < 70 \\mid \\mathrm{miRNA})$\n",
    "\n",
    "Recall that by definition, $P(A \\mid B) = P(A \\mathbin{and} B)\\mathbin{/}P(B)$. In the previous cell, you calculated a conditional probability directly: you extracted a subset of the data where some condition was true (i.e. the gene type was 'miRNA'), and found out the fraction of that subset where some other condition was true (i.e. the transcript was < 70 nt). \n",
    "\n",
    "Now let's calculate $P(\\mathrm{transcript\\_len} < 70 \\mathbin{and} \\mathrm{miRNA})$ and $P(\\mathrm{miRNA})$ to check the formula for conditional probability.\n",
    "\n",
    "Re-write the for loop in your first answer above to calculate the probability that a given transcript is both a microRNA *and* has a transcript less than 70 nt. Save the answer as `p_miRNA_and_short`. Also calculate `p_miRNA`, the number of microRNA transcripts divided by the total number of transcripts. (**Hint**: You could use `len(miRNA_tx_lens)` to get the number of microRNA transcripts without having to count them directly...) \n",
    "\n",
    "Finally, calculate the conditional probability using the formula above. Save this as `p_short_miRNA_calculated`."
   ]
  },
  {
   "cell_type": "markdown",
   "metadata": {
    "deletable": false,
    "nbgrader": {
     "cell_type": "code",
     "checksum": "eb99475027a39070df04541fd888b6aa",
     "grade": false,
     "grade_id": "cell-3011babcf607c830",
     "locked": false,
     "schema_version": 3,
     "solution": true
    }
   },
   "source": [
    "# YOUR ANSWER HERE\n",
    "short_miRNA_number=0\n",
    "for length in miRNA_tx_lens:\n",
    "    if length < 70:\n",
    "        short_miRNA_number+=1\n",
    "p_miRNA=len(miRNA_tx_lens)/len(transcript_lengths)#p(B),divided by whole samples\n",
    "p_miRNA_and_short=short_miRNA_number/len(transcript_lengths)#p(A and B),divided by whole samples\n",
    "p_short_miRNA_calculated=p_miRNA_and_short/p_miRNA#p(A|B),divided by extracted samples B\n",
    "print('percent microRNA:', p_miRNA * 100)\n",
    "print('percent microRNA and short:', p_miRNA_and_short * 100)\n",
    "print('calculated percent short miRNA:', p_short_miRNA_calculated * 100 )"
   ]
  },
  {
   "cell_type": "code",
   "execution_count": 14,
   "metadata": {
    "deletable": false,
    "editable": false,
    "nbgrader": {
     "cell_type": "code",
     "checksum": "35c1114b988487a9e6ce3b1f83250f18",
     "grade": true,
     "grade_id": "cell-9d3d3fa191785ebc",
     "locked": true,
     "points": 2,
     "schema_version": 3,
     "solution": false
    }
   },
   "outputs": [],
   "source": [
    "assert 0.032 < p_miRNA < 0.0321\n",
    "assert 0.00358 < p_miRNA_and_short < 0.00359\n",
    "assert 0.111 < p_short_miRNA_calculated < 0.112"
   ]
  },
  {
   "cell_type": "markdown",
   "metadata": {
    "deletable": false,
    "editable": false,
    "nbgrader": {
     "cell_type": "markdown",
     "checksum": "1d43d4ccb7470c2f752e4cdb06bda4c6",
     "grade": false,
     "grade_id": "cell-ff6f4c0470f49851",
     "locked": true,
     "schema_version": 3,
     "solution": false
    }
   },
   "source": [
    "In some sense, this is obvious and/or trivial. In the first task, you made a list of microRNAs and then counted the number from that list that had short transcripts. In other words, this is simply the count of transcripts that are both microRNAs *and* short. Then, to calculate `p_short_miRNA`, you simply divided this by the number of microRNAs. I.e.:\n",
    "```\n",
    "p_short_miRNA = num_short_and_miRNA / num_miRNA\n",
    "```\n",
    "\n",
    "\n",
    "In the second case, you calculated from the formula:\n",
    "```\n",
    "p_short_and_miRNA = num_short_and_miRNA / num_transcripts\n",
    "p_miRNA = num_miRNA / num_transcripts\n",
    "p_short_miRNA_calculated = p_short_and_miRNA / p_miRNA\n",
    "```\n",
    "\n",
    "But obviously just a little algebra shows that `num_transcripts` divides itself out of the result, so:\n",
    "```\n",
    "p_short_miRNA_calculated = num_short_and_miRNA / num_miRNA\n",
    "```\n",
    "\n",
    "Thus, as we saw in class, the difference between conditional probability of \"A given B\" and unconditional probability of \"A and B\" is simply one of choosing the correct denominator.\n",
    "\n",
    "More specifically, the numerator for $P(A \\mid B)$, $P(A \\mathbin{and} B)$, and $P(B \\mid A)$ are all identical: the number of times that $A$ and $B$ occur together (i.e. the area of the overlap between the two circles in a Venn diagram). The denominators differ however: for $P(A \\mid B)$, you divide that number of coocurrences (of $A$ and $B$ together) by the total number of occurences of $B$ (i.e. the overlap area in the Venn diagram divided by the total area of $B$).\n",
    "\n",
    "For $P(B \\mid A)$, you divide by the total number of occurences of $A$. And for $P(A \\mathbin{and} B)$, you divide by the total size of the whole dataset."
   ]
  },
  {
   "cell_type": "markdown",
   "metadata": {
    "deletable": false,
    "editable": false,
    "nbgrader": {
     "cell_type": "markdown",
     "checksum": "99ce1a05e13b768cd2a44dfca5d89ac5",
     "grade": false,
     "grade_id": "cell-b364389adfdb0a37",
     "locked": true,
     "schema_version": 3,
     "solution": false
    }
   },
   "source": [
    "As a last exercise in thinking about conditional probabilities, we will verify Bayes law: $P(B \\mid A) = P(A \\mid B)\\cdot P(B)\\mathbin{/}P(A)$\n",
    "\n",
    "Above, we calculated $P(\\mathrm{transcript\\_len} < 70 \\mid \\mathrm{miRNA})$. Now let's calculate $P(\\mathrm{miRNA} \\mid \\mathrm{transcript\\_len} < 70)$.\n",
    "\n",
    "First, do this calculation directly. Write a for loop to count the number of transcripts that are both for microRNAs and have lengths < 70 nt (you have this code above) and also to count the total number with lengths < 70. The fraction of short microRNA transcripts among all the short transcripts is of course $P(\\mathrm{miRNA} \\mid \\mathrm{transcript\\_len} < 70)$. Save this as `p_miRNA_given_short`."
   ]
  },
  {
   "cell_type": "code",
   "execution_count": 28,
   "metadata": {
    "deletable": false,
    "nbgrader": {
     "cell_type": "code",
     "checksum": "0e31e85f0a2d202a54474fbae3447d7c",
     "grade": false,
     "grade_id": "cell-7634096b2f69a2b5",
     "locked": false,
     "schema_version": 3,
     "solution": true
    }
   },
   "outputs": [
    {
     "name": "stdout",
     "output_type": "stream",
     "text": [
      "percent short transcripts that are microRNAs: 100.0\n"
     ]
    }
   ],
   "source": [
    "# YOUR ANSWER HERE\n",
    "short_miRNA_number=0\n",
    "for length in miRNA_tx_lens:\n",
    "    if length < 70:\n",
    "        short_miRNA_number+=1\n",
    "p_miRNA=len(miRNA_tx_lens)/len(transcript_lengths)#p(B),divided by whole samples\n",
    "p_miRNA_and_short=short_miRNA_number/len(transcript_lengths)#p(A and B),divided by whole samples\n",
    "p_short_miRNA_calculated=p_miRNA_and_short/p_miRNA#p(A|B),divided by extracted samples B\n",
    "p_miRNA_given_short=p_short_miRNA_calculated*p_miRNA/p_short_miRNA\n",
    "print('percent short transcripts that are microRNAs:', p_miRNA_given_short * 100)"
   ]
  },
  {
   "cell_type": "code",
   "execution_count": null,
   "metadata": {
    "deletable": false,
    "editable": false,
    "nbgrader": {
     "cell_type": "code",
     "checksum": "8fa0e8eb4521ab542a90cbcd055775fe",
     "grade": true,
     "grade_id": "cell-19bf1005f66f5951",
     "locked": true,
     "points": 2,
     "schema_version": 3,
     "solution": false
    }
   },
   "outputs": [],
   "source": [
    "assert 0.44 < p_miRNA_given_short < 0.441"
   ]
  },
  {
   "cell_type": "markdown",
   "metadata": {
    "deletable": false,
    "editable": false,
    "nbgrader": {
     "cell_type": "markdown",
     "checksum": "b315e41ac21c47cc6d84be9eaf6d1727",
     "grade": false,
     "grade_id": "cell-df0c55c13949ca4b",
     "locked": true,
     "schema_version": 3,
     "solution": false
    }
   },
   "source": [
    "So, around 44% of short transcripts are microRNAs, while only around 11% of microRNA transcripts are short. With a bit of thinking, you should be able to convince yourself that this can only be true if there are somewhat more total microRNA transcripts than short transcripts.\n",
    "\n",
    "Using Bayes law, we have:\n",
    "$$ P(\\mathrm{miRNA} \\mid \\mathrm{transcript\\_len} < 70) = P(\\mathrm{transcript\\_len} < 70 \\mid \\mathrm{miRNA}) \\cdot \\frac{P(\\mathrm{miRNA})}{P(\\mathrm{transcript\\_len} < 70)}$$ \n",
    "\n",
    "That is:\n",
    "\n",
    "$$0.44 \\approx 0.11 \\cdot \\frac{P(\\mathrm{miRNA})}{P(\\mathrm{transcript\\_len} < 70)}$$\n",
    "\n",
    "Note that this implies that:\n",
    "$$\\frac{P(\\mathrm{miRNA})}{P(\\mathrm{transcript\\_len} < 70)} \\approx 4$$\n",
    "\n",
    "That is, any given transcript is about 4 times more likely to be a microRNA than to be short. In other words, microRNA transcripts are about 4 times more numerous than short transcripts. We can see, then, that Bayes law is really just a formalization of the intuitive picture that the relationship between the percent of microRNA transcripts that are short and the percent of short transcripts that are microRNAs has something to do with the relative abundance of each of those classes.\n",
    "\n",
    "Write code to calculate $\\frac{P(\\mathrm{miRNA})}{P(\\mathrm{transcript\\_len} < 70)}$. (Use a for loop to re-calculate any necessary values from scratch, rather than using them from previous cells.) Store this as `miRNA_short_ratio`. You might note that actually calculating the probabilities (i.e. dividing the counts by the total number of transcripts) is a bit redundant, because just like above that denominator just divides out of the equation."
   ]
  },
  {
   "cell_type": "code",
   "execution_count": null,
   "metadata": {
    "deletable": false,
    "nbgrader": {
     "cell_type": "code",
     "checksum": "e985a545e726717ac0fb668c8bd8868a",
     "grade": false,
     "grade_id": "cell-2af026ffa01f48a9",
     "locked": false,
     "schema_version": 3,
     "solution": true
    }
   },
   "outputs": [],
   "source": [
    "# YOUR ANSWER HERE\n",
    "print('relative probability of microRNAs to short transcripts:', miRNA_short_ratio)\n",
    "print('calculated p_miRNA_given_short:', p_short_miRNA * miRNA_short_ratio)\n",
    "print('measured p_miRNA_given_short:', p_miRNA_given_short)"
   ]
  },
  {
   "cell_type": "code",
   "execution_count": null,
   "metadata": {
    "deletable": false,
    "editable": false,
    "nbgrader": {
     "cell_type": "code",
     "checksum": "ac56e91f696f33a8d24c6487f55c411b",
     "grade": true,
     "grade_id": "cell-5e9eb69fa46b3961",
     "locked": true,
     "points": 1,
     "schema_version": 3,
     "solution": false
    }
   },
   "outputs": [],
   "source": [
    "assert 3.93 < miRNA_short_ratio < 3.94"
   ]
  }
 ],
 "metadata": {
  "kernelspec": {
   "display_name": "Python 3",
   "language": "python",
   "name": "python3"
  },
  "language_info": {
   "codemirror_mode": {
    "name": "ipython",
    "version": 3
   },
   "file_extension": ".py",
   "mimetype": "text/x-python",
   "name": "python",
   "nbconvert_exporter": "python",
   "pygments_lexer": "ipython3",
   "version": "3.11.4"
  }
 },
 "nbformat": 4,
 "nbformat_minor": 2
}
