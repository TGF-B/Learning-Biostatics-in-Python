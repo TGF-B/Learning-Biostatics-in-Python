{
 "cells": [
  {
   "cell_type": "markdown",
   "metadata": {
    "deletable": false,
    "editable": false,
    "nbgrader": {
     "cell_type": "markdown",
     "checksum": "3cf0df4f03881628f9028f9ffbc97c61",
     "grade": false,
     "grade_id": "cell-111da2672541baf1",
     "locked": true,
     "schema_version": 3,
     "solution": false
    }
   },
   "source": [
    "# 1 Heart Disease (15 points)\n",
    "\n",
    "In this problem, you'll practice manipulating lists of lists by analyzing some (simulated) data of a clinical study on the relationship between diet and heart disease.\n",
    "\n",
    "As our dataset, I've simulated some patient LDL cholesterol data based on the mean and standard errors reported in a study that looked at the effects of the so-called DASH diet on several heart disease risk factors in diabetics, including blood lipids. (The DASH diet is \"rich in fruits, vegetables, whole grains, low-fat dairy products, and low in saturated fat, total fat, cholesterol, refined grains, and sweets.\") The actual raw data isn't available, but if you're curious, here's the study link: https://www.ncbi.nlm.nih.gov/pmc/articles/PMC3005461/.\n",
    "\n",
    "In the simulated data below, there are 44 patients, 22 in the control group who followed a \"normal\" diet, and 22 in the diet group who followed the DASH diet for 8 weeks. \n",
    "\n",
    "To control for variability in LDL-C measurements, each patient's LDL-C was measured three times before befinning the diet, and three times after the diet. These six measurements are noted in the header variable, below.\n",
    "\n",
    "Each group of 22 patients is stored as list of lists. There is one row for each patient, and each row is a list of the three before-diet and three after-diet LDL-C measurements, as shown in the header line.\n",
    "\n",
    "**Run the cell below to load the data.**"
   ]
  },
  {
   "cell_type": "code",
   "execution_count": null,
   "metadata": {},
   "outputs": [],
   "source": [
    "# Simulated LDL-C measurements for control and DASH diet groups.\n",
    "\n",
    "header = ['before_1', 'before_2', 'before_3', 'after_1', 'after_2', 'after_3'] # just for information\n",
    "control = [\n",
    " [99, 78, 100, 109, 90, 82],\n",
    " [100, 61, 75, 77, 68, 77],\n",
    " [180, 135, 170, 119, 107, 64],\n",
    " [143, 106, 119, 145, 112, 96],\n",
    " [113, 82, 89, 125, 135, 119],\n",
    " [159, 141, 147, 121, 90, 75],\n",
    " [118, 111, 82, 130, 143, 120],\n",
    " [144, 116, 133, 103, 109, 92],\n",
    " [128, 136, 133, 129, 145, 152],\n",
    " [136, 165, 108, 91, 70, 124],\n",
    " [106, 128, 134, 113, 75, 78],\n",
    " [121, 117, 147, 133, 149, 173],\n",
    " [124, 71, 83, 98, 74, 87],\n",
    " [137, 132, 160, 130, 146, 112],\n",
    " [153, 133, 140, 152, 136, 155],\n",
    " [143, 142, 119, 136, 128, 132],\n",
    " [94, 120, 80, 133, 110, 112],\n",
    " [102, 97, 124, 138, 94, 110],\n",
    " [101, 96, 119, 136, 107, 97],\n",
    " [122, 108, 102, 132, 131, 154],\n",
    " [139, 102, 138, 126, 101, 100],\n",
    " [101, 159, 153, 114, 114, 97]\n",
    "]\n",
    "\n",
    "diet = [\n",
    " [97, 121, 69, 83, 73, 76],\n",
    " [139, 120, 110, 113, 98, 121],\n",
    " [100, 126, 112, 92, 95, 75],\n",
    " [99, 116, 127, 150, 81, 120],\n",
    " [73, 114, 96, 97, 88, 112],\n",
    " [123, 156, 133, 54, 56, 77],\n",
    " [146, 145, 103, 71, 90, 59],\n",
    " [88, 89, 89, 115, 73, 117],\n",
    " [135, 156, 127, 138, 132, 104],\n",
    " [99, 94, 125, 86, 83, 112],\n",
    " [137, 111, 124, 88, 73, 87],\n",
    " [119, 110, 129, 119, 91, 111],\n",
    " [167, 112, 119, 112, 149, 147],\n",
    " [173, 129, 114, 101, 135, 112],\n",
    " [68, 71, 40, 126, 112, 122],\n",
    " [145, 161, 171, 114, 70, 93],\n",
    " [142, 144, 129, 129, 96, 95],\n",
    " [85, 88, 70, 128, 154, 131],\n",
    " [115, 135, 81, 138, 117, 118],\n",
    " [148, 124, 148, 101, 78, 118],\n",
    " [159, 148, 179, 96, 60, 90],\n",
    " [135, 104, 107, 93, 125, 94]\n",
    "]"
   ]
  },
  {
   "cell_type": "markdown",
   "metadata": {
    "deletable": false,
    "editable": false,
    "nbgrader": {
     "cell_type": "markdown",
     "checksum": "cce5e09a8e20509e4996cec60c123132",
     "grade": false,
     "grade_id": "cell-ebffcc8937bbc7ff",
     "locked": true,
     "schema_version": 3,
     "solution": false
    }
   },
   "source": [
    "## Determine the changes in LDL-C for the control group\n",
    "\n",
    "Your task is to calculate mean LDL-C before and after the diet, for each subject. In other words, you'll reduce the original data from six measurements per subject to two means per subject, stored as a new list of lists. **Perform the calculations for the control group in the cell below, and for the DASH group in the next problem cell.**\n",
    "\n",
    "To help you write the code, here are the specific tasks, which you can accomplish in a single `for` loop:\n",
    "\n",
    "1. For each patient, get the first three measurements (the before-diet measurements) and calculate the mean. You can use a **slice** to grab multiple values from the list of a patient's measurements, then calculate the mean of that slice.\n",
    "\n",
    "2. Do the same with the last three (after-diet) measurements.\n",
    "\n",
    "3. Append the before and after means (as a two-item list) to a list of lists called `control_ldl_means`.\n",
    "\n",
    "If you need to plan your code with pseudocode, feel free to create a blank cell below and write your code."
   ]
  },
  {
   "cell_type": "code",
   "execution_count": null,
   "metadata": {
    "deletable": false,
    "nbgrader": {
     "cell_type": "code",
     "checksum": "ab1e6b4c890ff4846aa478e9db40e292",
     "grade": false,
     "grade_id": "cell-3d2175e459272968",
     "locked": false,
     "schema_version": 3,
     "solution": true
    }
   },
   "outputs": [],
   "source": [
    "control_ldl_means = [] # list of lists of subject before and after means\n",
    "\n",
    "# YOUR ANSWER HERE\n",
    "print(control_ldl_means) # look at results, see if data structure is what you expected."
   ]
  },
  {
   "cell_type": "code",
   "execution_count": null,
   "metadata": {
    "deletable": false,
    "editable": false,
    "nbgrader": {
     "cell_type": "code",
     "checksum": "df1b240f8915292fbd1faf85c6f0291c",
     "grade": true,
     "grade_id": "cell-432664cec52c7aad",
     "locked": true,
     "points": 2,
     "schema_version": 3,
     "solution": false
    }
   },
   "outputs": [],
   "source": [
    "assert len(control_ldl_means) == 22\n",
    "assert len(control_ldl_means[0]) == 2\n",
    "assert 2651 < sum([patient[0] for patient in control_ldl_means]) < 2651.4"
   ]
  },
  {
   "cell_type": "markdown",
   "metadata": {
    "deletable": false,
    "editable": false,
    "nbgrader": {
     "cell_type": "markdown",
     "checksum": "1ac17a0005708f09da8d76b7b11b2c6d",
     "grade": false,
     "grade_id": "cell-ab17a4e6a7772b24",
     "locked": true,
     "schema_version": 3,
     "solution": false
    }
   },
   "source": [
    "## Determine the changes in LDL-C for the DASH diet group\n",
    "\n",
    "Now do the same thing for the diet group. This will be easy after completing the previous problem."
   ]
  },
  {
   "cell_type": "code",
   "execution_count": null,
   "metadata": {
    "deletable": false,
    "nbgrader": {
     "cell_type": "code",
     "checksum": "a8f5e1f4dbbe983e95724e633096ddad",
     "grade": false,
     "grade_id": "cell-da32a0e83846e092",
     "locked": false,
     "schema_version": 3,
     "solution": true
    }
   },
   "outputs": [],
   "source": [
    "diet_ldl_means = [] # append lists of before and after means to this list\n",
    "\n",
    "# YOUR ANSWER HERE\n",
    "\n",
    "print(diet_ldl_means)"
   ]
  },
  {
   "cell_type": "code",
   "execution_count": null,
   "metadata": {
    "deletable": false,
    "editable": false,
    "nbgrader": {
     "cell_type": "code",
     "checksum": "2441c119347072defb94de6a1a3caf7e",
     "grade": true,
     "grade_id": "cell-4cea5ddf28dcb4bd",
     "locked": true,
     "points": 1,
     "schema_version": 3,
     "solution": false
    }
   },
   "outputs": [],
   "source": [
    "assert len(diet_ldl_means) == 22\n",
    "assert len(diet_ldl_means[0]) == 2\n",
    "assert 2622.6 < sum([patient[0] for patient in diet_ldl_means]) < 2622.7"
   ]
  },
  {
   "cell_type": "markdown",
   "metadata": {
    "deletable": false,
    "editable": false,
    "nbgrader": {
     "cell_type": "markdown",
     "checksum": "5ee6e3dbc417cc5d8769d549f43d8fac",
     "grade": false,
     "grade_id": "cell-86b2e16e5a5fd368",
     "locked": true,
     "schema_version": 3,
     "solution": false
    }
   },
   "source": [
    "# Calculate group means and standard deviations of before and after LDL-C levels\n",
    "\n",
    "## (Working with columns in a list of lists)\n",
    "\n",
    "At this point, you have summarized the eplicate data as before and after diet means for each subject. These means are stored as a list of two-item lists. Think of the data in `control_ldl_means` and `diet_ldl_means` as tables with 22 rows (subjects) and two columns (LDL-C before/after means).\n",
    "\n",
    "\n",
    "Next, calculate the population before and after means for each group.  In other words, calculate the mean of each column, for each group.\n",
    "\n",
    "Because these data are stored as lists of lists, you'll use **list comprehensions** to perform calculations on the columns. Remember that list comprehensions in Python are essentially **concisely written `for` loops that build a new list from an existing list.** \n",
    "\n",
    "As a refresher, here's is how to use a list comprehension to calculate the mean of the third column in a list of lists called `data`:\n",
    "\n",
    "```python\n",
    "# Method to calculate a column mean with list comprehension\n",
    "# Assume variable data is a list of lists\n",
    "import statistics as st\n",
    "\n",
    "column_3 = [row[2] for row in data] # extract 3rd column values as a new list\n",
    "st.mean(column_3) # calculate the mean\n",
    "```\n",
    "\n",
    "Think about the example above for a moment. Is there a way you could condense the last two lines into a single line of code? (In other words, can you find a way to dispense with the variable `column_3`?)\n",
    "\n",
    "Using the above example, write code to calculate means and standard deviations for each column in `control_ldl_means` and `diet_ldl_means`. Save your answers to the following variables:\n",
    "\n",
    "`mean_control_before`, `sd_control_before`, `mean_control_after`, `sd_control_after`, `mean_diet_before`, `sd_diet_before`, `mean_diet_after`, `sd_diet_after`. \n",
    "\n",
    "Also, don't forget that tab completion can save you a lot of typing. (Hit tab after typing the first few letters of an already existing variable name.)\n",
    "\n",
    "Use `st.mean()` and `st.stdev()` from the statistics module for your calculations."
   ]
  },
  {
   "cell_type": "code",
   "execution_count": null,
   "metadata": {
    "deletable": false,
    "nbgrader": {
     "cell_type": "code",
     "checksum": "ae589b4f127b2bece2fb2c8fdff9d4ca",
     "grade": false,
     "grade_id": "cell-8880a82a7e958ed9",
     "locked": false,
     "schema_version": 3,
     "solution": true
    }
   },
   "outputs": [],
   "source": [
    "import statistics as st\n",
    "# YOUR ANSWER HERE\n",
    "\n",
    "print(mean_control_before, sd_control_before)\n",
    "print(mean_control_after, sd_control_after)\n",
    "print(mean_diet_before, sd_diet_before)\n",
    "print(mean_diet_after, sd_diet_after)"
   ]
  },
  {
   "cell_type": "code",
   "execution_count": null,
   "metadata": {
    "deletable": false,
    "editable": false,
    "nbgrader": {
     "cell_type": "code",
     "checksum": "78895decce2ca00bacf95a1038b309dc",
     "grade": true,
     "grade_id": "cell-907bd9607fab19bb",
     "locked": true,
     "points": 7,
     "schema_version": 3,
     "solution": false
    }
   },
   "outputs": [],
   "source": [
    "assert 120.515 < mean_control_before < 120.516\n",
    "assert 21.649 < sd_control_before < 21.650\n",
    "assert 114.121 < mean_control_after < 114.122\n",
    "assert 21.427 < sd_control_after < 21.428\n",
    "assert 119.212 < mean_diet_before < 119.213\n",
    "assert 25.013 < sd_diet_before < 25.014\n",
    "assert 102.484 < mean_diet_after < 102.485\n",
    "assert 20.094 < sd_diet_after < 20.095"
   ]
  },
  {
   "cell_type": "markdown",
   "metadata": {
    "deletable": false,
    "editable": false,
    "nbgrader": {
     "cell_type": "markdown",
     "checksum": "075128ab5718be585448af68c36bf69d",
     "grade": false,
     "grade_id": "cell-10d232b204a6609f",
     "locked": true,
     "schema_version": 3,
     "solution": false
    }
   },
   "source": [
    "# Randomize control and diet labels\n",
    "\n",
    "Does the DASH diet seem to work? How would you simulate the probability of seeing a reduction in LDL levels as large or larger than that observed in the diet group, if you assume the effect of the DASH diet was in actuality no different from the control diet?\n",
    "\n",
    "One way would be to pool the data for the two patient groups, and randomly assign the labels 'control' and 'diet' to patients. You would then calculate the mean change in LDL-C levels for each group, etc.\n",
    "\n",
    "You won't run a full simulation here. Instead, we'll just focus on how to write code that performs the label swap. One way is to do something similar to the Monty Hall 10-door game from `ps6`. In the function `simulate_monty_10`, you randomly picked 5 doors for Monty to open, and then created a list of the doors Monty *didn't* open. For our current problem, you want to randomly pick 22 subjects from a list and assign them to the diet group, while assigning the remaining 22 to the control group.\n",
    "\n",
    "**INSTRUCTIONS: In the cell below, I've pooled the subject data into a single list of lists. Randomly assign subects to either the control or DASH groups.** \n",
    "\n",
    "Here are the coding steps in more detail:\n",
    "\n",
    "1. Generate a list of position indices for the list `pooled_subjects` (see example below).\n",
    "2. Using `random.sample()`, randomly choose 22 indices from your list created in step 1. Assign those 22 indices to a list called `diet_indices`. (Don't forget to import the `random` module.)\n",
    "3. Assign the remaining 22 indices to a list called `control_indices`. (Use a `for` loop to pick only indices **`not in`** `diet_indices`.)\n",
    "4. Finally, iterate through `diet_indices` and append the correpsonding row in `pooled_subjects` to a new list called `random_diet`. Do the same for the control indices, assigning the subject data to a list called `random_control`.\n",
    "\n",
    "That completes the label swap. You could package this code into a function that you call repeatedly during 10,000 simulations.\n",
    "\n",
    "\n",
    "**Generating list indices:** To randomly pick subjects from the list of pooled data, first create a list of *indices* representing the rows. (Just as in `simulate_monty_10`, you randomly picked from door indices, rather picking from the list of actual prizes.) To get indices from a list, you can use `enumerate()` in a `for` loop, as in the Monty Hall code. If you *just* want indices though, here's a one-liner that does it:\n",
    "\n",
    "```python\n",
    "data = [5, 8, 2, 6, 1, 23] # create some data\n",
    "data_indices = list(range(len(data))) # a list of the indices for the list 'data'\n",
    "```\n",
    "\n",
    "**NOTE**: If you can replace *all* `for` loops with list comprehensions in your code below, give yourself a big pat on the back. It will make your code much cleaner, though it requires writing a list comprehension that includes an `if` statement. For some examples of fancy list comprehensions, follow this link:\n",
    "https://docs.python.org/3/tutorial/datastructures.html#list-comprehensions"
   ]
  },
  {
   "cell_type": "code",
   "execution_count": null,
   "metadata": {
    "deletable": false,
    "nbgrader": {
     "cell_type": "code",
     "checksum": "1c74e58ee591b3288864104289c63dd6",
     "grade": false,
     "grade_id": "cell-993ccab34d46474a",
     "locked": false,
     "schema_version": 3,
     "solution": true
    }
   },
   "outputs": [],
   "source": [
    "pooled_subjects = [\n",
    " [99, 78, 100, 109, 90, 82],\n",
    " [100, 61, 75, 77, 68, 77],\n",
    " [180, 135, 170, 119, 107, 64],\n",
    " [143, 106, 119, 145, 112, 96],\n",
    " [113, 82, 89, 125, 135, 119],\n",
    " [159, 141, 147, 121, 90, 75],\n",
    " [118, 111, 82, 130, 143, 120],\n",
    " [144, 116, 133, 103, 109, 92],\n",
    " [128, 136, 133, 129, 145, 152],\n",
    " [136, 165, 108, 91, 70, 124],\n",
    " [106, 128, 134, 113, 75, 78],\n",
    " [121, 117, 147, 133, 149, 173],\n",
    " [124, 71, 83, 98, 74, 87],\n",
    " [137, 132, 160, 130, 146, 112],\n",
    " [153, 133, 140, 152, 136, 155],\n",
    " [143, 142, 119, 136, 128, 132],\n",
    " [94, 120, 80, 133, 110, 112],\n",
    " [102, 97, 124, 138, 94, 110],\n",
    " [101, 96, 119, 136, 107, 97],\n",
    " [122, 108, 102, 132, 131, 154],\n",
    " [139, 102, 138, 126, 101, 100],\n",
    " [101, 159, 153, 114, 114, 97],\n",
    "  [97, 121, 69, 83, 73, 76],\n",
    " [139, 120, 110, 113, 98, 121],\n",
    " [100, 126, 112, 92, 95, 75],\n",
    " [99, 116, 127, 150, 81, 120],\n",
    " [73, 114, 96, 97, 88, 112],\n",
    " [123, 156, 133, 54, 56, 77],\n",
    " [146, 145, 103, 71, 90, 59],\n",
    " [88, 89, 89, 115, 73, 117],\n",
    " [135, 156, 127, 138, 132, 104],\n",
    " [99, 94, 125, 86, 83, 112],\n",
    " [137, 111, 124, 88, 73, 87],\n",
    " [119, 110, 129, 119, 91, 111],\n",
    " [167, 112, 119, 112, 149, 147],\n",
    " [173, 129, 114, 101, 135, 112],\n",
    " [68, 71, 40, 126, 112, 122],\n",
    " [145, 161, 171, 114, 70, 93],\n",
    " [142, 144, 129, 129, 96, 95],\n",
    " [85, 88, 70, 128, 154, 131],\n",
    " [115, 135, 81, 138, 117, 118],\n",
    " [148, 124, 148, 101, 78, 118],\n",
    " [159, 148, 179, 96, 60, 90],\n",
    " [135, 104, 107, 93, 125, 94]\n",
    "]\n",
    "\n",
    "# YOUR ANSWER HERE\n"
   ]
  },
  {
   "cell_type": "code",
   "execution_count": null,
   "metadata": {
    "deletable": false,
    "editable": false,
    "nbgrader": {
     "cell_type": "code",
     "checksum": "102dee21930d54a179f8538e0d6e666a",
     "grade": true,
     "grade_id": "cell-80a52d0f2444feb6",
     "locked": true,
     "points": 5,
     "schema_version": 3,
     "solution": false
    }
   },
   "outputs": [],
   "source": [
    "assert len(random_diet) == 22\n",
    "assert len(random_diet[3]) == 6\n",
    "assert len(random_control) == 22\n",
    "assert len(random_control[2]) == 6"
   ]
  },
  {
   "cell_type": "markdown",
   "metadata": {
    "deletable": false,
    "editable": false,
    "nbgrader": {
     "cell_type": "markdown",
     "checksum": "b9cc81000c940f4d33972fd499f5cdb1",
     "grade": false,
     "grade_id": "cell-58a9c2fd6bd978c5",
     "locked": true,
     "schema_version": 3,
     "solution": false,
     "task": false
    }
   },
   "source": [
    "# Calculate population means on the simulated groups\n",
    "\n",
    "Now that you've randomly generated a control and diet group, calculate the before and after diet means for each group. You can reuse the code from above.\n",
    "\n",
    "In the cell below, calculate the mean before and after values for each subject, averaging over the replicate measurements:"
   ]
  },
  {
   "cell_type": "code",
   "execution_count": null,
   "metadata": {
    "deletable": false,
    "nbgrader": {
     "cell_type": "code",
     "checksum": "31f5739450419b5512b8ca92f0267876",
     "grade": false,
     "grade_id": "cell-0863c590a754b722",
     "locked": false,
     "schema_version": 3,
     "solution": true,
     "task": false
    }
   },
   "outputs": [],
   "source": [
    "random_control_ldl_means = []\n",
    "random_diet_ldl_means = [] # append lists of before and after means to this list\n",
    "\n",
    "# YOUR ANSWER HERE\n",
    "\n",
    "print(len(random_diet_ldl_means), len(random_control_ldl_means))"
   ]
  },
  {
   "cell_type": "code",
   "execution_count": null,
   "metadata": {
    "deletable": false,
    "editable": false,
    "nbgrader": {
     "cell_type": "code",
     "checksum": "ebe491a9dd3ce612287f096b5dd13cae",
     "grade": true,
     "grade_id": "cell-7f728383731200bf",
     "locked": true,
     "points": 2,
     "schema_version": 3,
     "solution": false,
     "task": false
    }
   },
   "outputs": [],
   "source": [
    "assert len(random_diet_ldl_means) == 22\n",
    "assert len(random_control_ldl_means) == 22"
   ]
  },
  {
   "cell_type": "markdown",
   "metadata": {
    "deletable": false,
    "editable": false,
    "nbgrader": {
     "cell_type": "markdown",
     "checksum": "f19db40f8ff29ee10cbfd5aad99e50ef",
     "grade": false,
     "grade_id": "cell-db955282511ac1cf",
     "locked": true,
     "schema_version": 3,
     "solution": false,
     "task": false
    }
   },
   "source": [
    "Now calculate the before and after means for each group, just as you did for the original data above. Only do the means, skip the standard deviations. Save the results to the following variables:\n",
    "\n",
    "`random_control_before, random_control_after, random_diet_before, random_diet_after`\n",
    "\n",
    "Suggestion: Run the last three code cells a few times and see how variable the randomized means are, and how they compare with the original means. If you run this code a few times, are you likely to see an affect size similar to the original data?"
   ]
  },
  {
   "cell_type": "code",
   "execution_count": null,
   "metadata": {
    "deletable": false,
    "nbgrader": {
     "cell_type": "code",
     "checksum": "3f9154c0b6f260f15241311beb16be17",
     "grade": false,
     "grade_id": "cell-f5caab3af8e0b1a1",
     "locked": false,
     "schema_version": 3,
     "solution": true,
     "task": false
    }
   },
   "outputs": [],
   "source": [
    "\n",
    "# YOUR ANSWER HERE\n",
    "\n",
    "print('Original data:')\n",
    "print('Control before:', mean_control_before, 'Control after:', mean_control_after)\n",
    "print('Diet before:', mean_diet_before, 'Diet after:', mean_diet_after)\n",
    "print('Randomized data:')\n",
    "print('Control before:', random_control_before, 'Control after:', random_control_after)\n",
    "print('Diet before:', random_diet_before, 'Diet after:', random_diet_after)"
   ]
  },
  {
   "cell_type": "code",
   "execution_count": null,
   "metadata": {
    "deletable": false,
    "editable": false,
    "nbgrader": {
     "cell_type": "code",
     "checksum": "d71caddd192eeebdc3d6ce50464abf17",
     "grade": true,
     "grade_id": "cell-4c3172fef00ff849",
     "locked": true,
     "points": 0,
     "schema_version": 3,
     "solution": false,
     "task": false
    }
   },
   "outputs": [],
   "source": [
    "assert 100 < random_control_before < 130\n",
    "assert 100 < random_control_after < 130\n",
    "assert 100 < random_diet_before < 130\n",
    "assert 100 < random_diet_after < 130"
   ]
  },
  {
   "cell_type": "markdown",
   "metadata": {},
   "source": [
    "**A final note:** Remember in class that we talked about the importance of copying lists, rather just assigning existing lists to new ones. In the task above, you used the lists in `pooled_subjects` to create new lists, without copying them first. This means that `pooled_subjects` and `random_diet` (and `random_control`) are pointing to the same lists. If you change subject data in one list, it would also change in the other one.\n",
    "\n",
    "For this task, that's not a problem, since you won't change any of the values in any of lists inside the list of lists. So don't worry about this issue, but do be aware of it. A nice explanation of this list behavior, with illustrations, is here: https://www.python-course.eu/python3_deep_copy.php"
   ]
  }
 ],
 "metadata": {
  "kernelspec": {
   "display_name": "Python 3",
   "language": "python",
   "name": "python3"
  },
  "language_info": {
   "codemirror_mode": {
    "name": "ipython",
    "version": 3
   },
   "file_extension": ".py",
   "mimetype": "text/x-python",
   "name": "python",
   "nbconvert_exporter": "python",
   "pygments_lexer": "ipython3",
   "version": "3.8.3"
  }
 },
 "nbformat": 4,
 "nbformat_minor": 2
}
