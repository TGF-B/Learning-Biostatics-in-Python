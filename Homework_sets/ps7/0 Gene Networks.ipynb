{
    "cells": [
        {
            "cell_type": "markdown",
            "metadata": {
                "deletable": false,
                "editable": false,
                "nbgrader": {
                    "cell_type": "markdown",
                    "checksum": "ae86d626d57069006bb58bc06150de51",
                    "grade": false,
                    "grade_id": "cell-2ae034d06e0755f8",
                    "locked": true,
                    "schema_version": 3,
                    "solution": false
                }
            },
            "source": [
                "# 0: Data Structures and Gene Regulatory Networks (10 points)\n",
                "\n",
                "Cell cycle progression is controlled by a set of cyclin dependent kinases and transcription factors. These kinases and transcription factors interact with each other, and thus can be thought of as a network, in which the **nodes** are the genes or proteins, and the **edges** are the interactions.\n",
                "\n",
                "In this problem, you'll use a **dictionary of lists** to examine properties of the yeast cell cycle network (in simplified form).\n",
                "\n",
                "A dictionary of lists is a natural way to represent networks: the network nodes are represented by the dictionary keys, while the edges are represented as a list of other nodes to which the key node is connected.\n",
                "\n",
                "For example, if `geneA` regulates `geneX` and `geneY`, the dictionary entry would look like this:\n",
                "\n",
                "```python\n",
                "network['geneA'] = ['geneX', 'geneY'] # list of regulatory targets of geneA in dictionary 'network'\n",
                "```\n",
                "\n",
                "## 0.1: Read in file data as a dictionary of lists that holds network nodes and edges\n",
                "The accompanying file `yeast_cc_network.txt` contains the regulatory interactions of one version of the yeast cell cycle network. (The network interactions are taken from Fig.2 of this paper: https://www.ncbi.nlm.nih.gov/pubmed/25970087.) Each line of the tab-delimited file lists a single network interaction, with a regulator in the left column and the target gene in the right column (feel free to take a look at the file via the Jupyter dashboard):\n",
                "\n",
                "```\n",
                "Cln3    MBF\n",
                "```\n",
                "\n",
                "**INSTRUCTIONS: In the cell below, read in the file data and store it as a dictionary of lists called `cc_network`.** As you read in the lines, use the usual `line.strip('\\n').split('\\t')` syntax.\n",
                "\n",
                "For each line, the **gene on the left is the dictionary key** (`Cln3` in the case above), and the **gene on the right should be appended** to that key's list of regulatory targets.\n",
                "\n",
                "**HINT: Review of populating dictionaries on the fly:**\n",
                "\n",
                "In several of the problem sets you wrote code to create dictionary entries while reading in file data. You'll need to use that technique to solve this problem.\n",
                "\n",
                "For each line of the file, you need to determine if the regulator gene already exists as a key in the dictionary. If it does, then simply append the new target to that regulator's list of targets. If this regulator is not yet in the dictionary, then you need to create an entry for it, with its target as the first item in the list of targets.\n",
                "\n",
                "Recall that you did something like this for ps3 problem 1, when you used a dictionary as part of code to count how often different transcript types occurred:\n",
                "\n",
                "```python\n",
                "transcript_counts = {} # create empty dictionary\n",
                "for transcript in transcripts: # go transcript by transcript\n",
                "    if transcript in transcript_counts: # if the transcript entry exists in the dict incremenet count\n",
                "        transcript_counts[transcript] += 1\n",
                "    else:\n",
                "        transcript_counts[transcript] = 1  # create a new entry if the transcript isn't yet in the dict\n",
                "```\n",
                "(Note: There is **no header line** in the cell cycle network file. Also, feel free to create a blank cell below to try out piece of your code as you work this problem.)"
            ]
        },
        {
            "cell_type": "code",
            "execution_count": null,
            "metadata": {
                "deletable": false,
                "nbgrader": {
                    "cell_type": "code",
                    "checksum": "4b8a56d549a4617ff43ca33670e3fac2",
                    "grade": false,
                    "grade_id": "cell-e2483eacd2c3dba0",
                    "locked": false,
                    "schema_version": 3,
                    "solution": true
                }
            },
            "outputs": [],
            "source": [
                "cc_network = {} # empty dictionary that will hold the network\n",
                "\n",
                "# Read in the file and add dictionary entries:\n",
                "\n",
                "# YOUR ANSWER HERE\n",
                "\n",
                "# Remember to close the file after reading the data.\n",
                "print(cc_network) # display the result"
            ]
        },
        {
            "cell_type": "code",
            "execution_count": null,
            "metadata": {
                "deletable": false,
                "editable": false,
                "nbgrader": {
                    "cell_type": "code",
                    "checksum": "0cad7a0f98740aa64d90f1bab3e70e1f",
                    "grade": true,
                    "grade_id": "cell-4a9d60f54c840f7a",
                    "locked": true,
                    "points": 4,
                    "schema_version": 3,
                    "solution": false
                }
            },
            "outputs": [],
            "source": [
                "assert len(cc_network) == 10\n",
                "assert cc_network['Clb5,6'][2] == 'Cdh1'\n",
                "assert len(cc_network['Cdc14']) == 3"
            ]
        },
        {
            "cell_type": "markdown",
            "metadata": {
                "deletable": false,
                "editable": false,
                "nbgrader": {
                    "cell_type": "markdown",
                    "checksum": "1b51942285efbdccf7819dc1dcbc2687",
                    "grade": false,
                    "grade_id": "cell-18ac0ac9b848d637",
                    "locked": true,
                    "schema_version": 3,
                    "solution": false
                }
            },
            "source": [
                "### Fix the dictionary: add one gene with zero targets\n",
                "Run the cell below to add a dictionary entry for `Cdh1` with no targets. `Cdh1` shows up as a target, but not a regulator, so its list is empty. I left that off the input file to avoid complications reading in the data, hence the fix below. (You could easily tweak your file reading code to include entries with no targets. For example, you could test whether the result of `line.split()` produces a list of one item or two.)"
            ]
        },
        {
            "cell_type": "code",
            "execution_count": null,
            "metadata": {},
            "outputs": [],
            "source": [
                "# Just run this cell\n",
                "cc_network['Cdh1'] = [] # Add Cdh1 with no edges"
            ]
        },
        {
            "cell_type": "markdown",
            "metadata": {
                "deletable": false,
                "editable": false,
                "nbgrader": {
                    "cell_type": "markdown",
                    "checksum": "782be577c5a6a6c5ceff5f846f0ec072",
                    "grade": false,
                    "grade_id": "cell-ac0d17d22f520947",
                    "locked": true,
                    "schema_version": 3,
                    "solution": false
                }
            },
            "source": [
                "### 0.2 How many edges does a node have?\n",
                "\n",
                "We now want to know how connected each node is \u2013 how many regulatory targets does each regulator have? This is simple to do with a dictionary of lists. **In the cell below, write one line of code to determine the number of regulatory targets of `Mcm1`.** This line of code should look up the dictionary entry for `Mcm1` and determine the number of targets.\n",
                "\n",
                "Save your answer to a variable called `mcm1_targets`."
            ]
        },
        {
            "cell_type": "code",
            "execution_count": null,
            "metadata": {
                "deletable": false,
                "nbgrader": {
                    "cell_type": "code",
                    "checksum": "add83496dfd7a6080e23dd6408d6e34f",
                    "grade": false,
                    "grade_id": "cell-19851c61c111ac9a",
                    "locked": false,
                    "schema_version": 3,
                    "solution": true
                }
            },
            "outputs": [],
            "source": [
                "# YOUR ANSWER HERE"
            ]
        },
        {
            "cell_type": "code",
            "execution_count": null,
            "metadata": {
                "deletable": false,
                "editable": false,
                "nbgrader": {
                    "cell_type": "code",
                    "checksum": "29cee3b6934fcdc49aa52f20c0b34973",
                    "grade": true,
                    "grade_id": "cell-99fb27245829dc5d",
                    "locked": true,
                    "points": 1,
                    "schema_version": 3,
                    "solution": false
                }
            },
            "outputs": [],
            "source": [
                "assert mcm1_targets == 3"
            ]
        },
        {
            "cell_type": "markdown",
            "metadata": {
                "deletable": false,
                "editable": false,
                "nbgrader": {
                    "cell_type": "markdown",
                    "checksum": "59e5e2e3e898f645a03d4638d624fa78",
                    "grade": false,
                    "grade_id": "cell-d71f871b4c5b3411",
                    "locked": true,
                    "schema_version": 3,
                    "solution": false
                }
            },
            "source": [
                "### 0.3 That last question was (hopefully) ridiculously easy. Next, write a `for` loop to determine the number of regulatory targets for *each* entry in the dictionary. Save the result as a list called `n_targets`.\n",
                "\n",
                "Remember that to iterate over a dictionary with a `for` loop, you can use the following syntax:\n",
                "\n",
                "```python\n",
                "for key in my_dictionary.keys():  # replace my_dictionary with your variable name\n",
                "```\n",
                "\n",
                "Alternately, to iterate over the keys in order:\n",
                "```python\n",
                "for key in sorted(my_dictionary.keys()):\n",
                "```"
            ]
        },
        {
            "cell_type": "code",
            "execution_count": null,
            "metadata": {
                "deletable": false,
                "nbgrader": {
                    "cell_type": "code",
                    "checksum": "99fd118689a3cdf8f6dc4b6166e0bc9b",
                    "grade": false,
                    "grade_id": "cell-fb1b8454bbe4f9c6",
                    "locked": false,
                    "schema_version": 3,
                    "solution": true
                }
            },
            "outputs": [],
            "source": [
                "# YOUR ANSWER HERE\n",
                "\n",
                "print(n_targets)"
            ]
        },
        {
            "cell_type": "code",
            "execution_count": null,
            "metadata": {
                "deletable": false,
                "editable": false,
                "nbgrader": {
                    "cell_type": "code",
                    "checksum": "b1dede25a814f7884d161cf4356c84a5",
                    "grade": true,
                    "grade_id": "cell-0d14ab55c642d4ae",
                    "locked": true,
                    "points": 1,
                    "schema_version": 3,
                    "solution": false
                }
            },
            "outputs": [],
            "source": [
                "assert len(n_targets) == 11\n",
                "assert max(n_targets) == 6"
            ]
        },
        {
            "cell_type": "markdown",
            "metadata": {
                "deletable": false,
                "editable": false,
                "nbgrader": {
                    "cell_type": "markdown",
                    "checksum": "bf4495731dad097fa44e46b6e0037b0a",
                    "grade": false,
                    "grade_id": "cell-8c319e32ea2a916e",
                    "locked": true,
                    "schema_version": 3,
                    "solution": false
                }
            },
            "source": [
                "How many connections between regulators and targets are there in the network overall? \n",
                "Use `n_targets` to determine the answer and assign the result to the variable `total_edges`, using just one line of code."
            ]
        },
        {
            "cell_type": "code",
            "execution_count": null,
            "metadata": {
                "deletable": false,
                "nbgrader": {
                    "cell_type": "code",
                    "checksum": "fdb9360f6252eeb652ab183bb51a1dff",
                    "grade": false,
                    "grade_id": "cell-c569395953713a0f",
                    "locked": false,
                    "schema_version": 3,
                    "solution": true
                }
            },
            "outputs": [],
            "source": [
                "# YOUR ANSWER HERE"
            ]
        },
        {
            "cell_type": "code",
            "execution_count": null,
            "metadata": {
                "deletable": false,
                "editable": false,
                "nbgrader": {
                    "cell_type": "code",
                    "checksum": "f770c29352f83059c2f2d0e451fcaf56",
                    "grade": true,
                    "grade_id": "cell-d81adaca7a026696",
                    "locked": true,
                    "points": 1,
                    "schema_version": 3,
                    "solution": false
                }
            },
            "outputs": [],
            "source": [
                "assert total_edges == 26"
            ]
        },
        {
            "cell_type": "markdown",
            "metadata": {
                "deletable": false,
                "editable": false,
                "nbgrader": {
                    "cell_type": "markdown",
                    "checksum": "8198fa10894bc8f2db2a5251a74cf2a4",
                    "grade": false,
                    "grade_id": "cell-aa339b4fbd012360",
                    "locked": true,
                    "schema_version": 3,
                    "solution": false
                }
            },
            "source": [
                "### 0.4 Write a function to find regulators of a gene\n",
                "\n",
                "One common programming task is to write functions that operate on different data sets of the same structure. Our data is structured so that you can easily look up the regulatory targets of a gene using ordinary lookup by key. But what if you want to know what the upstream regulators of a gene are?\n",
                "\n",
                "Your task in this problem is to write a function, `find_regulators()` that takes as input a network (dictionary of lists) and **one or more** query genes (as a strings, each separated by commas). The function should rerurn **a single list of all upstream regulators of the query genes.** (In other words, do NOT return separate lists for each query.) If there are no upstream regulators, the function returns an empty list.\n",
                "\n",
                "In the cell below, complete the function `find_regulators()`.\n",
                "\n",
                "**Hint:** A simple solution is to use a `for` loop to iterate over the network dictionary for each query. For each dictionary entry, determine whether the query gene is in the list of targets for that entry. Recall that you can test for presence of a value in a list by using the keyword **`in`**:\n",
                "\n",
                "```python\n",
                "my_list = [1,2,3,4,5]\n",
                "number = 4\n",
                "if number in my_list: # key syntax to test for presence in list\n",
                "    print(\"It's in the list\")\n",
                "```"
            ]
        },
        {
            "cell_type": "code",
            "execution_count": null,
            "metadata": {
                "deletable": false,
                "nbgrader": {
                    "cell_type": "code",
                    "checksum": "2aa9e2b75c8053409af368fe8478a6c0",
                    "grade": false,
                    "grade_id": "cell-2ecde39d06009b30",
                    "locked": false,
                    "schema_version": 3,
                    "solution": true
                }
            },
            "outputs": [],
            "source": [
                "# Review the *args syntax if necessary\n",
                "\n",
                "def find_regulators(network, *queries):\n",
                "    # YOUR ANSWER HERE\n",
                "# test your function\n",
                "find_regulators(cc_network,'Mcm1', 'Cdc14')"
            ]
        },
        {
            "cell_type": "code",
            "execution_count": null,
            "metadata": {
                "deletable": false,
                "editable": false,
                "nbgrader": {
                    "cell_type": "code",
                    "checksum": "406083aa0705164b69840e5ad81ef46d",
                    "grade": true,
                    "grade_id": "cell-7ef23581270141d7",
                    "locked": true,
                    "points": 3,
                    "schema_version": 3,
                    "solution": false
                }
            },
            "outputs": [],
            "source": [
                "assert len(find_regulators(cc_network, 'SBF', 'Swi5', 'Mcm1')) == 9"
            ]
        }
    ],
    "metadata": {
        "language_info": {
            "codemirror_mode": {
                "name": "ipython",
                "version": 3
            },
            "file_extension": ".py",
            "mimetype": "text/x-python",
            "name": "python",
            "nbconvert_exporter": "python",
            "pygments_lexer": "ipython3",
            "version": "3.8.5"
        }
    },
    "nbformat": 4,
    "nbformat_minor": 2
}