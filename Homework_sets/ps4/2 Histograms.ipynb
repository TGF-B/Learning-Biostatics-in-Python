{
 "cells": [
  {
   "cell_type": "markdown",
   "metadata": {
    "deletable": false,
    "editable": false,
    "nbgrader": {
     "cell_type": "markdown",
     "checksum": "393bf86e7cdcde287718c43136bf6d41",
     "grade": false,
     "grade_id": "cell-1c2a3230275a34fe",
     "locked": true,
     "schema_version": 3,
     "solution": false
    }
   },
   "source": [
    "# Histograms (13 points)\n",
    "\n",
    "In this problem, we will draw simple histograms.\n",
    "\n",
    "First, run the below to load up some data."
   ]
  },
  {
   "cell_type": "code",
   "execution_count": null,
   "metadata": {
    "deletable": false,
    "editable": false,
    "nbgrader": {
     "cell_type": "code",
     "checksum": "254d0353deb2d65b3e28fd460c5792a2",
     "grade": false,
     "grade_id": "cell-6601d990cc40f9a0",
     "locked": true,
     "schema_version": 3,
     "solution": false
    }
   },
   "outputs": [],
   "source": [
    "gene_lengths = []\n",
    "exon_lengths = []\n",
    "file = open('gene_table.txt')\n",
    "header = file.readline()\n",
    "for line in file:\n",
    "    values = line.strip('\\n').split('\\t')\n",
    "    gene_lengths.append(int(values[2]) - int(values[1]))\n",
    "    exon_lengths.append(int(values[3]))\n",
    "file.close()"
   ]
  },
  {
   "cell_type": "markdown",
   "metadata": {},
   "source": [
    "First, we need to calculate what bin a given data value should go into. Let's start by using 10-unit wide bins, starting at zero. So the bins will be:\n",
    "```\n",
    "[0, 10)\n",
    "[10, 20)\n",
    "[20, 30)\n",
    "[30, 40)\n",
    "[40, 50)\n",
    "...\n",
    "```\n",
    "\n",
    "Note that the bins are specified in set notation, where $[$ means the bound is inclusive, and $)$ means exclusive. So \n",
    "$10$ goes into the bin $[10,20)$, but 20 goes into the bin $[20,30)$.\n",
    "\n",
    "We will number the bins like we do python list indices, so bin 0 is `[0, 10)`, bin 4 is `[40, 50)`, etc.\n",
    "\n",
    "Write a function, `bin_index`, that for any positive number will calculate what its bin index should be. Remember, any number between 0 and 10 should be mapped to the value 0. Any number between 10 and 20 should go to 1, and so forth. Hint: the floor divison operator `//` will be very helpful here!\n",
    "\n",
    "Also, note that sometimes the input values might be floating-point numbers. So even though `//` will always give a round number, in the case of floating-point input, it will be a round floating-point number (e.g. `4.0`), rather than a true integer (e.g. `4`). To solve this, just use `int` to convert the output to an integer before returning it. This is important because trying to use `4.0` to index into a list is an error, while using `4` isn't.\n"
   ]
  },
  {
   "cell_type": "code",
   "execution_count": null,
   "metadata": {
    "deletable": false,
    "nbgrader": {
     "cell_type": "code",
     "checksum": "bed7678353fe5f978480cb7c6a062719",
     "grade": false,
     "grade_id": "cell-58a91c7f76015d91",
     "locked": false,
     "schema_version": 3,
     "solution": true
    }
   },
   "outputs": [],
   "source": [
    "def bin_index(value):\n",
    "    # YOUR ANSWER HERE\n",
    "\n",
    "print('0:', bin_index(0))\n",
    "print('5:', bin_index(5))\n",
    "print('10:', bin_index(10))\n",
    "print('25:', bin_index(25))\n",
    "print('52145:', bin_index(52145))"
   ]
  },
  {
   "cell_type": "code",
   "execution_count": null,
   "metadata": {
    "deletable": false,
    "editable": false,
    "nbgrader": {
     "cell_type": "code",
     "checksum": "6b7fb60edf3e2f2b026c1afbe106c923",
     "grade": true,
     "grade_id": "cell-47e6ac576addbfa3",
     "locked": true,
     "points": 3,
     "schema_version": 3,
     "solution": false
    }
   },
   "outputs": [],
   "source": [
    "assert bin_index(0) == 0\n",
    "assert bin_index(5) == 0\n",
    "assert bin_index(25) == 2\n",
    "assert bin_index(34434) == 3443\n",
    "assert bin_index(5.5) == 0 and type(bin_index(5.5)) is int"
   ]
  },
  {
   "cell_type": "markdown",
   "metadata": {
    "deletable": false,
    "editable": false,
    "nbgrader": {
     "cell_type": "markdown",
     "checksum": "883853d6a18fd3dcbf83cfe3c0080235",
     "grade": false,
     "grade_id": "cell-7d820329fd96e182",
     "locked": true,
     "schema_version": 3,
     "solution": false
    }
   },
   "source": [
    "The above assumed a fixed bin width of 10, and a fixed minimum value of 0. Fix the code to use an arbitrary bin width, and to subtract off a specified minimum value.\n",
    "\n",
    "So for example, with a bin with of 20 and a minimum value of 100, the data point 105 should go to bin 0, and the data point 125 should go to bin 1. Don't worry about dealing with cases where the provided value is less than the minimum. And again, don't forget to convert to `int` before returning the index."
   ]
  },
  {
   "cell_type": "code",
   "execution_count": null,
   "metadata": {
    "deletable": false,
    "nbgrader": {
     "cell_type": "code",
     "checksum": "11c16f9473bd0f16a8a12d6d3d2b67d7",
     "grade": false,
     "grade_id": "cell-9f9d5bf5aaea31b8",
     "locked": false,
     "schema_version": 3,
     "solution": true
    }
   },
   "outputs": [],
   "source": [
    "def ranged_bin_index(value, minumum, bin_width):\n",
    "    # YOUR ANSWER HERE\n",
    "\n",
    "print(ranged_bin_index(105, 100, 20))\n",
    "print(ranged_bin_index(125, 100, 20))\n",
    "print(ranged_bin_index(-50, -100, 10))\n",
    "print(ranged_bin_index(-51, -100, 10))"
   ]
  },
  {
   "cell_type": "code",
   "execution_count": null,
   "metadata": {
    "deletable": false,
    "editable": false,
    "nbgrader": {
     "cell_type": "code",
     "checksum": "1306c7898b57ae58ac729fe1e3ee04c2",
     "grade": true,
     "grade_id": "cell-e35e9f1c11ca02c3",
     "locked": true,
     "points": 4,
     "schema_version": 3,
     "solution": false
    }
   },
   "outputs": [],
   "source": [
    "assert ranged_bin_index(105, 100, 20) == 0\n",
    "assert ranged_bin_index(125, 100, 20) == 1\n",
    "assert ranged_bin_index(-50, -100, 10) == 5\n",
    "assert ranged_bin_index(-51, -100, 10) == 4\n",
    "assert ranged_bin_index(-49, -100, 5) == 10\n",
    "assert type(ranged_bin_index(-49.5, -100, 5)) is int"
   ]
  },
  {
   "cell_type": "markdown",
   "metadata": {
    "deletable": false,
    "editable": false,
    "nbgrader": {
     "cell_type": "markdown",
     "checksum": "1d6e8a352b14965299690e8c5002f8b5",
     "grade": false,
     "grade_id": "cell-be9cf24bf946f5f9",
     "locked": true,
     "schema_version": 3,
     "solution": false
    }
   },
   "source": [
    "Now we will write a function to generate a histogram! It will take an set of input values, plus a minimum and maximum value and a number of bins. \n",
    "\n",
    "You will have to calculate the bin width, then make a new list containing a zero for every bin. Then step through the data, and if the data value is less than or equal to the max and greater than or equal to the min, increment the count in the correct bin (e.g. `bin_counts[index] += 1`).\n",
    "\n",
    "Note that while all bins less than the largest bin are defined as half-open intervals `[bin_min, bin_max)`, the largest bin must be `[bin_min, bin_max]`. That is, our `ranged_bin_index` function above will give the wrong bin index for values that are at our maximum (it will say to go to the next bin up, but we don't want to have a whole bin just for the count of the values that are at the exact maximum...) So you will need to write special-case code for when a data value is exactly the maximum value."
   ]
  },
  {
   "cell_type": "code",
   "execution_count": null,
   "metadata": {
    "deletable": false,
    "nbgrader": {
     "cell_type": "code",
     "checksum": "52303b20e64e9b8dc719f50dbb9c589b",
     "grade": false,
     "grade_id": "cell-1d2f1c933740d56e",
     "locked": false,
     "schema_version": 3,
     "solution": true
    }
   },
   "outputs": [],
   "source": [
    "def histogram(values, hist_min, hist_max, n_bins):\n",
    "    # make sure we have sane input:\n",
    "    assert hist_max > hist_min\n",
    "    \n",
    "    # now, calculate out the bin width and store in a variable bin_width.\n",
    "    # YOUR ANSWER HERE\n",
    "    \n",
    "    # now make a list with n_bins entries, filled with zeros\n",
    "    bin_counts = [0] * n_bins # silly python trick: you can multiply lists to repeat elements.\n",
    "    # Try it out in a different notebook...\n",
    "    \n",
    "    # now loop through the data values and increment the bin_counts values.\n",
    "    for value in values:\n",
    "        # make sure to skip out-of-range values, and to do the right thing when \n",
    "        # the value equals hist_max\n",
    "        # YOUR ANSWER HERE\n",
    "    return bin_counts\n",
    "\n",
    "print(histogram(exon_lengths, 1, 10, 9))\n",
    "print(histogram(exon_lengths, 1, 10, 4))\n",
    "print(histogram(gene_lengths, 1, 25000, 15))\n",
    "print(histogram(gene_lengths, 25000, max(gene_lengths), 15))"
   ]
  },
  {
   "cell_type": "code",
   "execution_count": null,
   "metadata": {
    "deletable": false,
    "editable": false,
    "nbgrader": {
     "cell_type": "code",
     "checksum": "c2d75e8aedcbe9e55fe2cae7abf535c0",
     "grade": true,
     "grade_id": "cell-2ed1e97e57ad57b3",
     "locked": true,
     "points": 6,
     "schema_version": 3,
     "solution": false
    }
   },
   "outputs": [],
   "source": [
    "assert histogram(exon_lengths, 1, 10, 9)[3] == 26430\n",
    "assert sum(histogram(exon_lengths, 1, 10, 4)) == sum(histogram(exon_lengths, 1, 10, 9))\n",
    "assert sum(histogram(gene_lengths, 0, max(gene_lengths), 100)) == len(gene_lengths)\n",
    "assert histogram(gene_lengths, 25000, max(gene_lengths), 15)[0] == 51435"
   ]
  }
 ],
 "metadata": {
  "kernelspec": {
   "display_name": "Python 3",
   "language": "python",
   "name": "python3"
  },
  "language_info": {
   "codemirror_mode": {
    "name": "ipython",
    "version": 3
   },
   "file_extension": ".py",
   "mimetype": "text/x-python",
   "name": "python",
   "nbconvert_exporter": "python",
   "pygments_lexer": "ipython3",
   "version": "3.8.2"
  }
 },
 "nbformat": 4,
 "nbformat_minor": 2
}
