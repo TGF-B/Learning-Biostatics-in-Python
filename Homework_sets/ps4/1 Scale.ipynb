{
    "cells": [
        {
            "cell_type": "markdown",
            "metadata": {
                "deletable": false,
                "editable": false,
                "nbgrader": {
                    "cell_type": "markdown",
                    "checksum": "5fdd79c47b04b1ec7c9803a8bd96feca",
                    "grade": false,
                    "grade_id": "cell-c438294cb99fcd19",
                    "locked": true,
                    "schema_version": 3,
                    "solution": false
                }
            },
            "source": [
                "# Problem 1: Measures of Scale (10 points)\n",
                "\n",
                "In this problem, we will write code to calculate the variance, standard deviation, and median absolute deviation.\n",
                "\n",
                "First, load up the data and copy your `mean` and `median` functions from the previous problem below:"
            ]
        },
        {
            "cell_type": "code",
            "execution_count": null,
            "metadata": {
                "deletable": false,
                "nbgrader": {
                    "cell_type": "code",
                    "checksum": "293a7ffdf1bb74166b49f38a3d3275e3",
                    "grade": false,
                    "grade_id": "cell-721d8dc00a482ef7",
                    "locked": false,
                    "schema_version": 3,
                    "solution": true
                }
            },
            "outputs": [],
            "source": [
                "toy_data = [1, 1, 2, 4, 32]\n",
                "\n",
                "exon_lengths = []\n",
                "file = open('gene_table.txt')\n",
                "header = file.readline()\n",
                "for line in file:\n",
                "    values = line.strip('\\n').split('\\t')\n",
                "    exon_lengths.append(int(values[3]))\n",
                "file.close()\n",
                "\n",
                "# now paste in below your median and mean functions\n",
                "# YOUR ANSWER HERE\n",
                "\n",
                "# if you couldn't get mean and median working in the previous problem, uncomment the below lines to get\n",
                "# pre-canned versions:\n",
                "# from numpy import mean, median"
            ]
        },
        {
            "cell_type": "markdown",
            "metadata": {
                "deletable": false,
                "editable": false,
                "nbgrader": {
                    "cell_type": "markdown",
                    "checksum": "94df9b17c882d500742539f1692e2d68",
                    "grade": false,
                    "grade_id": "cell-a778fa9a162a72a8",
                    "locked": true,
                    "schema_version": 3,
                    "solution": false
                }
            },
            "source": [
                "## Variance and Standard Deviation (5 points)\n",
                "\n",
                "Write a function to calculate the variance. Remember that the variance is simply the mean squared deviation, where the \"deviation\" is the difference between each value and the mean.\n",
                "\n",
                "Hint: In Python, you can raise a number to a given power with `**`. (If one `*` means \u201cmultiplication\u201d, two must mean \u201cextra multiplication\u201d, I guess :) So, you can write `4**2` to mean $4^2$, `7.5**-4` for $7.5^{-4}$, and so on. Don't forget operator precedence: `1-4**2` is -15, not 9. Use parentheses as needed."
            ]
        },
        {
            "cell_type": "code",
            "execution_count": null,
            "metadata": {
                "deletable": false,
                "nbgrader": {
                    "cell_type": "code",
                    "checksum": "31e13cb30deaa32fe72d1cd5a7c9709f",
                    "grade": false,
                    "grade_id": "cell-fab32404573f12e9",
                    "locked": false,
                    "schema_version": 3,
                    "solution": true
                }
            },
            "outputs": [],
            "source": [
                "def variance(values):\n",
                "    mean_value = mean(values) # only calculate this once! Don't call mean(values) each time through the loop!!\n",
                "    squared_deviations = []\n",
                "    # fill in the squared_deviations list and then return its mean value\n",
                "    # YOUR ANSWER HERE\n",
                "\n",
                "print(variance(toy_data))\n",
                "print(variance(exon_lengths))"
            ]
        },
        {
            "cell_type": "code",
            "execution_count": null,
            "metadata": {
                "deletable": false,
                "editable": false,
                "nbgrader": {
                    "cell_type": "code",
                    "checksum": "1055afc136df2c41b27eb44c8048aa4d",
                    "grade": true,
                    "grade_id": "cell-261a66f099459080",
                    "locked": true,
                    "points": 4,
                    "schema_version": 3,
                    "solution": false
                }
            },
            "outputs": [],
            "source": [
                "assert 145 < variance(toy_data) < 145.5\n",
                "assert 46.5 < variance(exon_lengths) < 47"
            ]
        },
        {
            "cell_type": "markdown",
            "metadata": {
                "deletable": false,
                "editable": false,
                "nbgrader": {
                    "cell_type": "markdown",
                    "checksum": "f74940313d5ad356b3b7c99e2f676cc0",
                    "grade": false,
                    "grade_id": "cell-67321fc2bdfd279f",
                    "locked": true,
                    "schema_version": 3,
                    "solution": false
                }
            },
            "source": [
                "Now write a function for standard deviation, which uses the `variance` function and then returns the square root of that. (Hint: remember that $\\sqrt{x} = x^{0.5}$)"
            ]
        },
        {
            "cell_type": "code",
            "execution_count": null,
            "metadata": {
                "deletable": false,
                "nbgrader": {
                    "cell_type": "code",
                    "checksum": "3660c24652bb7a6e1d807c65a0839dc3",
                    "grade": false,
                    "grade_id": "cell-286941d6733edcda",
                    "locked": false,
                    "schema_version": 3,
                    "solution": true
                }
            },
            "outputs": [],
            "source": [
                "def stdev(values):\n",
                "    # YOUR ANSWER HERE\n",
                "\n",
                "print(stdev(toy_data))\n",
                "print(stdev(exon_lengths))"
            ]
        },
        {
            "cell_type": "code",
            "execution_count": null,
            "metadata": {
                "deletable": false,
                "editable": false,
                "nbgrader": {
                    "cell_type": "code",
                    "checksum": "af65944395365a3e08a0361a778f7821",
                    "grade": true,
                    "grade_id": "cell-65914a61f3bbe1d8",
                    "locked": true,
                    "points": 1,
                    "schema_version": 3,
                    "solution": false
                }
            },
            "outputs": [],
            "source": [
                "assert 12 < stdev(toy_data) < 12.05\n",
                "assert 6.8 < stdev(exon_lengths) < 6.9"
            ]
        },
        {
            "cell_type": "markdown",
            "metadata": {
                "deletable": false,
                "editable": false,
                "nbgrader": {
                    "cell_type": "markdown",
                    "checksum": "8e7dd82140c7f234f870cf812f092157",
                    "grade": false,
                    "grade_id": "cell-466c50ceebace610",
                    "locked": true,
                    "schema_version": 3,
                    "solution": false
                }
            },
            "source": [
                "Now write a function to calculate the median absolute deviation (where \"deviation\" is just the numerical difference between each data point and the median, and \"absolute\" means \"take the absolute value of the deviation\")."
            ]
        },
        {
            "cell_type": "code",
            "execution_count": null,
            "metadata": {
                "deletable": false,
                "nbgrader": {
                    "cell_type": "code",
                    "checksum": "2a1e03654148bb16e2cb1efac868bf89",
                    "grade": false,
                    "grade_id": "cell-b05c81f43e8af13c",
                    "locked": false,
                    "schema_version": 3,
                    "solution": true
                }
            },
            "outputs": [],
            "source": [
                "def mad(values):\n",
                "    # YOUR ANSWER HERE\n",
                "\n",
                "print(mad(toy_data))\n",
                "print(mad(exon_lengths))"
            ]
        },
        {
            "cell_type": "code",
            "execution_count": null,
            "metadata": {
                "deletable": false,
                "editable": false,
                "nbgrader": {
                    "cell_type": "code",
                    "checksum": "54e1aed8ac8de8707eb7f4a9464a8948",
                    "grade": true,
                    "grade_id": "cell-1065a83de48a415a",
                    "locked": true,
                    "points": 5,
                    "schema_version": 3,
                    "solution": false
                }
            },
            "outputs": [],
            "source": [
                "assert mad(toy_data) == 1\n",
                "assert mad(exon_lengths) == 2"
            ]
        }
    ],
    "metadata": {
        "language_info": {
            "codemirror_mode": {
                "name": "ipython",
                "version": 3
            },
            "file_extension": ".py",
            "mimetype": "text/x-python",
            "name": "python",
            "nbconvert_exporter": "python",
            "pygments_lexer": "ipython3",
            "version": "3.7.4"
        }
    },
    "nbformat": 4,
    "nbformat_minor": 2
}