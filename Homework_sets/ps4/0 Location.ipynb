{
    "cells": [
        {
            "cell_type": "markdown",
            "metadata": {
                "deletable": false,
                "editable": false,
                "nbgrader": {
                    "cell_type": "markdown",
                    "checksum": "0b38dc1443a45c81530cbb7cb63195cf",
                    "grade": false,
                    "grade_id": "cell-ad08f3c13cbcdf09",
                    "locked": true,
                    "schema_version": 3,
                    "solution": false
                }
            },
            "source": [
                "# Problem 0: Measures of Location (27 points)\n",
                "\n",
                "In this problem, we will write code to calculate the mean, median, and mode of different data sets, and explore how those measures are influenced by outliers in the data.\n",
                "\n",
                "First, let's define some data sets. Run the cell below to define the lists `toy_data` and `exon_lengths`."
            ]
        },
        {
            "cell_type": "code",
            "execution_count": null,
            "metadata": {
                "deletable": false,
                "editable": false,
                "nbgrader": {
                    "cell_type": "code",
                    "checksum": "028ec53b4dfc46f8c59cfc45dd296b84",
                    "grade": false,
                    "grade_id": "cell-20d42637b1b96ced",
                    "locked": true,
                    "schema_version": 3,
                    "solution": false
                }
            },
            "outputs": [],
            "source": [
                "toy_data = [1, 1, 2, 4, 32] # same as our in-class example\n",
                "\n",
                "# now read in the exon-length data:\n",
                "exon_lengths = []\n",
                "file = open('gene_table.txt')\n",
                "header = file.readline()\n",
                "for line in file:\n",
                "    values = line.strip('\\n').split('\\t')\n",
                "    exon_lengths.append(int(values[3]))\n",
                "file.close()"
            ]
        },
        {
            "cell_type": "markdown",
            "metadata": {
                "deletable": false,
                "editable": false,
                "nbgrader": {
                    "cell_type": "markdown",
                    "checksum": "141e55ff1ee23d4bc735ef4dc95b66d6",
                    "grade": false,
                    "grade_id": "cell-0cab41136ffc1426",
                    "locked": true,
                    "schema_version": 3,
                    "solution": false
                }
            },
            "source": [
                "## Medians (5 points)\n",
                "\n",
                "Let's write a function to calculate the median. The procedure for finding the median is:\n",
                "  - sort the data\n",
                "  - if there are an odd number of data points, pick the middle one\n",
                "  - otherwise, choose the number halfway between the middle two\n",
                "\n",
                "There are several useful built-in python functions that will help with the above. First, sorting. The `sorted` function can be applied to a list just like `len` or `sum`:\n",
                "```python\n",
                "ordered_list = sorted([3,4,1,2])\n",
                "# the below will raise an error if ordered_list is not [1,2,3,4]\n",
                "assert ordered_list == [1,2,3,4] \n",
                "```\n",
                "\n",
                "Next, how do we find out if a number (like the length of a list) is odd or even? The easiest way is with the \"modulus\" operator `%`, otherwise known as the [remainder](https://en.wikipedia.org/wiki/Remainder).\n",
                "\n",
                "Some background: we know the standard math operators: `+`, `-`, `*`, and `/`. Python  provides two useful additional operators: `//` and `%`. The first, `//`, does integer division (otherwise known as \"floor division\"): `a//b` gives you the next integer below the value of `a/b`. This tells you the number of times that `a` will fit into `b` evenly. For example, you can fit two whole 4s into 9, but not three. So `9//4` gives `2`. Similarly, `10//4` also gives 2. But `12//4` gives 3.\n",
                "\n",
                "The modulus operator `%` gives the remainder that's left over from such a division. `12%4` gives 0 because 12 is an integer multiple of 4. On the other hand `9%4` is 1, because the remainder left over after dividing 9 into 4 equal integer-size pieces is 1. For the math inclined, there is a simple invariant:\n",
                "\n",
                "`b == a*(b//a) + b%a`\n",
                "\n",
                "I.e. \"**a** multiplied by the number of times that **b** can be evenly divided by **a**, plus the remainder of that division, is **b**.\" (Try it with 9 and 4: `9 == 4*2 + 1`.)\n",
                "\n",
                "So, how do we use this to tell if a number is odd or even? Well, even numbers divide by two with no remainder! If `a%2 == 0`, then we know that `a` is even.\n",
                "\n",
                "Finally, how do we pick middle elements from a list? Let's start with the odd-sized case. Let's say we have a list `[0,1,2,3,4]` of length 5. The middle element, `2`, is at position `2`. (I.e. there are two values to the left of position 2, and two values to the right.) Do you know an operation that will take 5 and give 2? How about for a length-7 list? We would want position 3. For a length-101 list, position 50 would be right in the middle. (Hint: it's one of the two new operators described above...)\n",
                "\n",
                "How about the even-size case? Let's start with the list `[0,1,2,3,4,5,6,7]`, of length 8. The middle positions are 3 and 4. For a list of length 100, the middle positions would be 49 and 50. (There are 49 list entries to the left of position 49, and 49 entries between positions 51 and 99, inclusive.) Once we know the 'left-middle' and 'right-middle' values, we just need to get the number halfway between those two values, and that's the median.\n",
                "\n",
                "Important note: you cannot access list values using floating-point (i.e. real) numbers. Though for math, the integer `5` is equvalent to the floating-point `5.0`, only the first of the below works:\n",
                "```python\n",
                "my_list = [1,2,3,4,5]\n",
                "my_list[4] # OK\n",
                "my_list[4.0] # No!\n",
                "```\n",
                "\n",
                "Now, also note that the regular division operator `/` *always* returns floating-point values. `8/2` gives `4.0`, not `4`. In contrast, `8//2` gives `4` as an integer. However, `8.0//2` will still give `4.0`. When calculating positions in a list, always use integer division, and if you might ever be using a floating-point number as input, then make sure to convert the output back to a true integer with `int(8.0//2)`. \n",
                "\n",
                "Try to fill in the code below, using this information."
            ]
        },
        {
            "cell_type": "code",
            "execution_count": null,
            "metadata": {
                "deletable": false,
                "nbgrader": {
                    "cell_type": "code",
                    "checksum": "97239b23d55119105fb50bf2587787cb",
                    "grade": false,
                    "grade_id": "cell-e2c8c6660559ca1d",
                    "locked": false,
                    "schema_version": 3,
                    "solution": true
                }
            },
            "outputs": [],
            "source": [
                "def median(values):\n",
                "    # First, sort values into a new, ordered list called ordered_values:\n",
                "    # YOUR ANSWER HERE\n",
                "    \n",
                "    n = len(ordered_values)\n",
                "    # Next, use if and else to save the median value in a variable named median,\n",
                "    # in the cases that n is odd vs. n is even.\n",
                "    # Don't worry about handling errors if an empty list is provided (i.e. n is 0)\n",
                "    # YOUR ANSWER HERE\n",
                "    return median\n",
                "\n",
                "print(median([1,2,3]))\n",
                "print(median([1,2,3,4]))"
            ]
        },
        {
            "cell_type": "code",
            "execution_count": null,
            "metadata": {
                "deletable": false,
                "editable": false,
                "nbgrader": {
                    "cell_type": "code",
                    "checksum": "6f6c9170cdf1494fd320d9cc89485557",
                    "grade": true,
                    "grade_id": "cell-21bba1b6b39ce984",
                    "locked": true,
                    "points": 5,
                    "schema_version": 3,
                    "solution": false
                }
            },
            "outputs": [],
            "source": [
                "# Run this cell to test your answers. If there is no error, you'll get full credit!\n",
                "assert median([1,2,3,4]) == 2.5\n",
                "assert median([1,2,3,4,5]) == 3\n",
                "assert median(toy_data) == 2\n",
                "assert median(exon_lengths) == 4"
            ]
        },
        {
            "cell_type": "markdown",
            "metadata": {
                "deletable": false,
                "editable": false,
                "nbgrader": {
                    "cell_type": "markdown",
                    "checksum": "0e213ea6163443d5b200981275929115",
                    "grade": false,
                    "grade_id": "cell-99b72d55c454b3a7",
                    "locked": true,
                    "schema_version": 3,
                    "solution": false
                }
            },
            "source": [
                "## The median property (5 points)\n",
                "\n",
                "In class, we showed that the the median minimizes $\\sum_i|S-d_i|$, but we never actually calculated this value. Below, we'll calculate this sum at several different positions, so you can convince yourself that the median really is the position with the smallest absolute distances to each data point.\n",
                "\n",
                "First, write a function to calculate this summation. The classic way to calculate a running sum is to initialize a variable to zero, then loop through a list adding to that to the running sum each time. For example, if you wanted to replace the built-in function `sum` (though don't! `sum` is faster):\n",
                "```python\n",
                "def my_sum(values):\n",
                "    running_sum = 0\n",
                "    for value in values:\n",
                "        running_sum = running_sum + value\n",
                "```\n",
                "Note that a shortcut for `a = a + b` is simply `a += b`. That syntax means \"update a by adding to it the value of b\". (Of course, `-=`, `*=`, &c., are also available.)\n",
                "\n",
                "Finally, note that the built-in function `abs` can be used to calculate the absolute value: `abs(-1) == 1`"
            ]
        },
        {
            "cell_type": "code",
            "execution_count": null,
            "metadata": {
                "deletable": false,
                "nbgrader": {
                    "cell_type": "code",
                    "checksum": "6ff767f62a9b297cb57cbbd1e9ce4cc5",
                    "grade": false,
                    "grade_id": "cell-2326bc0d40256e0d",
                    "locked": false,
                    "schema_version": 3,
                    "solution": true
                }
            },
            "outputs": [],
            "source": [
                "def sum_abs_distance(S, values):\n",
                "    running_sum = 0\n",
                "    # YOUR ANSWER HERE\n",
                "    return running_sum\n",
                "\n",
                "print(sum_abs_distance(5, [1,10]))\n",
                "print(sum_abs_distance(5, [1,3,5,7,9]))"
            ]
        },
        {
            "cell_type": "code",
            "execution_count": null,
            "metadata": {
                "deletable": false,
                "editable": false,
                "nbgrader": {
                    "cell_type": "code",
                    "checksum": "1ee128edbbea3e48f37a2a5c86a7a37c",
                    "grade": true,
                    "grade_id": "cell-ea105703bf38cde8",
                    "locked": true,
                    "points": 2,
                    "schema_version": 3,
                    "solution": false
                }
            },
            "outputs": [],
            "source": [
                "assert sum_abs_distance(0, [4]) == 4\n",
                "assert sum_abs_distance(0, [-4]) == 4\n",
                "assert sum_abs_distance(0, [-4, 4]) == 8\n",
                "assert sum_abs_distance(4, exon_lengths) == 729956"
            ]
        },
        {
            "cell_type": "markdown",
            "metadata": {
                "deletable": false,
                "editable": false,
                "nbgrader": {
                    "cell_type": "markdown",
                    "checksum": "6f00bf64cb6b2f1f29c41778b050ef34",
                    "grade": false,
                    "grade_id": "cell-a11e73e20cbda7ff",
                    "locked": true,
                    "schema_version": 3,
                    "solution": false
                }
            },
            "source": [
                "In math, we would say, \"the median minimizes $\\sum_i|S-d_i|$\". In Python, the same statement would be expressed as: \"`sum_abs_diff(S, values)` will at a minimum when `S = median(values)`\".\n",
                "\n",
                "Let's test if that is the case! Below is a list of values. Note that the median of these values is 4. There is also a list of a set of different `S` values. For each of those different possible S's, you will need to calculate `sum_abs_diff(S, values)`, and see at what `S` that sum is minimized.\n",
                "\n",
                "The easiest way to do this will be to to make a new list, `abs_distance_sums`, which will contain `sum_abs_diff(S, values)` for each different `S` in `S_vals`. Write a for loop to do this."
            ]
        },
        {
            "cell_type": "code",
            "execution_count": null,
            "metadata": {
                "deletable": false,
                "nbgrader": {
                    "cell_type": "code",
                    "checksum": "25760f17d6079bf74861c95f7e343704",
                    "grade": false,
                    "grade_id": "cell-c8fc9fe16e3565e9",
                    "locked": false,
                    "schema_version": 3,
                    "solution": true
                }
            },
            "outputs": [],
            "source": [
                "values = [-2, 1, 2, 6, 48, 100]\n",
                "S_vals = [-10, 0, 1, 2, 4, 4.5, 6, 8, 50]\n",
                "\n",
                "abs_distance_sums = []\n",
                "# YOUR ANSWER HERE\n",
                "\n",
                "for S, abs_distance_sum in zip(S_vals, abs_distance_sums):\n",
                "    print(S, ':', abs_distance_sum)"
            ]
        },
        {
            "cell_type": "code",
            "execution_count": null,
            "metadata": {
                "deletable": false,
                "editable": false,
                "nbgrader": {
                    "cell_type": "code",
                    "checksum": "3c7641f77500a8d013266f2d0a275a8d",
                    "grade": true,
                    "grade_id": "cell-7a063708e86eb5ad",
                    "locked": true,
                    "points": 3,
                    "schema_version": 3,
                    "solution": false
                }
            },
            "outputs": [],
            "source": [
                "assert len(abs_distance_sums) == len(S_vals)\n",
                "assert abs_distance_sums[3] == abs_distance_sums[4] == abs_distance_sums[5] == abs_distance_sums[6]\n",
                "assert min(abs_distance_sums) == sum_abs_distance(median(values), values)"
            ]
        },
        {
            "cell_type": "markdown",
            "metadata": {
                "deletable": false,
                "editable": false,
                "nbgrader": {
                    "cell_type": "markdown",
                    "checksum": "cfe72afd3623550ab31507555f6d5b56",
                    "grade": false,
                    "grade_id": "cell-45d1134b11280d52",
                    "locked": true,
                    "schema_version": 3,
                    "solution": false
                }
            },
            "source": [
                "Note that the distance sum is at a minimum everywhere between 2 and 6. As discussed above, the convention is that the median is the middle-most position, but as you can see, any value in between the two middle-most data points has the same property."
            ]
        },
        {
            "cell_type": "markdown",
            "metadata": {
                "deletable": false,
                "editable": false,
                "nbgrader": {
                    "cell_type": "markdown",
                    "checksum": "30c15c2b82ece4a86e24b5340f7075e1",
                    "grade": false,
                    "grade_id": "cell-212d17de1447397b",
                    "locked": true,
                    "schema_version": 3,
                    "solution": false
                }
            },
            "source": [
                "## Means (5 points)\n",
                "\n",
                "First, write a function to calculate the mean value of a list. Just use built-in functions, no for-loops."
            ]
        },
        {
            "cell_type": "code",
            "execution_count": null,
            "metadata": {
                "deletable": false,
                "nbgrader": {
                    "cell_type": "code",
                    "checksum": "c6ca05dde175f9c6a1b25e8530f1a56d",
                    "grade": false,
                    "grade_id": "cell-d3c49cbbdd2f3660",
                    "locked": false,
                    "schema_version": 3,
                    "solution": true
                }
            },
            "outputs": [],
            "source": [
                "def mean(values):\n",
                "    # YOUR ANSWER HERE\n",
                "\n",
                "print(mean(toy_data))\n",
                "print(mean(exon_lengths))"
            ]
        },
        {
            "cell_type": "code",
            "execution_count": null,
            "metadata": {
                "deletable": false,
                "editable": false,
                "nbgrader": {
                    "cell_type": "code",
                    "checksum": "df671a80a38d567accfb4c4783cd0452",
                    "grade": true,
                    "grade_id": "cell-37bdb982cbb9d226",
                    "locked": true,
                    "points": 2,
                    "schema_version": 3,
                    "solution": false
                }
            },
            "outputs": [],
            "source": [
                "assert mean([1,2,3,4]) == 2.5\n",
                "assert mean([0,0,0,0,0,1]) == 1/6"
            ]
        },
        {
            "cell_type": "markdown",
            "metadata": {
                "deletable": false,
                "editable": false,
                "nbgrader": {
                    "cell_type": "markdown",
                    "checksum": "ee44183959d80c6d469061af8088955c",
                    "grade": false,
                    "grade_id": "cell-287928c84529cecd",
                    "locked": true,
                    "schema_version": 3,
                    "solution": false
                }
            },
            "source": [
                "Now, let's examine how the mean versus the median changes in the presence of outliers.\n",
                "\n",
                "One classic way to get rid of outliers is to \"trim\" a dataset. Each time you have an outlier, instead of just ignoring it (bad idea!), you instead set the value to some pre-specified maximum. So, for example, to trim our `exon_lengths` dataset, we could declare that genes with over 10 exons are \"outliers\", and so any time we see more than 10 exons in the list, we'll just replace that outlier value with 10.\n",
                "\n",
                "Let's do this: use a for loop to make a new version of `exon_lengths` called `trimmed_lengths`. For each count in `exon_lengths`, `trimmed_lengths` should contain the count of exons if there are fewer than 10 exons, otherwise it should just contain 10.\n",
                "\n",
                "Within the for loop, you could either use an `if` statement to choose what value to put in the new list, or if you want style points think about how you could use the built-in `min` function. (The `min` function can either be applied to a list as in `min(toy_data)`, or to two or more separate values as in `min(3, 5)`.)\n",
                "\n",
                "Examine the difference in the mean values between the trimmed and untrimmed data. Compare this to the difference in the medians...\n",
                "\n",
                "After creating `trimmed_lengths`, write a second for loop that counts the number of genes with more than 10 exons."
            ]
        },
        {
            "cell_type": "code",
            "execution_count": null,
            "metadata": {
                "deletable": false,
                "nbgrader": {
                    "cell_type": "code",
                    "checksum": "bedda73c392cf9e1102c3b1ecb9078cf",
                    "grade": false,
                    "grade_id": "cell-07e3c9748c43c833",
                    "locked": false,
                    "schema_version": 3,
                    "solution": true
                }
            },
            "outputs": [],
            "source": [
                "trimmed_lengths = []\n",
                "# Now fill in the list\n",
                "# YOUR ANSWER HERE\n",
                "print('Means:', mean(exon_lengths), mean(trimmed_lengths))\n",
                "print('Medians:', median(exon_lengths), median(trimmed_lengths))\n",
                "\n",
                "num_outliers = 0\n",
                "# Now count the outliers\n",
                "# YOUR ANSWER HERE\n",
                "print('Percent outliers:', 100 * num_outliers / len(exon_lengths))"
            ]
        },
        {
            "cell_type": "code",
            "execution_count": null,
            "metadata": {
                "deletable": false,
                "editable": false,
                "nbgrader": {
                    "cell_type": "code",
                    "checksum": "dbf793f2278a1633f8334448a055c7c7",
                    "grade": true,
                    "grade_id": "cell-210226f04af50333",
                    "locked": true,
                    "points": 3,
                    "schema_version": 3,
                    "solution": false
                }
            },
            "outputs": [],
            "source": [
                "assert len(trimmed_lengths) == len(exon_lengths)\n",
                "assert max(trimmed_lengths) == 10\n",
                "assert median(trimmed_lengths) == median(exon_lengths) == 4\n",
                "assert 4.9 < mean(trimmed_lengths) < 5\n",
                "assert num_outliers == 28504"
            ]
        },
        {
            "cell_type": "markdown",
            "metadata": {
                "deletable": false,
                "editable": false,
                "nbgrader": {
                    "cell_type": "markdown",
                    "checksum": "eebf602f4d1c9abe7730ed701bb25b7d",
                    "grade": false,
                    "grade_id": "cell-0938d6dd46ae2b84",
                    "locked": true,
                    "schema_version": 3,
                    "solution": false
                }
            },
            "source": [
                "## Modes (12 points)\n",
                "\n",
                "Last, let's write a function to calculate the mode of a dataset. This will involve using a dictionary to keep a running count of how many times a particular value has been seen.\n",
                "\n",
                "Remember, to test whether a key called `my_key` is in a dictionary called `my_dict`, use `if my_key in my_dict`. You can use `not in` to test the opposite.\n",
                "\n",
                "Think carefully about how to update a dictionary entry for a specific key.\n",
                "```python\n",
                "my_dict = {5: 0}\n",
                "print(my_dict[5])\n",
                "value = my_dict[5]\n",
                "print(value)\n",
                "value += 1\n",
                "print(value)\n",
                "print(my_dict[5])\n",
                "```\n",
                "What do you think the last line will print? Zero or one? Try this below.\n"
            ]
        },
        {
            "cell_type": "code",
            "execution_count": null,
            "metadata": {
                "deletable": false,
                "editable": false,
                "nbgrader": {
                    "cell_type": "code",
                    "checksum": "83328a049079e5dd6f5529c6de1f92a0",
                    "grade": false,
                    "grade_id": "cell-58957fac83edff40",
                    "locked": true,
                    "schema_version": 3,
                    "solution": false
                }
            },
            "outputs": [],
            "source": [
                "my_dict = {5: 0}\n",
                "print(my_dict[5])\n",
                "value = my_dict[5]\n",
                "print(value)\n",
                "value += 1\n",
                "print(value)\n",
                "print(my_dict[5])"
            ]
        },
        {
            "cell_type": "markdown",
            "metadata": {
                "deletable": false,
                "editable": false,
                "nbgrader": {
                    "cell_type": "markdown",
                    "checksum": "75dfecd6e78e44d3c88194b1015f8855",
                    "grade": false,
                    "grade_id": "cell-ce082b362ac1e6a1",
                    "locked": true,
                    "schema_version": 3,
                    "solution": false
                }
            },
            "source": [
                "What?\n",
                "\n",
                "So, the line: `value = my_dict[5]` meant that both `value` and `my_dict[5]` are different \"names\" for the number 0. When we do `value += 1`, we don't somehow change the number 0 into the number 1. Instead, `value` just becomes a synonym for the number 1 instead, while `my_dict[5]` stays as a synonym for the number 0.\n",
                "\n",
                "If we want to update the value in the dictionary, we could do any of the following:\n",
                "```python\n",
                "my_dict[5] = value + 1\n",
                "my_dict[5] = my_dict[5] + 1\n",
                "my_dict[5] += 1\n",
                "```\n",
                "\n",
                "**Aside:** note that the situation is a little different for \"containers\" like lists and so forth. Let's make a dictionary where they key 5 maps to a value that is a list.\n",
                "```python\n",
                "my_dict = {5: [1, 2, 3]}\n",
                "value = my_dict[5]\n",
                "value.append(4)\n",
                "print(value)\n",
                "print(my_dict[5])\n",
                "```\n",
                "What do you think will happen? Try it below."
            ]
        },
        {
            "cell_type": "code",
            "execution_count": null,
            "metadata": {
                "deletable": false,
                "editable": false,
                "nbgrader": {
                    "cell_type": "code",
                    "checksum": "beef464f5c188cbca11e9df2e213a7cd",
                    "grade": false,
                    "grade_id": "cell-88cd46edd9d4efa6",
                    "locked": true,
                    "schema_version": 3,
                    "solution": false
                }
            },
            "outputs": [],
            "source": [
                "my_dict = {5: [1, 2, 3]}\n",
                "value = my_dict[5]\n",
                "value.append(4)\n",
                "print(value)\n",
                "print(my_dict[5])"
            ]
        },
        {
            "cell_type": "markdown",
            "metadata": {
                "deletable": false,
                "editable": false,
                "nbgrader": {
                    "cell_type": "markdown",
                    "checksum": "cd76ad327582277b60f3753f29b8dc0e",
                    "grade": false,
                    "grade_id": "cell-9ef8bffb086192ca",
                    "locked": true,
                    "schema_version": 3,
                    "solution": false
                }
            },
            "source": [
                "The difference here is that the list `[1, 2, 3]` is a specific *thing* (we call it an \"object\"), that lives somewhere in your computer's memory. After we run the line `value = my_dict[5]`, then both `value` and `my_dict[5]` are each synonyms for the exact same object. Using something like `append` modifies that specific object in memory. Then when we look up that object in memory, regardless of whether we do so using the name `value` or the name `my_dict[5]`, we get the same, modified thing.\n",
                "\n",
                "If you want to make a new copy of the list to modify, without changing the list in-place, then you do as we did above:\n",
                "```python\n",
                "value = list(my_dict[5]) # make a new copy, rather than just point the name 'value' at the same list\n",
                "value.append(4) # doesn't change the list pointed to by my_dict[5]\n",
                "```"
            ]
        },
        {
            "cell_type": "markdown",
            "metadata": {
                "deletable": false,
                "editable": false,
                "nbgrader": {
                    "cell_type": "markdown",
                    "checksum": "0849e7d4d35743921e2f459de3b2a344",
                    "grade": false,
                    "grade_id": "cell-a4e8b242939f56f4",
                    "locked": true,
                    "schema_version": 3,
                    "solution": false
                }
            },
            "source": [
                "**Anyhow!** From the above, you now know how to modify a number in a dictionary:\n",
                "```python\n",
                "my_dict = {}\n",
                "my_dict['hello'] = 0\n",
                "my_dict['hello'] += 1\n",
                "```\n",
                "\n",
                "Use this to write a function that will count the number of times each value shows up in a list. Remember that if a key isn't already in the dictionary, you need to add it first before using `+=` to increase the count."
            ]
        },
        {
            "cell_type": "code",
            "execution_count": null,
            "metadata": {
                "deletable": false,
                "nbgrader": {
                    "cell_type": "code",
                    "checksum": "c8fd6565e258c4d8b5551c806b3bf7af",
                    "grade": false,
                    "grade_id": "cell-8952289674a3e670",
                    "locked": false,
                    "schema_version": 3,
                    "solution": true
                }
            },
            "outputs": [],
            "source": [
                "def count_data(data):\n",
                "    counts = {}\n",
                "    # YOUR ANSWER HERE\n",
                "    return counts\n",
                "\n",
                "print(count_data([1,1,1,2,2,2,2,3]))\n",
                "print(count_data(toy_data))"
            ]
        },
        {
            "cell_type": "code",
            "execution_count": null,
            "metadata": {
                "deletable": false,
                "editable": false,
                "nbgrader": {
                    "cell_type": "code",
                    "checksum": "12637ed0eef85a3bda9bac2aa98e653d",
                    "grade": true,
                    "grade_id": "cell-e6211af4407945df",
                    "locked": true,
                    "points": 4,
                    "schema_version": 3,
                    "solution": false
                }
            },
            "outputs": [],
            "source": [
                "exon_counts = count_data(exon_lengths)\n",
                "assert exon_counts[1] == 17748\n",
                "assert 0 not in exon_counts\n",
                "assert 200 not in exon_counts\n",
                "assert exon_counts[74] == 6"
            ]
        },
        {
            "cell_type": "markdown",
            "metadata": {
                "deletable": false,
                "editable": false,
                "nbgrader": {
                    "cell_type": "markdown",
                    "checksum": "c9545c45bf1521a261f02cb0fd31f709",
                    "grade": false,
                    "grade_id": "cell-2c1d6472ed08f6da",
                    "locked": true,
                    "schema_version": 3,
                    "solution": false
                }
            },
            "source": [
                "Now write a function to calculate the mode, using the `count` function.\n",
                "\n",
                "Basically, we need to find the key in our `counts` dictionary that is associated with the largest value. There is a way to step through the keys and values of a dictionary at once:\n",
                "```python\n",
                "my_dict = {'a': 1, 'b': 2, 'c': 3}\n",
                "for key, value in my_dict.items():\n",
                "    print(key, value)\n",
                "```\n",
                "\n",
                "Try this below:"
            ]
        },
        {
            "cell_type": "code",
            "execution_count": null,
            "metadata": {
                "deletable": false,
                "editable": false,
                "nbgrader": {
                    "cell_type": "code",
                    "checksum": "b3a545da8518aa8a5c6f23bfa114ccfc",
                    "grade": false,
                    "grade_id": "cell-e33c20f2201fd635",
                    "locked": true,
                    "schema_version": 3,
                    "solution": false
                }
            },
            "outputs": [],
            "source": [
                "my_dict = {'a': 1, 'b': 2, 'c': 3}\n",
                "for key, value in my_dict.items():\n",
                "    print(key, value)"
            ]
        },
        {
            "cell_type": "markdown",
            "metadata": {
                "deletable": false,
                "editable": false,
                "nbgrader": {
                    "cell_type": "markdown",
                    "checksum": "f7b0b38442fac9c211b9a26623dfbf92",
                    "grade": false,
                    "grade_id": "cell-f4485b8ba8c5f23c",
                    "locked": true,
                    "schema_version": 3,
                    "solution": false
                }
            },
            "source": [
                "So to find the mode, we need to step through the data and counts in the dictionary. We will keep track of the current largest count value. For each new pair of datum and its count, see if that count is larger than the current largest. If so, then we'll save the associated datum value as the current best candidate for the mode. After the loop is finished, this will be our modal value. (Right now we won't worry about multi-modal distributions.)"
            ]
        },
        {
            "cell_type": "code",
            "execution_count": null,
            "metadata": {
                "deletable": false,
                "nbgrader": {
                    "cell_type": "code",
                    "checksum": "33715ba57cf8f1df71fb1e368837b6fc",
                    "grade": false,
                    "grade_id": "cell-076fc02849b01e00",
                    "locked": false,
                    "schema_version": 3,
                    "solution": true
                }
            },
            "outputs": [],
            "source": [
                "def mode(data):\n",
                "    counts = count_data(data)\n",
                "    largest_count = 0\n",
                "    for datum, count in counts.items():\n",
                "        # if the count is larger than the largest count:\n",
                "        # update the largest count to the new value, and save the\n",
                "        # value of datum in a variable named mode\n",
                "        # YOUR ANSWER HERE\n",
                "    return mode\n",
                "\n",
                "print(mode([1,1,1,2,2,2,2,3]))\n",
                "print(mode(toy_data))\n",
                "print(mode(exon_lengths))\n",
                "# verify that 2 is indeed the mode by printing the number of exons with a few different lengths\n",
                "print(exon_counts[1], exon_counts[2], exon_counts[3], exon_counts[4])"
            ]
        },
        {
            "cell_type": "code",
            "execution_count": null,
            "metadata": {
                "deletable": false,
                "editable": false,
                "nbgrader": {
                    "cell_type": "code",
                    "checksum": "2b1f7fedd15acbd5b2e4561d2c20f3a4",
                    "grade": true,
                    "grade_id": "cell-13f243736625ec05",
                    "locked": true,
                    "points": 6,
                    "schema_version": 3,
                    "solution": false
                }
            },
            "outputs": [],
            "source": [
                "assert(mode(exon_lengths)) == 2\n",
                "assert(mode([1,1,1,2])) == 1\n",
                "assert(mode([1,2,3,2])) == 2"
            ]
        },
        {
            "cell_type": "markdown",
            "metadata": {
                "deletable": false,
                "editable": false,
                "nbgrader": {
                    "cell_type": "markdown",
                    "checksum": "acfebe28e059e1d6ac38b65d17929ea1",
                    "grade": false,
                    "grade_id": "cell-c017e382c288e3d6",
                    "locked": true,
                    "schema_version": 3,
                    "solution": false
                }
            },
            "source": [
                "How would we make our code handle multi-modal distributions? Easy. Instead of keeping a single value for `mode`, make a list of `modes`. If we encounter a count that is strictly greater than the largest previous count seen, then set `modes` to a one-element list containing just the new datum. If we encounter a count that is equal to the largest previous, then append the new datum to the `modes` list."
            ]
        },
        {
            "cell_type": "code",
            "execution_count": null,
            "metadata": {
                "deletable": false,
                "nbgrader": {
                    "cell_type": "code",
                    "checksum": "006b5f4923c71fa763a7511c565afec9",
                    "grade": false,
                    "grade_id": "cell-31b35842e61d4faf",
                    "locked": false,
                    "schema_version": 3,
                    "solution": true
                }
            },
            "outputs": [],
            "source": [
                "def modes(data):\n",
                "    counts = count_data(data)\n",
                "    largest_count = 0\n",
                "    for datum, count in counts.items():\n",
                "        # YOUR ANSWER HERE\n",
                "    return modes\n",
                "\n",
                "print(modes([0,1,1,2,2,3]))\n",
                "print(modes(exon_lengths))"
            ]
        },
        {
            "cell_type": "code",
            "execution_count": null,
            "metadata": {
                "deletable": false,
                "editable": false,
                "nbgrader": {
                    "cell_type": "code",
                    "checksum": "f0a8f2e2ebbc49fc88316eaeda5482a7",
                    "grade": true,
                    "grade_id": "cell-e7926785477fda64",
                    "locked": true,
                    "points": 2,
                    "schema_version": 3,
                    "solution": false
                }
            },
            "outputs": [],
            "source": [
                "assert modes([0,1,1,2,2,3]) == [1, 2]\n",
                "assert modes(exon_lengths) == [2]"
            ]
        }
    ],
    "metadata": {
        "language_info": {
            "codemirror_mode": {
                "name": "ipython",
                "version": 3
            },
            "file_extension": ".py",
            "mimetype": "text/x-python",
            "name": "python",
            "nbconvert_exporter": "python",
            "pygments_lexer": "ipython3",
            "version": "3.7.5"
        }
    },
    "nbformat": 4,
    "nbformat_minor": 2
}